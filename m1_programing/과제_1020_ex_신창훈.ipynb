{
 "cells": [
  {
   "cell_type": "markdown",
   "id": "16863d3e",
   "metadata": {},
   "source": [
    "#### Q95. 아래 사항을 수행하세요.\n",
    "- 주어진 텍스트에서 단어 빈도 카운트\n",
    "- 빈도순으로 단어별 카운트를 사전형식으로 반환, 가장 빈도가 높은 단어 5개를 출력"
   ]
  },
  {
   "cell_type": "code",
   "execution_count": 1,
   "id": "53c52a5b",
   "metadata": {},
   "outputs": [
    {
     "data": {
      "text/plain": [
       "' 카카오가 시간의 다음 카카오톡 먹통 피해사례 접수를 시작한다 유료 뿐 아니라 무료 이용자에도 피해 보상하는 방안을 검토 중인데 전례가 없었던 일인 만큼 실질적 보상까지는 상당한 시간이 걸릴 전망이다 홍은택 카카오 대표는 일 경기 성남시 판교사옥에서 열린 간담회에서 유료 서비스 이용자뿐 아니라 이번 장애로 피해 입은 이용자와 파트너 다양한 이해관계자에 대한 보상을 검토하겠다 고 밝혔다 이에 카카오는 이날부터 주간 피해신고 채널을 열고 사례를 모은다 이용자들이 서비스명 피해사례 근거자료를 접수하면 이를 바탕으로 보상안을 수립한다는 방침이다 앞서 카카오 쇼핑 웹툰 멜론 등 유료 서비스는 이용권 유효기간 연장 및 캐시지급 등의 피해보상안을 발표했다 다만 무료 이용자의 경우 보상을 받기까진 오랜 시간이 걸릴 전망이다 홍 대표는 무료 서비스 이용자는 보상 선례도 없고 기준도 없어 다양한 사례를 보고 판단하겠다 며 사례 확인 후 정책을 만들어야 해서 시간이 걸릴 것 이라고 말했다 카카오에 보상을 요구하는 목소리는 거세다 전날 택시 개 단체는 카카오 먹통으로 손해를 본 일반 중개택시에도 피해보상 하라 라고 지적했다 대리운전 기사도 피해사례 취합에 나섰다 가장 늦게까지 복구가 안 된 다음 카카오메일과 톡채널 이용자들의 불만도 빗발친다 서울 강남구에 근무하는 씨는 중요 행사를 앞두고 있는데 회사 메일로 다음을 쓰고 있어 이번주 내내 업무가 마비됐다 고 토로했다 카카오가 보상안을 마련하더라도 성난 민심을 잠재울수 있을진 미지수다 지난해 는 전국 네트워트 장애 사고 발생 당시 소상공인에 평균 원 개인 기업 가입자에 회선당 원 안팎의 피해보상안을 발표했으나 보상 수준이 턱없이 낮다는 평가를 받았다 특히 소상공인들은 매출 손실에 대한 보상안이 빠졌다고 반발했다 카카오 보상안이 미진할 경우 대규모 공동소송이 벌어질 수 있다 이미 법무법인 파트너스 가 연 손해배상 청구 소송인단 카페 가입자가 명에 달한다 는 무료 서비스여도 사업자 과실로 피해가 발생하면 민법상 채무불이행에 대한 손해배상을 청구할수 있다는 입장이다 구체적인 피해입증이 어려운 경우를 위해 위자료 소송도 검토 중이다 그렇다고 카카오가 지나치게 많은 보상액을 책정할 경우 주주배임소송에 휘말릴 우려도 제기된다 보상 규모가 많든 적든 추가적인 법률 리스크는 피하기 어려워 보인다 한편 이번 화재에 따른 카카오의 자체 피해액도 최대 억원에 달할 수 있다는 증권가 분석이 나오고 있다 하지만 카카오는 기업휴지보험 에도 가입하지 않은 것으로 파악됐다 기업휴지보험은 보험 사고에 따른 기업의 영업 중단 시 피해를 보상하는 상품이다 더욱이 홍 대표는 와 구상권 청구문제는 사고 처리가 끝나면 시작될 것 이라며 책임소재를 다투기 앞서 먼저 보상하겠다 고 했다 양사 간 책임공방이 장기화 될 수 있는 만큼 카카오의 단기적인 비용 부담은 급증할 것으로 보인다 '"
      ]
     },
     "execution_count": 1,
     "metadata": {},
     "output_type": "execute_result"
    }
   ],
   "source": [
    "import re\n",
    "with open(\"text.txt\",\"r\", encoding='utf-8') as f:\n",
    "    text = f.read()\n",
    "f.close\n",
    "\n",
    "# print(text)\n",
    "text = re.sub('[^가-힣]+', ' ', text)\n",
    "text"
   ]
  },
  {
   "cell_type": "code",
   "execution_count": 3,
   "id": "03a5ecba",
   "metadata": {},
   "outputs": [
    {
     "name": "stdout",
     "output_type": "stream",
     "text": [
      "[('카카오', 'Noun'), ('가', 'Josa'), ('시간', 'Noun'), ('의', 'Josa'), ('다음', 'Noun'), ('카카오', 'Noun'), ('톡', 'Noun'), ('먹통', 'Noun'), ('피해', 'Noun'), ('사례', 'Noun'), ('접수', 'Noun'), ('를', 'Josa'), ('시작', 'Noun'), ('한', 'Josa'), ('다', 'Adverb'), ('유료', 'Noun'), ('뿐', 'Noun'), ('아니라', 'Adjective'), ('무료', 'Noun'), ('이용자', 'Noun'), ('에도', 'Josa'), ('피해', 'Noun'), ('보상', 'Noun'), ('하는', 'Verb'), ('방안', 'Noun'), ('을', 'Josa'), ('검토', 'Noun'), ('중', 'Noun'), ('인데', 'Josa'), ('전례', 'Noun'), ('가', 'Josa'), ('없었던', 'Adjective'), ('일인', 'Noun'), ('만큼', 'Noun'), ('실질', 'Noun'), ('적', 'Suffix'), ('보상', 'Noun'), ('까지는', 'Josa'), ('상당한', 'Adjective'), ('시간', 'Noun'), ('이', 'Josa'), ('걸릴', 'Verb'), ('전망', 'Noun'), ('이다', 'Josa'), ('홍은택', 'Noun'), ('카카오', 'Noun'), ('대표', 'Noun'), ('는', 'Josa'), ('일', 'Noun'), ('경기', 'Noun'), ('성남시', 'Noun'), ('판교', 'Noun'), ('사옥', 'Noun'), ('에서', 'Josa'), ('열린', 'Verb'), ('간담', 'Noun'), ('회', 'Noun'), ('에서', 'Josa'), ('유료', 'Noun'), ('서비스', 'Noun'), ('이용자', 'Noun'), ('뿐', 'Suffix'), ('아니라', 'Adjective'), ('이번', 'Noun'), ('장애', 'Noun'), ('로', 'Josa'), ('피해', 'Noun'), ('입은', 'Verb'), ('이용자', 'Noun'), ('와', 'Josa'), ('파트너', 'Noun'), ('다양한', 'Adjective'), ('이해관계자', 'Noun'), ('에', 'Josa'), ('대한', 'Noun'), ('보상', 'Noun'), ('을', 'Josa'), ('검토', 'Noun'), ('하겠다', 'Verb'), ('고', 'Noun'), ('밝혔다', 'Verb'), ('이', 'Noun'), ('에', 'Josa'), ('카카오', 'Noun'), ('는', 'Josa'), ('이', 'Determiner'), ('날', 'Noun'), ('부터', 'Josa'), ('주간', 'Noun'), ('피해', 'Noun'), ('신고', 'Noun'), ('채널', 'Noun'), ('을', 'Josa'), ('열고', 'Verb'), ('사례', 'Noun'), ('를', 'Josa'), ('모은다', 'Verb'), ('이용자', 'Noun'), ('들', 'Suffix'), ('이', 'Josa'), ('서비스', 'Noun'), ('명', 'Suffix'), ('피해', 'Noun'), ('사례', 'Noun'), ('근거', 'Noun'), ('자료', 'Noun'), ('를', 'Josa'), ('접수', 'Noun'), ('하면', 'Verb'), ('이를', 'Verb'), ('바탕', 'Noun'), ('으로', 'Josa'), ('보상', 'Noun'), ('안', 'Noun'), ('을', 'Josa'), ('수립', 'Noun'), ('한다는', 'Modifier'), ('방침', 'Noun'), ('이다', 'Josa'), ('앞서', 'Noun'), ('카카오', 'Noun'), ('쇼핑', 'Noun'), ('웹툰', 'Noun'), ('멜론', 'Noun'), ('등', 'Noun'), ('유료', 'Noun'), ('서비스', 'Noun'), ('는', 'Josa'), ('이용권', 'Noun'), ('유효', 'Noun'), ('기간', 'Noun'), ('연장', 'Noun'), ('및', 'Noun'), ('캐시', 'Noun'), ('지급', 'Noun'), ('등', 'Noun'), ('의', 'Josa'), ('피해', 'Noun'), ('보상', 'Noun'), ('안', 'Noun'), ('을', 'Josa'), ('발표', 'Noun'), ('했다', 'Verb'), ('다만', 'Noun'), ('무료', 'Noun'), ('이용자', 'Noun'), ('의', 'Josa'), ('경우', 'Noun'), ('보상', 'Noun'), ('을', 'Josa'), ('받기까진', 'Verb'), ('오랜', 'Adverb'), ('시간', 'Noun'), ('이', 'Josa'), ('걸릴', 'Verb'), ('전망', 'Noun'), ('이다', 'Josa'), ('홍', 'Noun'), ('대표', 'Noun'), ('는', 'Josa'), ('무료', 'Noun'), ('서비스', 'Noun'), ('이용자', 'Noun'), ('는', 'Josa'), ('보상', 'Noun'), ('선례', 'Noun'), ('도', 'Josa'), ('없고', 'Adjective'), ('기준', 'Noun'), ('도', 'Josa'), ('없어', 'Adjective'), ('다양한', 'Adjective'), ('사례', 'Noun'), ('를', 'Josa'), ('보고', 'Noun'), ('판단', 'Noun'), ('하겠다', 'Verb'), ('며', 'Noun'), ('사례', 'Noun'), ('확인', 'Noun'), ('후', 'Noun'), ('정책', 'Noun'), ('을', 'Josa'), ('만들어야', 'Verb'), ('해서', 'Verb'), ('시간', 'Noun'), ('이', 'Josa'), ('걸릴', 'Verb'), ('것', 'Noun'), ('이라고', 'Josa'), ('말', 'Noun'), ('했다', 'Verb'), ('카카오', 'Noun'), ('에', 'Josa'), ('보상', 'Noun'), ('을', 'Josa'), ('요구', 'Noun'), ('하는', 'Verb'), ('목소리', 'Noun'), ('는', 'Josa'), ('거세', 'Noun'), ('다', 'Josa'), ('전날', 'Noun'), ('택시', 'Noun'), ('개', 'Noun'), ('단체', 'Noun'), ('는', 'Josa'), ('카카오', 'Noun'), ('먹통', 'Noun'), ('으로', 'Josa'), ('손해', 'Noun'), ('를', 'Josa'), ('본', 'Verb'), ('일반', 'Noun'), ('중개', 'Noun'), ('택시', 'Noun'), ('에도', 'Josa'), ('피해', 'Noun'), ('보상', 'Noun'), ('하라', 'Noun'), ('라고', 'Josa'), ('지적', 'Noun'), ('했다', 'Verb'), ('대리', 'Noun'), ('운전', 'Noun'), ('기사도', 'Noun'), ('피해', 'Noun'), ('사례', 'Noun'), ('취합', 'Noun'), ('에', 'Josa'), ('나섰다', 'Verb'), ('가장', 'Noun'), ('늦게까지', 'Verb'), ('복구', 'Noun'), ('가', 'Josa'), ('안', 'Noun'), ('된', 'Verb'), ('다음', 'Noun'), ('카카오', 'Noun'), ('메일', 'Noun'), ('과', 'Josa'), ('톡', 'Noun'), ('채널', 'Noun'), ('이용자', 'Noun'), ('들', 'Suffix'), ('의', 'Josa'), ('불만', 'Noun'), ('도', 'Josa'), ('빗발', 'Noun'), ('친다', 'Verb'), ('서울', 'Noun'), ('강남구', 'Noun'), ('에', 'Josa'), ('근무', 'Noun'), ('하는', 'Verb'), ('씨', 'Noun'), ('는', 'Josa'), ('중요', 'Noun'), ('행사', 'Noun'), ('를', 'Josa'), ('앞두고', 'Verb'), ('있는데', 'Adjective'), ('회사', 'Noun'), ('메일', 'Noun'), ('로', 'Josa'), ('다음', 'Noun'), ('을', 'Josa'), ('쓰고', 'Verb'), ('있어', 'Adjective'), ('이번', 'Noun'), ('주', 'Noun'), ('내내', 'Noun'), ('업무', 'Noun'), ('가', 'Josa'), ('마비', 'Noun'), ('됐다', 'Verb'), ('고', 'Noun'), ('토로', 'Noun'), ('했다', 'Verb'), ('카카오', 'Noun'), ('가', 'Josa'), ('보상', 'Noun'), ('안', 'Noun'), ('을', 'Josa'), ('마련', 'Noun'), ('하더라도', 'Verb'), ('성난', 'Verb'), ('민심', 'Noun'), ('을', 'Josa'), ('잠재울수', 'Verb'), ('있을진', 'Adjective'), ('미지수', 'Noun'), ('다', 'Josa'), ('지난해', 'Noun'), ('는', 'Verb'), ('전국', 'Noun'), ('네트', 'Noun'), ('워트', 'Noun'), ('장애', 'Noun'), ('사고', 'Noun'), ('발생', 'Noun'), ('당시', 'Noun'), ('소', 'Modifier'), ('상공', 'Noun'), ('인', 'Suffix'), ('에', 'Josa'), ('평균', 'Noun'), ('원', 'Noun'), ('개인', 'Noun'), ('기업', 'Noun'), ('가입자', 'Noun'), ('에', 'Josa'), ('회선', 'Noun'), ('당', 'Suffix'), ('원', 'Noun'), ('안팎', 'Noun'), ('의', 'Josa'), ('피해', 'Noun'), ('보상', 'Noun'), ('안', 'Noun'), ('을', 'Josa'), ('발표', 'Noun'), ('했으나', 'Verb'), ('보상', 'Noun'), ('수준', 'Noun'), ('이', 'Josa'), ('턱', 'Noun'), ('없이', 'Adverb'), ('낮다는', 'Adjective'), ('평가', 'Noun'), ('를', 'Josa'), ('받았다', 'Verb'), ('특히', 'Adverb'), ('소상', 'Noun'), ('공인', 'Noun'), ('들', 'Suffix'), ('은', 'Josa'), ('매출', 'Noun'), ('손실', 'Noun'), ('에', 'Josa'), ('대한', 'Noun'), ('보상', 'Noun'), ('안이', 'Noun'), ('빠졌다고', 'Verb'), ('반발', 'Noun'), ('했다', 'Verb'), ('카카오', 'Noun'), ('보상', 'Noun'), ('안이', 'Noun'), ('미진할', 'Adjective'), ('경우', 'Noun'), ('대규모', 'Noun'), ('공', 'Modifier'), ('동', 'Modifier'), ('소송', 'Noun'), ('이', 'Josa'), ('벌어질', 'Verb'), ('수', 'Noun'), ('있다', 'Adjective'), ('이미', 'Adverb'), ('법무', 'Noun'), ('법인', 'Noun'), ('파트너', 'Noun'), ('스', 'Noun'), ('가', 'Verb'), ('연', 'Noun'), ('손해배상', 'Noun'), ('청구', 'Noun'), ('소송', 'Noun'), ('인', 'Josa'), ('단', 'Noun'), ('카페', 'Noun'), ('가입자', 'Noun'), ('가', 'Josa'), ('명', 'Noun'), ('에', 'Josa'), ('달', 'Noun'), ('한', 'Josa'), ('다', 'Adverb'), ('는', 'Verb'), ('무료', 'Noun'), ('서비스', 'Noun'), ('여', 'Josa'), ('도', 'Noun'), ('사업자', 'Noun'), ('과실', 'Noun'), ('로', 'Josa'), ('피해', 'Noun'), ('가', 'Josa'), ('발생', 'Noun'), ('하면', 'Verb'), ('민법', 'Noun'), ('상', 'Suffix'), ('채무불이행', 'Noun'), ('에', 'Josa'), ('대한', 'Noun'), ('손해배상', 'Noun'), ('을', 'Josa'), ('청구', 'Noun'), ('할수', 'Verb'), ('있다는', 'Adjective'), ('입장', 'Noun'), ('이다', 'Josa'), ('구체', 'Noun'), ('적', 'Suffix'), ('인', 'Josa'), ('피해', 'Noun'), ('입증', 'Noun'), ('이', 'Josa'), ('어려운', 'Adjective'), ('경우', 'Noun'), ('를', 'Josa'), ('위해', 'Noun'), ('위자료', 'Noun'), ('소송도', 'Noun'), ('검토', 'Noun'), ('중이', 'Noun'), ('다', 'Josa'), ('그렇다고', 'Conjunction'), ('카카오', 'Noun'), ('가', 'Josa'), ('지나치게', 'Verb'), ('많은', 'Adjective'), ('보상', 'Noun'), ('액', 'Noun'), ('을', 'Josa'), ('책정', 'Noun'), ('할', 'Verb'), ('경우', 'Noun'), ('주', 'Modifier'), ('주', 'Modifier'), ('배임', 'Noun'), ('소송', 'Noun'), ('에', 'Josa'), ('휘', 'Noun'), ('말릴', 'Verb'), ('우려', 'Noun'), ('도', 'Josa'), ('제기', 'Noun'), ('된다', 'Verb'), ('보상', 'Noun'), ('규모', 'Noun'), ('가', 'Josa'), ('많든', 'Adjective'), ('적든', 'Verb'), ('추가', 'Noun'), ('적', 'Suffix'), ('인', 'Josa'), ('법률', 'Noun'), ('리스크', 'Noun'), ('는', 'Josa'), ('피', 'Noun'), ('하기', 'Verb'), ('어려워', 'Adjective'), ('보인다', 'Verb'), ('한편', 'Noun'), ('이번', 'Noun'), ('화재', 'Noun'), ('에', 'Josa'), ('따른', 'Verb'), ('카카오', 'Noun'), ('의', 'Josa'), ('자체', 'Noun'), ('피해', 'Noun'), ('액', 'Noun'), ('도', 'Josa'), ('최대', 'Noun'), ('억원', 'Noun'), ('에', 'Josa'), ('달', 'Noun'), ('할', 'Verb'), ('수', 'Noun'), ('있다는', 'Adjective'), ('증권', 'Noun'), ('가', 'Josa'), ('분석', 'Noun'), ('이', 'Josa'), ('나오고', 'Verb'), ('있다', 'Adjective'), ('하지만', 'Conjunction'), ('카카오', 'Noun'), ('는', 'Josa'), ('기업', 'Noun'), ('휴지', 'Noun'), ('보험', 'Noun'), ('에도', 'Josa'), ('가입', 'Noun'), ('하지', 'Verb'), ('않은', 'Verb'), ('것', 'Noun'), ('으로', 'Josa'), ('파악', 'Noun'), ('됐다', 'Verb'), ('기업', 'Noun'), ('휴지', 'Noun'), ('보험', 'Noun'), ('은', 'Josa'), ('보험', 'Noun'), ('사고', 'Noun'), ('에', 'Josa'), ('따른', 'Verb'), ('기업', 'Noun'), ('의', 'Josa'), ('영업', 'Noun'), ('중단', 'Noun'), ('시', 'Noun'), ('피해', 'Noun'), ('를', 'Josa'), ('보상', 'Noun'), ('하는', 'Verb'), ('상품', 'Noun'), ('이다', 'Josa'), ('더욱이', 'Noun'), ('홍', 'Noun'), ('대표', 'Noun'), ('는', 'Josa'), ('와', 'Verb'), ('구상권', 'Noun'), ('청구', 'Noun'), ('문제', 'Noun'), ('는', 'Josa'), ('사고', 'Noun'), ('처리', 'Noun'), ('가', 'Josa'), ('끝나면', 'Verb'), ('시작', 'Noun'), ('될', 'Verb'), ('것', 'Noun'), ('이', 'Determiner'), ('라며', 'Noun'), ('책임', 'Noun'), ('소재', 'Noun'), ('를', 'Josa'), ('다투기', 'Verb'), ('앞서', 'Noun'), ('먼저', 'Noun'), ('보상', 'Noun'), ('하겠다', 'Verb'), ('고', 'Noun'), ('했다', 'Verb'), ('양사', 'Noun'), ('간', 'Noun'), ('책임', 'Noun'), ('공', 'Modifier'), ('방이', 'Noun'), ('장기', 'Noun'), ('화', 'Suffix'), ('될', 'Verb'), ('수', 'Noun'), ('있는', 'Adjective'), ('만큼', 'Noun'), ('카카오', 'Noun'), ('의', 'Josa'), ('단', 'Modifier'), ('기적', 'Noun'), ('인', 'Josa'), ('비용', 'Noun'), ('부담', 'Noun'), ('은', 'Josa'), ('급증', 'Noun'), ('할', 'Verb'), ('것', 'Noun'), ('으로', 'Josa'), ('보인다', 'Verb')]\n",
      "['카카오', '시간', '다음', '카카오', '먹통', '피해', '사례', '접수', '시작', '유료', '아니라', '무료', '이용자', '피해', '보상', '방안', '검토', '전례', '없었던', '일인', '만큼', '실질', '보상', '상당한', '시간', '전망', '홍은택', '카카오', '대표', '경기', '성남시', '판교', '사옥', '간담', '유료', '서비스', '이용자', '아니라', '이번', '장애', '피해', '이용자', '파트너', '다양한', '이해관계자', '대한', '보상', '검토', '카카오', '주간', '피해', '신고', '채널', '사례', '이용자', '서비스', '피해', '사례', '근거', '자료', '접수', '바탕', '보상', '수립', '방침', '앞서', '카카오', '쇼핑', '웹툰', '멜론', '유료', '서비스', '이용권', '유효', '기간', '연장', '캐시', '지급', '피해', '보상', '발표', '다만', '무료', '이용자', '경우', '보상', '시간', '전망', '대표', '무료', '서비스', '이용자', '보상', '선례', '없고', '기준', '없어', '다양한', '사례', '보고', '판단', '사례', '확인', '정책', '시간', '카카오', '보상', '요구', '목소리', '거세', '전날', '택시', '단체', '카카오', '먹통', '손해', '일반', '중개', '택시', '피해', '보상', '하라', '지적', '대리', '운전', '기사도', '피해', '사례', '취합', '가장', '복구', '다음', '카카오', '메일', '채널', '이용자', '불만', '빗발', '서울', '강남구', '근무', '중요', '행사', '있는데', '회사', '메일', '다음', '있어', '이번', '내내', '업무', '마비', '토로', '카카오', '보상', '마련', '민심', '있을진', '미지수', '지난해', '전국', '네트', '워트', '장애', '사고', '발생', '당시', '상공', '평균', '개인', '기업', '가입자', '회선', '안팎', '피해', '보상', '발표', '보상', '수준', '낮다는', '평가', '소상', '공인', '매출', '손실', '대한', '보상', '안이', '반발', '카카오', '보상', '안이', '미진할', '경우', '대규모', '소송', '있다', '법무', '법인', '파트너', '손해배상', '청구', '소송', '카페', '가입자', '무료', '서비스', '사업자', '과실', '피해', '발생', '민법', '채무불이행', '대한', '손해배상', '청구', '있다는', '입장', '구체', '피해', '입증', '어려운', '경우', '위해', '위자료', '소송도', '검토', '중이', '카카오', '많은', '보상', '책정', '경우', '배임', '소송', '우려', '제기', '보상', '규모', '많든', '추가', '법률', '리스크', '어려워', '한편', '이번', '화재', '카카오', '자체', '피해', '최대', '억원', '있다는', '증권', '분석', '있다', '카카오', '기업', '휴지', '보험', '가입', '파악', '기업', '휴지', '보험', '보험', '사고', '기업', '영업', '중단', '피해', '보상', '상품', '더욱이', '대표', '구상권', '청구', '문제', '사고', '처리', '시작', '라며', '책임', '소재', '앞서', '먼저', '보상', '양사', '책임', '방이', '장기', '있는', '만큼', '카카오', '기적', '비용', '부담', '급증']\n"
     ]
    }
   ],
   "source": [
    "from sklearn.feature_extraction.text import CountVectorizer\n",
    "from konlpy.tag import Okt\n",
    "\n",
    "okt = Okt()\n",
    "morph = okt.pos(text)\n",
    "li = []\n",
    "for word, tag in morph:\n",
    "    if ((tag=='Noun')|(tag=='Adjective'))&(len(word)>1):\n",
    "        li.append(word)\n",
    "        \n",
    "print(morph)\n",
    "print(li)"
   ]
  },
  {
   "cell_type": "code",
   "execution_count": 6,
   "id": "42970ddd",
   "metadata": {},
   "outputs": [
    {
     "data": {
      "text/html": [
       "<div>\n",
       "<style scoped>\n",
       "    .dataframe tbody tr th:only-of-type {\n",
       "        vertical-align: middle;\n",
       "    }\n",
       "\n",
       "    .dataframe tbody tr th {\n",
       "        vertical-align: top;\n",
       "    }\n",
       "\n",
       "    .dataframe thead th {\n",
       "        text-align: right;\n",
       "    }\n",
       "</style>\n",
       "<table border=\"1\" class=\"dataframe\">\n",
       "  <thead>\n",
       "    <tr style=\"text-align: right;\">\n",
       "      <th></th>\n",
       "      <th>index</th>\n",
       "      <th>cnt</th>\n",
       "    </tr>\n",
       "  </thead>\n",
       "  <tbody>\n",
       "    <tr>\n",
       "      <th>0</th>\n",
       "      <td>보상</td>\n",
       "      <td>18</td>\n",
       "    </tr>\n",
       "    <tr>\n",
       "      <th>1</th>\n",
       "      <td>카카오</td>\n",
       "      <td>14</td>\n",
       "    </tr>\n",
       "    <tr>\n",
       "      <th>2</th>\n",
       "      <td>피해</td>\n",
       "      <td>13</td>\n",
       "    </tr>\n",
       "    <tr>\n",
       "      <th>3</th>\n",
       "      <td>이용자</td>\n",
       "      <td>7</td>\n",
       "    </tr>\n",
       "    <tr>\n",
       "      <th>4</th>\n",
       "      <td>사례</td>\n",
       "      <td>6</td>\n",
       "    </tr>\n",
       "  </tbody>\n",
       "</table>\n",
       "</div>"
      ],
      "text/plain": [
       "  index  cnt\n",
       "0    보상   18\n",
       "1   카카오   14\n",
       "2    피해   13\n",
       "3   이용자    7\n",
       "4    사례    6"
      ]
     },
     "execution_count": 6,
     "metadata": {},
     "output_type": "execute_result"
    }
   ],
   "source": [
    "import pandas as pd\n",
    "from collections import Counter\n",
    "from matplotlib import rc\n",
    "import matplotlib.pyplot as plt\n",
    "import seaborn as sns\n",
    "\n",
    "rc('font', family = 'Malgun Gothic') #한글 폰트 설정\n",
    "plt.rcParams['axes.unicode_minus'] = False #마이너스 부호 출력 설정\n",
    "\n",
    "count = Counter(li)\n",
    "data = dict(count.most_common())\n",
    "series = pd.Series(data)\n",
    "df = pd.DataFrame(series, columns=['cnt'])\n",
    "df10 = df.sort_values(by='cnt', ascending = False)[:5]\n",
    "df10.reset_index(inplace=True)\n",
    "df10\n",
    "# list(data.keys())[:5]"
   ]
  },
  {
   "cell_type": "code",
   "execution_count": null,
   "id": "739d09ac",
   "metadata": {},
   "outputs": [],
   "source": []
  },
  {
   "cell_type": "code",
   "execution_count": null,
   "id": "00cdd340",
   "metadata": {},
   "outputs": [],
   "source": []
  }
 ],
 "metadata": {
  "kernelspec": {
   "display_name": "Python 3 (ipykernel)",
   "language": "python",
   "name": "python3"
  },
  "language_info": {
   "codemirror_mode": {
    "name": "ipython",
    "version": 3
   },
   "file_extension": ".py",
   "mimetype": "text/x-python",
   "name": "python",
   "nbconvert_exporter": "python",
   "pygments_lexer": "ipython3",
   "version": "3.8.13"
  }
 },
 "nbformat": 4,
 "nbformat_minor": 5
}
