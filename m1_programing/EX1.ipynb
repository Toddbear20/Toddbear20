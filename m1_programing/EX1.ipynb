{
 "cells": [
  {
   "cell_type": "markdown",
   "id": "04a05e5c",
   "metadata": {},
   "source": [
    "#### Q1. 남녀 파트너 정해주기 프로그램(zip) \n",
    "같은 수의 남녀 모임에서 파트너를 랜덤하게 정해주는 프로그램을 만들어 보세요\n",
    "\n",
    "male = ['철수','갑돌','로미오','이몽룡','온돌']\n",
    "\n",
    "female = ['미미','갑순','줄리엣','성춘향','평강']"
   ]
  },
  {
   "cell_type": "code",
   "execution_count": 17,
   "id": "1f7b1b89",
   "metadata": {
    "scrolled": true
   },
   "outputs": [
    {
     "name": "stdout",
     "output_type": "stream",
     "text": [
      "커플 1: 철수,평강\n",
      "커플 2: 이몽룡,줄리엣\n",
      "커플 3: 로미오,갑순\n",
      "커플 4: 갑돌,성춘향\n",
      "커플 5: 온돌,미미\n"
     ]
    }
   ],
   "source": [
    "import numpy as np\n",
    "import random\n",
    "male = ['철수','갑돌','로미오','이몽룡','온돌']\n",
    "\n",
    "female = ['미미','갑순','줄리엣','성춘향','평강']\n",
    "np.random.shuffle(male)\n",
    "np.random.shuffle(female)\n",
    "couples= zip(male, female)\n",
    "for i,j in enumerate(couples):\n",
    "    print(f'커플 {i+1}: {j[0]},{j[1]}')"
   ]
  },
  {
   "cell_type": "code",
   "execution_count": 2,
   "id": "0482370b",
   "metadata": {},
   "outputs": [
    {
     "data": {
      "text/plain": [
       "[('로미오', '평강'), ('철수', '성춘향'), ('온돌', '미미'), ('이몽룡', '갑순'), ('갑돌', '줄리엣')]"
      ]
     },
     "execution_count": 2,
     "metadata": {},
     "output_type": "execute_result"
    }
   ],
   "source": [
    "import random\n",
    "import numpy as np\n",
    "\n",
    "male = ['철수','갑돌','로미오','이몽룡','온돌']\n",
    "female = ['미미','갑순','줄리엣','성춘향','평강']\n",
    "\n",
    "np.random.shuffle(male)\n",
    "# male = tuple(male)\n",
    "np.random.shuffle(female)\n",
    "# female = tuple(female)\n",
    "[x for x in zip(male, female)]"
   ]
  },
  {
   "cell_type": "markdown",
   "id": "b4015cba",
   "metadata": {},
   "source": [
    "#### Q2. 사용자가 입력한 횟수만큼 로또 번호를 출력하는 프로그램을 작성하세요."
   ]
  },
  {
   "cell_type": "code",
   "execution_count": 22,
   "id": "6966abe2",
   "metadata": {
    "scrolled": true
   },
   "outputs": [
    {
     "name": "stdout",
     "output_type": "stream",
     "text": [
      "게임수 2\n",
      "[19, 7, 29, 13, 3, 16]\n",
      "[2, 33, 40, 20, 41, 14]\n"
     ]
    }
   ],
   "source": [
    "num = input(\"게임수 \")\n",
    "for i in range(0,int(num)):\n",
    "    lotto = random.sample(range(1,46),6)\n",
    "    print(lotto)\n",
    "    "
   ]
  },
  {
   "cell_type": "markdown",
   "id": "3fb252d6",
   "metadata": {},
   "source": [
    "### [도전과제] 발표자를 원하는 수만큼 랜덤하게 출력하는 프로그램을 작성하세요."
   ]
  },
  {
   "cell_type": "code",
   "execution_count": 27,
   "id": "bf13462b",
   "metadata": {},
   "outputs": [
    {
     "name": "stdout",
     "output_type": "stream",
     "text": [
      "발표자 수7\n",
      "['이상윤', '이정현B', '최애림', '진청아', '신창훈', '윤정준', '이호원']\n"
     ]
    }
   ],
   "source": [
    "cakd7 = ['김덕현','감현지','박영권','변서연','한지웅','양주희','이호원','정지은','이정현A','이정현B','이명진','이상윤','조승현','강유한','김영선','최애림','김민섭','박혜린','윤정준','김진형','정승기','진청아','신창훈','김병석','박세희']\n",
    "len(cakd7)\n",
    "\n",
    "num = int(input(\"발표자 수\"))\n",
    "people = random.sample(cakd7,num)\n",
    "print(people)\n"
   ]
  },
  {
   "cell_type": "code",
   "execution_count": 5,
   "id": "ed7f1364",
   "metadata": {},
   "outputs": [
    {
     "data": {
      "text/plain": [
       "25"
      ]
     },
     "execution_count": 5,
     "metadata": {},
     "output_type": "execute_result"
    }
   ],
   "source": [
    "len(cakd7)"
   ]
  },
  {
   "cell_type": "markdown",
   "id": "f50cfd7f",
   "metadata": {},
   "source": [
    "#### Q3. 입력받은 문자열의 각 문자를 그 다음 문자로 변경하여 출력하세요. abc -> bca"
   ]
  },
  {
   "cell_type": "code",
   "execution_count": 31,
   "id": "fd03192a",
   "metadata": {
    "scrolled": true
   },
   "outputs": [
    {
     "name": "stdout",
     "output_type": "stream",
     "text": [
      "알파벳을 입력해주세요.abc\n"
     ]
    },
    {
     "data": {
      "text/plain": [
       "'bca'"
      ]
     },
     "execution_count": 31,
     "metadata": {},
     "output_type": "execute_result"
    }
   ],
   "source": [
    "stst = input(\"알파벳을 입력해주세요.> \")\n",
    "stst[1:]+stst[0]\n"
   ]
  },
  {
   "cell_type": "code",
   "execution_count": 2,
   "id": "d1a127fc",
   "metadata": {},
   "outputs": [
    {
     "name": "stdout",
     "output_type": "stream",
     "text": [
      "문자를 입력해주세요. >assdf\n",
      "ssdfa\n"
     ]
    }
   ],
   "source": [
    "text = input(\"문자를 입력해주세요. >\")\n",
    "ret = ''\n",
    "for i in range(len(text)):\n",
    "    if i != len(text) -1:\n",
    "        ret += text[i+1]\n",
    "    else:\n",
    "        ret += text[0]\n",
    "print(ret)\n"
   ]
  },
  {
   "cell_type": "markdown",
   "id": "86fdd0ad",
   "metadata": {},
   "source": [
    "#### Q4. url에서 호스트 도메인을 출력하세요.,"
   ]
  },
  {
   "cell_type": "code",
   "execution_count": 59,
   "id": "bf8c9c16",
   "metadata": {},
   "outputs": [],
   "source": [
    "url = 'http://news.naver.com/main/read.nhn?mode=LSD&mid=shm&sid1=105&oid=028&aid=0002334601'\n",
    "# 호스트 도메인 : news.naver.com"
   ]
  },
  {
   "cell_type": "code",
   "execution_count": 60,
   "id": "cf8f7a4c",
   "metadata": {},
   "outputs": [
    {
     "name": "stdout",
     "output_type": "stream",
     "text": [
      "news.naver.com\n"
     ]
    }
   ],
   "source": [
    "import re\n",
    "\n",
    "p = re.compile(\"[//](\\D{14})[/]\")\n",
    "p1 = re.compile('(?<=http://)([a-zA-Z.]+)')\n",
    "m = p.search(url)\n",
    "print(m.group(1))"
   ]
  },
  {
   "cell_type": "code",
   "execution_count": 61,
   "id": "125e512e",
   "metadata": {},
   "outputs": [
    {
     "name": "stdout",
     "output_type": "stream",
     "text": [
      "news.naver.com\n"
     ]
    }
   ],
   "source": [
    "m1 = p1.search(url)\n",
    "print(m1.group(1))"
   ]
  },
  {
   "cell_type": "code",
   "execution_count": 10,
   "id": "11a46fd6",
   "metadata": {},
   "outputs": [
    {
     "data": {
      "text/plain": [
       "'news.naver.com'"
      ]
     },
     "execution_count": 10,
     "metadata": {},
     "output_type": "execute_result"
    }
   ],
   "source": [
    "url[7:21]"
   ]
  },
  {
   "cell_type": "code",
   "execution_count": 11,
   "id": "84aded6d",
   "metadata": {},
   "outputs": [
    {
     "data": {
      "text/plain": [
       "'news.naver.com'"
      ]
     },
     "execution_count": 11,
     "metadata": {},
     "output_type": "execute_result"
    }
   ],
   "source": [
    "tmp = url.split('/')\n",
    "tmp[2]"
   ]
  },
  {
   "cell_type": "markdown",
   "id": "cb51e077",
   "metadata": {},
   "source": [
    "### Q5. url에서 쿼리문을 추출하여 출력하세요.\n",
    "url에서 '?'뒤에 표시되는 문자열을 쿼리 문자열이라고 하며 변수=값 사이 &로 구분되어 나열된다.\n",
    "url = 'http://news.naver.com/main/read.nhn?mode=LSD&mid=shm&sid1=105&oid=028&aid=0002334601'\n"
   ]
  },
  {
   "cell_type": "code",
   "execution_count": 2,
   "id": "fd651a95",
   "metadata": {},
   "outputs": [],
   "source": [
    "url2 = 'http://news.naver.com/main/read.nhn?mode=LSD&mid=shm&sid1=105&oid=028&aid=0002334601'"
   ]
  },
  {
   "cell_type": "code",
   "execution_count": 3,
   "id": "c480c2b3",
   "metadata": {},
   "outputs": [
    {
     "data": {
      "text/plain": [
       "[\"[('mode=LSD\", 'mid=shm', 'sid1=105', \"oid=028', 'aid=0002334601')]\"]"
      ]
     },
     "execution_count": 3,
     "metadata": {},
     "output_type": "execute_result"
    }
   ],
   "source": [
    "import re\n",
    "\n",
    "p = re.compile(\"[?](.*)[&]+(.*)\")\n",
    "m = p.findall(url2)\n",
    "str(m).split('&')"
   ]
  },
  {
   "cell_type": "markdown",
   "id": "8a54dc65",
   "metadata": {},
   "source": [
    "#### Q. 텍스트 파일(mydata.txt)을 읽고  파일의 내용에서 나타나는 문자들에 대해 자주 나타나는 문자들을 아래와 같이 순서대로 출력하세요.\n",
    "- \\[ \\] -> [177]회 나타남\n",
    "- [e] -> [97]회 나타남\n",
    "- [t] -> [85]회 나타남\n"
   ]
  },
  {
   "cell_type": "code",
   "execution_count": 5,
   "id": "0977ad81",
   "metadata": {
    "scrolled": true
   },
   "outputs": [],
   "source": [
    "with open('mydata.txt','r') as f:\n",
    "    lines = f.readlines()\n",
    "li = []\n",
    "for line in lines:\n",
    "    a= line.split()\n",
    "    for i in a:\n",
    "        for j in range(len(i)):\n",
    "            li.append(i[j])    "
   ]
  },
  {
   "cell_type": "code",
   "execution_count": 6,
   "id": "6e530b33",
   "metadata": {},
   "outputs": [
    {
     "data": {
      "text/html": [
       "<div>\n",
       "<style scoped>\n",
       "    .dataframe tbody tr th:only-of-type {\n",
       "        vertical-align: middle;\n",
       "    }\n",
       "\n",
       "    .dataframe tbody tr th {\n",
       "        vertical-align: top;\n",
       "    }\n",
       "\n",
       "    .dataframe thead th {\n",
       "        text-align: right;\n",
       "    }\n",
       "</style>\n",
       "<table border=\"1\" class=\"dataframe\">\n",
       "  <thead>\n",
       "    <tr style=\"text-align: right;\">\n",
       "      <th></th>\n",
       "      <th>alp</th>\n",
       "      <th>con</th>\n",
       "    </tr>\n",
       "  </thead>\n",
       "  <tbody>\n",
       "    <tr>\n",
       "      <th>0</th>\n",
       "      <td>e</td>\n",
       "      <td>97</td>\n",
       "    </tr>\n",
       "    <tr>\n",
       "      <th>1</th>\n",
       "      <td>t</td>\n",
       "      <td>85</td>\n",
       "    </tr>\n",
       "    <tr>\n",
       "      <th>2</th>\n",
       "      <td>o</td>\n",
       "      <td>73</td>\n",
       "    </tr>\n",
       "    <tr>\n",
       "      <th>3</th>\n",
       "      <td>n</td>\n",
       "      <td>60</td>\n",
       "    </tr>\n",
       "    <tr>\n",
       "      <th>4</th>\n",
       "      <td>s</td>\n",
       "      <td>60</td>\n",
       "    </tr>\n",
       "    <tr>\n",
       "      <th>5</th>\n",
       "      <td>r</td>\n",
       "      <td>54</td>\n",
       "    </tr>\n",
       "    <tr>\n",
       "      <th>6</th>\n",
       "      <td>i</td>\n",
       "      <td>50</td>\n",
       "    </tr>\n",
       "    <tr>\n",
       "      <th>7</th>\n",
       "      <td>h</td>\n",
       "      <td>48</td>\n",
       "    </tr>\n",
       "    <tr>\n",
       "      <th>8</th>\n",
       "      <td>u</td>\n",
       "      <td>27</td>\n",
       "    </tr>\n",
       "    <tr>\n",
       "      <th>9</th>\n",
       "      <td>d</td>\n",
       "      <td>24</td>\n",
       "    </tr>\n",
       "    <tr>\n",
       "      <th>10</th>\n",
       "      <td>c</td>\n",
       "      <td>23</td>\n",
       "    </tr>\n",
       "    <tr>\n",
       "      <th>11</th>\n",
       "      <td>w</td>\n",
       "      <td>20</td>\n",
       "    </tr>\n",
       "    <tr>\n",
       "      <th>12</th>\n",
       "      <td>m</td>\n",
       "      <td>20</td>\n",
       "    </tr>\n",
       "    <tr>\n",
       "      <th>13</th>\n",
       "      <td>f</td>\n",
       "      <td>17</td>\n",
       "    </tr>\n",
       "    <tr>\n",
       "      <th>14</th>\n",
       "      <td>y</td>\n",
       "      <td>15</td>\n",
       "    </tr>\n",
       "    <tr>\n",
       "      <th>15</th>\n",
       "      <td>p</td>\n",
       "      <td>15</td>\n",
       "    </tr>\n",
       "    <tr>\n",
       "      <th>16</th>\n",
       "      <td>b</td>\n",
       "      <td>13</td>\n",
       "    </tr>\n",
       "    <tr>\n",
       "      <th>17</th>\n",
       "      <td>g</td>\n",
       "      <td>11</td>\n",
       "    </tr>\n",
       "    <tr>\n",
       "      <th>18</th>\n",
       "      <td>v</td>\n",
       "      <td>9</td>\n",
       "    </tr>\n",
       "    <tr>\n",
       "      <th>19</th>\n",
       "      <td>'</td>\n",
       "      <td>8</td>\n",
       "    </tr>\n",
       "    <tr>\n",
       "      <th>20</th>\n",
       "      <td>k</td>\n",
       "      <td>7</td>\n",
       "    </tr>\n",
       "    <tr>\n",
       "      <th>21</th>\n",
       "      <td>!</td>\n",
       "      <td>2</td>\n",
       "    </tr>\n",
       "  </tbody>\n",
       "</table>\n",
       "</div>"
      ],
      "text/plain": [
       "   alp  con\n",
       "0    e   97\n",
       "1    t   85\n",
       "2    o   73\n",
       "3    n   60\n",
       "4    s   60\n",
       "5    r   54\n",
       "6    i   50\n",
       "7    h   48\n",
       "8    u   27\n",
       "9    d   24\n",
       "10   c   23\n",
       "11   w   20\n",
       "12   m   20\n",
       "13   f   17\n",
       "14   y   15\n",
       "15   p   15\n",
       "16   b   13\n",
       "17   g   11\n",
       "18   v    9\n",
       "19   '    8\n",
       "20   k    7\n",
       "21   !    2"
      ]
     },
     "execution_count": 6,
     "metadata": {},
     "output_type": "execute_result"
    }
   ],
   "source": [
    "import pandas as pd\n",
    "li1 = []\n",
    "li2 = []\n",
    "\n",
    "for i in range(len(li)):\n",
    "    li1.append(li[i])\n",
    "    li2.append(li.count(li[i]))\n",
    "\n",
    "li1 = pd.Series(li1)\n",
    "li2 = pd.Series(li2)\n",
    "df = pd.concat([li1,li2], axis = 1)\n",
    "df2 = df.drop_duplicates()\n",
    "\n",
    "df3=df2[2:]\n",
    "df4 = df3.reset_index(drop = True)\n",
    "df5= df4.rename(columns = {0:\"alp\", 1:\"con\"})\n",
    "df6 = df5.sort_values('con', ascending = False)\n",
    "df7 = df6.reset_index(drop = True)\n",
    "df7"
   ]
  },
  {
   "cell_type": "code",
   "execution_count": 7,
   "id": "0716a068",
   "metadata": {},
   "outputs": [
    {
     "name": "stdout",
     "output_type": "stream",
     "text": [
      "e -> 97회 나타남\n",
      "t -> 85회 나타남\n",
      "o -> 73회 나타남\n",
      "n -> 60회 나타남\n",
      "s -> 60회 나타남\n",
      "r -> 54회 나타남\n",
      "i -> 50회 나타남\n",
      "h -> 48회 나타남\n",
      "u -> 27회 나타남\n",
      "d -> 24회 나타남\n",
      "c -> 23회 나타남\n",
      "w -> 20회 나타남\n",
      "m -> 20회 나타남\n",
      "f -> 17회 나타남\n",
      "y -> 15회 나타남\n",
      "p -> 15회 나타남\n",
      "b -> 13회 나타남\n",
      "g -> 11회 나타남\n",
      "v -> 9회 나타남\n",
      "' -> 8회 나타남\n",
      "k -> 7회 나타남\n",
      "! -> 2회 나타남\n"
     ]
    }
   ],
   "source": [
    "for i in range(len(df7)):\n",
    "    print(f'{df7.alp[i]} -> {df7.con[i]}회 나타남')  "
   ]
  },
  {
   "cell_type": "code",
   "execution_count": 10,
   "id": "79a0cdcd",
   "metadata": {},
   "outputs": [
    {
     "name": "stdout",
     "output_type": "stream",
     "text": [
      "[(' ', 177), ('e', 97), ('t', 85), ('a', 78), ('o', 73), ('n', 60), ('s', 60), ('r', 54), ('i', 50), ('h', 48), ('\\n', 43), ('l', 34), ('u', 27), ('d', 24), ('c', 23), ('w', 20), ('m', 20), ('f', 17), ('y', 15), ('p', 15), ('b', 13), ('g', 11), ('v', 9), (\"'\", 8), ('k', 7), ('!', 2)]\n",
      "[ ] - > [177]회 나타남\n",
      "[e] - > [97]회 나타남\n",
      "[t] - > [85]회 나타남\n",
      "[a] - > [78]회 나타남\n",
      "[o] - > [73]회 나타남\n",
      "[n] - > [60]회 나타남\n",
      "[s] - > [60]회 나타남\n",
      "[r] - > [54]회 나타남\n",
      "[i] - > [50]회 나타남\n",
      "[h] - > [48]회 나타남\n",
      "[l] - > [34]회 나타남\n",
      "[u] - > [27]회 나타남\n",
      "[d] - > [24]회 나타남\n",
      "[c] - > [23]회 나타남\n",
      "[w] - > [20]회 나타남\n",
      "[m] - > [20]회 나타남\n",
      "[f] - > [17]회 나타남\n",
      "[y] - > [15]회 나타남\n",
      "[p] - > [15]회 나타남\n",
      "[b] - > [13]회 나타남\n",
      "[g] - > [11]회 나타남\n",
      "[v] - > [9]회 나타남\n",
      "['] - > [8]회 나타남\n",
      "[k] - > [7]회 나타남\n",
      "[!] - > [2]회 나타남\n"
     ]
    }
   ],
   "source": [
    "def getTextFreq(filename):\n",
    "    with open(filename,'r') as f:\n",
    "        text = f.read()\n",
    "        fa = {}\n",
    "        for c in text:\n",
    "            if c in fa:\n",
    "                fa[c] += 1\n",
    "            else:\n",
    "                fa[c] = 1\n",
    "    return fa\n",
    "ret = getTextFreq('./mydata.txt')\n",
    "ret = sorted(ret.items(),key=lambda x:x[1], reverse=True)\n",
    "print(ret)\n",
    "for c, freq in ret:\n",
    "    if c =='\\n':\n",
    "        continue\n",
    "    print('[%c] - > [%d]회 나타남' %(c,freq))\n"
   ]
  },
  {
   "cell_type": "markdown",
   "id": "ee11a822",
   "metadata": {},
   "source": [
    "#### Q7. 두개의 수를 입력한 후 두개의 수에 대한 사칙연산을 수행하세요.(0을 입력한 경우 다시 입력하도록 조치)\n",
    "- Cal4 클래스를 만들어서 작성"
   ]
  },
  {
   "cell_type": "code",
   "execution_count": 9,
   "id": "67cd2ce1",
   "metadata": {},
   "outputs": [
    {
     "name": "stdout",
     "output_type": "stream",
     "text": [
      "첫번째 숫자 입력1\n",
      "두번쨰 숫자 입력0\n",
      "다시 입력해주세요.\n",
      "두번쨰 숫자 입력2\n",
      "0.5\n",
      "3\n",
      "2\n",
      "-1\n"
     ]
    }
   ],
   "source": [
    "class Cal4:\n",
    "    def __init__(self):\n",
    "        self.first = int(input('첫번째 숫자 입력'))\n",
    "        self.second = int(input('두번쨰 숫자 입력'))\n",
    "        if self.first == 0:\n",
    "            print(\"다시 입력해주세요.\")\n",
    "            self.first = int(input('첫번째 숫자 입력'))\n",
    "        elif self.second == 0:\n",
    "            print('다시 입력해주세요.')\n",
    "            self.second = int(input('두번쨰 숫자 입력'))\n",
    "            \n",
    "    def add(self):\n",
    "        result = self.first + self.second\n",
    "        return result\n",
    "    def sub(self):\n",
    "        result = self.first - self.second\n",
    "        return result\n",
    "    def div(self):\n",
    "        result = self.first / self.second\n",
    "        return result\n",
    "    def mul(self):\n",
    "        result = self.first * self.second\n",
    "        return result\n",
    "    \n",
    "cal4 = Cal4()\n",
    "print(cal4.div())\n",
    "print(cal4.add())\n",
    "print(cal4.mul())\n",
    "print(cal4.sub())"
   ]
  },
  {
   "cell_type": "markdown",
   "id": "f9987c6e",
   "metadata": {},
   "source": [
    "#### Q8. Order 클래스를 상속받아 extraOrder 클래스에서 메소드를 오바라이딩하여 출력가격에 원이 추가되도록 출력하세요."
   ]
  },
  {
   "cell_type": "code",
   "execution_count": 3,
   "id": "dfb5b628",
   "metadata": {},
   "outputs": [
    {
     "name": "stdout",
     "output_type": "stream",
     "text": [
      "1000\n"
     ]
    }
   ],
   "source": [
    "class Order: \n",
    "    def __init__(self, name): \n",
    "        self.customer = 0 \n",
    "        self.name = name \n",
    "    def order(self, price): \n",
    "        self.customer += price \n",
    "        return self.customer\n",
    "    \n",
    "\n",
    "order = Order('kevin')\n",
    "print(order.order(1000))"
   ]
  },
  {
   "cell_type": "code",
   "execution_count": 6,
   "id": "619f05f0",
   "metadata": {},
   "outputs": [],
   "source": [
    "class extraOrder(Order):\n",
    "    def orderd(self, price):\n",
    "        self.customer += price \n",
    "        return str(self.customer)+'원'"
   ]
  },
  {
   "cell_type": "code",
   "execution_count": 10,
   "id": "45ee75e3",
   "metadata": {},
   "outputs": [
    {
     "name": "stdout",
     "output_type": "stream",
     "text": [
      "2000원\n"
     ]
    }
   ],
   "source": [
    "orde = extraOrder('kevin')\n",
    "print(orde.orderd(2000))"
   ]
  },
  {
   "cell_type": "markdown",
   "id": "cce5d6da",
   "metadata": {},
   "source": [
    "#### Q9. 업무미팅이 2시임을 알려주는 자동 이메일을 클래스 AutoEmail을 작성하여 아래와 같이 출력하세요.\n",
    "- 안녕하세요. kevin님 업무미팅은 2시 입니다."
   ]
  },
  {
   "cell_type": "code",
   "execution_count": 13,
   "id": "400c97f6",
   "metadata": {},
   "outputs": [
    {
     "name": "stdout",
     "output_type": "stream",
     "text": [
      "부장님 지금 시간은 9입니다.\n",
      "업무미팅 시간은 2시입니다.\n",
      "업무미팅까지 5시간 남았습니다.\n"
     ]
    }
   ],
   "source": [
    "class AutoEmail:\n",
    "    \n",
    "    def __init__(self, name):\n",
    "        from datetime import datetime\n",
    "        self.name = name\n",
    "        self.now = datetime.now()\n",
    "        self.meeting = 14 - self.now.hour\n",
    "\n",
    "    \n",
    "    def call(self):\n",
    "        print(f'{self.name}님 지금 시간은 {self.now.hour}입니다.' )\n",
    "        if self.now.hour > 14:\n",
    "            print(\"업무미팅 시간은 2시였습니다.\")\n",
    "            print(f'업무미팅시간이 {self.meeting}시간 만큼 늦었습니다.')\n",
    "        else:\n",
    "            print(\"업무미팅 시간은 2시입니다.\")\n",
    "            print(f'업무미팅까지 {self.meeting}시간 남았습니다.')\n",
    "\n",
    "a=AutoEmail('부장')\n",
    "a.call()\n",
    "    "
   ]
  },
  {
   "cell_type": "markdown",
   "id": "f56081b9",
   "metadata": {},
   "source": [
    "#### Q.10 정규표현식을 사용하여 test에서 전화번호만 출력하세요.\n",
    "text = \"문의사항이 있으면 032-232-3245으로 연락주시기 바랍니다.\""
   ]
  },
  {
   "cell_type": "code",
   "execution_count": 2,
   "id": "a12bf01f",
   "metadata": {},
   "outputs": [],
   "source": [
    "text = \"문의사항이 있으면 032-232-3245으로 연락주시기 바랍니다.\""
   ]
  },
  {
   "cell_type": "code",
   "execution_count": 4,
   "id": "dd370c93",
   "metadata": {},
   "outputs": [
    {
     "name": "stdout",
     "output_type": "stream",
     "text": [
      "['032-232-3245']\n"
     ]
    }
   ],
   "source": [
    "import re\n",
    "p = re.compile(\"(\\d+[-]\\d+[-]\\d+)\")\n",
    "m = p.findall(text)\n",
    "print(m)"
   ]
  },
  {
   "cell_type": "markdown",
   "id": "c0e97b56",
   "metadata": {},
   "source": [
    "#### Q.11 정규표현식을 사용하여 text에서 에러가 들어간 부분만 포함하는 리스트를 출력하세요.\n",
    "text '에러 1122, 레퍼런스 오류, 에러 1033, 아규먼트 오력, 에러 xxx'"
   ]
  },
  {
   "cell_type": "code",
   "execution_count": 6,
   "id": "54fc1083",
   "metadata": {},
   "outputs": [
    {
     "name": "stdout",
     "output_type": "stream",
     "text": [
      "['에러 1122', '에러 1033', '에러 xxx']\n"
     ]
    }
   ],
   "source": [
    "text= '에러 1122, 레퍼런스 오류, 에러 1033, 아규먼트 오류, 에러 xxx'\n",
    "p = re.compile(\"[에러]{2}\\s\\w+\")\n",
    "m = p.findall(text)\n",
    "print(m)"
   ]
  },
  {
   "cell_type": "markdown",
   "id": "784520d3",
   "metadata": {},
   "source": [
    "#### Q12. 정규표현식을 사용하여 text에서 지역코드만 출력하세요.\n",
    "text = \"문의사항이 있으면 032-232-3245으로 연락주시기 바랍니다.\""
   ]
  },
  {
   "cell_type": "code",
   "execution_count": 85,
   "id": "c1b49ed9",
   "metadata": {},
   "outputs": [],
   "source": [
    "text = \"문의사항이 있으면 032-232-3245으로 연락주시기 바랍니다.\""
   ]
  },
  {
   "cell_type": "code",
   "execution_count": 91,
   "id": "4d953fbb",
   "metadata": {},
   "outputs": [
    {
     "name": "stdout",
     "output_type": "stream",
     "text": [
      "032\n"
     ]
    }
   ],
   "source": [
    "import re\n",
    "p = re.compile(\"(\\d+)[-]\\d+[-]\\d+\")\n",
    "m = p.search(text)\n",
    "print(m.group(1))"
   ]
  },
  {
   "cell_type": "markdown",
   "id": "b11aba9d",
   "metadata": {},
   "source": [
    "#### Q13. 정규표현식을 사용하여 text에서 지역코드 제외한 번호만 출력하세요.\n",
    "text = \"문의사항이 있으면 032-232-3245으로 연락주시기 바랍니다.\""
   ]
  },
  {
   "cell_type": "code",
   "execution_count": 92,
   "id": "55811463",
   "metadata": {},
   "outputs": [
    {
     "name": "stdout",
     "output_type": "stream",
     "text": [
      "232-3245\n"
     ]
    }
   ],
   "source": [
    "import re\n",
    "p = re.compile(\"(\\d+)[-](\\d+[-]\\d+)\")\n",
    "m = p.search(text)\n",
    "print(m.group(2))"
   ]
  },
  {
   "cell_type": "markdown",
   "id": "5a6e063e",
   "metadata": {},
   "source": [
    "#### Q14.'abcdefghij' 에 대하여 중첩을 적용한 서브그룹 5개로 컴파일하여 group()함수를 이용하여 'abcdefghi'와 e'를 출력하세요\n"
   ]
  },
  {
   "cell_type": "code",
   "execution_count": 94,
   "id": "ffea5f3b",
   "metadata": {},
   "outputs": [
    {
     "name": "stdout",
     "output_type": "stream",
     "text": [
      "abcdefghi\n",
      "e\n"
     ]
    }
   ],
   "source": [
    "alpha='abcdefghij'\n",
    "import re\n",
    "p = re.compile(\"((abcd(e)(fghi))(j))\")\n",
    "m = p.search(alpha)\n",
    "print(m.group(2))\n",
    "print(m.group(3))"
   ]
  },
  {
   "cell_type": "markdown",
   "id": "bacd82e9",
   "metadata": {},
   "source": [
    "#### Q15. 위 문제에서 모든 서브그룹에 대한 문자열을 포함하는 튜플을 출력하세요."
   ]
  },
  {
   "cell_type": "code",
   "execution_count": 1,
   "id": "a3038272",
   "metadata": {},
   "outputs": [
    {
     "data": {
      "text/plain": [
       "('abcdefghij', 'abcdefghi', 'e', 'fghi', 'j')"
      ]
     },
     "execution_count": 1,
     "metadata": {},
     "output_type": "execute_result"
    }
   ],
   "source": [
    "import re\n",
    "p = re.compile(\"((abcd(e)(fghi))(j))\")\n",
    "m = p.search('abcdefghij')\n",
    "m.group(1),m.group(2),m.group(3),m.group(4),m.group(5)\n"
   ]
  },
  {
   "cell_type": "markdown",
   "id": "bd2f73ff",
   "metadata": {},
   "source": [
    "#### Q16. 이름으로 그룹을 참조하여 'Lots of punctuation' 에서 Lots를 출력하세요.\n"
   ]
  },
  {
   "cell_type": "code",
   "execution_count": 12,
   "id": "ca4fbf86",
   "metadata": {},
   "outputs": [
    {
     "name": "stdout",
     "output_type": "stream",
     "text": [
      "Lots\n"
     ]
    }
   ],
   "source": [
    "import re\n",
    "p = re.compile(\"(?P<ALPH>\\w+)\\s(of)\\s(punctuation)\")\n",
    "m = p.search('Lots of punctuation')\n",
    "print(m.group('ALPH'))\n"
   ]
  },
  {
   "cell_type": "markdown",
   "id": "4fb20318",
   "metadata": {},
   "source": [
    "#### Q17. 'Paris is very very beautiful.'에서 'very very'를 출력하세요.\n"
   ]
  },
  {
   "cell_type": "code",
   "execution_count": 13,
   "id": "22d15b34",
   "metadata": {},
   "outputs": [
    {
     "name": "stdout",
     "output_type": "stream",
     "text": [
      "very very\n"
     ]
    }
   ],
   "source": [
    "import re\n",
    "p = re.compile(\"(\\w+)\\s(\\w+)\\s(\\w+\\s\\w+)\\s(\\w+)\")\n",
    "m = p.search('Paris is very very beautiful.')\n",
    "print(m.group(3))"
   ]
  },
  {
   "cell_type": "markdown",
   "id": "0192823b",
   "metadata": {},
   "source": [
    "#### Q18. 정규표현식을 작성하여 아래와 같이 출력하세요.\n",
    "['1 apple', '5 oranges', '3 boys', '4 girls', '10 army', '11 mr']"
   ]
  },
  {
   "cell_type": "code",
   "execution_count": 19,
   "id": "20a7c1e1",
   "metadata": {},
   "outputs": [
    {
     "name": "stdout",
     "output_type": "stream",
     "text": [
      "['1 apple', '5 oranges', '3 boys', '4 girls', '10 army', '11 mr']\n"
     ]
    }
   ],
   "source": [
    "import re\n",
    "li = '1 apple, 5 oranges, 3 boys, 4 girls; 10 army| 11 mr'\n",
    "regex = re.compile('\\d+\\s\\w+')\n",
    "list = regex.findall(li)\n",
    "print(list)"
   ]
  },
  {
   "cell_type": "markdown",
   "id": "4754f01c",
   "metadata": {},
   "source": [
    "#### Q19. text에서 'H,h'만 출력하세요."
   ]
  },
  {
   "cell_type": "code",
   "execution_count": 32,
   "id": "c7a28968",
   "metadata": {},
   "outputs": [
    {
     "name": "stdout",
     "output_type": "stream",
     "text": [
      "['H', 'h', 'h']\n"
     ]
    }
   ],
   "source": [
    "text = 'Hello my friend! Life is short you need Python!'\n",
    "\n",
    "import re\n",
    "p = re.compile('[Hh]')\n",
    "m = p.findall(text)\n",
    "print(m)\n"
   ]
  },
  {
   "cell_type": "markdown",
   "id": "8a6fa6ed",
   "metadata": {},
   "source": [
    "#### Q20. text에서 'H,h'가 아닌 것 모두를 출력하세요."
   ]
  },
  {
   "cell_type": "code",
   "execution_count": 24,
   "id": "744591cf",
   "metadata": {},
   "outputs": [
    {
     "name": "stdout",
     "output_type": "stream",
     "text": [
      "['e', 'l', 'l', 'o', ' ', 'm', 'y', ' ', 'f', 'r', 'i', 'e', 'n', 'd', '!', ' ', 'L', 'i', 'f', 'e', ' ', 'i', 's', ' ', 's', 'o', 'r', 't', ' ', 'y', 'o', 'u', ' ', 'n', 'e', 'e', 'd', ' ', 'P', 'y', 't', 'o', 'n', '!']\n"
     ]
    }
   ],
   "source": [
    "import re\n",
    "p = re.compile('[^Hh]')\n",
    "m = p.findall(text)\n",
    "print(m)\n"
   ]
  },
  {
   "cell_type": "markdown",
   "id": "9005aff0",
   "metadata": {},
   "source": [
    "#### Q21. 'we are going home'에서 home만 출력하세요."
   ]
  },
  {
   "cell_type": "code",
   "execution_count": 17,
   "id": "74dbb5cf",
   "metadata": {},
   "outputs": [
    {
     "data": {
      "text/plain": [
       "'home'"
      ]
     },
     "execution_count": 17,
     "metadata": {},
     "output_type": "execute_result"
    }
   ],
   "source": [
    "import re\n",
    "p = re.compile('\\w+ \\w+ \\w+ (\\w+)')\n",
    "m = p.search('we are going home')\n",
    "m.group(1)"
   ]
  },
  {
   "cell_type": "markdown",
   "id": "18904662",
   "metadata": {},
   "source": [
    "#### Q22. '199305, 1923A, a93247'에서 '199305'만 출력하세요.\n"
   ]
  },
  {
   "cell_type": "code",
   "execution_count": 26,
   "id": "132aa745",
   "metadata": {},
   "outputs": [
    {
     "data": {
      "text/plain": [
       "'199305'"
      ]
     },
     "execution_count": 26,
     "metadata": {},
     "output_type": "execute_result"
    }
   ],
   "source": [
    "import re\n",
    "p = re.compile('\\d+')\n",
    "m = p.search('199305, 1923A, a93247')\n",
    "m.group(0)"
   ]
  },
  {
   "cell_type": "markdown",
   "id": "d6d7378a",
   "metadata": {},
   "source": [
    "\n",
    "#### Q23. '12345abc'에서 'abc'만 출력하세요.\n"
   ]
  },
  {
   "cell_type": "code",
   "execution_count": 10,
   "id": "290e5269",
   "metadata": {},
   "outputs": [
    {
     "data": {
      "text/plain": [
       "'abc'"
      ]
     },
     "execution_count": 10,
     "metadata": {},
     "output_type": "execute_result"
    }
   ],
   "source": [
    "import re\n",
    "p = re.compile('\\D+')\n",
    "m = p.search('12345abc')\n",
    "m.group()"
   ]
  },
  {
   "cell_type": "code",
   "execution_count": 11,
   "id": "3b407b26",
   "metadata": {},
   "outputs": [
    {
     "data": {
      "text/plain": [
       "'abc'"
      ]
     },
     "execution_count": 11,
     "metadata": {},
     "output_type": "execute_result"
    }
   ],
   "source": [
    "b = re.search('\\D+','12345abc')\n",
    "b.group()"
   ]
  },
  {
   "cell_type": "code",
   "execution_count": 14,
   "id": "16044034",
   "metadata": {},
   "outputs": [
    {
     "data": {
      "text/plain": [
       "'12345'"
      ]
     },
     "execution_count": 14,
     "metadata": {},
     "output_type": "execute_result"
    }
   ],
   "source": [
    "re.sub( '[^0-9]',\"\",'12345abc')\n",
    "#sub함수 대치 함수, sub(정규표현식, 대치할 것, 대상 string)"
   ]
  },
  {
   "cell_type": "markdown",
   "id": "6bbab014",
   "metadata": {},
   "source": [
    "#### Q24 '12345abc'에서 'a'만 출력하세요.\n"
   ]
  },
  {
   "cell_type": "code",
   "execution_count": 2,
   "id": "9771d8e3",
   "metadata": {},
   "outputs": [
    {
     "data": {
      "text/plain": [
       "'a'"
      ]
     },
     "execution_count": 2,
     "metadata": {},
     "output_type": "execute_result"
    }
   ],
   "source": [
    "import re\n",
    "p = re.compile('[a]')\n",
    "m = p.search('12345abc')\n",
    "m.group()"
   ]
  },
  {
   "cell_type": "markdown",
   "id": "db3e67b1",
   "metadata": {},
   "source": [
    "#### Q25. 'abc12345Abc'에서 'A'만 출력하세요.\n"
   ]
  },
  {
   "cell_type": "code",
   "execution_count": 17,
   "id": "e6b5586d",
   "metadata": {},
   "outputs": [
    {
     "data": {
      "text/plain": [
       "'A'"
      ]
     },
     "execution_count": 17,
     "metadata": {},
     "output_type": "execute_result"
    }
   ],
   "source": [
    "import re\n",
    "p = re.compile('[A]')\n",
    "m = p.search('abc12345Abc')\n",
    "m.group()"
   ]
  },
  {
   "cell_type": "markdown",
   "id": "de7defab",
   "metadata": {},
   "source": [
    "#### Q26.'Banker'에서 'anker', 'banker123'에서 'banker'를 출력하세요\n"
   ]
  },
  {
   "cell_type": "code",
   "execution_count": 26,
   "id": "b1f60a08",
   "metadata": {},
   "outputs": [
    {
     "name": "stdout",
     "output_type": "stream",
     "text": [
      "['anker']\n",
      "['banker']\n"
     ]
    }
   ],
   "source": [
    "m=re.findall('a\\w+','Banker')\n",
    "print(m)\n",
    "b=re.findall('b\\D+','banker123')\n",
    "print(b)"
   ]
  },
  {
   "cell_type": "markdown",
   "id": "15747cb2",
   "metadata": {},
   "source": [
    "#### Q27.'KOREA 대한민국'에서 '대'만 출력하세요."
   ]
  },
  {
   "cell_type": "code",
   "execution_count": 2,
   "id": "9d524e67",
   "metadata": {},
   "outputs": [
    {
     "data": {
      "text/plain": [
       "'대'"
      ]
     },
     "execution_count": 2,
     "metadata": {},
     "output_type": "execute_result"
    }
   ],
   "source": [
    "import re\n",
    "m = re.search('[대]','KOREA 대한민국')\n",
    "m.group()"
   ]
  },
  {
   "cell_type": "markdown",
   "id": "7070462a",
   "metadata": {},
   "source": [
    "#### Q28. 'aaaaBBBcccDDDeee'을 모두 출력하세요."
   ]
  },
  {
   "cell_type": "code",
   "execution_count": 3,
   "id": "9a5dc12f",
   "metadata": {},
   "outputs": [
    {
     "data": {
      "text/plain": [
       "'aaaaBBBcccDDDeee'"
      ]
     },
     "execution_count": 3,
     "metadata": {},
     "output_type": "execute_result"
    }
   ],
   "source": [
    "text = 'aaaBBccDDeeaaaaBBBcccDDDeeeeeeDDDcccBBBaaaa'\n",
    "m = re.search('a{4}B{3}c{3}D{3}e{3}', text)\n",
    "m.group()\n"
   ]
  },
  {
   "cell_type": "markdown",
   "id": "5a258594",
   "metadata": {},
   "source": [
    "#### Q29. 아래의 경우에서 \\<html>만 출력하세요"
   ]
  },
  {
   "cell_type": "code",
   "execution_count": 4,
   "id": "5341785d",
   "metadata": {},
   "outputs": [
    {
     "name": "stdout",
     "output_type": "stream",
     "text": [
      "59\n"
     ]
    },
    {
     "data": {
      "text/plain": [
       "'<html>'"
      ]
     },
     "execution_count": 4,
     "metadata": {},
     "output_type": "execute_result"
    }
   ],
   "source": [
    "# Q\n",
    "pattern = re.compile('<.*?>')\n",
    "text = '<html><head><title>Title</title></head><body></body></html>'\n",
    "\n",
    "print(len(text))\n",
    "\n",
    "p = pattern.search(text)\n",
    "p.group()"
   ]
  },
  {
   "cell_type": "markdown",
   "id": "5f5e0d25",
   "metadata": {},
   "source": [
    "#### Q30. '1234a1234'에서  '1', '2', '3', '4'를 모두 출력하세요."
   ]
  },
  {
   "cell_type": "code",
   "execution_count": 5,
   "id": "fa76176a",
   "metadata": {
    "scrolled": true
   },
   "outputs": [
    {
     "data": {
      "text/plain": [
       "['1', '2', '3', '4', '1', '2', '3', '4']"
      ]
     },
     "execution_count": 5,
     "metadata": {},
     "output_type": "execute_result"
    }
   ],
   "source": [
    "m = re.findall('\\d', '1234a1234')\n",
    "m"
   ]
  },
  {
   "cell_type": "code",
   "execution_count": null,
   "id": "6dd6100d",
   "metadata": {},
   "outputs": [],
   "source": []
  },
  {
   "cell_type": "markdown",
   "id": "fcd149a6",
   "metadata": {},
   "source": [
    "#### Q32. text에서 전체문장 모두 출력하세요."
   ]
  },
  {
   "cell_type": "code",
   "execution_count": 4,
   "id": "31f80a70",
   "metadata": {},
   "outputs": [
    {
     "name": "stdout",
     "output_type": "stream",
     "text": [
      "what are you doing?\n",
      "it is going to be late for school\n",
      "we need to hurry up\n"
     ]
    }
   ],
   "source": [
    "# Q.\n",
    "text = \"what are you doing?\\nit is going to be late for school\\nwe need to hurry up\"\n",
    "regex = re.compile('\\D*')\n",
    "mo = regex.search(text)\n",
    "print(mo.group())\n"
   ]
  },
  {
   "cell_type": "code",
   "execution_count": 5,
   "id": "77437f4d",
   "metadata": {},
   "outputs": [
    {
     "name": "stdout",
     "output_type": "stream",
     "text": [
      "what are you doing?\n",
      "it is going to be late for school\n",
      "we need to hurry up\n"
     ]
    }
   ],
   "source": [
    "import re\n",
    "regex = re.compile('.*', re.DOTALL)\n",
    "mo = regex.search(text)\n",
    "print(mo.group())\n"
   ]
  },
  {
   "cell_type": "markdown",
   "id": "41c00d18",
   "metadata": {},
   "source": [
    "#### Q33. text에서 대소문자 구분없이 전체문장 모두 출력하세요\n"
   ]
  },
  {
   "cell_type": "code",
   "execution_count": 38,
   "id": "763fccea",
   "metadata": {},
   "outputs": [
    {
     "name": "stdout",
     "output_type": "stream",
     "text": [
      "Friend\n",
      "fRiend\n",
      "friEnd\n",
      "FRIEND\n"
     ]
    }
   ],
   "source": [
    "text = 'Friend fRiend friEnd FRIEND'\n",
    "m = re.findall('\\w+',text)\n",
    "for i in range(0,4):\n",
    "    print(m[i])"
   ]
  },
  {
   "cell_type": "code",
   "execution_count": 13,
   "id": "8e9916a3",
   "metadata": {},
   "outputs": [
    {
     "name": "stdout",
     "output_type": "stream",
     "text": [
      "Friend\n",
      "fRiend\n",
      "friEnd\n",
      "FRIEND\n"
     ]
    }
   ],
   "source": [
    "text = 'Friend fRiend friEnd FRIEND'\n",
    "\n",
    "regex = re.compile('friend',re.I)\n",
    "mo = regex.findall(text)\n",
    "for i in mo:\n",
    "    print(i)\n",
    "\n"
   ]
  },
  {
   "cell_type": "markdown",
   "id": "69691694",
   "metadata": {},
   "source": [
    "#### Q34. 1609160537.371015을 \"Sat Jun 26 08:35:03 2021\" 포멧으로 출력하세요.\n"
   ]
  },
  {
   "cell_type": "code",
   "execution_count": 26,
   "id": "2ccb8b0a",
   "metadata": {},
   "outputs": [
    {
     "name": "stdout",
     "output_type": "stream",
     "text": [
      "2020-12-28 22:02:17.371015\n"
     ]
    },
    {
     "data": {
      "text/plain": [
       "'Mon Dec 28 22:02:17 2020'"
      ]
     },
     "execution_count": 26,
     "metadata": {},
     "output_type": "execute_result"
    }
   ],
   "source": [
    "import time\n",
    "from datetime import datetime\n",
    "d = datetime.fromtimestamp(1609160537.371015)\n",
    "print(d)\n",
    "d.strftime('%c')"
   ]
  },
  {
   "cell_type": "code",
   "execution_count": 27,
   "id": "907103f9",
   "metadata": {},
   "outputs": [
    {
     "data": {
      "text/plain": [
       "'Mon Dec 28 22:02:17 2020'"
      ]
     },
     "execution_count": 27,
     "metadata": {},
     "output_type": "execute_result"
    }
   ],
   "source": [
    "timestring=time.ctime(1609160537.371015)\n",
    "timestring"
   ]
  },
  {
   "cell_type": "code",
   "execution_count": 28,
   "id": "65bb5ca2",
   "metadata": {},
   "outputs": [
    {
     "data": {
      "text/plain": [
       "'Mon Dec 28 22:02:17 2020'"
      ]
     },
     "execution_count": 28,
     "metadata": {},
     "output_type": "execute_result"
    }
   ],
   "source": [
    "from datetime import datetime\n",
    "\n",
    "time = datetime.fromtimestamp(int(1609160537.371015))\n",
    "time = time.strftime(\"%a %b %d %H:%M:%S %Y\")\n",
    "time\n"
   ]
  },
  {
   "cell_type": "markdown",
   "id": "d5ae2a40",
   "metadata": {},
   "source": [
    "#### Q35. 현재 날짜와 시간을 \"Sat Jun 26 08:35:03 2021\" 포멧으로 출력하세요.\n"
   ]
  },
  {
   "cell_type": "code",
   "execution_count": 35,
   "id": "9de0ec96",
   "metadata": {},
   "outputs": [
    {
     "data": {
      "text/plain": [
       "'Tue Jul 26 09:21:04 2022'"
      ]
     },
     "execution_count": 35,
     "metadata": {},
     "output_type": "execute_result"
    }
   ],
   "source": [
    "import time\n",
    "t = time.time()\n",
    "type(t)\n",
    "d = datetime.fromtimestamp(t)\n",
    "# d.strftime('%c')\n",
    "time = d.strftime(\"%a %b %d %H:%M:%S %Y\")\n",
    "time"
   ]
  },
  {
   "cell_type": "markdown",
   "id": "d4989f16",
   "metadata": {},
   "source": [
    "ctime() 함수는 주어진 timestamp를 현지 시간대 기준으로 소위 미국에서 흔히 사용되는 요 월 일 시:분:초 년 포멧으로 변환해줍니다. 그냥 간단하게 timestamp가 나타내는 날짜와 시간을 확인해보는 용도로 쓰기에 좋습니다.\n"
   ]
  },
  {
   "cell_type": "markdown",
   "id": "65fd7e9a",
   "metadata": {},
   "source": [
    "#### Q36. 현재 시간을 년-월-일 시:분:초로 출력하세요.\n"
   ]
  },
  {
   "cell_type": "code",
   "execution_count": 1,
   "id": "bc9b0d61",
   "metadata": {},
   "outputs": [
    {
     "name": "stdout",
     "output_type": "stream",
     "text": [
      "2022-07-27 09:12:59.934306\n"
     ]
    },
    {
     "data": {
      "text/plain": [
       "'2022년-07월-27일 09시:12분:59초'"
      ]
     },
     "execution_count": 1,
     "metadata": {},
     "output_type": "execute_result"
    }
   ],
   "source": [
    "import time\n",
    "from datetime import datetime\n",
    "t = datetime.today()\n",
    "print(t)\n",
    "# d.strftime('%c')\n",
    "time = t.strftime(\"%Y년-%m월-%d일 %H시:%M분:%S초\")\n",
    "time"
   ]
  },
  {
   "cell_type": "markdown",
   "id": "4a3a2ecd",
   "metadata": {},
   "source": [
    "#### Q37. 현재 시간을 time.time을 불러와서 년-월-일 시:분:초로 출력하세요\n"
   ]
  },
  {
   "cell_type": "code",
   "execution_count": 2,
   "id": "67ae001a",
   "metadata": {},
   "outputs": [
    {
     "data": {
      "text/plain": [
       "'2022년-07월-27일 09시:15분:10초'"
      ]
     },
     "execution_count": 2,
     "metadata": {},
     "output_type": "execute_result"
    }
   ],
   "source": [
    "import time\n",
    "from datetime import datetime\n",
    "t = time.time()\n",
    "type(t)\n",
    "d = datetime.fromtimestamp(t)\n",
    "# d.strftime('%c')\n",
    "time = d.strftime(\"%Y년-%m월-%d일 %H시:%M분:%S초\")\n",
    "time"
   ]
  },
  {
   "cell_type": "markdown",
   "id": "b71e59fd",
   "metadata": {},
   "source": [
    "#### Q38. 올해 경과된 날짜수 계산하세요\n"
   ]
  },
  {
   "cell_type": "code",
   "execution_count": 14,
   "id": "e5278a79",
   "metadata": {},
   "outputs": [
    {
     "name": "stdout",
     "output_type": "stream",
     "text": [
      "207 days, 9:18:33.609242\n",
      "오늘은 2022년 1월 1일 이후 207일째 되는 날입니다.\n"
     ]
    }
   ],
   "source": [
    "from datetime import datetime\n",
    "\n",
    "a = datetime.now()\n",
    "b = datetime.strptime('20220101','%Y%m%d')\n",
    "\n",
    "result = a - b\n",
    "print(result)\n",
    "print(f'오늘은 2022년 1월 1일 이후 {result.days}일째 되는 날입니다.')"
   ]
  },
  {
   "cell_type": "markdown",
   "id": "63b56805",
   "metadata": {},
   "source": [
    "#### Q39. 현재 요일을 \"2021-6-26 오늘은 토요일입니다.\"와 같은 형식으로 출력하세요.\n"
   ]
  },
  {
   "cell_type": "code",
   "execution_count": 4,
   "id": "ce09c9af",
   "metadata": {},
   "outputs": [
    {
     "name": "stdout",
     "output_type": "stream",
     "text": [
      "2022-7-27 오늘은 수요일입니다.\n"
     ]
    }
   ],
   "source": [
    "import calendar\n",
    "y = a.year\n",
    "m = a.month\n",
    "d = a.day\n",
    "def get(y,m,d):\n",
    "    days = ['월요일','화요일','수요일','목요일','금요일','토요일','일요일']\n",
    "    return days[calendar.weekday(y,m,d)]\n",
    "\n",
    "print(f'{y}-{m}-{d} 오늘은 {get(y,m,d)}입니다.')"
   ]
  },
  {
   "cell_type": "markdown",
   "id": "e6fc15e9",
   "metadata": {},
   "source": [
    "#### Q40. 1에서 백만까지 더하는데 걸리는 프로그램 실행 시간을 밀리초(ms) 단위로 구하세요.\n"
   ]
  },
  {
   "cell_type": "code",
   "execution_count": 17,
   "id": "74031fcc",
   "metadata": {},
   "outputs": [
    {
     "name": "stdout",
     "output_type": "stream",
     "text": [
      "CPU times: total: 31.2 ms\n",
      "Wall time: 36.9 ms\n"
     ]
    },
    {
     "data": {
      "text/plain": [
       "500000500000"
      ]
     },
     "execution_count": 17,
     "metadata": {},
     "output_type": "execute_result"
    }
   ],
   "source": [
    "%%time\n",
    "sum(range(1,1000001))\n",
    "\n"
   ]
  },
  {
   "cell_type": "code",
   "execution_count": 24,
   "id": "a6a330d2",
   "metadata": {},
   "outputs": [
    {
     "name": "stdout",
     "output_type": "stream",
     "text": [
      "0.103756sec\n"
     ]
    }
   ],
   "source": [
    "from datetime import datetime\n",
    "import time\n",
    "now_1 = time.time()\n",
    "a=0\n",
    "for i in range(1000000):\n",
    "    a = a + i\n",
    "    \n",
    "now_2 = time.time()\n",
    "\n",
    "print(f'{now_2-now_1:5f}sec')\n"
   ]
  },
  {
   "cell_type": "markdown",
   "id": "498df605",
   "metadata": {},
   "source": [
    "#### Q41. 아래 코드를 보완하여 발생 가능한 모든 예외(정수, 인덱스, 미리 파악하지 못한 예외)를 처리한 후 마지막에  '모든 예외처리 완료'를 출력하세요."
   ]
  },
  {
   "cell_type": "code",
   "execution_count": 2,
   "id": "a051e18e",
   "metadata": {},
   "outputs": [
    {
     "name": "stdout",
     "output_type": "stream",
     "text": [
      "정수 입력> 15\n",
      "모든 예외처리 완료\n"
     ]
    },
    {
     "ename": "IndexError",
     "evalue": "list index out of range",
     "output_type": "error",
     "traceback": [
      "\u001b[1;31m---------------------------------------------------------------------------\u001b[0m",
      "\u001b[1;31mIndexError\u001b[0m                                Traceback (most recent call last)",
      "Input \u001b[1;32mIn [2]\u001b[0m, in \u001b[0;36m<cell line: 2>\u001b[1;34m()\u001b[0m\n\u001b[0;32m      3\u001b[0m     list_num \u001b[38;5;241m=\u001b[39m [\u001b[38;5;241m52\u001b[39m,\u001b[38;5;241m273\u001b[39m,\u001b[38;5;241m32\u001b[39m,\u001b[38;5;241m72\u001b[39m,\u001b[38;5;241m100\u001b[39m]\n\u001b[0;32m      5\u001b[0m     num_input \u001b[38;5;241m=\u001b[39m \u001b[38;5;28mint\u001b[39m(\u001b[38;5;28minput\u001b[39m(\u001b[38;5;124m'\u001b[39m\u001b[38;5;124m정수 입력> \u001b[39m\u001b[38;5;124m'\u001b[39m))\n\u001b[1;32m----> 6\u001b[0m     \u001b[38;5;28mprint\u001b[39m(\u001b[38;5;124mf\u001b[39m\u001b[38;5;124m'\u001b[39m\u001b[38;5;132;01m{\u001b[39;00mnum_input\u001b[38;5;132;01m}\u001b[39;00m\u001b[38;5;124m번째 요소: \u001b[39m\u001b[38;5;132;01m{\u001b[39;00mlist_num[num_input\u001b[38;5;241m-\u001b[39m\u001b[38;5;241m1\u001b[39m]\u001b[38;5;132;01m}\u001b[39;00m\u001b[38;5;124m'\u001b[39m)\n\u001b[0;32m      7\u001b[0m \u001b[38;5;28;01mexcept\u001b[39;00m \u001b[38;5;167;01mValueError\u001b[39;00m:\n\u001b[0;32m      8\u001b[0m     \u001b[38;5;28mprint\u001b[39m(\u001b[38;5;124m'\u001b[39m\u001b[38;5;124mValueError: 정수에러\u001b[39m\u001b[38;5;124m'\u001b[39m)\n",
      "\u001b[1;31mIndexError\u001b[0m: list index out of range"
     ]
    }
   ],
   "source": [
    "# Q. \n",
    "try:\n",
    "    list_num = [52,273,32,72,100]\n",
    "\n",
    "    num_input = int(input('정수 입력> '))\n",
    "    print(f'{num_input}번째 요소: {list_num[num_input-1]}')\n",
    "except ValueError:\n",
    "    print('ValueError: 정수에러')\n",
    "finally:\n",
    "    print('모든 예외처리 완료')"
   ]
  },
  {
   "cell_type": "markdown",
   "id": "f67c503e",
   "metadata": {},
   "source": [
    "#### Q42. 기본가격 1000원인 2개의 상품에 대하여 임의의 추가 가격을 입력시 가격 조정한 결과를 반환하는 Price 클래스를 생성 후 객체를 만들어 price1, price2를 수행하세요. \n",
    "- price1 : 기본가격 + 추가가격\n",
    "- price2 : (기본가격 + 추가가격) * 90%\n"
   ]
  },
  {
   "cell_type": "code",
   "execution_count": 3,
   "id": "bc6c6733",
   "metadata": {},
   "outputs": [
    {
     "name": "stdout",
     "output_type": "stream",
     "text": [
      "추가가격 :200\n",
      "1200\n",
      "추가가격 :100\n",
      "990.0\n",
      "추가가격 :500\n",
      "1500\n",
      "추가가격 :400\n",
      "1260.0\n"
     ]
    }
   ],
   "source": [
    "class Price:\n",
    "    def __init__(self):\n",
    "        self.price = 1000\n",
    "#     def setdata(self, price):\n",
    "#         self.price  = price\n",
    "    def price1(self):\n",
    "        a = int(input('추가가격 :'))\n",
    "        return self.price + a\n",
    "    def price2(self):\n",
    "        a = int(input('추가가격 :'))\n",
    "        return (a+self.price)*90/100\n",
    "        \n",
    "a = Price()\n",
    "b = Price()\n",
    "# a.setdata(200)\n",
    "# b.setdata(400)\n",
    "\n",
    "print(a.price1())\n",
    "print(a.price2())\n",
    "print(b.price1())\n",
    "print(b.price2())"
   ]
  },
  {
   "cell_type": "code",
   "execution_count": 130,
   "id": "a782e59a",
   "metadata": {},
   "outputs": [],
   "source": [
    "class Price:\n",
    "    def __init__(self):\n",
    "        self.price = 1000\n",
    "\n",
    "    def price1(self, x):\n",
    "        print(f'첫번째 물건가격: {self.price + x}')\n",
    "    def price2(self, x):\n",
    "        print(f'두번쨰 물건가격: {(x+self.price)*90/100}')\n",
    "\n",
    "a = Price()"
   ]
  },
  {
   "cell_type": "code",
   "execution_count": 131,
   "id": "4d055320",
   "metadata": {},
   "outputs": [
    {
     "name": "stdout",
     "output_type": "stream",
     "text": [
      "첫번째 물건가격: 1500\n"
     ]
    }
   ],
   "source": [
    "a.price1(500)"
   ]
  },
  {
   "cell_type": "code",
   "execution_count": 133,
   "id": "bd881f0f",
   "metadata": {},
   "outputs": [
    {
     "name": "stdout",
     "output_type": "stream",
     "text": [
      "두번쨰 물건가격: 1260.0\n"
     ]
    }
   ],
   "source": [
    "a.price2(400)"
   ]
  },
  {
   "cell_type": "markdown",
   "id": "9130e42a",
   "metadata": {},
   "source": [
    "#### Q43. strings를 문자의 크기 순서로 내림차순 정렬하세요\n"
   ]
  },
  {
   "cell_type": "code",
   "execution_count": 6,
   "id": "69cfd28c",
   "metadata": {},
   "outputs": [
    {
     "data": {
      "text/plain": [
       "['ababa', 'aaaa', 'bar', 'ca', 'a']"
      ]
     },
     "execution_count": 6,
     "metadata": {},
     "output_type": "execute_result"
    }
   ],
   "source": [
    "strings = ['a', 'ca', 'bar', 'aaaa', 'ababa']\n",
    "# strings.sort(key = lambda x:len(x), reverse = True)\n",
    "strings.sort(key = len, reverse = True)\n",
    "strings"
   ]
  },
  {
   "cell_type": "code",
   "execution_count": 5,
   "id": "a72798dd",
   "metadata": {},
   "outputs": [
    {
     "name": "stdout",
     "output_type": "stream",
     "text": [
      "['ababa', 'aaaa', 'bar', 'ca', 'a']\n"
     ]
    }
   ],
   "source": [
    "strings.sort(key=len)\n",
    "strings.reverse() # 역정렬\n",
    "print(strings)"
   ]
  },
  {
   "cell_type": "markdown",
   "id": "dbae3320",
   "metadata": {},
   "source": [
    "#### Q44. strings를 다양한 문자가 포함된 순서로 정렬하세요\n"
   ]
  },
  {
   "cell_type": "code",
   "execution_count": 62,
   "id": "ff3260e9",
   "metadata": {},
   "outputs": [
    {
     "data": {
      "text/plain": [
       "['card', 'bar', 'foo', 'abab', 'aaaa']"
      ]
     },
     "execution_count": 62,
     "metadata": {},
     "output_type": "execute_result"
    }
   ],
   "source": [
    "# Q.\n",
    "strings = ['foo', 'card', 'bar', 'aaaa', 'abab']\n",
    "strings.sort(key = lambda x:len(set(x)), reverse=True)\n",
    "strings\n"
   ]
  },
  {
   "cell_type": "markdown",
   "id": "b606a9e8",
   "metadata": {},
   "source": [
    "#### Q45. 'abcde' 를 'edcba'로 바꾸어 출력하세요.(5가지 방법)\n"
   ]
  },
  {
   "cell_type": "code",
   "execution_count": 96,
   "id": "8a042440",
   "metadata": {},
   "outputs": [
    {
     "name": "stdout",
     "output_type": "stream",
     "text": [
      "edcba\n",
      "edcba\n",
      "edcba\n",
      "edcba\n",
      "edcba\n"
     ]
    }
   ],
   "source": [
    "alpa = 'abcde'\n",
    "#1\n",
    "print(alpa[::-1])\n",
    "#2\n",
    "print(\"\".join(reversed(alpa)))\n",
    "#3\n",
    "st = ''\n",
    "for i in alpa:\n",
    "    st = i+st\n",
    "print(st)\n",
    "#4\n",
    "print(alpa[-1]+alpa[-2]+alpa[-3]+alpa[-4]+alpa[-5])\n",
    "#5\n",
    "li = []\n",
    "for i in alpa:\n",
    "    li.append(i)\n",
    "li.sort(reverse = True)\n",
    "print(''.join(li))\n",
    "\n"
   ]
  },
  {
   "cell_type": "markdown",
   "id": "633a1cb2",
   "metadata": {},
   "source": [
    "#### Q46. numbers 내부에 들어 있는 숫자가 몇 번 등장하는지를 출력하는 코드를 작성하세요.\n",
    "numbers = [3,6,3,5,8,2,9,7,4,3,6,3,5,8,2,9,7,4]"
   ]
  },
  {
   "cell_type": "code",
   "execution_count": 53,
   "id": "72fd5939",
   "metadata": {},
   "outputs": [
    {
     "name": "stdout",
     "output_type": "stream",
     "text": [
      "0은 0번 등장!!\n",
      "1은 0번 등장!!\n",
      "2은 2번 등장!!\n",
      "3은 4번 등장!!\n",
      "4은 2번 등장!!\n",
      "5은 2번 등장!!\n",
      "6은 2번 등장!!\n",
      "7은 2번 등장!!\n",
      "8은 2번 등장!!\n",
      "9은 2번 등장!!\n"
     ]
    }
   ],
   "source": [
    "numbers = [3,6,3,5,8,2,9,7,4,3,6,3,5,8,2,9,7,4]\n",
    "\n",
    "def count(x):\n",
    "    for i in range(10):\n",
    "        print(f'{i}은 {x.count(i)}번 등장!!')\n",
    "count(numbers)\n"
   ]
  },
  {
   "cell_type": "markdown",
   "id": "7ae2d5a2",
   "metadata": {},
   "source": [
    "#### Q47. 코딩을 한줄로 작성해서 동일한 결과를 출력하세요\n"
   ]
  },
  {
   "cell_type": "code",
   "execution_count": 10,
   "id": "b6fb9833",
   "metadata": {},
   "outputs": [
    {
     "name": "stdout",
     "output_type": "stream",
     "text": [
      "[0, 4, 16, 36, 64, 100, 144, 196, 256, 324]\n"
     ]
    }
   ],
   "source": [
    "# Q.\n",
    "list = []\n",
    "for i in range(0,20,2):\n",
    "    list.append(i*i)\n",
    "print(list)\n"
   ]
  },
  {
   "cell_type": "code",
   "execution_count": 9,
   "id": "2d3344a5",
   "metadata": {},
   "outputs": [
    {
     "data": {
      "text/plain": [
       "[0, 4, 16, 36, 64, 100, 144, 196, 256, 324]"
      ]
     },
     "execution_count": 9,
     "metadata": {},
     "output_type": "execute_result"
    }
   ],
   "source": [
    "list = [i*i for i in range(0,20,2)]\n",
    "list"
   ]
  },
  {
   "cell_type": "markdown",
   "id": "dbe20c2f",
   "metadata": {},
   "source": [
    "#### Q48. 반복문으로 팩토리얼을 구하는 사용자 함수를 작성하고 5!, 10!를 구하세요.\n"
   ]
  },
  {
   "cell_type": "code",
   "execution_count": 42,
   "id": "f25d2af4",
   "metadata": {},
   "outputs": [],
   "source": [
    "def facto(n):\n",
    "    fac = 1\n",
    "    for i in range(1, n+1):\n",
    "        fac = fac*i\n",
    "    print(fac)"
   ]
  },
  {
   "cell_type": "code",
   "execution_count": 43,
   "id": "8a8d89ce",
   "metadata": {},
   "outputs": [
    {
     "name": "stdout",
     "output_type": "stream",
     "text": [
      "120\n"
     ]
    }
   ],
   "source": [
    "facto(5)"
   ]
  },
  {
   "cell_type": "markdown",
   "id": "c5d059bc",
   "metadata": {},
   "source": [
    "#### Q49. 재귀란 '자기자신을 호출하는 것'을 의미한다. 재귀함수를 이용해서 팩토리얼을 구하는 사용자 함수를 작성하고 1!, 5!, 10!를 구하세요.\n",
    "factorial(n) = n * factorial(n-1) (n >= 1)\n"
   ]
  },
  {
   "cell_type": "code",
   "execution_count": 12,
   "id": "da9b8fa6",
   "metadata": {},
   "outputs": [],
   "source": [
    "def factorial(n):\n",
    "    if n == 1:\n",
    "        return 1\n",
    "    return n * factorial(n - 1) "
   ]
  },
  {
   "cell_type": "code",
   "execution_count": 13,
   "id": "d8e76d7c",
   "metadata": {},
   "outputs": [
    {
     "name": "stdout",
     "output_type": "stream",
     "text": [
      "1\n",
      "120\n",
      "3628800\n"
     ]
    }
   ],
   "source": [
    "print(factorial(1))\n",
    "print(factorial(5))\n",
    "print(factorial(10))"
   ]
  },
  {
   "cell_type": "markdown",
   "id": "96e533e4",
   "metadata": {},
   "source": [
    "#### Q50. list a의 모든 원소를 실수형으로 바꾸어 출력하세요\n"
   ]
  },
  {
   "cell_type": "code",
   "execution_count": 54,
   "id": "78e1b9c5",
   "metadata": {},
   "outputs": [
    {
     "data": {
      "text/plain": [
       "[1.0, 2.0, 3.0, 4.0, 5.0]"
      ]
     },
     "execution_count": 54,
     "metadata": {},
     "output_type": "execute_result"
    }
   ],
   "source": [
    "a = [1,2,3,4,5]\n",
    "[float(x) for x in a]"
   ]
  },
  {
   "cell_type": "markdown",
   "id": "2aeae540",
   "metadata": {},
   "source": [
    "#### [도전과제] Q31. 문자열 리스트 states를 정형화하여 아래와 같이 출력하세요.\n"
   ]
  },
  {
   "cell_type": "code",
   "execution_count": 17,
   "id": "9808e3d4",
   "metadata": {},
   "outputs": [
    {
     "data": {
      "text/plain": [
       "'   Alabama '"
      ]
     },
     "execution_count": 17,
     "metadata": {},
     "output_type": "execute_result"
    }
   ],
   "source": [
    "# Q. \n",
    "states = ['   Alabama ', 'Georgia!', 'Georgia', 'georgia', 'FlOrIda',\n",
    "          'south   carolina##', 'West virginia?']\n",
    "# '''\n",
    "# [출력]\n",
    "# ['Alabama',\n",
    "#  'Georgia',\n",
    "#  'Georgia',\n",
    "#  'Georgia',\n",
    "#  'Florida',\n",
    "#  'South   Carolina',\n",
    "#  'West Virginia']\n",
    "# '''\n",
    "states[0]\n"
   ]
  },
  {
   "cell_type": "code",
   "execution_count": 37,
   "id": "fd7ce19a",
   "metadata": {},
   "outputs": [
    {
     "data": {
      "text/plain": [
       "['Alabama',\n",
       " 'Georgia',\n",
       " 'Georgia',\n",
       " 'Georgia',\n",
       " 'Florida',\n",
       " 'South   Carolina',\n",
       " 'West Virginia']"
      ]
     },
     "execution_count": 37,
     "metadata": {},
     "output_type": "execute_result"
    }
   ],
   "source": [
    "import re\n",
    "li = []\n",
    "for i in states:\n",
    "    i = re.sub('[^\\w+]',\" \", i)\n",
    "    i = i.strip()\n",
    "    i = i.lower()\n",
    "    i = i.title()\n",
    "    li.append(i)\n",
    "li"
   ]
  },
  {
   "cell_type": "markdown",
   "id": "75d91c71",
   "metadata": {},
   "source": [
    "#### Q51. 게시물의 총 건수와 한 페이지에 보여 줄 게시물 수를 입력시 총 페이지 수를 출력하는 프로그램\n"
   ]
  },
  {
   "cell_type": "code",
   "execution_count": 1,
   "id": "9d45004b",
   "metadata": {},
   "outputs": [
    {
     "name": "stdout",
     "output_type": "stream",
     "text": [
      "게시물의 총 건수 :120\n",
      "한 페이지에 보여줄 게시물 수 : 14\n",
      "총 페이지 수 :9\n"
     ]
    }
   ],
   "source": [
    "x = int(input('게시물의 총 건수 :'))\n",
    "y = int(input('한 페이지에 보여줄 게시물 수 : '))\n",
    "if x%y == 0:\n",
    "    print(f'총 페이지 수 :{x//y}')\n",
    "else:\n",
    "    print(f'총 페이지 수 :{x//y+1}')\n"
   ]
  },
  {
   "cell_type": "markdown",
   "id": "df50d088",
   "metadata": {},
   "source": [
    "#### Q52. 랜덤하게 1000명의 이름, 키와 몸무게 만들어 저장한 후 다시 불러내어 다음과 같이 출력하세요.\n",
    "\n",
    "- 이름 :라바\n",
    "- 몸무게: 80\n",
    "- 키: 146\n",
    "- BMI: 37.53049352598987\n",
    "- 결과: 과체중\n"
   ]
  },
  {
   "cell_type": "code",
   "execution_count": 59,
   "id": "333aa35e",
   "metadata": {},
   "outputs": [
    {
     "name": "stdout",
     "output_type": "stream",
     "text": [
      "\n",
      "- 이름 : 이름코드812\n",
      "- 몸무게 : 79\n",
      "- 키 : 177\n",
      "- BMI : 25.2162533116282\n",
      "- 결과 : 경도비만\n",
      "\n"
     ]
    }
   ],
   "source": [
    "import random\n",
    "import numpy as np\n",
    "name = np.random.randint(1,1001,1000)\n",
    "name_1 = random.choice(name)\n",
    "weight = np.random.randint(30,100,1000)\n",
    "weight_1 = random.choice(weight)\n",
    "height = np.random.randint(140, 200, 1000)\n",
    "height_1 = random.choice(height)\n",
    "BMI = weight_1/((height_1/100)**2)\n",
    "if BMI <= 18.5:\n",
    "    result = '저체중'\n",
    "elif BMI < 23:\n",
    "    result = '정상'\n",
    "elif BMI < 25: \n",
    "    result = '과체중'\n",
    "elif BMI < 30:\n",
    "    result = '경도비만'\n",
    "else:\n",
    "     result = '중등도비만'\n",
    "\n",
    "\n",
    "print(\n",
    "f'''\n",
    "- 이름 : 이름코드{name_1}\n",
    "- 몸무게 : {weight_1}\n",
    "- 키 : {height_1}\n",
    "- BMI : {BMI}\n",
    "- 결과 : {result}\n",
    "''')"
   ]
  },
  {
   "cell_type": "markdown",
   "id": "79262e25",
   "metadata": {},
   "source": [
    "#### Q53. 입력한 숫자를 천 단위로 구분하여 출력하세요."
   ]
  },
  {
   "cell_type": "code",
   "execution_count": 3,
   "id": "22a5332b",
   "metadata": {},
   "outputs": [
    {
     "data": {
      "text/plain": [
       "'4,852,963,178'"
      ]
     },
     "execution_count": 3,
     "metadata": {},
     "output_type": "execute_result"
    }
   ],
   "source": [
    "def thun(n):\n",
    "    li = []\n",
    "    for i in range(len(str(n)),0,-3):\n",
    "        if i<3:\n",
    "            li.insert(0,str(n)[0:i%3])\n",
    "        else:\n",
    "            li.insert(0, str(n)[i-3:i])\n",
    "        result =','.join(li)\n",
    "    return result\n",
    "            \n",
    "thun(4852963178)"
   ]
  },
  {
   "cell_type": "markdown",
   "id": "51f0447e",
   "metadata": {},
   "source": [
    "#### Q54. 카운터에서 거스름돈으로 사용할 500원, 100원, 50원, 10원짜리 동전이 무한히 존재한다고 가정한다. 손님에게 거슬러 줘야할 돈이 N원일 때, 거슬러 줘야 할 동전의 최소 개수를 구하세요.단, 거슬러 줘야 할 돈 N은 항상 10의 배수이다. N은 2750원이다."
   ]
  },
  {
   "cell_type": "code",
   "execution_count": 38,
   "id": "6d594870",
   "metadata": {},
   "outputs": [
    {
     "name": "stdout",
     "output_type": "stream",
     "text": [
      "500원은 5개, 100원은 2개, 50원은 1개, 10원은 0개, 최소 갯수: 8개\n"
     ]
    }
   ],
   "source": [
    "li = [500,100,50,10]\n",
    "div = divmod(2750,li[0])\n",
    "div2 = divmod(div[1], li[1])\n",
    "div3 = divmod(div2[1], li[2])\n",
    "div4 = divmod(div3[1], li[3])\n",
    "\n",
    "print(f'500원은 {div[0]}개, 100원은 {div2[0]}개, 50원은 {div3[0]}개, 10원은 {div4[0]}개, 최소 갯수: {div[0]+div2[0]+div3[0]+div4[0]}개')\n",
    "        \n",
    "\n"
   ]
  },
  {
   "cell_type": "code",
   "execution_count": 6,
   "id": "65f672cf",
   "metadata": {},
   "outputs": [
    {
     "name": "stdout",
     "output_type": "stream",
     "text": [
      "10\n"
     ]
    }
   ],
   "source": [
    "n = 3750\n",
    "count = 0\n",
    "\n",
    "# 큰 단위의 화폐부터 차례대로 확인하기\n",
    "coin_types = [500, 100, 50, 10]\n",
    "\n",
    "for coin in coin_types:\n",
    "    count += n // coin # 해당 화폐로 거슬러 줄 수 있는 동전의 개수 세기\n",
    "    n %= coin\n",
    "\n",
    "print(count)"
   ]
  },
  {
   "cell_type": "markdown",
   "id": "0b3d35bf",
   "metadata": {},
   "source": [
    "#### Q55. mydata.txt 파일에 있는 단어 개수를 출력하세요.\n"
   ]
  },
  {
   "cell_type": "code",
   "execution_count": 2,
   "id": "dee7178e",
   "metadata": {},
   "outputs": [
    {
     "name": "stdout",
     "output_type": "stream",
     "text": [
      "['a', 'lot', 'of', 'things', 'occur', 'each', 'day']\n",
      "['we', 've', 'got', 'to', 'live', 'with', 'on', 'our', 'way']\n",
      "['there', 's', 'so', 'much', 'misery', 'on', 'the', 'screen']\n",
      "['with', 'commercials', 'in', 'between']\n",
      "[]\n",
      "['and', 'the', 'russians', 'won', 't', 'be', 'so', 'late']\n",
      "['uncle', 'sam', 'don', 't', 'want', 'to', 'wait']\n",
      "['no', 'matter', 'if', 'you', 're', 'black', 'or', 'white']\n",
      "['you', 'never', 'ever', 'had', 'a', 'right']\n",
      "[]\n",
      "['and', 'look', 'up', 'to', 'the', 'eternal', 'skies']\n",
      "['see', 'warfare', 'even', 'there']\n",
      "['what', 'once', 'has', 'been', 'a', 'paradise']\n",
      "['now', 'destruction', 'and', 'despair']\n",
      "[]\n",
      "['in', 'other', 'worlds', 'the', 'children', 'die']\n",
      "['lacking', 'food', 'ill', 'from', 'a', 'fly']\n",
      "['oppressed', 'by', 'troops', 'to', 'tame', 'their', 'land']\n",
      "['it', 's', 'all', 'the', 'same', 'again']\n",
      "[]\n",
      "['if', 'any', 'man', 'is', 'free', 'on', 'earth']\n",
      "['then', 'tormentors', 'steal', 'his', 'birth']\n",
      "['they', 'slam', 'gun', 'butts', 'in', 'his', 'face']\n",
      "['and', 'leave', 'his', 'woman', 'choked', 'in', 'mace']\n",
      "[]\n",
      "['so', 'stand', 'up', 'for', 'our', 'human', 'rights']\n",
      "['push', 'back', 'this', 'pest', 'of', 'hate']\n",
      "['raise', 'you', 'voice', 'pass', 'on', 'the', 'light']\n",
      "['unite', 'it', 's', 'not', 'too', 'late']\n",
      "[]\n",
      "['how', 'many', 'tears', 'flow', 'away']\n",
      "['to', 'become', 'a', 'sea', 'of', 'fears']\n",
      "['how', 'many', 'hearts', 'are', 'torn', 'apart']\n",
      "['till', 'another', 'torment', 'starts']\n",
      "[]\n",
      "['but', 'before', 'the', 'world']\n",
      "['turns', 'into', 'a', 'sun']\n",
      "['all', 'cruelty', 'and', 'violence']\n",
      "['on', 'earth', 'will', 'be', 'dead', 'and', 'gone']\n",
      "[]\n",
      "['so', 'stand', 'up', 'for', 'our', 'human', 'rights']\n",
      "['push', 'back', 'this', 'pest', 'of', 'hate']\n",
      "['raise', 'you', 'voice', 'pass', 'on', 'the', 'light']\n",
      "['unite', 'it', 's', 'not', 'too', 'late']\n",
      "221\n"
     ]
    }
   ],
   "source": [
    "import re\n",
    "with open('mydata.txt', 'r') as f:\n",
    "    lines= f.readlines()\n",
    "    a = 0\n",
    "    for line in lines:\n",
    "        line = re.sub('[^\\w+]', ' ', line)\n",
    "        line = line.split()\n",
    "        print(line)\n",
    "        a = a + len(line)\n",
    "print(a)"
   ]
  },
  {
   "cell_type": "code",
   "execution_count": 7,
   "id": "9610d446",
   "metadata": {},
   "outputs": [
    {
     "name": "stdout",
     "output_type": "stream",
     "text": [
      "단어수 = 221개\n",
      "['a', 'lot', 'of', 'things', 'occur', 'each', 'day', 'we', 've', 'got', 'to', 'live', 'with', 'on', 'our', 'way', 'there', 's', 'so', 'much', 'misery', 'on', 'the', 'screen', 'with', 'commercials', 'in', 'between', 'and', 'the', 'russians', 'won', 't', 'be', 'so', 'late', 'uncle', 'sam', 'don', 't', 'want', 'to', 'wait', 'no', 'matter', 'if', 'you', 're', 'black', 'or', 'white', 'you', 'never', 'ever', 'had', 'a', 'right', 'and', 'look', 'up', 'to', 'the', 'eternal', 'skies', 'see', 'warfare', 'even', 'there', 'what', 'once', 'has', 'been', 'a', 'paradise', 'now', 'destruction', 'and', 'despair', 'in', 'other', 'worlds', 'the', 'children', 'die', 'lacking', 'food', 'ill', 'from', 'a', 'fly', 'oppressed', 'by', 'troops', 'to', 'tame', 'their', 'land', 'it', 's', 'all', 'the', 'same', 'again', 'if', 'any', 'man', 'is', 'free', 'on', 'earth', 'then', 'tormentors', 'steal', 'his', 'birth', 'they', 'slam', 'gun', 'butts', 'in', 'his', 'face', 'and', 'leave', 'his', 'woman', 'choked', 'in', 'mace', 'so', 'stand', 'up', 'for', 'our', 'human', 'rights', 'push', 'back', 'this', 'pest', 'of', 'hate', 'raise', 'you', 'voice', 'pass', 'on', 'the', 'light', 'unite', 'it', 's', 'not', 'too', 'late', 'how', 'many', 'tears', 'flow', 'away', 'to', 'become', 'a', 'sea', 'of', 'fears', 'how', 'many', 'hearts', 'are', 'torn', 'apart', 'till', 'another', 'torment', 'starts', 'but', 'before', 'the', 'world', 'turns', 'into', 'a', 'sun', 'all', 'cruelty', 'and', 'violence', 'on', 'earth', 'will', 'be', 'dead', 'and', 'gone', 'so', 'stand', 'up', 'for', 'our', 'human', 'rights', 'push', 'back', 'this', 'pest', 'of', 'hate', 'raise', 'you', 'voice', 'pass', 'on', 'the', 'light', 'unite', 'it', 's', 'not', 'too', 'late']\n"
     ]
    }
   ],
   "source": [
    "with open('mydata.txt', 'r') as f:\n",
    "    line = f.read()\n",
    "    line = re.sub('[^\\w+]', ' ', line)\n",
    "    temp = line.split()\n",
    "print(f'단어수 = {len(temp)}개')\n",
    "print(temp)"
   ]
  },
  {
   "cell_type": "markdown",
   "id": "5e28d98a",
   "metadata": {},
   "source": [
    "#### Q56. 파일이름과 특정 단어을 인자로 입력하면 그 파일에 있는 특정 단어의 개수를 반환하는 사용자 함수를 이용하여 mydata 파일에서 how의 개수를 출력하세요.\n"
   ]
  },
  {
   "cell_type": "code",
   "execution_count": 8,
   "id": "6c8a2d9c",
   "metadata": {},
   "outputs": [
    {
     "name": "stdout",
     "output_type": "stream",
     "text": [
      "how.count = 2\n"
     ]
    }
   ],
   "source": [
    "def wordcount(x, y):\n",
    "    try:\n",
    "        with open(x, 'r') as f:\n",
    "            lines= f.readlines()\n",
    "            a = 0\n",
    "            for line in lines:\n",
    "                line = re.sub('[^\\w+]', ' ', line)\n",
    "                line = line.count(y)\n",
    "                a = a + line\n",
    "        print(f'{y}.count = {a}')\n",
    "    except:\n",
    "        print('숫자를 치셨습니다.')\n",
    "        \n",
    "wordcount('mydata.txt', 'how')"
   ]
  },
  {
   "cell_type": "code",
   "execution_count": 11,
   "id": "712903c6",
   "metadata": {},
   "outputs": [
    {
     "name": "stdout",
     "output_type": "stream",
     "text": [
      "filename을 입력하세요: mydata.txt\n",
      "filename에서 개수를 구할 단어를 입력하세요: How\n",
      "how의 개수: 2\n"
     ]
    }
   ],
   "source": [
    "def countWord(filename, word):\n",
    "    with open(filename, 'r') as f:\n",
    "        text = f.read()\n",
    "        text = text.lower()\n",
    "        pos = text.find(word)\n",
    "        count = 0\n",
    "        while pos != -1:\n",
    "            count += 1\n",
    "            pos = text.find(word, pos+1)\n",
    "    return count\n",
    "\n",
    "filename = input('filename을 입력하세요: ')\n",
    "word = input('filename에서 개수를 구할 단어를 입력하세요: ').lower()\n",
    "ret = countWord(filename, word)\n",
    "print(f'{word}의 개수: {ret}')\n"
   ]
  },
  {
   "cell_type": "markdown",
   "id": "567479c4",
   "metadata": {},
   "source": [
    "#### Q57.\n",
    "문자열을 입력받아 같은 문자가 연속적으로 반복되는 경우에 그 반복 횟수를 표시해 문자열을 압축하여 표시하세요.\n",
    "- 예) \"aaabbcccccca\" -> a3b2c6a1\n"
   ]
  },
  {
   "cell_type": "code",
   "execution_count": 43,
   "id": "d5d148ed",
   "metadata": {},
   "outputs": [
    {
     "name": "stdout",
     "output_type": "stream",
     "text": [
      "문자를 써주세요.ssssdddddgggg\n"
     ]
    },
    {
     "data": {
      "text/plain": [
       "'s0s0s0s0d4d4d4d4d4g9g9g9g9'"
      ]
     },
     "execution_count": 43,
     "metadata": {},
     "output_type": "execute_result"
    }
   ],
   "source": []
  },
  {
   "cell_type": "code",
   "execution_count": 63,
   "id": "a63e7d69",
   "metadata": {},
   "outputs": [
    {
     "name": "stdout",
     "output_type": "stream",
     "text": [
      "문자를 입력해주세요.aaaaavvvvvddddd\n"
     ]
    },
    {
     "data": {
      "text/plain": [
       "'a5v5d5'"
      ]
     },
     "execution_count": 63,
     "metadata": {},
     "output_type": "execute_result"
    }
   ],
   "source": [
    "text = input('문자를 입력해주세요.')\n",
    "count_words = [text[0]]\n",
    "num=1\n",
    "for i in range(1,len(text)):\n",
    "    if text[i] != text[i-1]:\n",
    "        count_words.append(num)\n",
    "        count_words.extend([text[i]])\n",
    "        num = 1\n",
    "    elif text[i] == text[i-1]:\n",
    "        num += 1\n",
    "count_words.append(num)\n",
    "li = [str(i) for i in count_words]\n",
    "''.join(li)"
   ]
  },
  {
   "cell_type": "markdown",
   "id": "f128a2fd",
   "metadata": {},
   "source": [
    "#### Q60.\n",
    "N개의 요소로 이루어진 배열이 있을 때 주어진 수들을 M번 더하여 가장 큰 수를 만드는 프로그램을 작성하세요. 단 배열의 특정한 인덱스(번호)에 해당하는 수가 연속해서 K번을 초과하여 더해질 수 없는 것이 특징이다.\n",
    "프로그램은 다음 조건을 만족하는 N, M, K를 공백으로 일차 입력하고 N개의 배열을 공백으로 이차 입력하면 결과물을 출력하는 방식으로 수행함.\n",
    "- 2 <= N <= 1000\n",
    "- 1 <= M <= 10000\n",
    "- 1 <= K <= 10000\n"
   ]
  },
  {
   "cell_type": "code",
   "execution_count": 85,
   "id": "c2e90dd6",
   "metadata": {},
   "outputs": [
    {
     "name": "stdout",
     "output_type": "stream",
     "text": [
      "N M K 를 입력해주세요.5 3 2\n",
      "[629, 320, 256, 210, 23]\n",
      "3\n",
      "2\n",
      "1578\n"
     ]
    }
   ],
   "source": [
    "'''\n",
    "(n) + (n-1) + (n-2)...\n",
    "m\n",
    "k번 더해주고 나면 m번에서 k를 빼주고\n",
    "n*k + (n-1)*(m-k) + (n-2)*(m-2k)...\n",
    "\n",
    "'''\n",
    "import numpy as np\n",
    "\n",
    "\n",
    "x = input('N M K 를 입력해주세요.')\n",
    "li = [int(i) for i in x.split(' ')]\n",
    "n = li[0]\n",
    "n_list = sorted(set(np.random.randint(2,1001,n)), reverse = True)\n",
    "print(n_list)\n",
    "m = li[1]\n",
    "print(m)\n",
    "k = li[2]\n",
    "print(k)\n",
    "max_ = 0\n",
    "if m < k:\n",
    "    max_ = n_list[0]*m\n",
    "else:\n",
    "    for i in n_list:\n",
    "        if m >= k:\n",
    "            max_ += i*k\n",
    "            m -= k\n",
    "        elif m > 0:\n",
    "            max_ += i*(m)\n",
    "            m-=k\n",
    "        else:\n",
    "            pass\n",
    "            \n",
    "print(max_)\n",
    "\n",
    "\n",
    "\n",
    "\n",
    "\n",
    "# def \n",
    "# N_list = np.random.choice(N,1, 1000)\n",
    "# N_list\n"
   ]
  },
  {
   "cell_type": "code",
   "execution_count": 84,
   "id": "fab93464",
   "metadata": {},
   "outputs": [
    {
     "data": {
      "text/plain": [
       "2225"
      ]
     },
     "execution_count": 84,
     "metadata": {},
     "output_type": "execute_result"
    }
   ],
   "source": [
    "782*2 + 661"
   ]
  },
  {
   "cell_type": "code",
   "execution_count": 1,
   "id": "afdc1405",
   "metadata": {},
   "outputs": [
    {
     "name": "stdout",
     "output_type": "stream",
     "text": [
      "5 3 2\n",
      "2 1 5 4 8\n",
      "21\n"
     ]
    }
   ],
   "source": [
    "# 강사님 답안\n",
    "\n",
    "# N, M, K를 공백을 기준으로 구분하여 입력 받기\n",
    "n, m, k = map(int, input().split())\n",
    "# N개의 수를 공백을 기준으로 구분하여 입력 받기\n",
    "data = list(map(int, input().split()))\n",
    "\n",
    "data.sort() # 입력 받은 수들 정렬하기\n",
    "first = data[n - 1] # 가장 큰 수\n",
    "second = data[n - 2] # 두 번째로 큰 수\n",
    "\n",
    "# 가장 큰 수가 더해지는 횟수 계산\n",
    "count = int(m / (k + 1)) * k\n",
    "count += m % (k + 1)\n",
    "\n",
    "result = 0\n",
    "result += (count) * first # 가장 큰 수 더하기\n",
    "result += (m - count) * second # 두 번째로 큰 수 더하기\n",
    "\n",
    "print(result) # 최종 답안 출력\n"
   ]
  },
  {
   "cell_type": "markdown",
   "id": "e3abf485",
   "metadata": {},
   "source": [
    "#### Q61. file1, 2의 파일 크기를 각각 구하세요.\n",
    "\n",
    "- file1 = 'data/stockcode.txt'\n",
    "- file2 = 'data/img_sample.jpg'"
   ]
  },
  {
   "cell_type": "code",
   "execution_count": 1,
   "id": "ed2dfda6",
   "metadata": {},
   "outputs": [
    {
     "name": "stdout",
     "output_type": "stream",
     "text": [
      "16339\n",
      "170005\n"
     ]
    }
   ],
   "source": [
    "import os\n",
    "\n",
    "n = os.path.getsize('data/stockcode.txt')\n",
    "m = os.path.getsize('data/img_sample.jpg')\n",
    "print(n)\n",
    "print(m)"
   ]
  },
  {
   "cell_type": "markdown",
   "id": "84eef1c4",
   "metadata": {},
   "source": [
    "#### Q62.\n",
    "stockcode.txt의 105바이트 위치에서 500바이트를 읽어 그 내용은 stock_part.txt에 저장 한 후 출력하세요.\n"
   ]
  },
  {
   "cell_type": "code",
   "execution_count": 10,
   "id": "9babae98",
   "metadata": {},
   "outputs": [
    {
     "name": "stdout",
     "output_type": "stream",
     "text": [
      "105\n"
     ]
    }
   ],
   "source": [
    "with open('data/stockcode.txt', 'rb') as f:\n",
    "    byte = f.seek(105)\n",
    "    print(byte)\n",
    "    line = f.read(500)\n",
    "with open('data/stock_part.txt', 'wb')as f:\n",
    "    f.write(line)\n",
    "    "
   ]
  },
  {
   "cell_type": "code",
   "execution_count": 11,
   "id": "5998f98f-e22e-402e-83af-faecd9a7462f",
   "metadata": {},
   "outputs": [
    {
     "name": "stdout",
     "output_type": "stream",
     "text": [
      " 유한양행\n",
      "000101 유한양행우\n",
      "000120 대한통운\n",
      "000140 하이트홀딩스\n",
      "000141 하이트홀딩스우\n",
      "000150 두산\n",
      "000151 두산우\n",
      "000152 두산2우B\n",
      "000180 성창기업지주\n",
      "000210 대림산업\n",
      "000211 대림산업우\n",
      "000220 유유제약\n",
      "000221 유유제약1우\n",
      "000222 유유제약2우B\n",
      "000230 일동제약\n",
      "000240 한국타이어\n",
      "000270 기아차\n",
      "000300 대유신소재\n",
      "000320 디피아이홀딩스\n",
      "000321 디피아이홀딩스우\n",
      "000322 디피아이홀딩스2B\n",
      "000360 삼환기업\n",
      "000361 삼환기업우\n",
      "000370 한화손해보험\n",
      "000390 삼화페인트\n",
      "000400 롯데손해보험\n",
      "000420 로\n"
     ]
    }
   ],
   "source": [
    "with open('data/stock_part.txt', 'r') as f:\n",
    "    stock = f.read()\n",
    "    print(stock)\n"
   ]
  },
  {
   "cell_type": "markdown",
   "id": "a8b760f7",
   "metadata": {},
   "source": [
    "#### Q63.\n",
    "네이버 검색에서 관심 주제와 기사 수를 입력하면 그만큼 출력하는 크롤링 프로그램을 작성하여 다음 사항을 수행하세요.\n",
    "\n",
    "기사 제목과 링크를 데이터프레임으로 가져온 후 본문 내용에서 한글 단어만 출력하여 형태소 분석\n",
    "최근 국내 'AI'와 관련하여 가장 많이 언급되는 단어에 대한 빈도분석 및 시각화\n",
    "AI 분야에서의 유의할 만한 트랜드 정보 및 인사이트 도출\n",
    "(팀과제임)"
   ]
  },
  {
   "cell_type": "markdown",
   "id": "d349c306",
   "metadata": {},
   "source": [
    "#### Q64.\n",
    "어떠한 수 N이 1이 될 때까지 다음의 두 과정 중 하나를 반복적으로 선택하여 수행하려고 한다. 단 두번째 연산은 N이 K로 나누어 떨어질 때만 선택할 수 있다.  N과 K를 입력했을 때 N이 1이 될 때까지 1번 혹은 2번의 과정을 수행해야 하는 최소 횟수를 구하는 프로그램을 완성하세요.(n, k 양수임)\n",
    "\n",
    "1. N에서 1을 뺀다.\n",
    "2. N을 K로 나눈다.\n"
   ]
  },
  {
   "cell_type": "code",
   "execution_count": 1,
   "id": "9d505bfe",
   "metadata": {},
   "outputs": [
    {
     "name": "stdout",
     "output_type": "stream",
     "text": [
      "숫자입력 : 10\n",
      "숫자입력2 : 3\n",
      "3\n"
     ]
    }
   ],
   "source": [
    "n = int(input('숫자입력 : '))\n",
    "k = int(input('숫자입력2 : '))\n",
    "num = 0\n",
    "while n != 1:\n",
    "    if n%k != 0:\n",
    "        n -= 1\n",
    "        num +=1\n",
    "    elif n%k == 0:\n",
    "        n = n/k\n",
    "        num += 1\n",
    "print(num)"
   ]
  },
  {
   "cell_type": "markdown",
   "id": "c13d725a",
   "metadata": {},
   "source": [
    "#### Q65. 아래와 같이 출력하는 코드를 작성하세요.\n",
    "```\n",
    "*\n",
    "**\n",
    "***\n",
    "****\n",
    "*****\n",
    "```"
   ]
  },
  {
   "cell_type": "code",
   "execution_count": 5,
   "id": "aed99215",
   "metadata": {},
   "outputs": [
    {
     "name": "stdout",
     "output_type": "stream",
     "text": [
      "*\n",
      "**\n",
      "***\n",
      "****\n",
      "*****\n"
     ]
    }
   ],
   "source": [
    "for i in range(1, 6):\n",
    "    print('*'*i)\n",
    "    "
   ]
  },
  {
   "cell_type": "markdown",
   "id": "7f6f6153",
   "metadata": {},
   "source": [
    "#### Q66. 아래와 같이 출력하는 코드를 작성하세요.\n",
    "```\n",
    "     *\n",
    "    ***\n",
    "   *****\n",
    "  *******\n",
    " *********\n",
    "  *******\n",
    "   *****\n",
    "    ***\n",
    "     *\n",
    "```"
   ]
  },
  {
   "cell_type": "code",
   "execution_count": 63,
   "id": "f7affdc2",
   "metadata": {},
   "outputs": [
    {
     "name": "stdout",
     "output_type": "stream",
     "text": [
      "    *\n",
      "   ***\n",
      "  *****\n",
      " *******\n",
      "*********\n",
      " *******\n",
      "  *****\n",
      "   ***\n",
      "    *\n"
     ]
    }
   ],
   "source": [
    "\n",
    "for i in range(4): # 정방향\n",
    "    print(' ' * (4 - i) + '*' * (i * 2 + 1))\n",
    "for i in range(5): # 역방향\n",
    "    print(' ' * i + '*' * (9 - (2 * i)))\n"
   ]
  },
  {
   "cell_type": "code",
   "execution_count": null,
   "id": "60299ade",
   "metadata": {},
   "outputs": [],
   "source": []
  },
  {
   "cell_type": "code",
   "execution_count": null,
   "id": "ad0d5ff0",
   "metadata": {},
   "outputs": [],
   "source": []
  },
  {
   "cell_type": "markdown",
   "id": "6fb3fddc",
   "metadata": {},
   "source": [
    "#### Q67. Tree의 높이를 입력하면 해당하는 높이의 아래와 같은 Tree를 출력하는 프로그램을 작성하세요."
   ]
  },
  {
   "cell_type": "markdown",
   "id": "f91ba514",
   "metadata": {},
   "source": [
    " ```\n",
    "         *\n",
    "        ***\n",
    "       *****\n",
    "      *******\n",
    "     *********\n",
    "    ***********\n",
    "   *************\n",
    "  ***************\n",
    " *****************\n",
    "*******************\n",
    "        ***\n",
    "        ***\n",
    "        ***\n",
    "```"
   ]
  },
  {
   "cell_type": "code",
   "execution_count": 54,
   "id": "aebc475c",
   "metadata": {},
   "outputs": [],
   "source": [
    "def tree(x):\n",
    "    for i in range(x): # 정방향\n",
    "        print(' ' * ((x+1) - i) + '*' * (i * 2 + 1))\n",
    "    for i in range(3):\n",
    "        print(' '*x + '*'*3)"
   ]
  },
  {
   "cell_type": "code",
   "execution_count": 56,
   "id": "7596f434",
   "metadata": {},
   "outputs": [
    {
     "name": "stdout",
     "output_type": "stream",
     "text": [
      "                *\n",
      "               ***\n",
      "              *****\n",
      "             *******\n",
      "            *********\n",
      "           ***********\n",
      "          *************\n",
      "         ***************\n",
      "        *****************\n",
      "       *******************\n",
      "      *********************\n",
      "     ***********************\n",
      "    *************************\n",
      "   ***************************\n",
      "  *****************************\n",
      "               ***\n",
      "               ***\n",
      "               ***\n"
     ]
    }
   ],
   "source": [
    "tree(15)"
   ]
  },
  {
   "cell_type": "markdown",
   "id": "b1905c58",
   "metadata": {},
   "source": [
    "#### Q68 구구단 만들기"
   ]
  },
  {
   "cell_type": "code",
   "execution_count": 3,
   "id": "192afce1",
   "metadata": {},
   "outputs": [
    {
     "name": "stdout",
     "output_type": "stream",
     "text": [
      "-----2단-----\n",
      "2 X 1 = 2\n",
      "2 X 2 = 4\n",
      "2 X 3 = 6\n",
      "2 X 4 = 8\n",
      "2 X 5 = 10\n",
      "2 X 6 = 12\n",
      "2 X 7 = 14\n",
      "2 X 8 = 16\n",
      "2 X 9 = 18\n",
      "-----3단-----\n",
      "3 X 1 = 3\n",
      "3 X 2 = 6\n",
      "3 X 3 = 9\n",
      "3 X 4 = 12\n",
      "3 X 5 = 15\n",
      "3 X 6 = 18\n",
      "3 X 7 = 21\n",
      "3 X 8 = 24\n",
      "3 X 9 = 27\n",
      "-----4단-----\n",
      "4 X 1 = 4\n",
      "4 X 2 = 8\n",
      "4 X 3 = 12\n",
      "4 X 4 = 16\n",
      "4 X 5 = 20\n",
      "4 X 6 = 24\n",
      "4 X 7 = 28\n",
      "4 X 8 = 32\n",
      "4 X 9 = 36\n",
      "-----5단-----\n",
      "5 X 1 = 5\n",
      "5 X 2 = 10\n",
      "5 X 3 = 15\n",
      "5 X 4 = 20\n",
      "5 X 5 = 25\n",
      "5 X 6 = 30\n",
      "5 X 7 = 35\n",
      "5 X 8 = 40\n",
      "5 X 9 = 45\n",
      "-----6단-----\n",
      "6 X 1 = 6\n",
      "6 X 2 = 12\n",
      "6 X 3 = 18\n",
      "6 X 4 = 24\n",
      "6 X 5 = 30\n",
      "6 X 6 = 36\n",
      "6 X 7 = 42\n",
      "6 X 8 = 48\n",
      "6 X 9 = 54\n",
      "-----7단-----\n",
      "7 X 1 = 7\n",
      "7 X 2 = 14\n",
      "7 X 3 = 21\n",
      "7 X 4 = 28\n",
      "7 X 5 = 35\n",
      "7 X 6 = 42\n",
      "7 X 7 = 49\n",
      "7 X 8 = 56\n",
      "7 X 9 = 63\n",
      "-----8단-----\n",
      "8 X 1 = 8\n",
      "8 X 2 = 16\n",
      "8 X 3 = 24\n",
      "8 X 4 = 32\n",
      "8 X 5 = 40\n",
      "8 X 6 = 48\n",
      "8 X 7 = 56\n",
      "8 X 8 = 64\n",
      "8 X 9 = 72\n",
      "-----9단-----\n",
      "9 X 1 = 9\n",
      "9 X 2 = 18\n",
      "9 X 3 = 27\n",
      "9 X 4 = 36\n",
      "9 X 5 = 45\n",
      "9 X 6 = 54\n",
      "9 X 7 = 63\n",
      "9 X 8 = 72\n",
      "9 X 9 = 81\n"
     ]
    }
   ],
   "source": [
    "for i in range(2,10):\n",
    "    print(f'-----{i}단-----')\n",
    "    for j in range(1,10):\n",
    "        print(f'{i} X {j} = {i*j}')"
   ]
  },
  {
   "cell_type": "markdown",
   "id": "c312ac2d",
   "metadata": {},
   "source": [
    "#### Q69.\n",
    "아래와 같이 입력하면 N X M 행렬 형태의 숫자 카드 중에서 먼저 뽑고자 하는 카드가 포함되어 있는 행을 선택한 후 그 행에서 가장 숫자가 낮은 카드를 뽑아야 하는 규칙하에서 가장 높은 숫자가 쓰인 카드 한장의 숫자를 출력한는 프로그램을 작성하세요. \n",
    "- 첫번째 입력 : N X M 형열에 대하여 N(행), M(열)의 개수를 공백을 기준으로 입력(1<= N, M<=100)\n",
    "- 두번째 입력 : 각 행의 숫자를 공백을 기준으로 입력. 단, 각 숫자는 1 이상 10000 이하의 자연수임.\n"
   ]
  },
  {
   "cell_type": "code",
   "execution_count": 28,
   "id": "9cfed73f",
   "metadata": {},
   "outputs": [
    {
     "name": "stdout",
     "output_type": "stream",
     "text": [
      "행과 열을 입력해주세요.3 3\n",
      "숫자를 입력해주세요.5 4 65 5 9 18 85 24 15\n",
      "15\n"
     ]
    }
   ],
   "source": [
    "import numpy as np\n",
    "arr = input('행과 열을 입력해주세요.')\n",
    "ar = input('숫자를 입력해주세요.')\n",
    "ar2 = list(ar.split(' '))\n",
    "ar2\n",
    "# num_list = (5 4 65 5 9 18 85 24 15)\n",
    "arr1 = np.array([int(x) for x in ar2]).reshape(int(arr.split(' ')[0]),int(arr.split(' ')[1]))\n",
    "\n",
    "\n",
    "li =[]\n",
    "for i in range(0,len(arr1)):\n",
    "    arr = sorted(arr1[i])[0]\n",
    "    li.append(arr)\n",
    "    \n",
    "\n",
    "li2 = sorted(li, reverse = True)\n",
    "print(li2[0])"
   ]
  },
  {
   "cell_type": "code",
   "execution_count": null,
   "id": "a4ce77b3",
   "metadata": {},
   "outputs": [],
   "source": []
  },
  {
   "cell_type": "markdown",
   "id": "956e84b9",
   "metadata": {},
   "source": [
    "# 220816\n",
    "\n",
    "#### Q69. 아래와 같이 입력하면 N * M 행렬 형태의 숫자 카드 중에서 먼저 뽑고자 하는 카드가 포함되어 있는 행을 선택한 후 그 행에서 가장 숫자가 낮은 카드를 뽑아야 하는 규칙하에서 가장 높은 숫자가 쓰인 카드 한장의 숫자를 출력한는 프로그램을 작성하세요. \n",
    "- 첫번째 입력 : N * M 형열에 대하여 N(행), M(열)의 개수를 공백을 기준으로 입력(1<= N, M<=100)\n",
    "- 두번째 입력 : 각 행의 숫자를 공백을 기준으로 입력. 단, 각 숫자는 1 이상 10000 이하의 자연수임."
   ]
  },
  {
   "cell_type": "code",
   "execution_count": null,
   "id": "d19b8a2e",
   "metadata": {},
   "outputs": [],
   "source": [
    "import numpy as np\n",
    "\n",
    "def func():\n",
    "    import numpy as np\n",
    "\n",
    "    x = input('행렬의 크기를 공백을 기준으로 입력하시오.')\n",
    "    N, M = [int(i) for i in x.split(' ')]\n",
    "    print(N)\n",
    "    print(M)\n",
    "\n",
    "    arr = np.random.randint(1, 100, size=(N, M))\n",
    "    print(arr)\n",
    "\n",
    "\n",
    "func()"
   ]
  },
  {
   "cell_type": "code",
   "execution_count": null,
   "id": "45d79f6a",
   "metadata": {},
   "outputs": [],
   "source": [
    "# by 김민섭\n",
    "import numpy as np\n",
    "\n",
    "N = int(input('행 갯수 입력: '))\n",
    "M = int(input('열 갯수 입력: '))\n",
    "\n",
    "arr = np.zeros((0, M), int)\n",
    "i = 0\n",
    "while i != N:\n",
    "    n = input(f'{i+1}행의 요소 입력: ').split()\n",
    "    if len(n) == M:\n",
    "        arr = np.append(arr, np.array([n]), axis=0)\n",
    "        i += 1\n",
    "    else:\n",
    "        print('정확한 열의 갯수만큼 입력하세요')\n",
    "\n",
    "arr = arr.astype(int)\n",
    "print(arr)\n",
    "\n",
    "\n",
    "print('정답:', np.min(arr, axis=1).max())"
   ]
  },
  {
   "cell_type": "code",
   "execution_count": null,
   "id": "00c475f5",
   "metadata": {},
   "outputs": [],
   "source": [
    "# by 또창훈\n",
    "import numpy as np\n",
    "arr = input('행과 열을 입력해주세요.')\n",
    "\n",
    "ar = input('숫자를 입력해주세요.')\n",
    "# ar2 = list(ar.split(' '))\n",
    "ar2\n",
    "# num_list = (5 4 65 5 9 18 85 24 15)\n",
    "# arr1 = np.array([int(x) for x in ar2]).reshape(int(arr.split(' ')[0]),int(arr.split(' ')[1]))\n",
    "arr1 = np.array([int(x) for x in ar2]).reshape(\n",
    "    int(arr.split(' ')[0]), int(arr.split(' ')[1]))\n",
    "\n",
    "\n",
    "li = []\n",
    "for i in range(0, len(arr1)):\n",
    "    arr = sorted(arr1[i])[0]\n",
    "    li.append(arr)\n",
    "\n",
    "\n",
    "li2 = sorted(li, reverse=True)\n",
    "print(li2[0])"
   ]
  },
  {
   "cell_type": "markdown",
   "id": "7b06fd06",
   "metadata": {},
   "source": [
    "# 220817 \n",
    "\n",
    "## Q70. Q69. 를 다중 for문을 사용하여 풀어보세요."
   ]
  },
  {
   "cell_type": "code",
   "execution_count": null,
   "id": "0dca5d1d",
   "metadata": {},
   "outputs": [],
   "source": [
    "n, m = map(int, input().split())\n",
    "\n",
    "result = 0\n",
    "for i in range(n):\n",
    "    data = list(map(int, input().split()))\n",
    "    min_value = 10001\n",
    "    for a in data:\n",
    "        min_value = min(min_value, a)\n",
    "    result = max(result, min_value)\n",
    "print(result)"
   ]
  },
  {
   "cell_type": "markdown",
   "id": "b8f44114",
   "metadata": {},
   "source": [
    "## Q71. 여행가 A는 N * N 크기의 정사각형 공간에 서 있다. A는 6개의 이동 명령 계획에 따라 움직이게 된다. 이동 명령은 L(왼쪽), R(오른쪽), U(윗쪽), D(아랫쪽)로 구성되며 R R R U D D와 같이 6개이다. 정사각형 공간을 벗어나는 움직임은 무시된다. 언급한 규칙에 따라 N과 이동 명령 계획으로 각각 5와 R R R U D D를 입력하면 A의 공간 좌표는 3 4가 된다. 이동 명력 계획서가 주어질 때 A가 최종적으로 도착할 지점의 좌표를 출력하는 프로그램을 작성하시오."
   ]
  },
  {
   "cell_type": "code",
   "execution_count": null,
   "id": "5e25ba56",
   "metadata": {},
   "outputs": [],
   "source": [
    "import numpy as np\n",
    "\n",
    "\n",
    "def travel():\n",
    "    # 공간의 크기 설정\n",
    "    N = int(input(\"공간의 크기를 설정하세요.\"))\n",
    "    space = np.arange(N*N).reshape(N, N)\n",
    "    print(space)\n",
    "    # 여정 입력\n",
    "    y = input(\"여행의 여정을 입력하세요.\")\n",
    "    li = y.split(' ')\n",
    "    x = 0\n",
    "    for i in li:\n",
    "        if i == 'L':\n",
    "            if x % N != 0:\n",
    "                x = x - 1\n",
    "        if i == 'R':\n",
    "            if x % N != 5:\n",
    "                x = x + 1\n",
    "        if i == 'U':\n",
    "            if x >= N:\n",
    "                x = x - N\n",
    "        if i == 'D':\n",
    "            if x + N < N*N:\n",
    "                x = x + N\n",
    "\n",
    "    print(x)\n",
    "    print(np.where(space == x))\n",
    "\n",
    "\n",
    "travel()"
   ]
  },
  {
   "cell_type": "markdown",
   "id": "b1c39a36",
   "metadata": {},
   "source": [
    "# 220818 \n",
    "\n",
    "## Q72. 정수 N이 입력되면 00시 00분 00초부터 N시 59분 59초까지의 모든 시각 중에서 3이 하나라도 포함되는 모든 경우의 수를 구하는 프로그램을 작성하시오.(0<= N <=23)\n",
    "\n",
    "# 검증 : 7 입력하면 14625회 나옴"
   ]
  },
  {
   "cell_type": "code",
   "execution_count": null,
   "id": "fed68c0c",
   "metadata": {},
   "outputs": [],
   "source": [
    "def func(hour, num):\n",
    "    #     hour = str(hour)\n",
    "    num = str(num)\n",
    "    li = []\n",
    "    for hr in range(hour+1):\n",
    "        for mi in range(60):\n",
    "            for sec in range(60):\n",
    "                time = f'{hr}시 {mi}분 {sec}초'\n",
    "                x = list(str(hr)+str(mi)+str(sec))\n",
    "                if num in x:\n",
    "                    li.append(time)\n",
    "    print(len(li))\n",
    "    print(li)\n",
    "\n",
    "\n",
    "func(7, 3)"
   ]
  },
  {
   "cell_type": "code",
   "execution_count": null,
   "id": "2d6f12a7",
   "metadata": {},
   "outputs": [],
   "source": []
  },
  {
   "cell_type": "code",
   "execution_count": null,
   "id": "b122f6a3",
   "metadata": {},
   "outputs": [],
   "source": []
  },
  {
   "cell_type": "code",
   "execution_count": null,
   "id": "ee92e79b",
   "metadata": {},
   "outputs": [],
   "source": []
  },
  {
   "cell_type": "code",
   "execution_count": null,
   "id": "1e2c73bf",
   "metadata": {},
   "outputs": [],
   "source": [
    "import numpy as np\n",
    "\n",
    "\n",
    "def travel():\n",
    "    # 공간의 크기 설정\n",
    "    N = int(input(\"공간의 크기를 설정하세요.\"))\n",
    "    space = np.arange(N*N).reshape(N, N)\n",
    "    print(f'\\n{space}\\n')\n",
    "    \n",
    "    # 경우의수\n",
    "    cases = [['R', 'R', 'U'],\n",
    "            ['R', 'R', 'D'],\n",
    "            ['L', 'L', 'U'],\n",
    "            ['L', 'L', 'D'],\n",
    "            ['U', 'U', 'R'],\n",
    "            ['U', 'U', 'L'],\n",
    "            ['D', 'D', 'R'],\n",
    "            ['D', 'D', 'L']]\n",
    "    # 여정 설정\n",
    "    start_ = int(input(\"출발점의 값을 입력하세요. \"))\n",
    "    set_ = set()\n",
    "    \n",
    "    print('도착 지점:', end=\" \")\n",
    "    for case in cases:\n",
    "        start = start_\n",
    "        for i in case:\n",
    "            if i == 'L':\n",
    "                if start % N != 0:\n",
    "                    start = start - 1\n",
    "            if i == 'R':\n",
    "                if start % N != (N-1):\n",
    "                    start = start + 1\n",
    "            if i == 'U':\n",
    "                if start >= N:\n",
    "                    start = start - N\n",
    "            if i == 'D':\n",
    "                if start + N < N*N:\n",
    "                    start = start + N\n",
    "        set_.add(start)\n",
    "        print(start, end=' ', flush=True)\n",
    "        \n",
    "    print(f'\\n도착 지점(중복 제거):  {set_}\\n')\n",
    "    \n",
    "    print('도착 지점 좌표:')\n",
    "    for i in set_:\n",
    "        print(np.where(space == i))\n",
    "\n",
    "\n",
    "travel()"
   ]
  },
  {
   "cell_type": "code",
   "execution_count": null,
   "id": "85ca05b6",
   "metadata": {},
   "outputs": [],
   "source": []
  },
  {
   "cell_type": "markdown",
   "id": "5bdfaf23",
   "metadata": {},
   "source": [
    "#### Q73.\n",
    "행 위치는 1~8로 열 위치는 a ~ h로 표현하는 8 x 8 좌표 평면상에서 특정 위치가 주어졌을 때 아래 조건하에서 그 위치에서 이동할 수 있는 경우의 수를 출력하는 프로그램을 작성하세요.\n",
    "- 수평으로 두 칸 이동한 뒤에 수직으로 한 칸 이동\n",
    "- 수직으로 두 칸 이동한 뒤에 수평으로 한 칸 이동\n",
    "- 8 x 8 좌표 평면을 나갈 수 없음"
   ]
  },
  {
   "cell_type": "code",
   "execution_count": 14,
   "id": "15923a23",
   "metadata": {},
   "outputs": [
    {
     "name": "stdout",
     "output_type": "stream",
     "text": [
      "나의 위치를 입력하세요 a~h까지 1~8까지c1\n",
      "4\n"
     ]
    }
   ],
   "source": [
    "point = input(\"나의 위치를 입력하세요 a~h까지 1~8까지\")\n",
    "\n",
    "x = int(point[1])\n",
    "y = ord(point[0]) -ord('a') +1\n",
    "\n",
    "count = 0\n",
    "move_point = [(-2,-1),(-2,1),(-1,2),(1,2),(2,1),(2,-1),(1,-2),(-1,-2)]\n",
    "for item in move_point:\n",
    "    new_x = x + item[0]\n",
    "    new_y = y + item[1]\n",
    "    if new_x > 0 and new_x < 9 and new_y > 0 and new_y < 9 :\n",
    "        count += 1\n",
    "\n",
    "print(count)  "
   ]
  },
  {
   "cell_type": "markdown",
   "id": "c5a163d0",
   "metadata": {},
   "source": [
    "#### Q74.\n",
    "캐릭터는 매뉴얼에 따라 이동한다. 아래 입력조건에 따라 캐릭터가 방문한 칸의 수를 출력하는 프로그램을 작성하세요.\n",
    "\n",
    "- 입력조건\n",
    "  - 첫째 줄에 맵의 세로 크기 N과 가로 크기 M을 공백으로 구분하여 입력 (3 <= N,M <=50)\n",
    "  - 둘째 줄에 게임 캐릭터가 있는 칸의 좌표 (A,B)와 바라보는 방향 d가 각각 서로 공백으로 구분하여 입력(방향 d의 값으로는 북, 동, 남, 서가 각각 0,1,2,3)\n",
    "  - 세째 줄에 맵이 육지인지 바다인지에 대한 정보 입력(육지 0, 바다 1) N개의 줄에 맵의 상태가 북쪽으로 부터 남쪽순서대로 각 줄의 데이터는 서쪽부터 동쪽 순서대로 주어진다.\n",
    "  - 처음에 캐릭터가 위치한 칸의 상태는 항상 육지이다.\n",
    "\n",
    "\n",
    "- 매뉴얼<BR>\n",
    "  캐릭터가 있는 장소는 1 X 1 크기의 정사각형으로 이루어진 N X M 크기의 직사각형으로 각각의 칸은 육지 또는 바다이다.캐릭터는 동서남북 중 한 곳을 바라본다. 맵의 각 칸은 (A, B)로 나타낼 수 있고 A는 북쪽으로부터 떨어진 칸의 개수, B는 서쪽으로부터 떨어진 칸의 개수이다.캐릭터는 상하좌우로 움직일 수 있고 바다로 되어 있는 공간에는 갈 수 없다. 캐릭터의 움직임 설정을 위한 매뉴얼은 아래와 같다.\n",
    "  - 현재 위치에서 현재 방향을 기준으로 왼쪽 방향부터 차례대로 갈 곳을 정한다.\n",
    "  - 캐릭터의 바로 왼쪽 방향에 아직 가보지 않은 칸이 존재한다면 왼쪽 방향으로 회전한 다음 왼쪽으로 한 칸을 전진한다. 왼쪽 방향에 가보지 않은 칸이 없다면 왼쪽 방향으로 회전만 수행하고 1단계로 돌아간다.\n",
    "  - 만약 네 방향 모두 이미 가본 칸이거나 바다로 되어 있는 칸인 경우에는 바라보는 방향을 유지한 채로 한 칸 뒤로 가고 1단계로 돌아간다. 단, 이때 뒤쪽 방향이 바다인 칸이라 뒤로 갈수 없는 경우에는 움직임을 멈춘다.\n",
    "\n"
   ]
  },
  {
   "cell_type": "code",
   "execution_count": 6,
   "id": "088854a3",
   "metadata": {},
   "outputs": [],
   "source": [
    "# import numpy as np\n",
    "\n",
    "# # N,M = input('맵 크기를 정해주세요.').split()\n",
    "# # N = int(N)\n",
    "# # M = int(M)\n",
    "\n",
    "# N = 4\n",
    "# M = 5\n",
    "\n",
    "# map_ = np.random.randint(0,2,size= (N,M))\n",
    "# A,b,d = input('좌표(A,B)와 방향 d를 정해주세요.')\n",
    "# A = int(A)\n",
    "# B = int(B)\n",
    "# d"
   ]
  },
  {
   "cell_type": "code",
   "execution_count": 5,
   "id": "df108d55",
   "metadata": {},
   "outputs": [
    {
     "name": "stdout",
     "output_type": "stream",
     "text": [
      "4 4\n",
      "1 1 0\n",
      "1 1 1 1\n",
      "1 0 0 1\n",
      "1 0 1 1\n",
      "1 1 1 1\n",
      "3\n"
     ]
    }
   ],
   "source": [
    "n, m = map(int, input().split())\n",
    "\n",
    "# 맵 생성, 0으로 초기화 시켜놓음, for 구문 안에 _(언더바)는 의미 없이 그냥 [0]을 돌리기 위함\n",
    "d = [[0]*m for _ in range(n)]\n",
    "\n",
    "x,y,direction = map(int,input().split())\n",
    "# 캐릭터가 처음 떨어지는 곳, 가본 곳으로 저장\n",
    "d[x][y] = 1\n",
    "\n",
    "array = []\n",
    "for i in range(n):\n",
    "    array.append(list(map(int,input().split())))\n",
    "\n",
    "dx = [-1,0,1,0]\n",
    "dy = [0,1,0,-1]\n",
    "\n",
    "def turn_left():\n",
    "    global direction\n",
    "    direction -= 1\n",
    "    if direction == -1:\n",
    "        direction = 3\n",
    "\n",
    "count = 1\n",
    "turn_time = 0\n",
    "try:\n",
    "    while True:\n",
    "        turn_left()\n",
    "        nx = x + dx[direction]\n",
    "        ny = y + dy[direction]\n",
    "\n",
    "        if d[nx][ny] == 0 and array[nx][ny] == 0 :\n",
    "            d[nx][ny] = 1\n",
    "            x = nx\n",
    "            y = ny\n",
    "            count += 1\n",
    "            turn_time = 0\n",
    "        else :\n",
    "            turn_time += 1\n",
    "        if turn_time == 4 :\n",
    "            nx = x - dx[direction]\n",
    "            ny = y - dy[direction]\n",
    "\n",
    "            if array[nx][ny] == 0 :\n",
    "                x = nx\n",
    "                y = ny\n",
    "            else :\n",
    "                break\n",
    "            turn_time = 0\n",
    "except:\n",
    "    pass\n",
    "\n",
    "print(count)"
   ]
  },
  {
   "cell_type": "code",
   "execution_count": 2,
   "id": "565398ab",
   "metadata": {
    "scrolled": true
   },
   "outputs": [
    {
     "name": "stdout",
     "output_type": "stream",
     "text": [
      "[5, 2, 3, 1]\n",
      "[1, 3, 2, 5]\n"
     ]
    }
   ],
   "source": [
    "# 스택 : 박스 쌓기에 비유, 선입후출 구조\n",
    "\n",
    "stack = []\n",
    "stack.append(5)\n",
    "stack.append(2)\n",
    "stack.append(3)\n",
    "stack.append(7)\n",
    "\n",
    "stack.pop()\n",
    "\n",
    "stack.append(1)\n",
    "stack.append(4)\n",
    "stack.pop()\n",
    "\n",
    "print(stack)\n",
    "print(stack[::-1])"
   ]
  },
  {
   "cell_type": "code",
   "execution_count": 10,
   "id": "9e540109",
   "metadata": {},
   "outputs": [
    {
     "name": "stdout",
     "output_type": "stream",
     "text": [
      "deque([3, 7, 1, 4])\n",
      "deque([4, 1, 7, 3])\n"
     ]
    }
   ],
   "source": [
    "# 큐 : 먼저 온 사람이 먼저 들어간다. 선입선출 구조\n",
    "from collections import deque\n",
    "queue = deque()\n",
    "\n",
    "queue.append(5)\n",
    "queue.append(2)\n",
    "queue.append(3)\n",
    "queue.append(7)\n",
    "\n",
    "queue.popleft()\n",
    "\n",
    "queue.append(1)\n",
    "queue.append(4)\n",
    "\n",
    "queue.popleft()\n",
    "\n",
    "print(queue)\n",
    "queue.reverse()\n",
    "print(queue)"
   ]
  },
  {
   "cell_type": "markdown",
   "id": "b6c07eb4",
   "metadata": {},
   "source": [
    "#### Q75.\n",
    "N X M 크기의 얼음 틀로 한번에 만들 수 있는 아이스크림의 개수를 아래 입력조건에 따라 출력하는 프로그램을 DFS(Depth First Search)를 이용하여 작성하세요.\n",
    " \n",
    "- 입력조건\n",
    "  - 첫번째 줄에 얼음 틀의 세로 길이 N과 가로 길이 M이 주어진다.(1 <= N,M <= 1000)\n",
    "  - 두번째 줄부터 N+1번째 줄까지 얼음 틀의 형태가 주어진다.\n",
    "  - 이때 구멍이 뚫려있는 부분은 0 그렇지 않은 부분은 1이다.\n",
    "  - 구멍이 뚫려 있는 부분끼리 상, 하, 좌, 우로 붙어 있는 경우 서로 연결되어 있는 것으로 간주한다."
   ]
  },
  {
   "cell_type": "code",
   "execution_count": 71,
   "id": "2fc05398",
   "metadata": {},
   "outputs": [
    {
     "name": "stdout",
     "output_type": "stream",
     "text": [
      "얼음틀 > 5 5\n",
      "[0 0 0 0 1]\n",
      "[1 1 0 1 0]\n",
      "[1 0 0 1 0]\n",
      "[1 1 1 1 1]\n",
      "[1 0 1 0 0]\n",
      "[array([1, 1, 1, 1, 1]), array([1, 1, 1, 1, 1]), array([1, 1, 1, 1, 1]), array([1, 1, 1, 1, 1]), array([1, 1, 1, 1, 1])]\n"
     ]
    },
    {
     "data": {
      "text/plain": [
       "4"
      ]
     },
     "execution_count": 71,
     "metadata": {},
     "output_type": "execute_result"
    }
   ],
   "source": [
    "# DFS = 깊이 우선 탐색(후입선출) \n",
    "import numpy as np\n",
    "N,M = map(int, input('얼음틀 > ').split())\n",
    "li = []\n",
    "\n",
    "for _ in range(N):\n",
    "    first_line = np.random.randint(0,2,M)\n",
    "    li.append(first_line)\n",
    "for i in li:\n",
    "    print(i)\n",
    "\n",
    "def ice(x, y):\n",
    "    if x <= -1 or x >= N or y <= -1 or y >= M:\n",
    "        return False\n",
    "    if li[x][y] == 0:\n",
    "        \n",
    "        li[x][y] = 1\n",
    "        \n",
    "        ice(x-1, y)\n",
    "        ice(x+1,y)\n",
    "        ice(x,y-1)\n",
    "        ice(x,y+1)\n",
    "        \n",
    "        return True\n",
    "    return False\n",
    "\n",
    "ice_count = 0\n",
    "\n",
    "for n in range(N):\n",
    "    for m in range(M):\n",
    "        if ice(n, m):\n",
    "            ice_count += 1\n",
    "ice_count"
   ]
  },
  {
   "cell_type": "code",
   "execution_count": 54,
   "id": "499b32a1",
   "metadata": {},
   "outputs": [],
   "source": [
    "def ice(x, y):\n",
    "    if x <= -1 or x >= 4 or y <= -1 or y >= 5:\n",
    "        return False\n",
    "    if li[x][y] == 0:\n",
    "        \n",
    "        li[x][y] = 1\n",
    "        return True\n"
   ]
  },
  {
   "cell_type": "code",
   "execution_count": 64,
   "id": "b2bce76e",
   "metadata": {},
   "outputs": [],
   "source": [
    "li=[[0, 0, 0, 1, 1],\n",
    "    [1, 0, 0, 1, 1],\n",
    "    [1, 0, 0, 1, 1],\n",
    "    [0, 1, 0, 1, 1]]"
   ]
  },
  {
   "cell_type": "code",
   "execution_count": 66,
   "id": "e6319bc5",
   "metadata": {},
   "outputs": [
    {
     "data": {
      "text/plain": [
       "True"
      ]
     },
     "execution_count": 66,
     "metadata": {},
     "output_type": "execute_result"
    }
   ],
   "source": [
    "ice(0,2)\n"
   ]
  },
  {
   "cell_type": "code",
   "execution_count": 44,
   "id": "e9e7c36e",
   "metadata": {},
   "outputs": [
    {
     "name": "stdout",
     "output_type": "stream",
     "text": [
      "0\n",
      "1\n",
      "0\n"
     ]
    }
   ],
   "source": [
    "li=[[0, 0, 0, 1, 1],[1, 0, 0, 1, 1],[1, 0, 0, 1, 1],[0, 1, 0, 1, 1]]\n",
    "\n",
    "\n",
    "visited = [0]*len(li)\n",
    "\n",
    "def dfs(li, v, visited):\n",
    "    count = 0\n",
    "    visited[v] = 1\n",
    "    print(v)\n",
    "    count +=1\n",
    "    \n",
    "    for i in li[v]:\n",
    "        if not visited[i]:\n",
    "            dfs(li, i, visited)\n",
    "\n",
    "dfs(li, 0, visited)\n",
    "print(count)"
   ]
  },
  {
   "cell_type": "code",
   "execution_count": 53,
   "id": "99e318b4",
   "metadata": {},
   "outputs": [
    {
     "data": {
      "text/plain": [
       "False"
      ]
     },
     "execution_count": 53,
     "metadata": {},
     "output_type": "execute_result"
    }
   ],
   "source": [
    "ice(3,3)"
   ]
  },
  {
   "cell_type": "code",
   "execution_count": 7,
   "id": "13b5c773",
   "metadata": {},
   "outputs": [
    {
     "name": "stdout",
     "output_type": "stream",
     "text": [
      "1 번째 재귀함수에서 2 번째 재귀함수를 호출합니다.\n",
      "2 번째 재귀함수에서 3 번째 재귀함수를 호출합니다.\n",
      "3 번째 재귀함수에서 4 번째 재귀함수를 호출합니다.\n",
      "4 번째 재귀함수에서 5 번째 재귀함수를 호출합니다.\n",
      "4 번째 재귀함수를 호출합니다.\n",
      "3 번째 재귀함수를 호출합니다.\n",
      "2 번째 재귀함수를 호출합니다.\n",
      "1 번째 재귀함수를 호출합니다.\n"
     ]
    }
   ],
   "source": [
    "# 재귀함수 설명\n",
    "def recursive_function(i):\n",
    "    if i == 5:\n",
    "        return\n",
    "    print(i, '번째 재귀함수에서', i+1, '번째 재귀함수를 호출합니다.')\n",
    "    recursive_function(i+1)\n",
    "    print(i,'번째 재귀함수를 호출합니다.')\n",
    "\n",
    "recursive_function(1)"
   ]
  },
  {
   "cell_type": "markdown",
   "id": "b675536f",
   "metadata": {},
   "source": [
    "#### Q76.\n",
    "10!을 재귀함수를 이용하여 출력하세요."
   ]
  },
  {
   "cell_type": "code",
   "execution_count": 12,
   "id": "9bb58282",
   "metadata": {},
   "outputs": [
    {
     "data": {
      "text/plain": [
       "120"
      ]
     },
     "execution_count": 12,
     "metadata": {},
     "output_type": "execute_result"
    }
   ],
   "source": [
    "def factorial_iterative(n):\n",
    "    result = 1\n",
    "    for i in range(1,n+1):\n",
    "        result *= i\n",
    "    return result\n",
    "factorial_iterative(5)"
   ]
  },
  {
   "cell_type": "code",
   "execution_count": 59,
   "id": "12860af3",
   "metadata": {},
   "outputs": [
    {
     "data": {
      "text/plain": [
       "3628800"
      ]
     },
     "execution_count": 59,
     "metadata": {},
     "output_type": "execute_result"
    }
   ],
   "source": [
    "def factorial_iterative(n):\n",
    "    if n == 1:\n",
    "        return 1\n",
    "    else:\n",
    "        return n *factorial_iterative(n-1)\n",
    "factorial_iterative(10)"
   ]
  },
  {
   "cell_type": "markdown",
   "id": "3579063b",
   "metadata": {},
   "source": [
    "# Q77.(재도전)\n",
    "N X M 크기의 미로에는 여러마리의 괴물이 있어 이를 피해 탈출해야 한다. 주인공의 위치는 (0,0)이고 미로의 출구는 (N_1,M_1)의 위치에 존재하며 한번에 한칸씩 이동할 수 있다. 괴물이 있는 부분은 0, 없는 부분은 1로 표시되어 있으며 미로는 반드시 탈출할 수 있는 형태로 제시된다. 주인공이 탈출하기 위해 움직여야 하는 최소 칸의 개수를 구하세요. 칸을 셀 때는 시작 칸과 마지막 칸을 모두 포함하여 계산하고 입력 조건은 아래와 같다.(BFS를 이용)\n",
    "- 첫째 줄에 두 정수 N,M(4<=N,M<=200)이 주어진다. \n",
    "- 다음 N개의 줄에는 각각 M개의 정수(0 혹은 1)로 미로의 정보가 주어진다. 각각의 수들은 공백없이 붙여서 입력으로 제시된다. \n",
    "- 또한 시작칸과 마지막칸은 항상 1이다.\n"
   ]
  },
  {
   "cell_type": "markdown",
   "id": "4486719a",
   "metadata": {},
   "source": [
    "#### Q78.\n",
    "소수란 2보다 큰 자연수 중에서 1과 자기자신을 제외한 자연수로는 나누어떨어지지 않는 자연수이다. 어떠한 자연수가 소수인지 아닌지 판별하는 프로그램을 작성하세요.\n"
   ]
  },
  {
   "cell_type": "code",
   "execution_count": 40,
   "id": "42bc33e0",
   "metadata": {},
   "outputs": [],
   "source": [
    "def so(x):\n",
    "    if x > 2:\n",
    "        li = []\n",
    "        for i in range(1,x+1):\n",
    "            y = x%i\n",
    "            li.append(y)\n",
    "        if li.count(0) > 2:\n",
    "            print(f'{x}는 소수가 아닙니다.')\n",
    "        else:\n",
    "            print(f'{x}는 소수입니다.')\n",
    "    else:\n",
    "        print('2 이상의 자연수를 입력해주세요.')"
   ]
  },
  {
   "cell_type": "code",
   "execution_count": 44,
   "id": "6c972e60",
   "metadata": {},
   "outputs": [
    {
     "name": "stdout",
     "output_type": "stream",
     "text": [
      "24는 소수가 아닙니다.\n"
     ]
    }
   ],
   "source": [
    "so(24)"
   ]
  },
  {
   "cell_type": "code",
   "execution_count": null,
   "id": "c28f0569",
   "metadata": {},
   "outputs": [],
   "source": []
  }
 ],
 "metadata": {
  "kernelspec": {
   "display_name": "Python 3 (ipykernel)",
   "language": "python",
   "name": "python3"
  },
  "language_info": {
   "codemirror_mode": {
    "name": "ipython",
    "version": 3
   },
   "file_extension": ".py",
   "mimetype": "text/x-python",
   "name": "python",
   "nbconvert_exporter": "python",
   "pygments_lexer": "ipython3",
   "version": "3.8.13"
  }
 },
 "nbformat": 4,
 "nbformat_minor": 5
}
