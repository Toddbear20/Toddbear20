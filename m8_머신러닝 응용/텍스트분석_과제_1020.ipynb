{
 "cells": [
  {
   "cell_type": "code",
   "execution_count": 48,
   "id": "2d9e0fda",
   "metadata": {},
   "outputs": [],
   "source": [
    "import numpy as np\n",
    "from scipy import sparse\n",
    "\n",
    "# COO\n",
    "# dense3 = np.array([[0,0,1,0,0,5,0,0,3,0],\n",
    "#                   [1,4,0,3,2,5,0,0,0,0],\n",
    "#                   [0,6,0,3,0,0,0,0,0,0],\n",
    "#                    [2,0,0,0,0,0,1,0,0,0],\n",
    "#                   [0,0,0,7,0,8,0,0,0,0],\n",
    "#                   [1,0,0,0,0,0,0,0,0,0],\n",
    "#                   [1,2,0,0,0,0,0,0,0,4],\n",
    "#                   [0,0,0,5,6,7,0,0,0,0],\n",
    "#                   [1,0,0,0,0,0,0,0,4,2],\n",
    "#                   [4,0,0,3,0,0,0,0,2,0]])\n",
    "\n",
    "# data3 = np.array([1,5,3,1,4,3,2,5,6,3,2,1,7,8,1,1,2,4,5,6,7,1,4,2,4,3,2])\n",
    "\n",
    "# row_pos = np.array([0,0,0,1,1,1,1,1,2,2,3,3,4,4,5,6,6,6,7,7,7,8,8,8,9,9,9])\n",
    "# col_pos = np.array([2,5,8,0,1,3,4,5,1,3,0,6,3,5,0,0,1,9,3,4,5,0,8,9,0,3,8])\n",
    "\n",
    "# sparse_coo = sparse.coo_matrix((data3, (row_pos, col_pos)))\n",
    "# sparse_coo.toarray()"
   ]
  },
  {
   "cell_type": "code",
   "execution_count": 51,
   "id": "889fb0ee",
   "metadata": {
    "scrolled": true
   },
   "outputs": [
    {
     "data": {
      "text/plain": [
       "array([[0., 0., 0., 8., 0., 3., 0., 7., 1., 0.],\n",
       "       [0., 0., 0., 0., 0., 2., 0., 0., 0., 0.],\n",
       "       [0., 0., 0., 0., 0., 0., 0., 0., 0., 0.],\n",
       "       [0., 0., 0., 0., 8., 0., 0., 5., 0., 0.],\n",
       "       [5., 0., 0., 0., 0., 0., 0., 0., 2., 0.],\n",
       "       [0., 0., 0., 0., 0., 0., 0., 0., 0., 0.],\n",
       "       [0., 0., 0., 5., 5., 0., 0., 0., 0., 0.],\n",
       "       [0., 0., 0., 0., 0., 0., 0., 0., 0., 0.],\n",
       "       [0., 0., 0., 3., 0., 0., 0., 0., 0., 0.],\n",
       "       [0., 0., 0., 3., 0., 0., 0., 0., 0., 0.]])"
      ]
     },
     "execution_count": 51,
     "metadata": {},
     "output_type": "execute_result"
    }
   ],
   "source": [
    "# 0의 비율이 70% 이상인 희소행렬 만들기\n",
    "dense3=np.zeros([10,10])\n",
    "np.random.seed(0)\n",
    "# np.random.choice(range(1,10),10)\n",
    "\n",
    "for i in dense3:\n",
    "    for num,j in enumerate(i):\n",
    "        if num == np.random.randint(0,9):\n",
    "            i[num] = np.random.randint(1,9)\n",
    "dense3      "
   ]
  },
  {
   "cell_type": "code",
   "execution_count": 52,
   "id": "c6c3f9f5",
   "metadata": {},
   "outputs": [
    {
     "data": {
      "text/plain": [
       "array([8, 3, 7, 1, 2, 8, 5, 5, 2, 5, 5, 3, 3])"
      ]
     },
     "execution_count": 52,
     "metadata": {},
     "output_type": "execute_result"
    }
   ],
   "source": [
    "# 희소행렬 내에 data 뽑기\n",
    "data3 = []\n",
    "for i in dense:\n",
    "    for j in i:\n",
    "        if j != 0:\n",
    "            data3.append(int(j))\n",
    "data3=np.array(data3)\n",
    "data3"
   ]
  },
  {
   "cell_type": "code",
   "execution_count": 53,
   "id": "0f51c748",
   "metadata": {},
   "outputs": [
    {
     "name": "stdout",
     "output_type": "stream",
     "text": [
      "[0 0 0 0 1 3 3 4 4 6 6 8 9]\n",
      "[3 5 7 8 5 4 7 0 8 3 4 3 3]\n"
     ]
    },
    {
     "data": {
      "text/plain": [
       "array([[0, 0, 0, 8, 0, 3, 0, 7, 1],\n",
       "       [0, 0, 0, 0, 0, 2, 0, 0, 0],\n",
       "       [0, 0, 0, 0, 0, 0, 0, 0, 0],\n",
       "       [0, 0, 0, 0, 8, 0, 0, 5, 0],\n",
       "       [5, 0, 0, 0, 0, 0, 0, 0, 2],\n",
       "       [0, 0, 0, 0, 0, 0, 0, 0, 0],\n",
       "       [0, 0, 0, 5, 5, 0, 0, 0, 0],\n",
       "       [0, 0, 0, 0, 0, 0, 0, 0, 0],\n",
       "       [0, 0, 0, 3, 0, 0, 0, 0, 0],\n",
       "       [0, 0, 0, 3, 0, 0, 0, 0, 0]])"
      ]
     },
     "execution_count": 53,
     "metadata": {},
     "output_type": "execute_result"
    }
   ],
   "source": [
    "li = []\n",
    "li2 = []\n",
    "for num,i in enumerate(dense3):\n",
    "    for num2,j in enumerate(i):\n",
    "        if j != 0:\n",
    "            li.append(num)\n",
    "            li2.append(num2)\n",
    "        \n",
    "            \n",
    "row_pos = np.array(li)       \n",
    "col_pos = np.array(li2)\n",
    "\n",
    "print(row_pos)\n",
    "print(col_pos)\n",
    "sparse_coo = sparse.coo_matrix((data3, (row_pos, col_pos)))\n",
    "sparse_coo.toarray()"
   ]
  },
  {
   "cell_type": "code",
   "execution_count": 54,
   "id": "4509d6ed",
   "metadata": {},
   "outputs": [
    {
     "name": "stdout",
     "output_type": "stream",
     "text": [
      "[0, 4, 5, 7, 9, 11, 12, 13]\n"
     ]
    },
    {
     "data": {
      "text/plain": [
       "array([[0, 0, 0, 8, 0, 3, 0, 7, 1],\n",
       "       [0, 0, 0, 0, 0, 2, 0, 0, 0],\n",
       "       [0, 0, 0, 0, 8, 0, 0, 5, 0],\n",
       "       [5, 0, 0, 0, 0, 0, 0, 0, 2],\n",
       "       [0, 0, 0, 5, 5, 0, 0, 0, 0],\n",
       "       [0, 0, 0, 3, 0, 0, 0, 0, 0],\n",
       "       [0, 0, 0, 3, 0, 0, 0, 0, 0]])"
      ]
     },
     "execution_count": 54,
     "metadata": {},
     "output_type": "execute_result"
    }
   ],
   "source": [
    "csr = [0, len(li)]\n",
    "# csr = []\n",
    "for num,i in enumerate(range(len(li)-1)):\n",
    "    if li[num] != li[num+1]:\n",
    "        csr.append(num+1)\n",
    "\n",
    "     \n",
    "csr = sorted(csr)\n",
    "\n",
    "print(csr)\n",
    "row_pos_ind = np.array(csr)\n",
    "\n",
    "sparse_csr = sparse.csr_matrix((data3, col_pos, row_pos_ind))\n",
    "\n",
    "sparse_csr.toarray()"
   ]
  },
  {
   "cell_type": "code",
   "execution_count": null,
   "id": "26d6845e",
   "metadata": {},
   "outputs": [],
   "source": [
    "from sklearn.feature_extraction.text import TfidfVectorizer\n",
    "\n",
    "# # TF-IDF 벡터화를 적용해 학습 데이터 세트와 테스트 데이터 세트 반환\n",
    "tfidf_vect = TfidfVectorizer(stop_words = 'english', ngram_range=(1,2), max_df=300)\n",
    "tfidf_vect.fit(X_train)\n",
    "X_train_tfidf_vect = tfidf_vect.transform(X_train)\n",
    "X_test_tfidf_vect = tfidf_vect.transform(X_test)\n",
    "\n",
    "lr_clf = LogisticRegression(solver='liblinear')\n",
    "lr_clf.fit(X_train_tfidf_vect, y_train)\n",
    "pred = lr_clf.predict(X_test_tfidf_vect)\n",
    "print(f'TF-IDF 벡터라이징 로지스틱 회귀 예측 정확도 : {round(accuracy_score(y_test,pred),3)}')"
   ]
  },
  {
   "cell_type": "code",
   "execution_count": null,
   "id": "40a53b2e",
   "metadata": {},
   "outputs": [],
   "source": []
  },
  {
   "cell_type": "code",
   "execution_count": null,
   "id": "25b19585",
   "metadata": {},
   "outputs": [],
   "source": []
  },
  {
   "cell_type": "code",
   "execution_count": null,
   "id": "b2f033f8",
   "metadata": {},
   "outputs": [],
   "source": []
  }
 ],
 "metadata": {
  "kernelspec": {
   "display_name": "Python 3 (ipykernel)",
   "language": "python",
   "name": "python3"
  },
  "language_info": {
   "codemirror_mode": {
    "name": "ipython",
    "version": 3
   },
   "file_extension": ".py",
   "mimetype": "text/x-python",
   "name": "python",
   "nbconvert_exporter": "python",
   "pygments_lexer": "ipython3",
   "version": "3.8.13"
  }
 },
 "nbformat": 4,
 "nbformat_minor": 5
}
