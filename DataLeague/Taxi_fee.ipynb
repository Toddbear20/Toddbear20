{
 "cells": [
  {
   "cell_type": "code",
   "execution_count": 25,
   "id": "effe8688",
   "metadata": {},
   "outputs": [
    {
     "name": "stdout",
     "output_type": "stream",
     "text": [
      "3900\n"
     ]
    }
   ],
   "source": [
    "def taxi_date(x):\n",
    "    fee = 0\n",
    "    if x <= 2000:\n",
    "        fee += 3800\n",
    "    elif x > 2000:\n",
    "        fee += 3900   \n",
    "        fee += ((x-2000)//132)*100\n",
    "    print(fee)\n",
    "        \n",
    "taxi_date(2001)"
   ]
  },
  {
   "cell_type": "code",
   "execution_count": 24,
   "id": "7aee1c27",
   "metadata": {},
   "outputs": [
    {
     "name": "stdout",
     "output_type": "stream",
     "text": [
      "3900\n"
     ]
    }
   ],
   "source": [
    "def taxi_night(x):\n",
    "    fee = 0\n",
    "    if x <= 2000:\n",
    "        fee += 4600\n",
    "    elif x > 2000:\n",
    "        fee += 4720   \n",
    "        fee += ((x-2000)//132)*120\n",
    "    print(fee)\n",
    "        \n",
    "taxi(2001)"
   ]
  },
  {
   "cell_type": "code",
   "execution_count": null,
   "id": "9a04cde0",
   "metadata": {},
   "outputs": [],
   "source": []
  }
 ],
 "metadata": {
  "kernelspec": {
   "display_name": "Python 3 (ipykernel)",
   "language": "python",
   "name": "python3"
  },
  "language_info": {
   "codemirror_mode": {
    "name": "ipython",
    "version": 3
   },
   "file_extension": ".py",
   "mimetype": "text/x-python",
   "name": "python",
   "nbconvert_exporter": "python",
   "pygments_lexer": "ipython3",
   "version": "3.8.13"
  }
 },
 "nbformat": 4,
 "nbformat_minor": 5
}
