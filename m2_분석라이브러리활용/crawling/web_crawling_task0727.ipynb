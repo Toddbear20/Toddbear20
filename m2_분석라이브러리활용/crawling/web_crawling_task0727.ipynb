{
 "cells": [
  {
   "cell_type": "markdown",
   "id": "cc734649",
   "metadata": {},
   "source": [
    "#### 과제0727_2\n",
    "검색 키워드와 총 필요한 뉴스기사 수를 입력하면 요청한 만큼 데이터프레임 형태(컬럼은 title, url)로 출력해주는 크롤링 프로그램을 수행하세요."
   ]
  },
  {
   "cell_type": "code",
   "execution_count": null,
   "id": "43b616b9",
   "metadata": {},
   "outputs": [],
   "source": [
    "url = 'https://search.naver.com/search.naver?where=nexearch&sm=top_hty&fbm=1&ie=utf8&query='"
   ]
  },
  {
   "cell_type": "code",
   "execution_count": 10,
   "id": "77d5487b",
   "metadata": {},
   "outputs": [],
   "source": [
    "from bs4 import BeautifulSoup\n",
    "import requests\n",
    "import re\n",
    "import pandas as pd\n",
    "news_df = pd.DataFrame(columns=['title','url'])\n",
    "def search(keyword, num):\n",
    "    title_list = []\n",
    "    url_list = []\n",
    "    news_df = pd.DataFrame(columns=['title','url'])\n",
    "    for i in range(1, num+1, 10):\n",
    "        url = 'https://search.naver.com/search.naver?where=news&query='+str(keyword)+'&start='+str(i)\n",
    "        headers = {\"User-Agent\":\"Mozilla/5.0 (Windows NT 10.0; Win64; x64) AppleWebKit/537.36 (KHTML, like Gecko) Chrome/96.0.4664.45 Safari/537.36\"}\n",
    "        response = requests.get(url, headers=headers)\n",
    "        soup = BeautifulSoup(response.text, 'lxml')\n",
    "        articles = soup.find_all('a',{'class':{'news_tit'}})\n",
    "        for article in articles:\n",
    "            newslink = article['href']\n",
    "            url_list.append(newslink)\n",
    "            title = article.text\n",
    "            title_list.append(title)\n",
    "    news_df.title = title_list\n",
    "    news_df.url = url_list\n",
    "    print(f'중복 수 : {news_df.iloc[:num].duplicated().sum()}')\n",
    "    return news_df.iloc[:num].drop_duplicates(subset=['title', 'url'])\n",
    "    "
   ]
  },
  {
   "cell_type": "code",
   "execution_count": 16,
   "id": "e4a3d971",
   "metadata": {},
   "outputs": [
    {
     "name": "stdout",
     "output_type": "stream",
     "text": [
      "중복 수 : 0\n"
     ]
    },
    {
     "data": {
      "text/html": [
       "<div>\n",
       "<style scoped>\n",
       "    .dataframe tbody tr th:only-of-type {\n",
       "        vertical-align: middle;\n",
       "    }\n",
       "\n",
       "    .dataframe tbody tr th {\n",
       "        vertical-align: top;\n",
       "    }\n",
       "\n",
       "    .dataframe thead th {\n",
       "        text-align: right;\n",
       "    }\n",
       "</style>\n",
       "<table border=\"1\" class=\"dataframe\">\n",
       "  <thead>\n",
       "    <tr style=\"text-align: right;\">\n",
       "      <th></th>\n",
       "      <th>title</th>\n",
       "      <th>url</th>\n",
       "    </tr>\n",
       "  </thead>\n",
       "  <tbody>\n",
       "    <tr>\n",
       "      <th>0</th>\n",
       "      <td>한총리 \"이재용·신동빈 특별사면 대통령에 건의하겠다\"(종합)</td>\n",
       "      <td>https://www.yna.co.kr/view/AKR2022072713145100...</td>\n",
       "    </tr>\n",
       "    <tr>\n",
       "      <th>1</th>\n",
       "      <td>\"전쟁 중에...\" 패션지 화보 찍은 우크라 대통령 부부 논란</td>\n",
       "      <td>http://www.newsis.com/view/?id=NISX20220727_00...</td>\n",
       "    </tr>\n",
       "  </tbody>\n",
       "</table>\n",
       "</div>"
      ],
      "text/plain": [
       "                                title  \\\n",
       "0   한총리 \"이재용·신동빈 특별사면 대통령에 건의하겠다\"(종합)   \n",
       "1  \"전쟁 중에...\" 패션지 화보 찍은 우크라 대통령 부부 논란   \n",
       "\n",
       "                                                 url  \n",
       "0  https://www.yna.co.kr/view/AKR2022072713145100...  \n",
       "1  http://www.newsis.com/view/?id=NISX20220727_00...  "
      ]
     },
     "execution_count": 16,
     "metadata": {},
     "output_type": "execute_result"
    }
   ],
   "source": [
    "search('대통령', 2)"
   ]
  },
  {
   "cell_type": "code",
   "execution_count": null,
   "id": "ff955da1",
   "metadata": {},
   "outputs": [],
   "source": []
  }
 ],
 "metadata": {
  "kernelspec": {
   "display_name": "Python 3 (ipykernel)",
   "language": "python",
   "name": "python3"
  },
  "language_info": {
   "codemirror_mode": {
    "name": "ipython",
    "version": 3
   },
   "file_extension": ".py",
   "mimetype": "text/x-python",
   "name": "python",
   "nbconvert_exporter": "python",
   "pygments_lexer": "ipython3",
   "version": "3.9.12"
  }
 },
 "nbformat": 4,
 "nbformat_minor": 5
}
