{
 "cells": [
  {
   "cell_type": "markdown",
   "id": "cc734649",
   "metadata": {},
   "source": [
    "#### 과제0727_2\n",
    "검색 키워드와 총 필요한 뉴스기사 수를 입력하면 요청한 만큼 데이터프레임 형태(컬럼은 title, url)로 출력해주는 크롤링 프로그램을 수행하세요."
   ]
  },
  {
   "cell_type": "code",
   "execution_count": null,
   "id": "43b616b9",
   "metadata": {},
   "outputs": [],
   "source": [
    "url = 'https://search.naver.com/search.naver?where=nexearch&sm=top_hty&fbm=1&ie=utf8&query='"
   ]
  },
  {
   "cell_type": "code",
   "execution_count": 4,
   "id": "77d5487b",
   "metadata": {},
   "outputs": [],
   "source": [
    "from bs4 import BeautifulSoup\n",
    "import requests\n",
    "import re\n",
    "import pandas as pd\n",
    "news_df = pd.DataFrame(columns=['title','url'])\n",
    "def search(keyword, num):\n",
    "    title_list = []\n",
    "    url_list = []\n",
    "    news_df = pd.DataFrame(columns=['title','url'])\n",
    "    for i in range(1, num+1, 10):\n",
    "        url = 'https://search.naver.com/search.naver?where=news&query='+str(keyword)+'&start='+str(i)\n",
    "        headers = {\"User-Agent\":\"Mozilla/5.0 (Windows NT 10.0; Win64; x64) AppleWebKit/537.36 (KHTML, like Gecko) Chrome/96.0.4664.45 Safari/537.36\"}\n",
    "        response = requests.get(url, headers=headers)\n",
    "        soup = BeautifulSoup(response.text, 'lxml')\n",
    "        articles = soup.find_all('a',{'class':{'news_tit'}})\n",
    "        for article in articles:\n",
    "            newslink = article['href']\n",
    "            url_list.append(newslink)\n",
    "            title = article.text\n",
    "            title_list.append(title)\n",
    "    news_df.title = title_list\n",
    "    news_df.url = url_list\n",
    "    print(f'중복 수 : {news_df.iloc[:num].duplicated().sum()}')\n",
    "    return news_df.iloc[:num].drop_duplicates(subset=['title', 'url'])"
   ]
  },
  {
   "cell_type": "code",
   "execution_count": 5,
   "id": "e4a3d971",
   "metadata": {},
   "outputs": [
    {
     "name": "stdout",
     "output_type": "stream",
     "text": [
      "중복 수 : 0\n"
     ]
    },
    {
     "data": {
      "text/html": [
       "<div>\n",
       "<style scoped>\n",
       "    .dataframe tbody tr th:only-of-type {\n",
       "        vertical-align: middle;\n",
       "    }\n",
       "\n",
       "    .dataframe tbody tr th {\n",
       "        vertical-align: top;\n",
       "    }\n",
       "\n",
       "    .dataframe thead th {\n",
       "        text-align: right;\n",
       "    }\n",
       "</style>\n",
       "<table border=\"1\" class=\"dataframe\">\n",
       "  <thead>\n",
       "    <tr style=\"text-align: right;\">\n",
       "      <th></th>\n",
       "      <th>title</th>\n",
       "      <th>url</th>\n",
       "    </tr>\n",
       "  </thead>\n",
       "  <tbody>\n",
       "    <tr>\n",
       "      <th>0</th>\n",
       "      <td>\"택시 잡기가 하늘의 별 따기\".. 심야택시 대란에 與野 서로 다른 해법</td>\n",
       "      <td>http://www.fnnews.com/news/202208030705238730</td>\n",
       "    </tr>\n",
       "    <tr>\n",
       "      <th>1</th>\n",
       "      <td>하늘의 별따기…택시 대란, 장기화 우려</td>\n",
       "      <td>https://news.kbs.co.kr/news/view.do?ncd=552306...</td>\n",
       "    </tr>\n",
       "    <tr>\n",
       "      <th>2</th>\n",
       "      <td>심야 택시 대란 잡기 위한 원희룡의 한 방은 [김은정의 클릭 부동산]</td>\n",
       "      <td>https://www.hankyung.com/realestate/article/20...</td>\n",
       "    </tr>\n",
       "    <tr>\n",
       "      <th>3</th>\n",
       "      <td>전쟁이 돼버린 야간 택시 잡기... 녹록지 않은 승차난 해법 찾기</td>\n",
       "      <td>https://www.cjb.co.kr/home/sub.php?menukey=61&amp;...</td>\n",
       "    </tr>\n",
       "    <tr>\n",
       "      <th>4</th>\n",
       "      <td>\"택시대란 해법 찾아라\"...4일 민·관·학 머리 맞대고 토론</td>\n",
       "      <td>https://www.joongang.co.kr/article/25091429</td>\n",
       "    </tr>\n",
       "    <tr>\n",
       "      <th>...</th>\n",
       "      <td>...</td>\n",
       "      <td>...</td>\n",
       "    </tr>\n",
       "    <tr>\n",
       "      <th>95</th>\n",
       "      <td>밤마다 택시 잡기 별따기…밤 9시→오후 5시 당겨 운행</td>\n",
       "      <td>https://news.jtbc.joins.com/article/article.as...</td>\n",
       "    </tr>\n",
       "    <tr>\n",
       "      <th>96</th>\n",
       "      <td>\"택시 잡기 하늘에 별 따기\"…거리두기 해제, 심야 '택시 대란' 걱정</td>\n",
       "      <td>https://view.asiae.co.kr/article/2022041816223...</td>\n",
       "    </tr>\n",
       "    <tr>\n",
       "      <th>97</th>\n",
       "      <td>택시잡기 힘들었는데 '희소식'…2년 만에 서울지하철 심야운행</td>\n",
       "      <td>https://www.hankyung.com/society/article/20220...</td>\n",
       "    </tr>\n",
       "    <tr>\n",
       "      <th>98</th>\n",
       "      <td>‘일상회복…’ 야간 택시잡기 대란...개인택시 부제 해제 ‘긴급처방’</td>\n",
       "      <td>http://news.heraldcorp.com/view.php?ud=2022042...</td>\n",
       "    </tr>\n",
       "    <tr>\n",
       "      <th>99</th>\n",
       "      <td>서울시, 택시 심야할증 요금 '밤 10시부터' 검토...야간시간 택시잡기 쉬워질...</td>\n",
       "      <td>https://www.mk.co.kr/economy/view/2022/375266</td>\n",
       "    </tr>\n",
       "  </tbody>\n",
       "</table>\n",
       "<p>100 rows × 2 columns</p>\n",
       "</div>"
      ],
      "text/plain": [
       "                                              title  \\\n",
       "0          \"택시 잡기가 하늘의 별 따기\".. 심야택시 대란에 與野 서로 다른 해법   \n",
       "1                             하늘의 별따기…택시 대란, 장기화 우려   \n",
       "2            심야 택시 대란 잡기 위한 원희룡의 한 방은 [김은정의 클릭 부동산]   \n",
       "3              전쟁이 돼버린 야간 택시 잡기... 녹록지 않은 승차난 해법 찾기   \n",
       "4                \"택시대란 해법 찾아라\"...4일 민·관·학 머리 맞대고 토론   \n",
       "..                                              ...   \n",
       "95                   밤마다 택시 잡기 별따기…밤 9시→오후 5시 당겨 운행   \n",
       "96          \"택시 잡기 하늘에 별 따기\"…거리두기 해제, 심야 '택시 대란' 걱정   \n",
       "97                택시잡기 힘들었는데 '희소식'…2년 만에 서울지하철 심야운행   \n",
       "98           ‘일상회복…’ 야간 택시잡기 대란...개인택시 부제 해제 ‘긴급처방’   \n",
       "99  서울시, 택시 심야할증 요금 '밤 10시부터' 검토...야간시간 택시잡기 쉬워질...   \n",
       "\n",
       "                                                  url  \n",
       "0       http://www.fnnews.com/news/202208030705238730  \n",
       "1   https://news.kbs.co.kr/news/view.do?ncd=552306...  \n",
       "2   https://www.hankyung.com/realestate/article/20...  \n",
       "3   https://www.cjb.co.kr/home/sub.php?menukey=61&...  \n",
       "4         https://www.joongang.co.kr/article/25091429  \n",
       "..                                                ...  \n",
       "95  https://news.jtbc.joins.com/article/article.as...  \n",
       "96  https://view.asiae.co.kr/article/2022041816223...  \n",
       "97  https://www.hankyung.com/society/article/20220...  \n",
       "98  http://news.heraldcorp.com/view.php?ud=2022042...  \n",
       "99      https://www.mk.co.kr/economy/view/2022/375266  \n",
       "\n",
       "[100 rows x 2 columns]"
      ]
     },
     "execution_count": 5,
     "metadata": {},
     "output_type": "execute_result"
    }
   ],
   "source": [
    "search('택시 잡기', 100)"
   ]
  },
  {
   "cell_type": "code",
   "execution_count": null,
   "id": "ff955da1",
   "metadata": {},
   "outputs": [],
   "source": []
  }
 ],
 "metadata": {
  "kernelspec": {
   "display_name": "Python 3 (ipykernel)",
   "language": "python",
   "name": "python3"
  },
  "language_info": {
   "codemirror_mode": {
    "name": "ipython",
    "version": 3
   },
   "file_extension": ".py",
   "mimetype": "text/x-python",
   "name": "python",
   "nbconvert_exporter": "python",
   "pygments_lexer": "ipython3",
   "version": "3.8.13"
  }
 },
 "nbformat": 4,
 "nbformat_minor": 5
}
