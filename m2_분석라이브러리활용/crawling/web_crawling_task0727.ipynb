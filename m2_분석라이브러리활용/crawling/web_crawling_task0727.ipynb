{
 "cells": [
  {
   "cell_type": "markdown",
   "id": "cc734649",
   "metadata": {},
   "source": [
    "#### 과제0727_2\n",
    "검색 키워드와 총 필요한 뉴스기사 수를 입력하면 요청한 만큼 데이터프레임 형태(컬럼은 title, url)로 출력해주는 크롤링 프로그램을 수행하세요."
   ]
  },
  {
   "cell_type": "code",
   "execution_count": null,
   "id": "43b616b9",
   "metadata": {},
   "outputs": [],
   "source": [
    "url = 'https://search.naver.com/search.naver?where=nexearch&sm=top_hty&fbm=1&ie=utf8&query='"
   ]
  },
  {
   "cell_type": "code",
   "execution_count": 2,
   "id": "77d5487b",
   "metadata": {},
   "outputs": [],
   "source": [
    "from bs4 import BeautifulSoup\n",
    "import requests\n",
    "import re\n",
    "import pandas as pd\n",
    "news_df = pd.DataFrame(columns=['title','url'])\n",
    "def search(keyword, num):\n",
    "    title_list = []\n",
    "    url_list = []\n",
    "    news_df = pd.DataFrame(columns=['title','url'])\n",
    "    for i in range(1, num+1, 10):\n",
    "        url = 'https://search.naver.com/search.naver?where=news&query='+str(keyword)+'&start='+str(i)\n",
    "        headers = {\"User-Agent\":\"Mozilla/5.0 (Windows NT 10.0; Win64; x64) AppleWebKit/537.36 (KHTML, like Gecko) Chrome/96.0.4664.45 Safari/537.36\"}\n",
    "        response = requests.get(url, headers=headers)\n",
    "        soup = BeautifulSoup(response.text, 'lxml')\n",
    "        articles = soup.find_all('a',{'class':{'news_tit'}})\n",
    "        for article in articles:\n",
    "            newslink = article['href']\n",
    "            url_list.append(newslink)\n",
    "            title = article.text\n",
    "            title_list.append(title)\n",
    "    news_df.title = title_list\n",
    "    news_df.url = url_list\n",
    "    print(f'중복 수 : {news_df.iloc[:num].duplicated().sum()}')\n",
    "    return news_df.iloc[:num].drop_duplicates(subset=['title', 'url'])\n",
    "    "
   ]
  },
  {
   "cell_type": "code",
   "execution_count": 4,
   "id": "e4a3d971",
   "metadata": {},
   "outputs": [
    {
     "name": "stdout",
     "output_type": "stream",
     "text": [
      "중복 수 : 43\n"
     ]
    },
    {
     "data": {
      "text/html": [
       "<div>\n",
       "<style scoped>\n",
       "    .dataframe tbody tr th:only-of-type {\n",
       "        vertical-align: middle;\n",
       "    }\n",
       "\n",
       "    .dataframe tbody tr th {\n",
       "        vertical-align: top;\n",
       "    }\n",
       "\n",
       "    .dataframe thead th {\n",
       "        text-align: right;\n",
       "    }\n",
       "</style>\n",
       "<table border=\"1\" class=\"dataframe\">\n",
       "  <thead>\n",
       "    <tr style=\"text-align: right;\">\n",
       "      <th></th>\n",
       "      <th>title</th>\n",
       "      <th>url</th>\n",
       "    </tr>\n",
       "  </thead>\n",
       "  <tbody>\n",
       "    <tr>\n",
       "      <th>0</th>\n",
       "      <td>추경호 \"미국 금리인상 시장예상 부합…국내 영향 제한적\"(종합)</td>\n",
       "      <td>https://www.yna.co.kr/view/AKR2022072802355100...</td>\n",
       "    </tr>\n",
       "    <tr>\n",
       "      <th>1</th>\n",
       "      <td>[속보] 추경호 \"한미 기준금리 역전, 국내 영향 제한적…적절한 대응이 중요\"</td>\n",
       "      <td>http://www.kado.net/news/articleView.html?idxn...</td>\n",
       "    </tr>\n",
       "    <tr>\n",
       "      <th>2</th>\n",
       "      <td>[종합]미 연준, 0.75%p 금리인상...파월, 속도 조절 시사</td>\n",
       "      <td>http://www.fnnews.com/news/202207280322470963</td>\n",
       "    </tr>\n",
       "    <tr>\n",
       "      <th>3</th>\n",
       "      <td>\"美 공격적 금리 인상…韓도 3.65%까지 1.4%p 올려야\"</td>\n",
       "      <td>http://www.newsis.com/view/?id=NISX20220727_00...</td>\n",
       "    </tr>\n",
       "    <tr>\n",
       "      <th>4</th>\n",
       "      <td>한은 \"기준금리 0.25%p 오르면 민간소비 최고 0.15% 감소\"</td>\n",
       "      <td>https://www.yna.co.kr/view/AKR2022072707970000...</td>\n",
       "    </tr>\n",
       "    <tr>\n",
       "      <th>...</th>\n",
       "      <td>...</td>\n",
       "      <td>...</td>\n",
       "    </tr>\n",
       "    <tr>\n",
       "      <th>193</th>\n",
       "      <td>주금공, 학자금대출 금리 2.9%로 인하</td>\n",
       "      <td>http://news.mk.co.kr/newsRead.php?no=662830&amp;ye...</td>\n",
       "    </tr>\n",
       "    <tr>\n",
       "      <th>195</th>\n",
       "      <td>\"금리 1%p 더 오르면 대출자 97만명, 금융 제도권서 밀려나\" KDI</td>\n",
       "      <td>http://www.fnnews.com/news/202207261247127153</td>\n",
       "    </tr>\n",
       "    <tr>\n",
       "      <th>197</th>\n",
       "      <td>추경호 \"한·미 금리역전 영향 제한적…필요시 선제적 대응\"</td>\n",
       "      <td>https://www.ebn.co.kr/news/view/1540270/?sc=Naver</td>\n",
       "    </tr>\n",
       "    <tr>\n",
       "      <th>198</th>\n",
       "      <td>삼성자산운용, 금리 액티브 ETF 출시 3개월간 손실일 '제로'</td>\n",
       "      <td>http://news.mt.co.kr/mtview.php?no=20220727105...</td>\n",
       "    </tr>\n",
       "    <tr>\n",
       "      <th>199</th>\n",
       "      <td>'비둘기' 서영경 금통위원 \"점진적 금리인상\"...베이비스텝 지지</td>\n",
       "      <td>http://news.mt.co.kr/mtview.php?no=20220727150...</td>\n",
       "    </tr>\n",
       "  </tbody>\n",
       "</table>\n",
       "<p>157 rows × 2 columns</p>\n",
       "</div>"
      ],
      "text/plain": [
       "                                           title  \\\n",
       "0            추경호 \"미국 금리인상 시장예상 부합…국내 영향 제한적\"(종합)   \n",
       "1    [속보] 추경호 \"한미 기준금리 역전, 국내 영향 제한적…적절한 대응이 중요\"   \n",
       "2           [종합]미 연준, 0.75%p 금리인상...파월, 속도 조절 시사   \n",
       "3             \"美 공격적 금리 인상…韓도 3.65%까지 1.4%p 올려야\"   \n",
       "4          한은 \"기준금리 0.25%p 오르면 민간소비 최고 0.15% 감소\"   \n",
       "..                                           ...   \n",
       "193                       주금공, 학자금대출 금리 2.9%로 인하   \n",
       "195     \"금리 1%p 더 오르면 대출자 97만명, 금융 제도권서 밀려나\" KDI   \n",
       "197             추경호 \"한·미 금리역전 영향 제한적…필요시 선제적 대응\"   \n",
       "198          삼성자산운용, 금리 액티브 ETF 출시 3개월간 손실일 '제로'   \n",
       "199         '비둘기' 서영경 금통위원 \"점진적 금리인상\"...베이비스텝 지지   \n",
       "\n",
       "                                                   url  \n",
       "0    https://www.yna.co.kr/view/AKR2022072802355100...  \n",
       "1    http://www.kado.net/news/articleView.html?idxn...  \n",
       "2        http://www.fnnews.com/news/202207280322470963  \n",
       "3    http://www.newsis.com/view/?id=NISX20220727_00...  \n",
       "4    https://www.yna.co.kr/view/AKR2022072707970000...  \n",
       "..                                                 ...  \n",
       "193  http://news.mk.co.kr/newsRead.php?no=662830&ye...  \n",
       "195      http://www.fnnews.com/news/202207261247127153  \n",
       "197  https://www.ebn.co.kr/news/view/1540270/?sc=Naver  \n",
       "198  http://news.mt.co.kr/mtview.php?no=20220727105...  \n",
       "199  http://news.mt.co.kr/mtview.php?no=20220727150...  \n",
       "\n",
       "[157 rows x 2 columns]"
      ]
     },
     "execution_count": 4,
     "metadata": {},
     "output_type": "execute_result"
    }
   ],
   "source": [
    "search('금리', 200)"
   ]
  },
  {
   "cell_type": "code",
   "execution_count": null,
   "id": "ff955da1",
   "metadata": {},
   "outputs": [],
   "source": []
  }
 ],
 "metadata": {
  "kernelspec": {
   "display_name": "Python 3 (ipykernel)",
   "language": "python",
   "name": "python3"
  },
  "language_info": {
   "codemirror_mode": {
    "name": "ipython",
    "version": 3
   },
   "file_extension": ".py",
   "mimetype": "text/x-python",
   "name": "python",
   "nbconvert_exporter": "python",
   "pygments_lexer": "ipython3",
   "version": "3.9.12"
  }
 },
 "nbformat": 4,
 "nbformat_minor": 5
}
