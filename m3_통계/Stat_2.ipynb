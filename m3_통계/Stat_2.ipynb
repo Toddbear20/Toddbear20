{
 "cells": [
  {
   "cell_type": "markdown",
   "id": "dec676dd",
   "metadata": {},
   "source": [
    "## 통계적 추정"
   ]
  },
  {
   "cell_type": "code",
   "execution_count": 1,
   "id": "7e4dbc58",
   "metadata": {},
   "outputs": [
    {
     "data": {
      "text/plain": [
       "'%.3f'"
      ]
     },
     "execution_count": 1,
     "metadata": {},
     "output_type": "execute_result"
    }
   ],
   "source": [
    "import numpy as np\n",
    "import pandas as pd\n",
    "import matplotlib.pyplot as plt\n",
    "from scipy import stats\n",
    "\n",
    "%precision 3"
   ]
  },
  {
   "cell_type": "code",
   "execution_count": 2,
   "id": "c80a92ee",
   "metadata": {},
   "outputs": [
    {
     "data": {
      "text/html": [
       "<div>\n",
       "<style scoped>\n",
       "    .dataframe tbody tr th:only-of-type {\n",
       "        vertical-align: middle;\n",
       "    }\n",
       "\n",
       "    .dataframe tbody tr th {\n",
       "        vertical-align: top;\n",
       "    }\n",
       "\n",
       "    .dataframe thead th {\n",
       "        text-align: right;\n",
       "    }\n",
       "</style>\n",
       "<table border=\"1\" class=\"dataframe\">\n",
       "  <thead>\n",
       "    <tr style=\"text-align: right;\">\n",
       "      <th></th>\n",
       "      <th>score</th>\n",
       "    </tr>\n",
       "  </thead>\n",
       "  <tbody>\n",
       "    <tr>\n",
       "      <th>0</th>\n",
       "      <td>76</td>\n",
       "    </tr>\n",
       "    <tr>\n",
       "      <th>1</th>\n",
       "      <td>55</td>\n",
       "    </tr>\n",
       "    <tr>\n",
       "      <th>2</th>\n",
       "      <td>80</td>\n",
       "    </tr>\n",
       "    <tr>\n",
       "      <th>3</th>\n",
       "      <td>80</td>\n",
       "    </tr>\n",
       "    <tr>\n",
       "      <th>4</th>\n",
       "      <td>74</td>\n",
       "    </tr>\n",
       "  </tbody>\n",
       "</table>\n",
       "</div>"
      ],
      "text/plain": [
       "   score\n",
       "0     76\n",
       "1     55\n",
       "2     80\n",
       "3     80\n",
       "4     74"
      ]
     },
     "execution_count": 2,
     "metadata": {},
     "output_type": "execute_result"
    }
   ],
   "source": [
    "df = pd.read_csv('ch4_scores400.csv')\n",
    "df.head()"
   ]
  },
  {
   "cell_type": "code",
   "execution_count": 3,
   "id": "0a775ef6",
   "metadata": {},
   "outputs": [
    {
     "data": {
      "text/plain": [
       "(400, 1)"
      ]
     },
     "execution_count": 3,
     "metadata": {},
     "output_type": "execute_result"
    }
   ],
   "source": [
    "scores = np.array(df['score'])\n",
    "df.shape"
   ]
  },
  {
   "cell_type": "code",
   "execution_count": 28,
   "id": "55596f9d",
   "metadata": {},
   "outputs": [
    {
     "data": {
      "text/plain": [
       "(69.530, 206.669)"
      ]
     },
     "execution_count": 28,
     "metadata": {},
     "output_type": "execute_result"
    }
   ],
   "source": [
    "# 모평균, 모분산 \n",
    "p_mean = np.mean(scores)\n",
    "p_var = np.var(scores)\n",
    "\n",
    "p_mean, p_var"
   ]
  },
  {
   "cell_type": "code",
   "execution_count": 5,
   "id": "ba58625b",
   "metadata": {},
   "outputs": [
    {
     "data": {
      "text/plain": [
       "(array([0.   , 0.   , 0.   , 0.   , 0.   , 0.   , 0.   , 0.   , 0.   ,\n",
       "        0.   , 0.   , 0.   , 0.   , 0.   , 0.   , 0.002, 0.   , 0.   ,\n",
       "        0.002, 0.002, 0.002, 0.   , 0.002, 0.   , 0.   , 0.002, 0.002,\n",
       "        0.003, 0.01 , 0.   , 0.017, 0.005, 0.013, 0.007, 0.015, 0.002,\n",
       "        0.03 , 0.013, 0.03 , 0.008, 0.032, 0.01 , 0.038, 0.013, 0.032,\n",
       "        0.027, 0.035, 0.012, 0.028, 0.017, 0.035, 0.017, 0.038, 0.017,\n",
       "        0.025, 0.015, 0.015, 0.015, 0.012, 0.005, 0.022, 0.01 , 0.012,\n",
       "        0.   , 0.012, 0.002, 0.008, 0.   , 0.   , 0.   , 0.   , 0.   ,\n",
       "        0.   , 0.   , 0.   , 0.   , 0.   , 0.   , 0.   , 0.   , 0.   ,\n",
       "        0.   , 0.   , 0.   , 0.   , 0.   , 0.   , 0.   , 0.   , 0.   ,\n",
       "        0.   , 0.   , 0.   , 0.   , 0.   , 0.   , 0.   , 0.   , 0.   ,\n",
       "        0.   ]),\n",
       " array([  0. ,   1.5,   3. ,   4.5,   6. ,   7.5,   9. ,  10.5,  12. ,\n",
       "         13.5,  15. ,  16.5,  18. ,  19.5,  21. ,  22.5,  24. ,  25.5,\n",
       "         27. ,  28.5,  30. ,  31.5,  33. ,  34.5,  36. ,  37.5,  39. ,\n",
       "         40.5,  42. ,  43.5,  45. ,  46.5,  48. ,  49.5,  51. ,  52.5,\n",
       "         54. ,  55.5,  57. ,  58.5,  60. ,  61.5,  63. ,  64.5,  66. ,\n",
       "         67.5,  69. ,  70.5,  72. ,  73.5,  75. ,  76.5,  78. ,  79.5,\n",
       "         81. ,  82.5,  84. ,  85.5,  87. ,  88.5,  90. ,  91.5,  93. ,\n",
       "         94.5,  96. ,  97.5,  99. , 100.5, 102. , 103.5, 105. , 106.5,\n",
       "        108. , 109.5, 111. , 112.5, 114. , 115.5, 117. , 118.5, 120. ,\n",
       "        121.5, 123. , 124.5, 126. , 127.5, 129. , 130.5, 132. , 133.5,\n",
       "        135. , 136.5, 138. , 139.5, 141. , 142.5, 144. , 145.5, 147. ,\n",
       "        148.5, 150. ]),\n",
       " <BarContainer object of 100 artists>)"
      ]
     },
     "execution_count": 5,
     "metadata": {},
     "output_type": "execute_result"
    },
    {
     "data": {
      "image/png": "[encoded data removed]",
      "text/plain": [
       "<Figure size 720x432 with 1 Axes>"
      ]
     },
     "metadata": {
      "needs_background": "light"
     },
     "output_type": "display_data"
    }
   ],
   "source": [
    "# 모집단이 정규분포를 이룬다고 가정하여 추정 수행\n",
    "\n",
    "plt.figure(figsize = (10,6))\n",
    "xs = np.arange(101)\n",
    "rv = stats.norm(p_mean, np.sqrt(p_var))\n",
    "\n",
    "plt.plot(xs, rv.pdf(xs), color = 'gray')\n",
    "plt.hist(scores, bins=100, range=(0,150), density = True)"
   ]
  },
  {
   "cell_type": "code",
   "execution_count": 6,
   "id": "273a2598",
   "metadata": {},
   "outputs": [
    {
     "data": {
      "text/plain": [
       "array([49, 60, 72, 86, 52, 61, 77, 91, 80, 56, 69, 67, 90, 56, 75, 79, 60,\n",
       "       79, 68, 81], dtype=int64)"
      ]
     },
     "execution_count": 6,
     "metadata": {},
     "output_type": "execute_result"
    }
   ],
   "source": [
    "# A학생이 무작위 추출한 표본 크기가 20인 표본\n",
    "np.random.seed(0)\n",
    "n = 20\n",
    "sample = np.random.choice(scores, n)\n",
    "sample"
   ]
  },
  {
   "cell_type": "code",
   "execution_count": 7,
   "id": "957d5ee9",
   "metadata": {},
   "outputs": [],
   "source": [
    "# 표본크기가 20인 표본 10000개 추출\n",
    "np.random.seed(1111)\n",
    "n = 20\n",
    "n_samples = 10000\n",
    "samples = np. random.choice(scores, (n_samples,n))"
   ]
  },
  {
   "cell_type": "markdown",
   "id": "71e64dab",
   "metadata": {},
   "source": [
    "## 점추정\n",
    "- 모평균이나 모분산 등의 모수를 하나의 수치로 추정\n",
    "- 추정량의 기댓값이 추측하려는 모수가 되는 성질을 불편성이라고 하며 불편성을 가진 추정량을 불편추정량이라고 한다.\n",
    "- 표본평균이 모평균을 잘 추정할 수 있는 근거 중 하나가 바로 이 불편성이다.\n",
    "- 표본크기 n을 증가시키면 추측하기 원하는 모수에 수렴해가는 성질을 일치성이라고 하며 일치성을 지닌 추정량을 일치추정량이라고 함\n",
    "- 표본평균은 불편성과 일치성을 모두 가지고 있기 때문에 모평균을 잘 추정한다고 말할 수 있다.\n"
   ]
  },
  {
   "cell_type": "code",
   "execution_count": 8,
   "id": "369e5bf6",
   "metadata": {},
   "outputs": [
    {
     "name": "stdout",
     "output_type": "stream",
     "text": [
      "모평균 :  69.53\n",
      "모분산 :  207.1870676691731\n",
      "표본평균, 분산 :  69.53799999999998 206.67808263157895\n"
     ]
    }
   ],
   "source": [
    "df = pd.read_csv('ch4_scores400.csv')\n",
    "print('모평균 : ', df.score.mean())\n",
    "np.random.seed(1111)\n",
    "n = 20\n",
    "n_samples = 10000\n",
    "samples = np. random.choice(scores, (n_samples,n))\n",
    "\n",
    "sample_mean = np.mean(samples, axis=1)\n",
    "\n",
    "print('모분산 : ', df.score.var())\n",
    "\n",
    "sample_u_vars = np.var(samples, axis=1, ddof=1)\n",
    "print('표본평균, 분산 : ', np.mean(sample_mean), np.mean(sample_u_vars))"
   ]
  },
  {
   "cell_type": "code",
   "execution_count": 18,
   "id": "fc9528a8",
   "metadata": {},
   "outputs": [
    {
     "name": "stdout",
     "output_type": "stream",
     "text": [
      "1번째 표본평균 : 67.000\n",
      "2번째 표본평균 : 72.850\n",
      "3번째 표본평균 : 69.200\n",
      "4번째 표본평균 : 64.450\n",
      "5번째 표본평균 : 72.650\n"
     ]
    }
   ],
   "source": [
    "for i in range(5):\n",
    "    s_mean = np.mean(samples[i])\n",
    "    print(f'{i+1}번째 표본평균 : {s_mean:.3f}')"
   ]
  },
  {
   "cell_type": "code",
   "execution_count": 9,
   "id": "951c240e",
   "metadata": {},
   "outputs": [
    {
     "data": {
      "text/plain": [
       "69.538"
      ]
     },
     "execution_count": 9,
     "metadata": {},
     "output_type": "execute_result"
    }
   ],
   "source": [
    "# 표본평균의 평균\n",
    "# 추정량의 기댓값이 추측하려는 모수가 되는 성질을 '불편성'이라 하고 불편성을 가진 추정량을 '불편추정량'이라고 합니다.\n",
    "# 표본평균의 기댓값이 모평균인 것을 대수의 법칙을 활용\n",
    "# 모평균이 69.53, 표본평균의 기댓값은 모평균이 되는 것 같다. \n",
    "sample_mean = np.mean(samples, axis=1)\n",
    "np.mean(sample_mean)"
   ]
  },
  {
   "cell_type": "code",
   "execution_count": 10,
   "id": "f0758b21",
   "metadata": {},
   "outputs": [
    {
     "data": {
      "text/plain": [
       "69.543"
      ]
     },
     "execution_count": 10,
     "metadata": {},
     "output_type": "execute_result"
    }
   ],
   "source": [
    "# 표본크기를 백만으로 할 때의 표본평균\n",
    "# 표본 크기 n을 증가시키면 추측하기 원하는 모수에 수렴해가는 성질, '일치성', 일치성을 가진 추정량 '일치추정량'\n",
    "# 표본 크기를 증가시키면 표본평균은 모평균에 수렴한다.\n",
    "np.mean(np.random.choice(scores, int(1e6)))"
   ]
  },
  {
   "cell_type": "code",
   "execution_count": 33,
   "id": "74192f21",
   "metadata": {},
   "outputs": [
    {
     "data": {
      "text/plain": [
       "70.400"
      ]
     },
     "execution_count": 33,
     "metadata": {},
     "output_type": "execute_result"
    }
   ],
   "source": [
    "# A학생이 추출한 표본의 표본평균\n",
    "np.random.seed(0)\n",
    "n = 20\n",
    "sample = np.random.choice(scores, n)\n",
    "s_mean = np.mean(sample)\n",
    "s_mean"
   ]
  },
  {
   "cell_type": "code",
   "execution_count": 12,
   "id": "fb69d42a",
   "metadata": {},
   "outputs": [
    {
     "data": {
      "text/plain": [
       "206.669"
      ]
     },
     "execution_count": 12,
     "metadata": {},
     "output_type": "execute_result"
    }
   ],
   "source": [
    "# 모분산\n",
    "np.var(scores)"
   ]
  },
  {
   "cell_type": "code",
   "execution_count": 20,
   "id": "9edd7ec5",
   "metadata": {},
   "outputs": [
    {
     "name": "stdout",
     "output_type": "stream",
     "text": [
      "1번째 표본분산 : 116.800\n",
      "2번째 표본분산 : 162.928\n",
      "3번째 표본분산 : 187.060\n",
      "4번째 표본분산 : 149.148\n",
      "5번째 표본분산 : 111.528\n"
     ]
    }
   ],
   "source": [
    "# 시행할 때마다 결과가 달라지는 표본분산\n",
    "for i in range(5):\n",
    "    s_var = np.var(samples[i])\n",
    "    print(f'{i+1}번째 표본분산 : {s_var:.3f}')"
   ]
  },
  {
   "cell_type": "code",
   "execution_count": 21,
   "id": "76718495",
   "metadata": {},
   "outputs": [
    {
     "data": {
      "text/plain": [
       "196.344"
      ]
     },
     "execution_count": 21,
     "metadata": {},
     "output_type": "execute_result"
    }
   ],
   "source": [
    "# 표본분산이 모분산의 불편추정량이 되는지 대수의 법칙으로 확인\n",
    "sample_vars = np.var(samples, axis=1)\n",
    "np.mean(sample_vars)\n",
    "# 모분산 206.669에 비해 작은 값이 되었다. 표본분산은 모분산의 불편추정량이 아니다."
   ]
  },
  {
   "cell_type": "code",
   "execution_count": 22,
   "id": "61983a27",
   "metadata": {},
   "outputs": [
    {
     "data": {
      "text/plain": [
       "206.678"
      ]
     },
     "execution_count": 22,
     "metadata": {},
     "output_type": "execute_result"
    }
   ],
   "source": [
    "# 불편분산, 표본분산에서 나누는 수 n을 n-1로 하는 다음 식을 계산, 표본분산은 S제곱, 불편분산은 s제곱으로 나타냄\n",
    "# n-1은 '자유도', 자유롭게 값을 취할 수 있는 변수의 개수\n",
    "sample_u_vars = np.var(samples, axis=1, ddof=1)\n",
    "np.mean(sample_u_vars)\n",
    "# 불편분산은 모분산에 가까운 값이 되고 모분산의 불편 추정량이 되는 것 같다."
   ]
  },
  {
   "cell_type": "code",
   "execution_count": 24,
   "id": "b084b8f8",
   "metadata": {},
   "outputs": [
    {
     "data": {
      "text/plain": [
       "207.128"
      ]
     },
     "execution_count": 24,
     "metadata": {},
     "output_type": "execute_result"
    }
   ],
   "source": [
    "# 일치성 확인\n",
    "# 모분산에 가까운 값이 되고 일치추정량이 된 것 같다.\n",
    "np.var(np.random.choice(scores, int(1e6)), ddof=1)"
   ]
  },
  {
   "cell_type": "code",
   "execution_count": 13,
   "id": "1d943be7",
   "metadata": {
    "scrolled": true
   },
   "outputs": [
    {
     "data": {
      "text/plain": [
       "158.253"
      ]
     },
     "execution_count": 13,
     "metadata": {},
     "output_type": "execute_result"
    }
   ],
   "source": [
    "# A학생의 표본으로 불편분산 계산\n",
    "u_var = np.var(sample, ddof=1)\n",
    "u_var"
   ]
  },
  {
   "cell_type": "markdown",
   "id": "fda94aa8",
   "metadata": {},
   "source": [
    "## 구간추정\n",
    "- 모평균의 구간추정, 여기서는 모집단으로 정규분포를 가정, 더 나아가 그 모분산을 알고 있는 경우를 생각\n",
    "- 표본평균은 N(뮤, 시그마제곱/n)을 땨른다.\n",
    "- 추정량의 표준편차를 표준오차라고 한다.\n",
    "- 확률변수가 0.975~0.025에 위치할 확률이 95%이다.\n",
    "- 이를 신뢰구간이라고 하며, 신뢰구간의 하한과 상한을 신뢰상한, 신뢰하한이라고 한다."
   ]
  },
  {
   "cell_type": "code",
   "execution_count": 34,
   "id": "d5724318",
   "metadata": {},
   "outputs": [
    {
     "data": {
      "text/plain": [
       "(69.530, 206.669)"
      ]
     },
     "execution_count": 34,
     "metadata": {},
     "output_type": "execute_result"
    }
   ],
   "source": [
    "p_mean = np.mean(scores)\n",
    "p_var = np.var(scores)\n",
    "\n",
    "p_mean, p_var"
   ]
  },
  {
   "cell_type": "code",
   "execution_count": 37,
   "id": "f7ec61a8",
   "metadata": {},
   "outputs": [
    {
     "data": {
      "text/plain": [
       "70.400"
      ]
     },
     "execution_count": 37,
     "metadata": {},
     "output_type": "execute_result"
    }
   ],
   "source": [
    "np.random.seed(0)\n",
    "n = 20\n",
    "sample = np.random.choice(scores, n)\n",
    "s_mean = np.mean(sample)\n",
    "s_mean"
   ]
  },
  {
   "cell_type": "code",
   "execution_count": 38,
   "id": "a1267fa9",
   "metadata": {},
   "outputs": [
    {
     "data": {
      "text/plain": [
       "(64.100, 76.700)"
      ]
     },
     "execution_count": 38,
     "metadata": {},
     "output_type": "execute_result"
    }
   ],
   "source": [
    "# 신뢰구간 계산, 신뢰수준 95%의 신뢰구간\n",
    "rv = stats.norm()\n",
    "lcl = s_mean - rv.isf(0.025) * np.sqrt(p_var/n)\n",
    "ucl = s_mean - rv.isf(0.975) * np.sqrt(p_var/n)\n",
    "\n",
    "lcl,ucl#신뢰하한, 신뢰상한"
   ]
  },
  {
   "cell_type": "markdown",
   "id": "b3bbb9a9",
   "metadata": {},
   "source": [
    "### 신뢰구간 해석\n",
    "- 95%의 신뢰구간에 대한 바른 해석, \n",
    "```\n",
    "동일한 방법으로 수차례 표본추출하여 구간추정을 하면, 그 중에 95%의 구간추정에는 모평군이 포함되어 있다.\n",
    "```"
   ]
  },
  {
   "cell_type": "code",
   "execution_count": 40,
   "id": "862d681e",
   "metadata": {
    "scrolled": false
   },
   "outputs": [
    {
     "data": {
      "image/png": "[encoded data removed]",
      "text/plain": [
       "<Figure size 720x432 with 1 Axes>"
      ]
     },
     "metadata": {
      "needs_background": "light"
     },
     "output_type": "display_data"
    }
   ],
   "source": [
    "# 신뢰구간 그래프화\n",
    "fig = plt.figure(figsize=(10,6))\n",
    "ax = fig.add_subplot(111)\n",
    "\n",
    "rv = stats.norm()\n",
    "n_samples=20\n",
    "ax.vlines(p_mean,0,21)\n",
    "for i in range(n_samples):\n",
    "    sample_ = samples[i]\n",
    "    s_mean_ = np.mean(sample_)\n",
    "    lcl = s_mean_ - rv.isf(0.025)*np.sqrt(p_var/n)\n",
    "    ucl = s_mean_ - rv.isf(0.975)*np.sqrt(p_var/n)\n",
    "    if lcl <= p_mean <= ucl:\n",
    "        ax.scatter(s_mean_, n_samples-i, color='gray')\n",
    "        ax.hlines(n_samples-i, lcl, ucl,  color='gray')\n",
    "    else:\n",
    "        ax.scatter(s_mean_, n_samples-i, color='b')\n",
    "        ax.hlines(n_samples-i, lcl, ucl,  color='b')\n",
    "ax.set_xticks([p_mean])\n",
    "ax.set_xticklabels(['population mean'])\n",
    "\n",
    "plt.show()\n",
    "\n",
    "# 20번 중 1번 모평균을 포함하지 않는 구간추정이 수행됨\n",
    "# 이것이 95% 신뢰구간의 이미지"
   ]
  },
  {
   "cell_type": "code",
   "execution_count": 41,
   "id": "58ab0ce0",
   "metadata": {},
   "outputs": [
    {
     "data": {
      "text/plain": [
       "0.951"
      ]
     },
     "execution_count": 41,
     "metadata": {},
     "output_type": "execute_result"
    }
   ],
   "source": [
    "# 신뢰구간을 1만번 계산, 신뢰구간에 모평균이 포함된 것은 몇 %인지 계산\n",
    "rv = stats.norm()\n",
    "cnt = 0\n",
    "\n",
    "for sample_ in samples:\n",
    "    s_mean_ = np.mean(sample_)\n",
    "    lcl = s_mean_ - rv.isf(0.025)*np.sqrt(p_var/n)\n",
    "    ucl = s_mean_ - rv.isf(0.975)*np.sqrt(p_var/n)\n",
    "    if lcl <= p_mean <= ucl:\n",
    "        cnt += 1\n",
    "cnt/len(samples)\n",
    "# 신뢰구간의 약 95%가 모평균을 포함하고 있음을 확인"
   ]
  },
  {
   "cell_type": "markdown",
   "id": "77a4a888",
   "metadata": {},
   "source": [
    "## 정규분포의 모분산 구간추정\n",
    "- 불편분산을 변환하여 대표적인 확률분포를 따르는 확률변수를 생성해야함\n",
    "- 이 때, 사용되는 확률분포가 카이제곱분포"
   ]
  },
  {
   "cell_type": "code",
   "execution_count": 43,
   "id": "856a2e0e",
   "metadata": {},
   "outputs": [
    {
     "data": {
      "text/plain": [
       "array([11.303, 15.767, 18.102, ..., 19.435,  9.265, 18.625])"
      ]
     },
     "execution_count": 43,
     "metadata": {},
     "output_type": "execute_result"
    }
   ],
   "source": [
    "# 만 개의 표본 데이터에서 Y의 표본 데이터를 생성\n",
    "sample_y = sample_u_vars * (n-1)/p_var\n",
    "sample_y"
   ]
  },
  {
   "cell_type": "code",
   "execution_count": 46,
   "id": "ec807cfe",
   "metadata": {},
   "outputs": [
    {
     "data": {
      "image/png": "[encoded data removed]",
      "text/plain": [
       "<Figure size 720x432 with 1 Axes>"
      ]
     },
     "metadata": {
      "needs_background": "light"
     },
     "output_type": "display_data"
    }
   ],
   "source": [
    "# Y의 표본데이터 히스토그램과 함께, 카이제곱(n-1)의 밀도함수를 그림\n",
    "fig = plt.figure(figsize=(10,6))\n",
    "ax = fig.add_subplot(111)\n",
    "\n",
    "xs = np.linspace(0,40,100)\n",
    "rv = stats.chi2(df=n-1)\n",
    "ax.plot(xs, rv.pdf(xs), color='black')\n",
    "hist,_,_ = ax.hist(sample_y, bins =100, range=(0,40), density=True)\n",
    "\n",
    "plt.show()\n",
    "# 시험 점수의 분포가 정규분포와 깨끗하게 일치하지는 않지만 대략 카이제곱(n-1)과 일치한다고 말할 수 있다."
   ]
  },
  {
   "cell_type": "code",
   "execution_count": 48,
   "id": "0953b749",
   "metadata": {},
   "outputs": [
    {
     "data": {
      "text/plain": [
       "(91.525, 337.596)"
      ]
     },
     "execution_count": 48,
     "metadata": {},
     "output_type": "execute_result"
    }
   ],
   "source": [
    "# 모분산의 구간추정\n",
    "rv = stats.chi2(df=n-1)\n",
    "lcl = (n-1)*u_var/rv.isf(0.025)\n",
    "hcl = (n-1)*u_var/rv.isf(0.975)\n",
    "\n",
    "lcl, hcl"
   ]
  },
  {
   "cell_type": "code",
   "execution_count": 50,
   "id": "54c0fde4",
   "metadata": {
    "scrolled": true
   },
   "outputs": [
    {
     "data": {
      "image/png": "[encoded data removed]",
      "text/plain": [
       "<Figure size 720x720 with 1 Axes>"
      ]
     },
     "metadata": {
      "needs_background": "light"
     },
     "output_type": "display_data"
    }
   ],
   "source": [
    "fig = plt.figure(figsize = (10,10))\n",
    "ax = fig.add_subplot(111)\n",
    "\n",
    "rv = stats.chi2(df=n-1)\n",
    "n_samples = 20\n",
    "ax.vlines(p_var, 0, 21)\n",
    "for i in range(n_samples):\n",
    "    sample_ = samples[i]\n",
    "    u_var_ = np.var(sample_, ddof=1)\n",
    "    lcl = (n-1)*u_var_/rv.isf(0.025)\n",
    "    ucl = (n-1)*u_var_/rv.isf(0.975)\n",
    "    if lcl <= p_var <= ucl:\n",
    "        ax.scatter(u_var_, n_samples-i, color='gray')\n",
    "        ax.hlines(n_samples-i, lcl, ucl, 'gray')\n",
    "    else:\n",
    "        ax.scatter(u_var_, n_samples-i, color='b')\n",
    "        ax.hlines(n_samples-i, lcl, ucl, 'b')\n",
    "ax.set_xticks([p_var])\n",
    "ax.set_xticklabels(['population variance'])\n",
    "\n",
    "plt.show()\n",
    "    "
   ]
  },
  {
   "cell_type": "code",
   "execution_count": 53,
   "id": "10ce0827",
   "metadata": {},
   "outputs": [
    {
     "data": {
      "text/plain": [
       "0.964"
      ]
     },
     "execution_count": 53,
     "metadata": {},
     "output_type": "execute_result"
    }
   ],
   "source": [
    "# 신뢰구간 1만번 계산\n",
    "rv = stats.chi2(df=n-1)\n",
    "cnt =0\n",
    "for sample_ in samples:\n",
    "    u_var_ = np.var(sample_, ddof=1)\n",
    "    lcl = (n-1)*u_var_ / rv.isf(0.025)\n",
    "    ucl = (n-1)*u_var_/rv.isf(0.975)\n",
    "    if lcl <= p_var <= ucl:\n",
    "        cnt += 1\n",
    "cnt/len(samples)"
   ]
  },
  {
   "cell_type": "code",
   "execution_count": 57,
   "id": "a8b0325f",
   "metadata": {},
   "outputs": [
    {
     "data": {
      "text/plain": [
       "70.400"
      ]
     },
     "execution_count": 57,
     "metadata": {},
     "output_type": "execute_result"
    }
   ],
   "source": [
    "np.random.seed(0)\n",
    "n = 20\n",
    "sample = np.random.choice(scores, n)\n",
    "s_mean = np.mean(sample)\n",
    "s_mean"
   ]
  },
  {
   "cell_type": "code",
   "execution_count": 58,
   "id": "b74e1301",
   "metadata": {},
   "outputs": [
    {
     "data": {
      "text/plain": [
       "(63.739, 77.061)"
      ]
     },
     "execution_count": 58,
     "metadata": {},
     "output_type": "execute_result"
    }
   ],
   "source": [
    "# 모분산을 알지 못할 때, 모평균의 신뢰구간\n",
    "# 이 상황에서는 모분산을 알 수 없어 기존 표준오차를 사용할 수 없다. 그 추정량인 불편분산을 사용한 표준오차를 사용한다.\n",
    "# 이를 사용하면 확률변수는 자유도가 n-1인 t분포를 따른다.\n",
    "# A학생의 표본 이용\n",
    "# 모평균 69.53은 신뢰수준 95%의 신뢰구간 내에 포함된다. \n",
    "rv = stats.t(df=n-1)\n",
    "lcl = s_mean - rv.isf(0.025)*np.sqrt(u_var/n)\n",
    "ucl = s_mean - rv.isf(0.975)*np.sqrt(u_var/n)\n",
    "\n",
    "lcl,ucl"
   ]
  },
  {
   "cell_type": "markdown",
   "id": "24ec8dad",
   "metadata": {},
   "source": [
    "## 베르누이 분포의 모평균 구간추정\n",
    "- 2진 변수에는 베르누이 분포가 사용, 모집단 비율이 p라고 한다면 2진변수의 표본은 Bern(p)를 따르는 확률변수\n",
    "- Bern(p)의 기댓값이 p가 되는 사실로부터 모집단의 비율 p는 모평균의 추정과 같은 구조, 이 추정을 모비율의 추정이라고 한다."
   ]
  },
  {
   "cell_type": "code",
   "execution_count": 59,
   "id": "d9ff40ec",
   "metadata": {},
   "outputs": [
    {
     "data": {
      "text/plain": [
       "array([1, 0, 1, 1, 1, 1, 1, 0, 0, 1], dtype=int64)"
      ]
     },
     "execution_count": 59,
     "metadata": {},
     "output_type": "execute_result"
    }
   ],
   "source": [
    "# 사용 데이터, '어느 기업이 출시한 상품 A를 알고 있는가?' 이 데이터를 통해 상품 A에 대한 국민 전체의 인지도 p를 조사하는 것이 목표\n",
    "enquete_df = pd.read_csv('ch10_enquete.csv')\n",
    "enquete = np.array(enquete_df['known'])\n",
    "n = len(enquete)\n",
    "enquete[:10]"
   ]
  },
  {
   "cell_type": "code",
   "execution_count": 64,
   "id": "b3f401ea",
   "metadata": {},
   "outputs": [
    {
     "data": {
      "text/plain": [
       "0.709"
      ]
     },
     "execution_count": 64,
     "metadata": {},
     "output_type": "execute_result"
    }
   ],
   "source": [
    "# Bern(p)의 기댓값 p, 분산이 p(1-p)이므로 표본평균의 기댓값은 p, 분산은 p(1-p)/n\n",
    "\n",
    "s_mean = np.mean(enquete)\n",
    "s_mean\n",
    "# A 상품의 인지도는 70.9%라고 할 수 있다."
   ]
  },
  {
   "cell_type": "code",
   "execution_count": 66,
   "id": "de195e2b",
   "metadata": {},
   "outputs": [
    {
     "data": {
      "text/plain": [
       "(0.681, 0.737)"
      ]
     },
     "execution_count": 66,
     "metadata": {},
     "output_type": "execute_result"
    }
   ],
   "source": [
    "# 모평균의 신뢰구간 추정\n",
    "\n",
    "rv = stats.norm()\n",
    "lcl = s_mean - rv.isf(0.025)*np.sqrt(s_mean*(1-s_mean)/n)\n",
    "ucl = s_mean - rv.isf(0.975)*np.sqrt(s_mean*(1-s_mean)/n)\n",
    "\n",
    "lcl, ucl"
   ]
  },
  {
   "cell_type": "code",
   "execution_count": null,
   "id": "83b2af68",
   "metadata": {},
   "outputs": [],
   "source": []
  },
  {
   "cell_type": "code",
   "execution_count": null,
   "id": "f19abbd3",
   "metadata": {},
   "outputs": [],
   "source": [
    "# 포아송분포의 모평균 신뢰구간"
   ]
  },
  {
   "cell_type": "code",
   "execution_count": 67,
   "id": "d1b7a95c",
   "metadata": {},
   "outputs": [
    {
     "data": {
      "text/plain": [
       "array([10, 11,  9,  9, 18, 13,  4, 10, 10,  8], dtype=int64)"
      ]
     },
     "execution_count": 67,
     "metadata": {},
     "output_type": "execute_result"
    }
   ],
   "source": [
    "n_access_df = pd.read_csv('ch10_access.csv')\n",
    "n_access_df\n",
    "n_access = np.array(n_access_df['access number'])\n",
    "n = len(n_access)\n",
    "n_access[:10]"
   ]
  },
  {
   "cell_type": "code",
   "execution_count": 68,
   "id": "414458a0",
   "metadata": {},
   "outputs": [
    {
     "data": {
      "text/plain": [
       "10.444"
      ]
     },
     "execution_count": 68,
     "metadata": {},
     "output_type": "execute_result"
    }
   ],
   "source": [
    "s_mean = n_access.mean()\n",
    "s_mean"
   ]
  },
  {
   "cell_type": "code",
   "execution_count": 69,
   "id": "a8e5097d",
   "metadata": {},
   "outputs": [
    {
     "data": {
      "text/plain": [
       "(9.698, 11.191)"
      ]
     },
     "execution_count": 69,
     "metadata": {},
     "output_type": "execute_result"
    }
   ],
   "source": [
    "# 모평균 람다의 신뢰구간\n",
    "\n",
    "rv = stats.norm()\n",
    "lcl = s_mean - rv.isf(0.025)*np.sqrt(s_mean/n)\n",
    "ucl = s_mean - rv.isf(0.975)*np.sqrt(s_mean/n)\n",
    "\n",
    "lcl,ucl"
   ]
  },
  {
   "cell_type": "markdown",
   "id": "84ab055d",
   "metadata": {},
   "source": [
    "#### 과제_0905_1\n",
    "p266~p291 예제 코드를 풀어보세요."
   ]
  },
  {
   "cell_type": "markdown",
   "id": "e275f4a8",
   "metadata": {},
   "source": [
    "#### 과제_0905_2\n",
    "- 다음 용어를 예를 들어 설명하세요.\n",
    "  불편성, 일치성, 불편분산<br>\n",
    "- 카이제곱분포, t분포가 구간 추정에 활용된 사례를 만들어 설명하세요."
   ]
  },
  {
   "cell_type": "markdown",
   "id": "b3ab94e6",
   "metadata": {},
   "source": [
    "## 통계적 가설검정"
   ]
  },
  {
   "cell_type": "code",
   "execution_count": 5,
   "id": "d04bf0bb",
   "metadata": {},
   "outputs": [],
   "source": [
    "import numpy as np\n",
    "import pandas as pd\n",
    "from scipy import stats\n",
    "%precision 3\n",
    "np.random.seed(1111)"
   ]
  },
  {
   "cell_type": "code",
   "execution_count": 8,
   "id": "a8abdca0",
   "metadata": {
    "scrolled": true
   },
   "outputs": [
    {
     "name": "stdout",
     "output_type": "stream",
     "text": [
      "       무게\n",
      "0  122.02\n",
      "1  131.73\n",
      "2  130.60\n",
      "3  131.82\n",
      "4  132.05\n",
      "14\n"
     ]
    }
   ],
   "source": [
    "# 감자튀김의 무게 데이터\n",
    "df = pd.read_csv('ch11_potato.csv')\n",
    "print(df.head())\n",
    "print(len(df))\n",
    "\n",
    "sample = np.array(df['무게'])"
   ]
  },
  {
   "cell_type": "code",
   "execution_count": 9,
   "id": "8a246153",
   "metadata": {
    "scrolled": true
   },
   "outputs": [
    {
     "data": {
      "text/plain": [
       "128.451"
      ]
     },
     "execution_count": 9,
     "metadata": {},
     "output_type": "execute_result"
    }
   ],
   "source": [
    "# 표본평균\n",
    "s_mean = np.mean(sample)\n",
    "s_mean"
   ]
  },
  {
   "cell_type": "markdown",
   "id": "4de45abb",
   "metadata": {},
   "source": [
    "## 통계적 가설검정이란\n",
    "모집단의 모수에 관하여 두가지 가설을 세우고 표본으로부터 계산되는 통계량을 이용하여 어느 가설이 옳은지 판단하는 통계적인 방법\n",
    "- 검정통계량 vs 임곗값\n",
    "- p값 vs 유의수준\n"
   ]
  },
  {
   "cell_type": "code",
   "execution_count": 12,
   "id": "0243062f",
   "metadata": {},
   "outputs": [
    {
     "name": "stdout",
     "output_type": "stream",
     "text": [
      "130.0 0.8017837257372732 \n",
      "\n",
      "[128.958 129.14  130.634 129.296 131.204 129.981 130.221 129.225 128.733\n",
      " 129.837] \n",
      "\n"
     ]
    },
    {
     "data": {
      "text/plain": [
       "128.681"
      ]
     },
     "execution_count": 12,
     "metadata": {},
     "output_type": "execute_result"
    }
   ],
   "source": [
    "# 모평균이 알려진 감자튀김 무게 평균 130g보다 적은지 여부(모집단이 정규분포를 따르고 모분산은 9)\n",
    "# 모평균 가설 130, 모분산 9 전제\n",
    "rv = stats.norm(130, np.sqrt(9/14))\n",
    "rv.isf(0.95)\n",
    "print(rv.mean(), rv.std(), '\\n')\n",
    "print(rv.rvs(10),'\\n')\n",
    "rv.isf(0.95)"
   ]
  },
  {
   "cell_type": "code",
   "execution_count": 13,
   "id": "2a684d49",
   "metadata": {},
   "outputs": [
    {
     "data": {
      "text/plain": [
       "<bound method _AxesBase.set_ylim of <AxesSubplot:xlabel='x', ylabel='pdf'>>"
      ]
     },
     "execution_count": 13,
     "metadata": {},
     "output_type": "execute_result"
    },
    {
     "data": {
      "image/png": "[encoded data removed]",
      "text/plain": [
       "<Figure size 720x432 with 2 Axes>"
      ]
     },
     "metadata": {
      "needs_background": "light"
     },
     "output_type": "display_data"
    }
   ],
   "source": [
    "import matplotlib.pyplot as plt\n",
    "fig = plt.figure(figsize=(10,6))\n",
    "ax1 = fig.add_subplot(111)\n",
    "ax2 = ax1.twinx()\n",
    "# x축을 공용으로 쓸 때\n",
    "xs = np.linspace(127,133,60)\n",
    "\n",
    "ax1.plot(xs,rv.pdf(xs))\n",
    "ax2.plot(xs,rv.cdf(xs),color='black')\n",
    "ax1.vlines(rv.ppf(0.05), 0,0.5, color='gray',ls='--')\n",
    "ax1.set_xlabel(\"x\",fontsize=20)\n",
    "ax1.set_ylabel('pdf',rotation=0,fontsize=20)\n",
    "ax2.set_ylabel('cdf',rotation=0,fontsize=20)\n",
    "ax1.set_ylim\n"
   ]
  },
  {
   "cell_type": "code",
   "execution_count": 14,
   "id": "b260a037",
   "metadata": {},
   "outputs": [
    {
     "data": {
      "text/plain": [
       "-1.932"
      ]
     },
     "execution_count": 14,
     "metadata": {},
     "output_type": "execute_result"
    }
   ],
   "source": [
    "# 검정통계량 z : 표본평균을 표준화\n",
    "z = (s_mean - 130)/np.sqrt(9/14)\n",
    "z"
   ]
  },
  {
   "cell_type": "code",
   "execution_count": 15,
   "id": "ce878f1d",
   "metadata": {},
   "outputs": [
    {
     "data": {
      "text/plain": [
       "-1.645"
      ]
     },
     "execution_count": 15,
     "metadata": {},
     "output_type": "execute_result"
    }
   ],
   "source": [
    "# 임곗값\n",
    "rv = stats.norm()\n",
    "rv.isf(0.95)\n",
    "# 검정통계량이 임곗값보다 적으므로 귀무가설 기각(모평균 130 기각)"
   ]
  },
  {
   "cell_type": "code",
   "execution_count": 16,
   "id": "f85b7b04",
   "metadata": {},
   "outputs": [
    {
     "data": {
      "text/plain": [
       "0.027"
      ]
     },
     "execution_count": 16,
     "metadata": {},
     "output_type": "execute_result"
    }
   ],
   "source": [
    "# 검정통계량으로부터 p값을 산출, 유의수준은 0.05\n",
    "# 누적분포함수에 z를 넣어줌\n",
    "# 유의수준보다 p값이 적으므로 귀무가설은 기각됨, 대립가설 채택\n",
    "rv.cdf(z)"
   ]
  },
  {
   "cell_type": "markdown",
   "id": "12c4a69b",
   "metadata": {},
   "source": [
    "### 단측검정과 양측검정\n",
    "귀무가설 : 감자튀김의 무게는 130g이다.\n",
    "- 단측검정 : 감자튀김의 무게가 130g보다 작다를 대립가설로 수행\n",
    "- 양측검정 : 감자튀김의 무게는 130g이 아니다를 대립가설로 수행\n"
   ]
  },
  {
   "cell_type": "code",
   "execution_count": 17,
   "id": "fb3a13da",
   "metadata": {},
   "outputs": [
    {
     "data": {
      "text/plain": [
       "-1.932"
      ]
     },
     "execution_count": 17,
     "metadata": {},
     "output_type": "execute_result"
    }
   ],
   "source": [
    "z = (s_mean - 130)/np.sqrt(9/14)\n",
    "z"
   ]
  },
  {
   "cell_type": "code",
   "execution_count": 18,
   "id": "339f5149",
   "metadata": {},
   "outputs": [
    {
     "data": {
      "text/plain": [
       "(-1.960, 1.960)"
      ]
     },
     "execution_count": 18,
     "metadata": {},
     "output_type": "execute_result"
    }
   ],
   "source": [
    "rv = stats.norm()\n",
    "rv.interval(0.95)\n",
    "# 양측검정일 경우 임계값은 표준정규분포 95% 구간에 따라 구함\n",
    "# 임곗값과 검정통계량을 비교해보면 검정통계량이 채택역에 들어감."
   ]
  },
  {
   "cell_type": "code",
   "execution_count": 19,
   "id": "62607d23",
   "metadata": {},
   "outputs": [
    {
     "data": {
      "text/plain": [
       "0.053"
      ]
     },
     "execution_count": 19,
     "metadata": {},
     "output_type": "execute_result"
    }
   ],
   "source": [
    "# 양측검정의 p값은 상단과 하단의 양쪽 면적을 고려해야 하므로 누적밀도함수의 2배로 한다.\n",
    "# p값을 구했을 때,유의수준 0.05보다 크므로 귀무가설을 채택한다. (모평균은 130이 아니라고 말할 수 없다.)\n",
    "rv.cdf(z)*2"
   ]
  },
  {
   "cell_type": "markdown",
   "id": "5814e0a3",
   "metadata": {},
   "source": [
    "#### 가설검정에서의 두 가지 오류\n",
    "- 제1종 오류 : 귀무가설이 옳을 때 귀무가설을 기각하는 오류\n",
    "  - '실제로 평균이 130g'인데도 평균은 130g 보다 작다라는 결론을 내리는 상황 \n",
    "- 제2종 오류 : 대립가설이 옳을 때 귀무가설을 채택하는 오류\n",
    "  - '모평균은 130g 보다 작다'인데도 모평균은 130g 보다 작다라는 결론을 얻을 수 없는 비율\n",
    "- 통계적 가설검정에서는 제1종 오류는 제어할 수 있지만 제2종 오류는 제어할 수 없는 비대칭성이 있다.\n"
   ]
  },
  {
   "cell_type": "code",
   "execution_count": 48,
   "id": "f82e1001",
   "metadata": {},
   "outputs": [],
   "source": [
    "#평균이 130, 표준편차가 3, 실제로 평균은 130인 상황을 고려 N(130,9)\n",
    "rv = stats.norm(130,3)"
   ]
  },
  {
   "cell_type": "code",
   "execution_count": 49,
   "id": "510c60a6",
   "metadata": {},
   "outputs": [
    {
     "name": "stdout",
     "output_type": "stream",
     "text": [
      "임곗값 : -1.6448536269514722\n"
     ]
    },
    {
     "data": {
      "text/plain": [
       "0.049"
      ]
     },
     "execution_count": 49,
     "metadata": {},
     "output_type": "execute_result"
    }
   ],
   "source": [
    "# 1종 오류를 범할 비율\n",
    "c = stats.norm().isf(0.95)\n",
    "print('임곗값 :', c)\n",
    "n_samples = 10000\n",
    "cnt =0\n",
    "for _ in range(n_samples):\n",
    "    sample_ = rv.rvs(14)\n",
    "    s_mean_ = np.mean(sample_)\n",
    "    z = (s_mean_ - 130)/np.sqrt(9/14)\n",
    "    if z < c: #검정통계량 < 임계값\n",
    "        cnt += 1\n",
    "cnt/n_samples\n",
    "# 대략 5%의 비율로 130보다 작다라고 잘못 탐지(오탐)함\n",
    "# 제 1종 오류를 범하는 확률을 '위험률'이라 부르고 기호는 알파임\n",
    "# 위험률은 '유의수준'과 '일치'하므로 분석가가 제어할 수 있는 확률"
   ]
  },
  {
   "cell_type": "code",
   "execution_count": 50,
   "id": "e7379b45",
   "metadata": {},
   "outputs": [],
   "source": [
    "rv = stats.norm(128,3)"
   ]
  },
  {
   "cell_type": "code",
   "execution_count": 51,
   "id": "40488c3a",
   "metadata": {},
   "outputs": [
    {
     "data": {
      "text/plain": [
       "0.202"
      ]
     },
     "execution_count": 51,
     "metadata": {},
     "output_type": "execute_result"
    }
   ],
   "source": [
    "# 2종 오류를 범할 비율 >> 베타\n",
    "# 실제로 모평균이 130보다 작다 인데, 모평균은 130보다 작다 라는 결론을 얻을 수 없는 상황 >> 미탐\n",
    "# 1 - 베타 = 검정력, 분석가가 제어할 수 없는 확률\n",
    "c = stats.norm().isf(0.95)\n",
    "n_samples = 10000\n",
    "cnt = 0\n",
    "for _ in range(n_samples):\n",
    "    sample_ = np.round(rv.rvs(14), 2)\n",
    "    s_mean_ = np.mean(sample_)\n",
    "    z = (s_mean_ - 130)/np.sqrt(9/14)\n",
    "    if z >= c:#검정통계량 >= 임계값\n",
    "        cnt += 1\n",
    "cnt/n_samples"
   ]
  },
  {
   "cell_type": "markdown",
   "id": "0bf01688",
   "metadata": {},
   "source": [
    "#### 카이제곱검정\n",
    "- 독립성 검정이란 두 변수 'X,Y에 관해서 X와 Y가 독립이다.'라는 귀무가설과 'X,Y에 관해서 X와 Y가 독립이 아니다.'라는 대립가설에 의해 수행되는 검정\n",
    "- 독립성 검정에 카이제곱분포가 사용되기 때문에 카이제곱검정이라고도 부른다.\n",
    "- 광고A와 광고B간의 구입 비율에 유의한 차이가 있는지 확인하는 경우 사용할 수 있음.\n"
   ]
  },
  {
   "cell_type": "code",
   "execution_count": 6,
   "id": "db0ce716",
   "metadata": {},
   "outputs": [
    {
     "name": "stdout",
     "output_type": "stream",
     "text": [
      "1000\n"
     ]
    },
    {
     "data": {
      "text/html": [
       "<div>\n",
       "<style scoped>\n",
       "    .dataframe tbody tr th:only-of-type {\n",
       "        vertical-align: middle;\n",
       "    }\n",
       "\n",
       "    .dataframe tbody tr th {\n",
       "        vertical-align: top;\n",
       "    }\n",
       "\n",
       "    .dataframe thead th {\n",
       "        text-align: right;\n",
       "    }\n",
       "</style>\n",
       "<table border=\"1\" class=\"dataframe\">\n",
       "  <thead>\n",
       "    <tr style=\"text-align: right;\">\n",
       "      <th></th>\n",
       "      <th>광고</th>\n",
       "      <th>구입</th>\n",
       "    </tr>\n",
       "  </thead>\n",
       "  <tbody>\n",
       "    <tr>\n",
       "      <th>0</th>\n",
       "      <td>B</td>\n",
       "      <td>하지 않았다</td>\n",
       "    </tr>\n",
       "    <tr>\n",
       "      <th>1</th>\n",
       "      <td>B</td>\n",
       "      <td>하지 않았다</td>\n",
       "    </tr>\n",
       "    <tr>\n",
       "      <th>2</th>\n",
       "      <td>A</td>\n",
       "      <td>했다</td>\n",
       "    </tr>\n",
       "    <tr>\n",
       "      <th>3</th>\n",
       "      <td>A</td>\n",
       "      <td>했다</td>\n",
       "    </tr>\n",
       "    <tr>\n",
       "      <th>4</th>\n",
       "      <td>B</td>\n",
       "      <td>하지 않았다</td>\n",
       "    </tr>\n",
       "  </tbody>\n",
       "</table>\n",
       "</div>"
      ],
      "text/plain": [
       "  광고      구입\n",
       "0  B  하지 않았다\n",
       "1  B  하지 않았다\n",
       "2  A      했다\n",
       "3  A      했다\n",
       "4  B  하지 않았다"
      ]
     },
     "execution_count": 6,
     "metadata": {},
     "output_type": "execute_result"
    }
   ],
   "source": [
    "import pandas as pd\n",
    "import numpy as np\n",
    "ad_df = pd.read_csv('ch11_ad.csv')\n",
    "n = len(ad_df)\n",
    "print(n)\n",
    "ad_df.head()"
   ]
  },
  {
   "cell_type": "code",
   "execution_count": 7,
   "id": "55a16ea1",
   "metadata": {},
   "outputs": [
    {
     "data": {
      "text/html": [
       "<div>\n",
       "<style scoped>\n",
       "    .dataframe tbody tr th:only-of-type {\n",
       "        vertical-align: middle;\n",
       "    }\n",
       "\n",
       "    .dataframe tbody tr th {\n",
       "        vertical-align: top;\n",
       "    }\n",
       "\n",
       "    .dataframe thead th {\n",
       "        text-align: right;\n",
       "    }\n",
       "</style>\n",
       "<table border=\"1\" class=\"dataframe\">\n",
       "  <thead>\n",
       "    <tr style=\"text-align: right;\">\n",
       "      <th>구입</th>\n",
       "      <th>하지 않았다</th>\n",
       "      <th>했다</th>\n",
       "    </tr>\n",
       "    <tr>\n",
       "      <th>광고</th>\n",
       "      <th></th>\n",
       "      <th></th>\n",
       "    </tr>\n",
       "  </thead>\n",
       "  <tbody>\n",
       "    <tr>\n",
       "      <th>A</th>\n",
       "      <td>351</td>\n",
       "      <td>49</td>\n",
       "    </tr>\n",
       "    <tr>\n",
       "      <th>B</th>\n",
       "      <td>549</td>\n",
       "      <td>51</td>\n",
       "    </tr>\n",
       "  </tbody>\n",
       "</table>\n",
       "</div>"
      ],
      "text/plain": [
       "구입  하지 않았다  했다\n",
       "광고            \n",
       "A      351  49\n",
       "B      549  51"
      ]
     },
     "execution_count": 7,
     "metadata": {},
     "output_type": "execute_result"
    }
   ],
   "source": [
    "# 교차집계표(분할표) 작성, pandas crosstab으로 작성\n",
    "ad_cross = pd.crosstab(ad_df['광고'], ad_df['구입'])\n",
    "ad_cross"
   ]
  },
  {
   "cell_type": "code",
   "execution_count": 8,
   "id": "bd175b45",
   "metadata": {
    "scrolled": true
   },
   "outputs": [
    {
     "data": {
      "text/plain": [
       "광고\n",
       "A    0.1225\n",
       "B    0.0850\n",
       "dtype: float64"
      ]
     },
     "execution_count": 8,
     "metadata": {},
     "output_type": "execute_result"
    }
   ],
   "source": [
    "ad_cross['했다']/(ad_cross['했다']+ad_cross['하지 않았다'])"
   ]
  },
  {
   "cell_type": "code",
   "execution_count": 9,
   "id": "6ade7405",
   "metadata": {},
   "outputs": [
    {
     "data": {
      "text/plain": [
       "(900, 100)"
      ]
     },
     "execution_count": 9,
     "metadata": {},
     "output_type": "execute_result"
    }
   ],
   "source": [
    "n_not, n_yes = ad_cross.sum()\n",
    "n_not,n_yes"
   ]
  },
  {
   "cell_type": "code",
   "execution_count": 10,
   "id": "48445c4d",
   "metadata": {},
   "outputs": [
    {
     "data": {
      "text/plain": [
       "(400, 600)"
      ]
     },
     "execution_count": 10,
     "metadata": {},
     "output_type": "execute_result"
    }
   ],
   "source": [
    "n_adA, n_adB = ad_cross.sum(axis=1)\n",
    "n_adA, n_adB"
   ]
  },
  {
   "cell_type": "code",
   "execution_count": 11,
   "id": "55b56818",
   "metadata": {},
   "outputs": [
    {
     "data": {
      "text/html": [
       "<div>\n",
       "<style scoped>\n",
       "    .dataframe tbody tr th:only-of-type {\n",
       "        vertical-align: middle;\n",
       "    }\n",
       "\n",
       "    .dataframe tbody tr th {\n",
       "        vertical-align: top;\n",
       "    }\n",
       "\n",
       "    .dataframe thead th {\n",
       "        text-align: right;\n",
       "    }\n",
       "</style>\n",
       "<table border=\"1\" class=\"dataframe\">\n",
       "  <thead>\n",
       "    <tr style=\"text-align: right;\">\n",
       "      <th></th>\n",
       "      <th>했다</th>\n",
       "      <th>하지 않았다</th>\n",
       "    </tr>\n",
       "  </thead>\n",
       "  <tbody>\n",
       "    <tr>\n",
       "      <th>A</th>\n",
       "      <td>40.0</td>\n",
       "      <td>360.0</td>\n",
       "    </tr>\n",
       "    <tr>\n",
       "      <th>B</th>\n",
       "      <td>60.0</td>\n",
       "      <td>540.0</td>\n",
       "    </tr>\n",
       "  </tbody>\n",
       "</table>\n",
       "</div>"
      ],
      "text/plain": [
       "     했다  하지 않았다\n",
       "A  40.0   360.0\n",
       "B  60.0   540.0"
      ]
     },
     "execution_count": 11,
     "metadata": {},
     "output_type": "execute_result"
    }
   ],
   "source": [
    "# 기대도수 구하기\n",
    "ad_ef = pd.DataFrame({'했다':[n_adA*n_yes/n, \n",
    "                           n_adB*n_yes/n],'하지 않았다':[n_adA*n_not/n, \n",
    "                                                   n_adB*n_not/n]},\n",
    "                    index=['A','B'])\n",
    "ad_ef"
   ]
  },
  {
   "cell_type": "code",
   "execution_count": 17,
   "id": "4f1145c6",
   "metadata": {},
   "outputs": [
    {
     "data": {
      "text/plain": [
       "0.9999999988439061"
      ]
     },
     "execution_count": 17,
     "metadata": {},
     "output_type": "execute_result"
    }
   ],
   "source": [
    "from scipy import stats\n",
    "rv=stats.chi2(9)\n",
    "1-rv.cdf(0.05)"
   ]
  },
  {
   "cell_type": "code",
   "execution_count": 59,
   "id": "e7bcda49",
   "metadata": {},
   "outputs": [
    {
     "data": {
      "text/plain": [
       "3.750"
      ]
     },
     "execution_count": 59,
     "metadata": {},
     "output_type": "execute_result"
    }
   ],
   "source": [
    "# 기대도수와 관측도수의 차이를 측정함으로써 검정 수행\n",
    "# 검정 통계량 구하기\n",
    "y = ((ad_cross - ad_ef)**2/ad_ef).sum().sum()\n",
    "y"
   ]
  },
  {
   "cell_type": "code",
   "execution_count": 60,
   "id": "c308ef8d",
   "metadata": {},
   "outputs": [
    {
     "data": {
      "text/plain": [
       "0.053"
      ]
     },
     "execution_count": 60,
     "metadata": {},
     "output_type": "execute_result"
    }
   ],
   "source": [
    "# p값 구하기\n",
    "# 귀무가설은 채택되고 광고A와 광고B에 유의한 차이가 인정되지 않는다.\n",
    "rv = stats.chi2(1)\n",
    "1-rv.cdf(y)"
   ]
  },
  {
   "cell_type": "code",
   "execution_count": 61,
   "id": "d32657ff",
   "metadata": {},
   "outputs": [
    {
     "data": {
      "text/plain": [
       "(3.750, 0.053, 1)"
      ]
     },
     "execution_count": 61,
     "metadata": {},
     "output_type": "execute_result"
    }
   ],
   "source": [
    "chi2, p, dof, ef = stats.chi2_contingency(ad_cross, correction=False)\n",
    "chi2, p, dof"
   ]
  },
  {
   "cell_type": "code",
   "execution_count": 62,
   "id": "8c72e260",
   "metadata": {},
   "outputs": [
    {
     "data": {
      "text/plain": [
       "array([[360.,  40.],\n",
       "       [540.,  60.]])"
      ]
     },
     "execution_count": 62,
     "metadata": {},
     "output_type": "execute_result"
    }
   ],
   "source": [
    "ef"
   ]
  },
  {
   "cell_type": "markdown",
   "id": "fbe5ca42",
   "metadata": {},
   "source": [
    "#### 과제_0907_1\n",
    "p308 ~ 331 예제 풀기(윌콕슨, 만위트니는 제외)"
   ]
  },
  {
   "cell_type": "markdown",
   "id": "fa3c04f5",
   "metadata": {},
   "source": [
    "#### 과제_0907_2\n",
    "- 카이제곱 검정을 수행하여 독립성 검정을 수행하는 사례를 작성하여 설명하세요."
   ]
  },
  {
   "cell_type": "code",
   "execution_count": null,
   "id": "4f391c54",
   "metadata": {},
   "outputs": [],
   "source": [
    "# 시험 20문제, 3시간 시험, 오픈북\n",
    "# 기술통계,표준화, 이상치 찾기,제거,상관관계(회귀직선, 히트맵), 히스토그램 그리기, 이산확률분포, 연속형확률분포, 정규분포(파라미터, 특정확률에 대한 확률분포값, 확률구하기), 분석 전처리(지침에 따라), 교차분석표(교차집계표), 독립성 검정\n",
    "# 분석라이브러리 관련 문제, 통계에 필요한 문제들, 각 분포, 합의분포, 표본평균의 분포(중심극한정리) 중요, 시각화 필수(ㅉ;ㅣㅇ긋), \n",
    "# 추측통계 근간 : 중심극한정리, 대수의 법칙\n",
    "# 가설과 검정, 유의성 검정"
   ]
  },
  {
   "cell_type": "markdown",
   "id": "faee0917",
   "metadata": {},
   "source": [
    "#### 시험범위 : p336까지"
   ]
  },
  {
   "cell_type": "code",
   "execution_count": null,
   "id": "d749b469",
   "metadata": {},
   "outputs": [],
   "source": []
  }
 ],
 "metadata": {
  "kernelspec": {
   "display_name": "Python 3 (ipykernel)",
   "language": "python",
   "name": "python3"
  },
  "language_info": {
   "codemirror_mode": {
    "name": "ipython",
    "version": 3
   },
   "file_extension": ".py",
   "mimetype": "text/x-python",
   "name": "python",
   "nbconvert_exporter": "python",
   "pygments_lexer": "ipython3",
   "version": "3.8.13"
  }
 },
 "nbformat": 4,
 "nbformat_minor": 5
}
