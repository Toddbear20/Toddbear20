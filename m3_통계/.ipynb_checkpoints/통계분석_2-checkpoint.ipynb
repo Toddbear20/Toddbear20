{
 "cells": [
  {
   "cell_type": "markdown",
   "id": "ca4296b0-c0c1-402b-8f8f-49088f44a9a7",
   "metadata": {},
   "source": [
    "# 연속형 확률변수\n",
    "이산형 확률변수와 연속형 확률변수의 주된 차이는 확률변수가 취할 수 있는 값이 이산적인가 연속적인가이다. 연속형 확률변수의 경우 계산 과정에 적분이 포함된다. 적분은 SciPy의 integral 모듈을 사용하여 구현함"
   ]
  },
  {
   "cell_type": "code",
   "execution_count": 5,
   "id": "6f820f3f-1744-4d92-9e7a-992bfa98b866",
   "metadata": {},
   "outputs": [],
   "source": [
    "import pandas as pd\n",
    "import numpy as np\n",
    "import matplotlib.pyplot as plt\n",
    "%precision 3\n",
    "pd.set_option('display.precision', 3)\n",
    "np.set_printoptions(precision=3)\n",
    "%matplotlib inline\n",
    "# 적분\n",
    "from scipy import integrate\n",
    "import warnings\n",
    "# 적분에 관한 warning을 출력하지 않도록 한다\n",
    "warnings.filterwarnings('ignore')\n",
    "                        # category=integrate.IntegrationWarning\n",
    "                        "
   ]
  },
  {
   "cell_type": "markdown",
   "id": "e92bae30-e12d-4310-98db-8d377d52da02",
   "metadata": {},
   "source": [
    "## 미적분 관계\n",
    "\n",
    "- 총효용과 한계효용간의 관계를 미적분으로 설명할 수 있다.\n",
    "- 총효용곡선의 특정 x에 대한 y값은 한계효용곡선의 하방면적과 같고 한계효용곡선의 특정 x에 대한 y값은 총효용곡선의 x에서의 기울기와 같다.\n",
    "\n",
    "<img src = './미적분관계1.jpg' STYLE='width 100px;'>\n",
    "<img src = './미적분관계3.jpg' STYLE='width 100px;'>\n"
   ]
  },
  {
   "cell_type": "markdown",
   "id": "97807a7b-3219-4a23-a22e-4902d26b5bb6",
   "metadata": {},
   "source": [
    "#### [과제] 0829_1 \n",
    "p173 ~ 180 예제 풀이"
   ]
  },
  {
   "cell_type": "markdown",
   "id": "d4dd5689-eea2-444b-b2b6-5cbf4131d1ca",
   "metadata": {},
   "source": [
    "#### [과제] 0829_2\n",
    "p81 ~ 187 예제 풀이"
   ]
  },
  {
   "cell_type": "markdown",
   "id": "7da5acd3-8084-4bc7-a0db-2b6ccb15b9ca",
   "metadata": {},
   "source": [
    "## 1차원 연속형 확률변수"
   ]
  },
  {
   "cell_type": "markdown",
   "id": "54a0f84c-bbf4-4f9e-94b7-f40b239f63f0",
   "metadata": {},
   "source": [
    "### 1차원 연속형 확률변수의 정의"
   ]
  },
  {
   "cell_type": "code",
   "execution_count": 6,
   "id": "e48eee8a-e781-46e5-97e6-06bf8d536575",
   "metadata": {
    "ExecuteTime": {
     "end_time": "2018-08-10T06:11:27.995896Z",
     "start_time": "2018-08-10T06:11:27.994189Z"
    }
   },
   "outputs": [],
   "source": [
    "x_range = np.array([0, 1])"
   ]
  },
  {
   "cell_type": "code",
   "execution_count": 7,
   "id": "ab3ee20a-d769-404c-be88-8e8ed42bad28",
   "metadata": {
    "ExecuteTime": {
     "end_time": "2018-08-10T06:11:27.999765Z",
     "start_time": "2018-08-10T06:11:27.997038Z"
    }
   },
   "outputs": [],
   "source": [
    "def f(x):\n",
    "    if x_range[0] <= x <= x_range[1]:\n",
    "        return 2 * x\n",
    "    else:\n",
    "        return 0"
   ]
  },
  {
   "cell_type": "code",
   "execution_count": 8,
   "id": "bed6e5fa-2754-4dba-88bf-9ebd525360ca",
   "metadata": {
    "ExecuteTime": {
     "end_time": "2018-08-10T06:11:28.004031Z",
     "start_time": "2018-08-10T06:11:28.000873Z"
    }
   },
   "outputs": [],
   "source": [
    "X = [x_range, f]"
   ]
  },
  {
   "cell_type": "code",
   "execution_count": 9,
   "id": "ebd84cdc-d28e-45c5-a45a-960b9ac86c30",
   "metadata": {
    "ExecuteTime": {
     "end_time": "2018-08-10T06:11:28.114897Z",
     "start_time": "2018-08-10T06:11:28.005054Z"
    }
   },
   "outputs": [
    {
     "data": {
      "image/png": "[encoded data removed]",
      "text/plain": [
       "<Figure size 720x432 with 1 Axes>"
      ]
     },
     "metadata": {
      "needs_background": "light"
     },
     "output_type": "display_data"
    }
   ],
   "source": [
    "xs = np.linspace(x_range[0], x_range[1], 100)\n",
    "\n",
    "fig = plt.figure(figsize=(10, 6))\n",
    "ax = fig.add_subplot(111)\n",
    "\n",
    "ax.plot(xs, [f(x) for x in xs], label='f(x)', color='gray')\n",
    "ax.hlines(0, -0.2, 1.2, alpha=0.3)\n",
    "ax.vlines(0, -0.2, 2.2, alpha=0.3)\n",
    "ax.vlines(xs.max(), 0, 2.2, linestyles=':', color='gray')\n",
    "\n",
    "# 0.4부터 0.6 까지 x좌표를 준비\n",
    "xs = np.linspace(0.4, 0.6, 100)\n",
    "# xs의 범위로 f(x)와 x축으로 둘러싸인 영역을 진하게 칠함\n",
    "ax.fill_between(xs, [f(x) for x in xs], label='prob')\n",
    "\n",
    "ax.set_xticks(np.arange(-0.2, 1.3, 0.1))\n",
    "ax.set_xlim(-0.1, 1.1)\n",
    "ax.set_ylim(-0.2, 2.1)\n",
    "ax.legend()\n",
    "\n",
    "plt.show()"
   ]
  },
  {
   "cell_type": "code",
   "execution_count": 10,
   "id": "4235446a-5344-4587-8303-c448618cd253",
   "metadata": {
    "ExecuteTime": {
     "end_time": "2018-08-10T06:11:28.118561Z",
     "start_time": "2018-08-10T06:11:28.115978Z"
    }
   },
   "outputs": [
    {
     "data": {
      "text/plain": [
       "(0.200, 0.000)"
      ]
     },
     "execution_count": 10,
     "metadata": {},
     "output_type": "execute_result"
    }
   ],
   "source": [
    "# 첫 번째 인수는 피적분함수、두 번째 인수와 세 번째 인수는 적분 범위\n",
    "integrate.quad(f, 0.4, 0.6)"
   ]
  },
  {
   "cell_type": "code",
   "execution_count": 11,
   "id": "f1b4a30b-f0ed-428a-8e07-44ea71a57378",
   "metadata": {
    "ExecuteTime": {
     "end_time": "2018-08-10T06:11:28.123648Z",
     "start_time": "2018-08-10T06:11:28.119594Z"
    }
   },
   "outputs": [
    {
     "data": {
      "text/plain": [
       "0"
      ]
     },
     "execution_count": 11,
     "metadata": {},
     "output_type": "execute_result"
    }
   ],
   "source": [
    "from scipy.optimize import minimize_scalar\n",
    "\n",
    "res = minimize_scalar(f)\n",
    "# 함수의 최솟값은 fun이라는 인스턴스 변수에\n",
    "res.fun"
   ]
  },
  {
   "cell_type": "code",
   "execution_count": 12,
   "id": "0b59d440-6d9e-40b5-9eec-8614f5540fb8",
   "metadata": {
    "ExecuteTime": {
     "end_time": "2018-08-10T06:11:28.128546Z",
     "start_time": "2018-08-10T06:11:28.124644Z"
    }
   },
   "outputs": [
    {
     "data": {
      "text/plain": [
       "1.000"
      ]
     },
     "execution_count": 12,
     "metadata": {},
     "output_type": "execute_result"
    }
   ],
   "source": [
    "integrate.quad(f, -np.inf, np.inf)[0]"
   ]
  },
  {
   "cell_type": "code",
   "execution_count": 13,
   "id": "50dec1d4-1b17-4a25-bacd-ab009d1048a8",
   "metadata": {
    "ExecuteTime": {
     "end_time": "2018-08-10T06:11:28.132151Z",
     "start_time": "2018-08-10T06:11:28.129775Z"
    }
   },
   "outputs": [],
   "source": [
    "def F(x):\n",
    "    return integrate.quad(f, -np.inf, x)[0]"
   ]
  },
  {
   "cell_type": "code",
   "execution_count": 14,
   "id": "d4ef3c5e-fd34-434d-a012-76521f9b4a7b",
   "metadata": {
    "ExecuteTime": {
     "end_time": "2018-08-10T06:11:28.137297Z",
     "start_time": "2018-08-10T06:11:28.133139Z"
    }
   },
   "outputs": [
    {
     "data": {
      "text/plain": [
       "0.200"
      ]
     },
     "execution_count": 14,
     "metadata": {},
     "output_type": "execute_result"
    }
   ],
   "source": [
    "F(0.6) - F(0.4)"
   ]
  },
  {
   "cell_type": "code",
   "execution_count": 15,
   "id": "5de305b1-94e6-41c5-898a-e7d22a2a7ac3",
   "metadata": {
    "ExecuteTime": {
     "end_time": "2018-08-10T06:11:28.289237Z",
     "start_time": "2018-08-10T06:11:28.138285Z"
    }
   },
   "outputs": [
    {
     "data": {
      "image/png": "[encoded data removed]",
      "text/plain": [
       "<Figure size 720x432 with 1 Axes>"
      ]
     },
     "metadata": {
      "needs_background": "light"
     },
     "output_type": "display_data"
    }
   ],
   "source": [
    "xs = np.linspace(x_range[0], x_range[1], 100)\n",
    "\n",
    "fig = plt.figure(figsize=(10, 6))\n",
    "ax = fig.add_subplot(111)\n",
    "\n",
    "ax.plot(xs, [F(x) for x in xs], label='F(x)', color='gray')\n",
    "ax.hlines(0, -0.1, 1.1, alpha=0.3)\n",
    "ax.vlines(0, -0.1, 1.1, alpha=0.3)\n",
    "ax.vlines(xs.max(), 0, 1, linestyles=':', color='gray')\n",
    "\n",
    "ax.set_xticks(np.arange(-0.1, 1.2, 0.1))\n",
    "ax.set_xlim(-0.1, 1.1)\n",
    "ax.set_ylim(-0.1, 1.1)\n",
    "ax.legend()\n",
    "\n",
    "plt.show()"
   ]
  },
  {
   "cell_type": "code",
   "execution_count": 16,
   "id": "774fe86b-e5de-424d-8fba-f6b6c6454475",
   "metadata": {
    "ExecuteTime": {
     "end_time": "2018-08-10T06:11:28.294763Z",
     "start_time": "2018-08-10T06:11:28.290445Z"
    }
   },
   "outputs": [],
   "source": [
    "y_range = [3, 5]\n",
    "\n",
    "def g(y):\n",
    "    if y_range[0] <= y <= y_range[1]:\n",
    "        return (y - 3) / 2\n",
    "    else:\n",
    "        return 0\n",
    "    \n",
    "def G(y):\n",
    "    return integrate.quad(g, -np.inf, y)[0]"
   ]
  },
  {
   "cell_type": "code",
   "execution_count": 17,
   "id": "48c87ceb-8ddb-454c-ab7e-ac062bfb9550",
   "metadata": {
    "ExecuteTime": {
     "end_time": "2018-08-10T06:11:28.404604Z",
     "start_time": "2018-08-10T06:11:28.296187Z"
    }
   },
   "outputs": [
    {
     "data": {
      "image/png": "[encoded data removed]",
      "text/plain": [
       "<Figure size 720x432 with 1 Axes>"
      ]
     },
     "metadata": {
      "needs_background": "light"
     },
     "output_type": "display_data"
    }
   ],
   "source": [
    "ys = np.linspace(y_range[0], y_range[1], 100)\n",
    "\n",
    "fig = plt.figure(figsize=(10, 6))\n",
    "ax = fig.add_subplot(111)\n",
    "\n",
    "ax.plot(ys, [g(y) for y in ys],\n",
    "        label='g(y)', color='gray')\n",
    "ax.plot(ys, [G(y) for y in ys],\n",
    "        label='G(y)', ls='--', color='gray')\n",
    "ax.hlines(0, 2.8, 5.2, alpha=0.3)\n",
    "ax.vlines(ys.max(), 0, 1, linestyles=':', color='gray')\n",
    "\n",
    "ax.set_xticks(np.arange(2.8, 5.2, 0.2))\n",
    "ax.set_xlim(2.8, 5.2)\n",
    "ax.set_ylim(-0.1, 1.1)\n",
    "ax.legend()\n",
    "\n",
    "plt.show()"
   ]
  },
  {
   "cell_type": "markdown",
   "id": "026856e9-5d48-405e-b198-9e803e98667e",
   "metadata": {},
   "source": [
    "### 1차원 연속형 확률분포의 지표"
   ]
  },
  {
   "cell_type": "markdown",
   "id": "9308df13-deb2-4448-806c-729b70e8e70e",
   "metadata": {},
   "source": [
    "#### 평균"
   ]
  },
  {
   "cell_type": "code",
   "execution_count": 18,
   "id": "74beec3e-cc92-47c1-a73f-216f94a5396b",
   "metadata": {
    "ExecuteTime": {
     "end_time": "2018-08-10T06:11:28.409065Z",
     "start_time": "2018-08-10T06:11:28.405672Z"
    }
   },
   "outputs": [
    {
     "data": {
      "text/plain": [
       "0.667"
      ]
     },
     "execution_count": 18,
     "metadata": {},
     "output_type": "execute_result"
    }
   ],
   "source": [
    "def integrand(x):\n",
    "    return x * f(x)\n",
    "\n",
    "integrate.quad(integrand, -np.inf, np.inf)[0]"
   ]
  },
  {
   "cell_type": "code",
   "execution_count": 19,
   "id": "c7165b38-1ff7-4431-8724-1e41769dfea3",
   "metadata": {
    "ExecuteTime": {
     "end_time": "2018-08-10T06:11:28.412973Z",
     "start_time": "2018-08-10T06:11:28.410072Z"
    }
   },
   "outputs": [],
   "source": [
    "def E(X, g=lambda x: x):\n",
    "    x_range, f = X\n",
    "    def integrand(x):\n",
    "        return g(x) * f(x)\n",
    "    return integrate.quad(integrand, -np.inf, np.inf)[0]"
   ]
  },
  {
   "cell_type": "code",
   "execution_count": 20,
   "id": "c62a9d97-2db2-4e26-9583-629b93c50180",
   "metadata": {
    "ExecuteTime": {
     "end_time": "2018-08-10T06:11:28.417998Z",
     "start_time": "2018-08-10T06:11:28.413975Z"
    }
   },
   "outputs": [
    {
     "data": {
      "text/plain": [
       "0.667"
      ]
     },
     "execution_count": 20,
     "metadata": {},
     "output_type": "execute_result"
    }
   ],
   "source": [
    "E(X)"
   ]
  },
  {
   "cell_type": "code",
   "execution_count": 21,
   "id": "e4bebe3b-1c6f-4c30-b41e-5ad651b26603",
   "metadata": {
    "ExecuteTime": {
     "end_time": "2018-08-10T06:11:28.422613Z",
     "start_time": "2018-08-10T06:11:28.418954Z"
    }
   },
   "outputs": [
    {
     "data": {
      "text/plain": [
       "4.333"
      ]
     },
     "execution_count": 21,
     "metadata": {},
     "output_type": "execute_result"
    }
   ],
   "source": [
    "E(X, g=lambda x: 2*x+3)"
   ]
  },
  {
   "cell_type": "code",
   "execution_count": 22,
   "id": "49ff0e3a-d400-4bd5-bd75-7121d75c4f95",
   "metadata": {
    "ExecuteTime": {
     "end_time": "2018-08-10T06:11:28.427094Z",
     "start_time": "2018-08-10T06:11:28.423590Z"
    }
   },
   "outputs": [
    {
     "data": {
      "text/plain": [
       "4.333"
      ]
     },
     "execution_count": 22,
     "metadata": {},
     "output_type": "execute_result"
    }
   ],
   "source": [
    "2 * E(X) + 3"
   ]
  },
  {
   "cell_type": "markdown",
   "id": "0719adb2-0f99-46ef-87b9-ac8d07c75fe5",
   "metadata": {},
   "source": [
    "#### 분산"
   ]
  },
  {
   "cell_type": "code",
   "execution_count": 23,
   "id": "88c11e83-2682-4c8f-8fbe-c291ab506417",
   "metadata": {
    "ExecuteTime": {
     "end_time": "2018-08-10T06:11:28.432982Z",
     "start_time": "2018-08-10T06:11:28.428338Z"
    }
   },
   "outputs": [
    {
     "data": {
      "text/plain": [
       "0.056"
      ]
     },
     "execution_count": 23,
     "metadata": {},
     "output_type": "execute_result"
    }
   ],
   "source": [
    "mean = E(X)\n",
    "def integrand(x):\n",
    "    return (x - mean) ** 2 * f(x)\n",
    "\n",
    "integrate.quad(integrand, -np.inf, np.inf)[0]"
   ]
  },
  {
   "cell_type": "code",
   "execution_count": 24,
   "id": "670830a5-55b9-449b-97db-593c0f486eab",
   "metadata": {
    "ExecuteTime": {
     "end_time": "2018-08-10T06:11:28.437514Z",
     "start_time": "2018-08-10T06:11:28.434075Z"
    }
   },
   "outputs": [],
   "source": [
    "def V(X, g=lambda x: x):\n",
    "    x_range, f = X\n",
    "    mean = E(X, g)\n",
    "    def integrand(x):\n",
    "        return (g(x) - mean) ** 2 * f(x)\n",
    "    return integrate.quad(integrand, -np.inf, np.inf)[0]"
   ]
  },
  {
   "cell_type": "code",
   "execution_count": 25,
   "id": "dc869cee-d6bd-4fb2-9665-e1e686122ce1",
   "metadata": {
    "ExecuteTime": {
     "end_time": "2018-08-10T06:11:28.442369Z",
     "start_time": "2018-08-10T06:11:28.438602Z"
    }
   },
   "outputs": [
    {
     "data": {
      "text/plain": [
       "0.056"
      ]
     },
     "execution_count": 25,
     "metadata": {},
     "output_type": "execute_result"
    }
   ],
   "source": [
    "V(X)"
   ]
  },
  {
   "cell_type": "code",
   "execution_count": 26,
   "id": "2ddea7dc-54ab-4ac4-b785-61dc6f4d5aba",
   "metadata": {
    "ExecuteTime": {
     "end_time": "2018-08-10T06:11:28.448284Z",
     "start_time": "2018-08-10T06:11:28.443567Z"
    }
   },
   "outputs": [
    {
     "data": {
      "text/plain": [
       "0.222"
      ]
     },
     "execution_count": 26,
     "metadata": {},
     "output_type": "execute_result"
    }
   ],
   "source": [
    "V(X, lambda x: 2*x + 3)"
   ]
  },
  {
   "cell_type": "code",
   "execution_count": 27,
   "id": "cf812f14-4d1f-48f3-8589-c573469c3741",
   "metadata": {
    "ExecuteTime": {
     "end_time": "2018-08-10T06:11:28.453566Z",
     "start_time": "2018-08-10T06:11:28.449308Z"
    }
   },
   "outputs": [
    {
     "data": {
      "text/plain": [
       "0.222"
      ]
     },
     "execution_count": 27,
     "metadata": {},
     "output_type": "execute_result"
    }
   ],
   "source": [
    "2**2 * V(X)"
   ]
  },
  {
   "cell_type": "markdown",
   "id": "d909041c-5417-49fa-8beb-d5723077e985",
   "metadata": {},
   "source": [
    "## 2차원 연속형 확률분포"
   ]
  },
  {
   "cell_type": "markdown",
   "id": "85d2d5d5-af32-493e-b112-c7168532a8b0",
   "metadata": {},
   "source": [
    "### ２차원 연속형 확률변수의 정의"
   ]
  },
  {
   "cell_type": "code",
   "execution_count": 28,
   "id": "55fddd9c-5d1d-4497-98e2-9910ae6c1e20",
   "metadata": {
    "ExecuteTime": {
     "end_time": "2018-08-10T06:11:28.457569Z",
     "start_time": "2018-08-10T06:11:28.454533Z"
    }
   },
   "outputs": [],
   "source": [
    "x_range = [0, 2]\n",
    "y_range = [0, 1]"
   ]
  },
  {
   "cell_type": "code",
   "execution_count": 29,
   "id": "080b947d-899f-42a1-9c54-437f451e92ca",
   "metadata": {
    "ExecuteTime": {
     "end_time": "2018-08-10T06:11:28.461611Z",
     "start_time": "2018-08-10T06:11:28.458553Z"
    }
   },
   "outputs": [],
   "source": [
    "def f_xy(x, y):\n",
    "    if 0 <= y <= 1 and 0 <= x - y <= 1:\n",
    "        return 4 * y * (x - y)\n",
    "    else:\n",
    "        return 0"
   ]
  },
  {
   "cell_type": "code",
   "execution_count": 30,
   "id": "06ab2415-db26-4387-bc9b-34f25ddeac8f",
   "metadata": {
    "ExecuteTime": {
     "end_time": "2018-08-10T06:11:28.465610Z",
     "start_time": "2018-08-10T06:11:28.462661Z"
    }
   },
   "outputs": [],
   "source": [
    "XY = [x_range, y_range, f_xy]"
   ]
  },
  {
   "cell_type": "code",
   "execution_count": 31,
   "id": "44e01d81-a625-4ff7-b166-470fa7660829",
   "metadata": {
    "ExecuteTime": {
     "end_time": "2018-08-10T06:11:29.303850Z",
     "start_time": "2018-08-10T06:11:28.466567Z"
    }
   },
   "outputs": [
    {
     "data": {
      "image/png": "[encoded data removed]",
      "text/plain": [
       "<Figure size 720x576 with 2 Axes>"
      ]
     },
     "metadata": {
      "needs_background": "light"
     },
     "output_type": "display_data"
    }
   ],
   "source": [
    "xs = np.linspace(x_range[0], x_range[1], 200)\n",
    "ys = np.linspace(y_range[0], y_range[1], 200)\n",
    "pd = np.array([[f_xy(x, y) for y in ys] for x in xs])\n",
    "\n",
    "fig = plt.figure(figsize=(10, 8))\n",
    "ax = fig.add_subplot(111)\n",
    "\n",
    "c = ax.pcolor(pd)\n",
    "ax.set_xticks(np.linspace(0, 200, 3), minor=False)\n",
    "ax.set_yticks(np.linspace(0, 200, 3), minor=False)\n",
    "ax.set_xticklabels(np.linspace(0, 2, 3))\n",
    "ax.set_yticklabels(np.linspace(0, 1, 3))\n",
    "ax.invert_yaxis()\n",
    "ax.xaxis.tick_top()\n",
    "fig.colorbar(c, ax=ax)\n",
    "plt.show()"
   ]
  },
  {
   "cell_type": "code",
   "execution_count": 32,
   "id": "3d69ca39-1047-4a37-967c-d7f8ac82b605",
   "metadata": {
    "ExecuteTime": {
     "end_time": "2018-08-10T06:11:29.948652Z",
     "start_time": "2018-08-10T06:11:29.304896Z"
    }
   },
   "outputs": [
    {
     "data": {
      "text/plain": [
       "1.000"
      ]
     },
     "execution_count": 32,
     "metadata": {},
     "output_type": "execute_result"
    }
   ],
   "source": [
    "# 첫 번째 인수는 피적분함수、두 번째 인수는 x의 적분구간과 y의 적분구간\n",
    "integrate.nquad(f_xy,\n",
    "                [[-np.inf, np.inf],\n",
    "                 [-np.inf, np.inf]])[0]"
   ]
  },
  {
   "cell_type": "code",
   "execution_count": 33,
   "id": "c03f7f3d-2153-472c-916f-893c74c5e189",
   "metadata": {
    "ExecuteTime": {
     "end_time": "2018-08-10T06:11:29.952780Z",
     "start_time": "2018-08-10T06:11:29.949721Z"
    }
   },
   "outputs": [],
   "source": [
    "from functools import partial\n",
    "\n",
    "def f_X(x):\n",
    "    return integrate.quad(partial(f_xy, x), -np.inf, np.inf)[0]\n",
    "def f_Y(y):\n",
    "    return integrate.quad(partial(f_xy, y=y), -np.inf, np.inf)[0]"
   ]
  },
  {
   "cell_type": "code",
   "execution_count": 34,
   "id": "6bd3809b-e146-48cb-8ad6-fbfbf94737b3",
   "metadata": {
    "ExecuteTime": {
     "end_time": "2018-08-10T06:11:29.956931Z",
     "start_time": "2018-08-10T06:11:29.953833Z"
    }
   },
   "outputs": [],
   "source": [
    "X = [x_range, f_X]\n",
    "Y = [y_range, f_Y]"
   ]
  },
  {
   "cell_type": "code",
   "execution_count": 35,
   "id": "b35e6b9a-e948-4b0c-859a-2cea39647eff",
   "metadata": {
    "ExecuteTime": {
     "end_time": "2018-08-10T06:11:30.264168Z",
     "start_time": "2018-08-10T06:11:29.957888Z"
    }
   },
   "outputs": [
    {
     "data": {
      "image/png": "[encoded data removed]",
      "text/plain": [
       "<Figure size 864x288 with 2 Axes>"
      ]
     },
     "metadata": {
      "needs_background": "light"
     },
     "output_type": "display_data"
    }
   ],
   "source": [
    "xs = np.linspace(*x_range, 100)\n",
    "ys = np.linspace(*y_range, 100)\n",
    "\n",
    "fig = plt.figure(figsize=(12, 4))\n",
    "ax1 = fig.add_subplot(121)\n",
    "ax2 = fig.add_subplot(122)\n",
    "ax1.plot(xs, [f_X(x) for x in xs], color='gray')\n",
    "ax2.plot(ys, [f_Y(y) for y in ys], color='gray')\n",
    "ax1.set_title('X_marginal density function')\n",
    "ax2.set_title('Y_marginal density function')\n",
    "\n",
    "plt.show()"
   ]
  },
  {
   "cell_type": "markdown",
   "id": "9399aa42-5bb4-4902-8a83-8c85466d5fdf",
   "metadata": {},
   "source": [
    "### ２차원 연속형 확률변수의 지표"
   ]
  },
  {
   "cell_type": "markdown",
   "id": "1db876e8-72a1-415f-a368-50f5b8c4bf38",
   "metadata": {},
   "source": [
    "#### 기댓값"
   ]
  },
  {
   "cell_type": "code",
   "execution_count": 36,
   "id": "91d5e48c-f98b-4c07-ad84-3f5b83d75fef",
   "metadata": {
    "ExecuteTime": {
     "end_time": "2018-08-10T06:11:31.067034Z",
     "start_time": "2018-08-10T06:11:30.265183Z"
    }
   },
   "outputs": [
    {
     "data": {
      "text/plain": [
       "1.333"
      ]
     },
     "execution_count": 36,
     "metadata": {},
     "output_type": "execute_result"
    }
   ],
   "source": [
    "def integrand(x, y):\n",
    "    return x * f_xy(x, y)\n",
    "\n",
    "integrate.nquad(integrand,\n",
    "                [[-np.inf, np.inf],\n",
    "                 [-np.inf, np.inf]])[0]"
   ]
  },
  {
   "cell_type": "code",
   "execution_count": 37,
   "id": "b4c0f9ef-7861-4941-9f22-abb8aa70b7d2",
   "metadata": {
    "ExecuteTime": {
     "end_time": "2018-08-10T06:11:31.071218Z",
     "start_time": "2018-08-10T06:11:31.068067Z"
    }
   },
   "outputs": [],
   "source": [
    "def E(XY, g):\n",
    "    x_range, y_range, f_xy = XY\n",
    "    def integrand(x, y):\n",
    "        return g(x, y) * f_xy(x, y)\n",
    "    \n",
    "    return integrate.nquad(integrand,\n",
    "                           [[-np.inf, np.inf],\n",
    "                            [-np.inf, np.inf]])[0]"
   ]
  },
  {
   "cell_type": "code",
   "execution_count": 38,
   "id": "bf04f67a-8640-4a17-9f78-02238c50f839",
   "metadata": {
    "ExecuteTime": {
     "end_time": "2018-08-10T06:11:31.980294Z",
     "start_time": "2018-08-10T06:11:31.072171Z"
    }
   },
   "outputs": [
    {
     "data": {
      "text/plain": [
       "1.333"
      ]
     },
     "execution_count": 38,
     "metadata": {},
     "output_type": "execute_result"
    }
   ],
   "source": [
    "mean_X = E(XY, lambda x, y: x)\n",
    "mean_X"
   ]
  },
  {
   "cell_type": "code",
   "execution_count": 39,
   "id": "969d363b-68c5-4bc5-b8a9-f039d22e75d4",
   "metadata": {
    "ExecuteTime": {
     "end_time": "2018-08-10T06:11:32.871388Z",
     "start_time": "2018-08-10T06:11:31.981511Z"
    }
   },
   "outputs": [
    {
     "data": {
      "text/plain": [
       "0.667"
      ]
     },
     "execution_count": 39,
     "metadata": {},
     "output_type": "execute_result"
    }
   ],
   "source": [
    "mean_Y = E(XY, lambda x, y: y)\n",
    "mean_Y"
   ]
  },
  {
   "cell_type": "code",
   "execution_count": 40,
   "id": "0788d2d8-7c89-4d16-bca6-8123477baae1",
   "metadata": {
    "ExecuteTime": {
     "end_time": "2018-08-10T06:11:32.874071Z",
     "start_time": "2018-08-10T06:11:32.872430Z"
    }
   },
   "outputs": [],
   "source": [
    "a, b = 2, 3"
   ]
  },
  {
   "cell_type": "code",
   "execution_count": 41,
   "id": "cd6b25ca-3b69-40de-a5ad-83dec5e11b4c",
   "metadata": {
    "ExecuteTime": {
     "end_time": "2018-08-10T06:11:34.077812Z",
     "start_time": "2018-08-10T06:11:32.875160Z"
    },
    "scrolled": true
   },
   "outputs": [
    {
     "data": {
      "text/plain": [
       "4.667"
      ]
     },
     "execution_count": 41,
     "metadata": {},
     "output_type": "execute_result"
    }
   ],
   "source": [
    "E(XY, lambda x, y: a*x + b*y)"
   ]
  },
  {
   "cell_type": "code",
   "execution_count": 42,
   "id": "5f9b8454-5114-43ac-96b3-2e91d5c3f12f",
   "metadata": {
    "ExecuteTime": {
     "end_time": "2018-08-10T06:11:34.082361Z",
     "start_time": "2018-08-10T06:11:34.079307Z"
    }
   },
   "outputs": [
    {
     "data": {
      "text/plain": [
       "4.667"
      ]
     },
     "execution_count": 42,
     "metadata": {},
     "output_type": "execute_result"
    }
   ],
   "source": [
    "a * mean_X + b * mean_Y"
   ]
  },
  {
   "cell_type": "markdown",
   "id": "16b3329c-93d2-4ba5-a06f-5ce0c6b2f6ed",
   "metadata": {},
   "source": [
    "#### 분산"
   ]
  },
  {
   "cell_type": "code",
   "execution_count": 43,
   "id": "01b31732-8963-4b0f-89cc-da7841152d0b",
   "metadata": {
    "ExecuteTime": {
     "end_time": "2018-08-10T06:11:35.007333Z",
     "start_time": "2018-08-10T06:11:34.083759Z"
    }
   },
   "outputs": [
    {
     "data": {
      "text/plain": [
       "0.111"
      ]
     },
     "execution_count": 43,
     "metadata": {},
     "output_type": "execute_result"
    }
   ],
   "source": [
    "def integrand(x, y):\n",
    "    return (x - mean_X)**2 * f_xy(x, y)\n",
    "\n",
    "integrate.nquad(integrand,\n",
    "                [[-np.inf, np.inf],\n",
    "                 [-np.inf, np.inf]])[0]"
   ]
  },
  {
   "cell_type": "code",
   "execution_count": 44,
   "id": "4929b307-7e79-420a-9d47-06b22d2d73d9",
   "metadata": {
    "ExecuteTime": {
     "end_time": "2018-08-10T06:11:35.012878Z",
     "start_time": "2018-08-10T06:11:35.008630Z"
    }
   },
   "outputs": [],
   "source": [
    "def V(XY, g):\n",
    "    x_range, y_range, f_xy = XY\n",
    "    mean = E(XY, g)\n",
    "    def integrand(x, y):\n",
    "        return (g(x, y) - mean)**2 * f_xy(x, y)\n",
    "\n",
    "    return integrate.nquad(integrand,\n",
    "                           [[-np.inf, np.inf],\n",
    "                            [-np.inf, np.inf]])[0]"
   ]
  },
  {
   "cell_type": "code",
   "execution_count": 45,
   "id": "27923696-ac5b-45d2-a498-660cee03ff4c",
   "metadata": {
    "ExecuteTime": {
     "end_time": "2018-08-10T06:11:36.911431Z",
     "start_time": "2018-08-10T06:11:35.014218Z"
    }
   },
   "outputs": [
    {
     "data": {
      "text/plain": [
       "0.111"
      ]
     },
     "execution_count": 45,
     "metadata": {},
     "output_type": "execute_result"
    }
   ],
   "source": [
    "var_X = V(XY, lambda x, y: x)\n",
    "var_X"
   ]
  },
  {
   "cell_type": "code",
   "execution_count": 46,
   "id": "9a31cdfe-9b39-4652-a002-63e5df3e6888",
   "metadata": {
    "ExecuteTime": {
     "end_time": "2018-08-10T06:11:38.732681Z",
     "start_time": "2018-08-10T06:11:36.912487Z"
    }
   },
   "outputs": [
    {
     "data": {
      "text/plain": [
       "0.056"
      ]
     },
     "execution_count": 46,
     "metadata": {},
     "output_type": "execute_result"
    }
   ],
   "source": [
    "var_Y = V(XY, lambda x, y: y)\n",
    "var_Y"
   ]
  },
  {
   "cell_type": "raw",
   "id": "2ade7aaa-a335-456a-a8d8-9d6dcaed7662",
   "metadata": {},
   "source": [
    "기댓값"
   ]
  },
  {
   "cell_type": "code",
   "execution_count": 47,
   "id": "00449b42-03d1-4e80-aac7-9e5dadbe1cf5",
   "metadata": {
    "ExecuteTime": {
     "end_time": "2018-08-10T06:11:38.737953Z",
     "start_time": "2018-08-10T06:11:38.733933Z"
    }
   },
   "outputs": [],
   "source": [
    "def Cov(XY):\n",
    "    x_range, y_range, f_xy = XY\n",
    "    mean_X = E(XY, lambda x, y: x)\n",
    "    mean_Y = E(XY, lambda x, y: y)\n",
    "    def integrand(x, y):\n",
    "        return (x-mean_X) * (y-mean_Y) * f_xy(x, y)\n",
    "\n",
    "    return integrate.nquad(integrand,\n",
    "                           [[-np.inf, np.inf],\n",
    "                            [-np.inf, np.inf]])[0]"
   ]
  },
  {
   "cell_type": "code",
   "execution_count": 48,
   "id": "a82f5051-ebae-46c5-bb6f-9af243939ab5",
   "metadata": {
    "ExecuteTime": {
     "end_time": "2018-08-10T06:11:41.381294Z",
     "start_time": "2018-08-10T06:11:38.739067Z"
    }
   },
   "outputs": [
    {
     "data": {
      "text/plain": [
       "0.056"
      ]
     },
     "execution_count": 48,
     "metadata": {},
     "output_type": "execute_result"
    }
   ],
   "source": [
    "cov_xy = Cov(XY)\n",
    "cov_xy"
   ]
  },
  {
   "cell_type": "code",
   "execution_count": 49,
   "id": "ee6b1219-2078-4ac9-8bf2-e2332b0f4398",
   "metadata": {
    "ExecuteTime": {
     "end_time": "2018-08-10T06:11:43.941672Z",
     "start_time": "2018-08-10T06:11:41.382269Z"
    }
   },
   "outputs": [
    {
     "data": {
      "text/plain": [
       "1.611"
      ]
     },
     "execution_count": 49,
     "metadata": {},
     "output_type": "execute_result"
    }
   ],
   "source": [
    "V(XY, lambda x, y: a*x + b*y)"
   ]
  },
  {
   "cell_type": "code",
   "execution_count": 50,
   "id": "ff102b03-0166-4621-8137-6fc46a8884ae",
   "metadata": {
    "ExecuteTime": {
     "end_time": "2018-08-10T06:11:43.945384Z",
     "start_time": "2018-08-10T06:11:43.942896Z"
    }
   },
   "outputs": [
    {
     "data": {
      "text/plain": [
       "1.611"
      ]
     },
     "execution_count": 50,
     "metadata": {},
     "output_type": "execute_result"
    }
   ],
   "source": [
    "a**2 * var_X + b**2 * var_Y + 2*a*b * cov_xy"
   ]
  },
  {
   "cell_type": "code",
   "execution_count": 51,
   "id": "6162bfe5-6184-4888-a87a-2c2ddd3fa593",
   "metadata": {
    "ExecuteTime": {
     "end_time": "2018-08-10T06:11:43.949265Z",
     "start_time": "2018-08-10T06:11:43.946448Z"
    }
   },
   "outputs": [
    {
     "data": {
      "text/plain": [
       "0.707"
      ]
     },
     "execution_count": 51,
     "metadata": {},
     "output_type": "execute_result"
    }
   ],
   "source": [
    "cov_xy / np.sqrt(var_X * var_Y)"
   ]
  },
  {
   "cell_type": "code",
   "execution_count": null,
   "id": "10e9c871-3eac-48bb-93cb-37a5082ccc09",
   "metadata": {},
   "outputs": [],
   "source": []
  },
  {
   "cell_type": "code",
   "execution_count": null,
   "id": "eaf2ec4b-953c-4e0b-ac79-d5a07ca87105",
   "metadata": {},
   "outputs": [],
   "source": []
  }
 ],
 "metadata": {
  "kernelspec": {
   "display_name": "Python 3 (ipykernel)",
   "language": "python",
   "name": "python3"
  },
  "language_info": {
   "codemirror_mode": {
    "name": "ipython",
    "version": 3
   },
   "file_extension": ".py",
   "mimetype": "text/x-python",
   "name": "python",
   "nbconvert_exporter": "python",
   "pygments_lexer": "ipython3",
   "version": "3.8.13"
  }
 },
 "nbformat": 4,
 "nbformat_minor": 5
}
