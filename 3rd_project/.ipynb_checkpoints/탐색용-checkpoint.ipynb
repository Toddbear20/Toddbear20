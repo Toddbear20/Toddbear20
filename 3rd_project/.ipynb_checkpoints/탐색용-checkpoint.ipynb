{
 "cells": [
  {
   "cell_type": "code",
   "execution_count": 1,
   "id": "1c98d916",
   "metadata": {},
   "outputs": [],
   "source": [
    "import pandas as pd\n",
    "\n",
    "siment=pd.read_excel('./수요,발주예측관리_rawdata_봄소프트.xlsx')"
   ]
  },
  {
   "cell_type": "code",
   "execution_count": 2,
   "id": "c35c83be",
   "metadata": {},
   "outputs": [],
   "source": [
    "pd.options.display.max_rows = None\n",
    "pd.options.display.max_columns = None\n"
   ]
  },
  {
   "cell_type": "code",
   "execution_count": 1,
   "id": "55732374",
   "metadata": {},
   "outputs": [],
   "source": [
    "import pandas as pd\n",
    "\n",
    "receipe = pd.read_excel('./엑셀분리기본파일/생산레시피기본.xlsx', header=1)\n",
    "receipe.drop('Unnamed: 0',axis=1, inplace =True)\n",
    "\n",
    "client = pd.read_excel('./엑셀분리기본파일/거래처기본.xlsx', header=1)\n",
    "client.drop('Unnamed: 0',axis=1, inplace =True)\n",
    "\n",
    "LOT = pd.read_excel('./엑셀분리기본파일/생산LOT기본.xlsx', header=1)\n",
    "LOT.drop('Unnamed: 0',axis=1, inplace =True)\n",
    "\n",
    "sales = pd.read_excel('./엑셀분리기본파일/영업수주기본.xlsx', header=1)\n",
    "sales.drop('Unnamed: 0',axis=1, inplace =True)\n",
    "\n",
    "material = pd.read_excel('./엑셀분리기본파일/원자재기본.xlsx', header=1)\n",
    "material.drop('Unnamed: 0',axis=1, inplace =True)\n",
    "\n",
    "delivery = pd.read_excel('./엑셀분리기본파일/자재납품기본.xlsx', header=1)\n",
    "delivery.drop('Unnamed: 0',axis=1, inplace =True)\n",
    "\n",
    "order = pd.read_excel('./엑셀분리기본파일/자재발주기본.xlsx', header=1)\n",
    "order.drop('Unnamed: 0',axis=1, inplace =True)\n",
    "\n",
    "product = pd.read_excel('./엑셀분리기본파일/제품기본.xlsx', header=1)\n",
    "product.drop('Unnamed: 0',axis=1, inplace =True)\n",
    "\n",
    "build = pd.read_csv('./엑셀분리기본파일/동수별+연면적별+건축물착공현황_562_384_20221107112520.csv')\n"
   ]
  },
  {
   "cell_type": "code",
   "execution_count": 42,
   "id": "4fe744f0",
   "metadata": {},
   "outputs": [],
   "source": [
    "build2=build[(build['LEVEL1']=='연면적별')&(build['LEVEL3']=='철근및철골조')|(build['LEVEL3']=='조적조')]"
   ]
  },
  {
   "cell_type": "code",
   "execution_count": 43,
   "id": "4b3e2141",
   "metadata": {},
   "outputs": [],
   "source": [
    "pivot_b=build2[build2['LEVEL1'] == '연면적별'].pivot_table(index = 'LEVEL1',\n",
    "                                              columns='월(Monthly)',\n",
    "                                              values='값',\n",
    "                                              aggfunc='sum')"
   ]
  },
  {
   "cell_type": "code",
   "execution_count": 44,
   "id": "6bfee99a",
   "metadata": {
    "scrolled": true
   },
   "outputs": [
    {
     "data": {
      "text/plain": [
       "<AxesSubplot:xlabel='월(Monthly)'>"
      ]
     },
     "execution_count": 44,
     "metadata": {},
     "output_type": "execute_result"
    },
    {
     "data": {
      "image/png": "[encoded data removed]",
      "text/plain": [
       "<Figure size 432x288 with 1 Axes>"
      ]
     },
     "metadata": {
      "needs_background": "light"
     },
     "output_type": "display_data"
    }
   ],
   "source": [
    "pivot_b.T.plot(kind='bar')"
   ]
  },
  {
   "cell_type": "code",
   "execution_count": 45,
   "id": "d9050a9d",
   "metadata": {},
   "outputs": [],
   "source": [
    "pivot_b=pivot_b.T.reset_index()"
   ]
  },
  {
   "cell_type": "code",
   "execution_count": 49,
   "id": "d5784cb8",
   "metadata": {},
   "outputs": [],
   "source": [
    "pivot_b=pivot_b.rename({'월(Monthly)':'Month'}, axis=1)"
   ]
  },
  {
   "cell_type": "code",
   "execution_count": 59,
   "id": "e949b1b1",
   "metadata": {},
   "outputs": [],
   "source": [
    "import matplotlib.pyplot as plt\n",
    "from matplotlib import rc\n",
    "rc('font',family='Malgun Gothic')\n",
    "plt.rcParams['axes.unicode_minus']=False\n"
   ]
  },
  {
   "cell_type": "code",
   "execution_count": 60,
   "id": "5750c7a2",
   "metadata": {},
   "outputs": [
    {
     "data": {
      "text/plain": [
       "<AxesSubplot:xlabel='Month', ylabel='연면적별'>"
      ]
     },
     "execution_count": 60,
     "metadata": {},
     "output_type": "execute_result"
    },
    {
     "data": {
      "image/png": "[encoded data removed]",
      "text/plain": [
       "<Figure size 720x360 with 1 Axes>"
      ]
     },
     "metadata": {
      "needs_background": "light"
     },
     "output_type": "display_data"
    }
   ],
   "source": [
    "import matplotlib.pyplot as plt\n",
    "import seaborn as sns\n",
    "import warnings \n",
    "warnings.filterwarnings('ignore')\n",
    "plt.rc('font', family='NanumGothic') # For Windows\n",
    "\n",
    "plt.figure(figsize=(10,5))\n",
    "plt.xticks(rotation=90)\n",
    "\n",
    "\n",
    "sns.barplot(x='Month',y='연면적별',data=pivot_b)"
   ]
  },
  {
   "cell_type": "markdown",
   "id": "bdcbb57e",
   "metadata": {},
   "source": [
    "### 월별 전체 가중치"
   ]
  },
  {
   "cell_type": "code",
   "execution_count": 63,
   "id": "af45c39f",
   "metadata": {},
   "outputs": [
    {
     "data": {
      "text/html": [
       "<div>\n",
       "<style scoped>\n",
       "    .dataframe tbody tr th:only-of-type {\n",
       "        vertical-align: middle;\n",
       "    }\n",
       "\n",
       "    .dataframe tbody tr th {\n",
       "        vertical-align: top;\n",
       "    }\n",
       "\n",
       "    .dataframe thead th {\n",
       "        text-align: right;\n",
       "    }\n",
       "</style>\n",
       "<table border=\"1\" class=\"dataframe\">\n",
       "  <thead>\n",
       "    <tr style=\"text-align: right;\">\n",
       "      <th>LEVEL1</th>\n",
       "      <th>연면적별</th>\n",
       "    </tr>\n",
       "  </thead>\n",
       "  <tbody>\n",
       "    <tr>\n",
       "      <th>count</th>\n",
       "      <td>2.500000e+01</td>\n",
       "    </tr>\n",
       "    <tr>\n",
       "      <th>mean</th>\n",
       "      <td>1.065202e+07</td>\n",
       "    </tr>\n",
       "    <tr>\n",
       "      <th>std</th>\n",
       "      <td>1.773034e+06</td>\n",
       "    </tr>\n",
       "    <tr>\n",
       "      <th>min</th>\n",
       "      <td>7.233397e+06</td>\n",
       "    </tr>\n",
       "    <tr>\n",
       "      <th>25%</th>\n",
       "      <td>9.996998e+06</td>\n",
       "    </tr>\n",
       "    <tr>\n",
       "      <th>50%</th>\n",
       "      <td>1.084952e+07</td>\n",
       "    </tr>\n",
       "    <tr>\n",
       "      <th>75%</th>\n",
       "      <td>1.161805e+07</td>\n",
       "    </tr>\n",
       "    <tr>\n",
       "      <th>max</th>\n",
       "      <td>1.413272e+07</td>\n",
       "    </tr>\n",
       "  </tbody>\n",
       "</table>\n",
       "</div>"
      ],
      "text/plain": [
       "LEVEL1          연면적별\n",
       "count   2.500000e+01\n",
       "mean    1.065202e+07\n",
       "std     1.773034e+06\n",
       "min     7.233397e+06\n",
       "25%     9.996998e+06\n",
       "50%     1.084952e+07\n",
       "75%     1.161805e+07\n",
       "max     1.413272e+07"
      ]
     },
     "execution_count": 63,
     "metadata": {},
     "output_type": "execute_result"
    }
   ],
   "source": [
    "import numpy as np\n",
    "pivot_b.describe()"
   ]
  },
  {
   "cell_type": "code",
   "execution_count": 66,
   "id": "ea3a13c6",
   "metadata": {},
   "outputs": [],
   "source": [
    "pivot_b[pivot_b['연면적별'] > 1.065202e+07]\n",
    "\n",
    "pivot_b['log_app']=np.log1p(pivot_b['연면적별'])"
   ]
  },
  {
   "cell_type": "code",
   "execution_count": 91,
   "id": "dbc09292",
   "metadata": {
    "scrolled": true
   },
   "outputs": [
    {
     "data": {
      "text/plain": [
       "array([-0.22838495, -0.13631143])"
      ]
     },
     "execution_count": 91,
     "metadata": {},
     "output_type": "execute_result"
    }
   ],
   "source": [
    "from sklearn.preprocessing import StandardScaler\n",
    "stan = StandardScaler()\n",
    "fit_m = stan.fit(pivot_b[['연면적별','log_app']])\n",
    "out=fit_m.transform(pivot_b[['연면적별','log_app']])\n",
    "\n"
   ]
  },
  {
   "cell_type": "code",
   "execution_count": 94,
   "id": "d7ef31a8",
   "metadata": {},
   "outputs": [],
   "source": [
    "out_a = pd.DataFrame(out)\n",
    "pivot_b['가중치']=out_a[1]\n"
   ]
  },
  {
   "cell_type": "code",
   "execution_count": 95,
   "id": "7b3ba4ee",
   "metadata": {},
   "outputs": [
    {
     "data": {
      "text/html": [
       "<div>\n",
       "<style scoped>\n",
       "    .dataframe tbody tr th:only-of-type {\n",
       "        vertical-align: middle;\n",
       "    }\n",
       "\n",
       "    .dataframe tbody tr th {\n",
       "        vertical-align: top;\n",
       "    }\n",
       "\n",
       "    .dataframe thead th {\n",
       "        text-align: right;\n",
       "    }\n",
       "</style>\n",
       "<table border=\"1\" class=\"dataframe\">\n",
       "  <thead>\n",
       "    <tr style=\"text-align: right;\">\n",
       "      <th>LEVEL1</th>\n",
       "      <th>Month</th>\n",
       "      <th>연면적별</th>\n",
       "      <th>log_app</th>\n",
       "      <th>가중치</th>\n",
       "    </tr>\n",
       "  </thead>\n",
       "  <tbody>\n",
       "    <tr>\n",
       "      <th>0</th>\n",
       "      <td>2020-06</td>\n",
       "      <td>10255271</td>\n",
       "      <td>16.143302</td>\n",
       "      <td>-0.136311</td>\n",
       "    </tr>\n",
       "    <tr>\n",
       "      <th>1</th>\n",
       "      <td>2020-07</td>\n",
       "      <td>10658885</td>\n",
       "      <td>16.181904</td>\n",
       "      <td>0.086635</td>\n",
       "    </tr>\n",
       "    <tr>\n",
       "      <th>2</th>\n",
       "      <td>2020-08</td>\n",
       "      <td>8595586</td>\n",
       "      <td>15.966759</td>\n",
       "      <td>-1.155940</td>\n",
       "    </tr>\n",
       "    <tr>\n",
       "      <th>3</th>\n",
       "      <td>2020-09</td>\n",
       "      <td>10775873</td>\n",
       "      <td>16.192820</td>\n",
       "      <td>0.149680</td>\n",
       "    </tr>\n",
       "    <tr>\n",
       "      <th>4</th>\n",
       "      <td>2020-10</td>\n",
       "      <td>9195394</td>\n",
       "      <td>16.034213</td>\n",
       "      <td>-0.766358</td>\n",
       "    </tr>\n",
       "    <tr>\n",
       "      <th>5</th>\n",
       "      <td>2020-11</td>\n",
       "      <td>12312253</td>\n",
       "      <td>16.326106</td>\n",
       "      <td>0.919472</td>\n",
       "    </tr>\n",
       "    <tr>\n",
       "      <th>6</th>\n",
       "      <td>2020-12</td>\n",
       "      <td>12855085</td>\n",
       "      <td>16.369250</td>\n",
       "      <td>1.168654</td>\n",
       "    </tr>\n",
       "    <tr>\n",
       "      <th>7</th>\n",
       "      <td>2021-01</td>\n",
       "      <td>7570978</td>\n",
       "      <td>15.839833</td>\n",
       "      <td>-1.889007</td>\n",
       "    </tr>\n",
       "    <tr>\n",
       "      <th>8</th>\n",
       "      <td>2021-02</td>\n",
       "      <td>10178609</td>\n",
       "      <td>16.135799</td>\n",
       "      <td>-0.179648</td>\n",
       "    </tr>\n",
       "    <tr>\n",
       "      <th>9</th>\n",
       "      <td>2021-03</td>\n",
       "      <td>12996528</td>\n",
       "      <td>16.380193</td>\n",
       "      <td>1.231855</td>\n",
       "    </tr>\n",
       "    <tr>\n",
       "      <th>10</th>\n",
       "      <td>2021-04</td>\n",
       "      <td>11765306</td>\n",
       "      <td>16.280666</td>\n",
       "      <td>0.657033</td>\n",
       "    </tr>\n",
       "    <tr>\n",
       "      <th>11</th>\n",
       "      <td>2021-05</td>\n",
       "      <td>12417941</td>\n",
       "      <td>16.334653</td>\n",
       "      <td>0.968838</td>\n",
       "    </tr>\n",
       "    <tr>\n",
       "      <th>12</th>\n",
       "      <td>2021-06</td>\n",
       "      <td>10857729</td>\n",
       "      <td>16.200388</td>\n",
       "      <td>0.193386</td>\n",
       "    </tr>\n",
       "    <tr>\n",
       "      <th>13</th>\n",
       "      <td>2021-07</td>\n",
       "      <td>10510350</td>\n",
       "      <td>16.167871</td>\n",
       "      <td>0.005585</td>\n",
       "    </tr>\n",
       "    <tr>\n",
       "      <th>14</th>\n",
       "      <td>2021-08</td>\n",
       "      <td>8974011</td>\n",
       "      <td>16.009843</td>\n",
       "      <td>-0.907107</td>\n",
       "    </tr>\n",
       "    <tr>\n",
       "      <th>15</th>\n",
       "      <td>2021-09</td>\n",
       "      <td>11398360</td>\n",
       "      <td>16.248980</td>\n",
       "      <td>0.474032</td>\n",
       "    </tr>\n",
       "    <tr>\n",
       "      <th>16</th>\n",
       "      <td>2021-10</td>\n",
       "      <td>11618046</td>\n",
       "      <td>16.268070</td>\n",
       "      <td>0.584288</td>\n",
       "    </tr>\n",
       "    <tr>\n",
       "      <th>17</th>\n",
       "      <td>2021-11</td>\n",
       "      <td>11415255</td>\n",
       "      <td>16.250461</td>\n",
       "      <td>0.482587</td>\n",
       "    </tr>\n",
       "    <tr>\n",
       "      <th>18</th>\n",
       "      <td>2021-12</td>\n",
       "      <td>14132721</td>\n",
       "      <td>16.464003</td>\n",
       "      <td>1.715904</td>\n",
       "    </tr>\n",
       "    <tr>\n",
       "      <th>19</th>\n",
       "      <td>2022-01</td>\n",
       "      <td>7233397</td>\n",
       "      <td>15.794219</td>\n",
       "      <td>-2.152448</td>\n",
       "    </tr>\n",
       "    <tr>\n",
       "      <th>20</th>\n",
       "      <td>2022-02</td>\n",
       "      <td>7235788</td>\n",
       "      <td>15.794550</td>\n",
       "      <td>-2.150540</td>\n",
       "    </tr>\n",
       "    <tr>\n",
       "      <th>21</th>\n",
       "      <td>2022-03</td>\n",
       "      <td>11510029</td>\n",
       "      <td>16.258729</td>\n",
       "      <td>0.530339</td>\n",
       "    </tr>\n",
       "    <tr>\n",
       "      <th>22</th>\n",
       "      <td>2022-04</td>\n",
       "      <td>10990687</td>\n",
       "      <td>16.212559</td>\n",
       "      <td>0.263681</td>\n",
       "    </tr>\n",
       "    <tr>\n",
       "      <th>23</th>\n",
       "      <td>2022-05</td>\n",
       "      <td>10849518</td>\n",
       "      <td>16.199631</td>\n",
       "      <td>0.189017</td>\n",
       "    </tr>\n",
       "    <tr>\n",
       "      <th>24</th>\n",
       "      <td>2022-06</td>\n",
       "      <td>9996998</td>\n",
       "      <td>16.117796</td>\n",
       "      <td>-0.283628</td>\n",
       "    </tr>\n",
       "  </tbody>\n",
       "</table>\n",
       "</div>"
      ],
      "text/plain": [
       "LEVEL1    Month      연면적별    log_app       가중치\n",
       "0       2020-06  10255271  16.143302 -0.136311\n",
       "1       2020-07  10658885  16.181904  0.086635\n",
       "2       2020-08   8595586  15.966759 -1.155940\n",
       "3       2020-09  10775873  16.192820  0.149680\n",
       "4       2020-10   9195394  16.034213 -0.766358\n",
       "5       2020-11  12312253  16.326106  0.919472\n",
       "6       2020-12  12855085  16.369250  1.168654\n",
       "7       2021-01   7570978  15.839833 -1.889007\n",
       "8       2021-02  10178609  16.135799 -0.179648\n",
       "9       2021-03  12996528  16.380193  1.231855\n",
       "10      2021-04  11765306  16.280666  0.657033\n",
       "11      2021-05  12417941  16.334653  0.968838\n",
       "12      2021-06  10857729  16.200388  0.193386\n",
       "13      2021-07  10510350  16.167871  0.005585\n",
       "14      2021-08   8974011  16.009843 -0.907107\n",
       "15      2021-09  11398360  16.248980  0.474032\n",
       "16      2021-10  11618046  16.268070  0.584288\n",
       "17      2021-11  11415255  16.250461  0.482587\n",
       "18      2021-12  14132721  16.464003  1.715904\n",
       "19      2022-01   7233397  15.794219 -2.152448\n",
       "20      2022-02   7235788  15.794550 -2.150540\n",
       "21      2022-03  11510029  16.258729  0.530339\n",
       "22      2022-04  10990687  16.212559  0.263681\n",
       "23      2022-05  10849518  16.199631  0.189017\n",
       "24      2022-06   9996998  16.117796 -0.283628"
      ]
     },
     "execution_count": 95,
     "metadata": {},
     "output_type": "execute_result"
    }
   ],
   "source": [
    "pivot_b"
   ]
  },
  {
   "cell_type": "code",
   "execution_count": 78,
   "id": "1a2fb2d1",
   "metadata": {},
   "outputs": [
    {
     "data": {
      "text/plain": [
       "0.284375252"
      ]
     },
     "execution_count": 78,
     "metadata": {},
     "output_type": "execute_result"
    }
   ],
   "source": [
    "2.84375252e-01"
   ]
  },
  {
   "cell_type": "code",
   "execution_count": 22,
   "id": "5f9e6a2e",
   "metadata": {
    "scrolled": true
   },
   "outputs": [
    {
     "data": {
      "text/plain": [
       "1677"
      ]
     },
     "execution_count": 22,
     "metadata": {},
     "output_type": "execute_result"
    }
   ],
   "source": [
    "len(LOT['LOT번호'].unique())"
   ]
  },
  {
   "cell_type": "code",
   "execution_count": 26,
   "id": "50ce11ee",
   "metadata": {},
   "outputs": [
    {
     "name": "stdout",
     "output_type": "stream",
     "text": [
      "<class 'pandas.core.frame.DataFrame'>\n",
      "RangeIndex: 12304 entries, 0 to 12303\n",
      "Data columns (total 21 columns):\n",
      " #   Column                    Non-Null Count  Dtype         \n",
      "---  ------                    --------------  -----         \n",
      " 0   원자재코드                     12304 non-null  object        \n",
      " 1   생산작업지시구분(생산:A,생산제외:D)     12304 non-null  object        \n",
      " 2   작업지시타입(일반:WO/재투입:WR)      12304 non-null  object        \n",
      " 3   사업단위(평택:20000,태안:60000등)  12304 non-null  int64         \n",
      " 4   생산작업요청일자                  12304 non-null  datetime64[ns]\n",
      " 5   LOT번호                     12304 non-null  object        \n",
      " 6   분할순번                      12304 non-null  int64         \n",
      " 7   제품코드                      12304 non-null  object        \n",
      " 8   제품BOM차수                   12304 non-null  int64         \n",
      " 9   원자재투입순번                   12304 non-null  int64         \n",
      " 10  원자재명                      12304 non-null  object        \n",
      " 11  원자재탱크번호                   12304 non-null  int64         \n",
      " 12  투입지시중량                    12304 non-null  float64       \n",
      " 13  투입지시비율                    12304 non-null  float64       \n",
      " 14  투입지시오차비율                  12304 non-null  int64         \n",
      " 15  투입지시단위                    12304 non-null  object        \n",
      " 16  시방원재료적요                   2249 non-null   object        \n",
      " 17  추가투입량(생산자판단)              12304 non-null  float64       \n",
      " 18  정지중량(유속흐름제어)              12304 non-null  float64       \n",
      " 19  스텝그룹넘버                    12304 non-null  int64         \n",
      " 20  비고                        0 non-null      float64       \n",
      "dtypes: datetime64[ns](1), float64(5), int64(7), object(8)\n",
      "memory usage: 2.0+ MB\n"
     ]
    }
   ],
   "source": [
    "receipe.info()"
   ]
  },
  {
   "cell_type": "code",
   "execution_count": 196,
   "id": "e5806a90",
   "metadata": {},
   "outputs": [
    {
     "name": "stdout",
     "output_type": "stream",
     "text": [
      "<class 'pandas.core.frame.DataFrame'>\n",
      "RangeIndex: 71 entries, 0 to 70\n",
      "Data columns (total 7 columns):\n",
      " #   Column  Non-Null Count  Dtype  \n",
      "---  ------  --------------  -----  \n",
      " 0   거래처코드   71 non-null     int64  \n",
      " 1   거래처명    71 non-null     object \n",
      " 2   거래처부서명  71 non-null     object \n",
      " 3   대표자명    71 non-null     object \n",
      " 4   사업자번호   71 non-null     object \n",
      " 5   법인번호    0 non-null      float64\n",
      " 6   전화번호    61 non-null     object \n",
      "dtypes: float64(1), int64(1), object(5)\n",
      "memory usage: 4.0+ KB\n"
     ]
    }
   ],
   "source": [
    "client.info()"
   ]
  },
  {
   "cell_type": "code",
   "execution_count": 197,
   "id": "19d7c81f",
   "metadata": {},
   "outputs": [],
   "source": [
    "import numpy as np\n",
    "li = sales['거래처코드'].mode()    "
   ]
  },
  {
   "cell_type": "code",
   "execution_count": 198,
   "id": "b70799c2",
   "metadata": {},
   "outputs": [
    {
     "data": {
      "text/plain": [
       "7"
      ]
     },
     "execution_count": 198,
     "metadata": {},
     "output_type": "execute_result"
    }
   ],
   "source": [
    "len(client.columns)"
   ]
  },
  {
   "cell_type": "code",
   "execution_count": 199,
   "id": "193eda74",
   "metadata": {},
   "outputs": [
    {
     "data": {
      "text/plain": [
       "거래처코드        2006606\n",
       "거래처명         삼보지질㈜진안\n",
       "거래처부서명           총무부\n",
       "대표자명             박**\n",
       "사업자번호       617*****\n",
       "법인번호             NaN\n",
       "전화번호      63****8084\n",
       "Name: 56, dtype: object"
      ]
     },
     "execution_count": 199,
     "metadata": {},
     "output_type": "execute_result"
    }
   ],
   "source": [
    "client[client['거래처코드']==2006606].iloc[0]"
   ]
  },
  {
   "cell_type": "code",
   "execution_count": 200,
   "id": "51b7d1eb",
   "metadata": {},
   "outputs": [
    {
     "data": {
      "text/html": [
       "<div>\n",
       "<style scoped>\n",
       "    .dataframe tbody tr th:only-of-type {\n",
       "        vertical-align: middle;\n",
       "    }\n",
       "\n",
       "    .dataframe tbody tr th {\n",
       "        vertical-align: top;\n",
       "    }\n",
       "\n",
       "    .dataframe thead th {\n",
       "        text-align: right;\n",
       "    }\n",
       "</style>\n",
       "<table border=\"1\" class=\"dataframe\">\n",
       "  <thead>\n",
       "    <tr style=\"text-align: right;\">\n",
       "      <th></th>\n",
       "      <th>거래처코드</th>\n",
       "      <th>거래처명</th>\n",
       "      <th>거래처부서명</th>\n",
       "      <th>대표자명</th>\n",
       "      <th>사업자번호</th>\n",
       "      <th>법인번호</th>\n",
       "      <th>전화번호</th>\n",
       "    </tr>\n",
       "  </thead>\n",
       "  <tbody>\n",
       "    <tr>\n",
       "      <th>56</th>\n",
       "      <td>2006606</td>\n",
       "      <td>삼보지질㈜진안</td>\n",
       "      <td>총무부</td>\n",
       "      <td>박**</td>\n",
       "      <td>617*****</td>\n",
       "      <td>NaN</td>\n",
       "      <td>63****8084</td>\n",
       "    </tr>\n",
       "  </tbody>\n",
       "</table>\n",
       "</div>"
      ],
      "text/plain": [
       "      거래처코드     거래처명 거래처부서명 대표자명     사업자번호  법인번호        전화번호\n",
       "56  2006606  삼보지질㈜진안    총무부  박**  617*****   NaN  63****8084"
      ]
     },
     "execution_count": 200,
     "metadata": {},
     "output_type": "execute_result"
    }
   ],
   "source": [
    "client[client['거래처코드']==2006606]"
   ]
  },
  {
   "cell_type": "code",
   "execution_count": 203,
   "id": "5d535de1",
   "metadata": {},
   "outputs": [
    {
     "data": {
      "text/html": [
       "<div>\n",
       "<style scoped>\n",
       "    .dataframe tbody tr th:only-of-type {\n",
       "        vertical-align: middle;\n",
       "    }\n",
       "\n",
       "    .dataframe tbody tr th {\n",
       "        vertical-align: top;\n",
       "    }\n",
       "\n",
       "    .dataframe thead th {\n",
       "        text-align: right;\n",
       "    }\n",
       "</style>\n",
       "<table border=\"1\" class=\"dataframe\">\n",
       "  <thead>\n",
       "    <tr style=\"text-align: right;\">\n",
       "      <th></th>\n",
       "      <th>거래처코드</th>\n",
       "      <th>거래처명</th>\n",
       "      <th>거래처부서명</th>\n",
       "      <th>대표자명</th>\n",
       "      <th>사업자번호</th>\n",
       "      <th>법인번호</th>\n",
       "      <th>전화번호</th>\n",
       "    </tr>\n",
       "  </thead>\n",
       "  <tbody>\n",
       "    <tr>\n",
       "      <th>0</th>\n",
       "      <td>2006606</td>\n",
       "      <td>삼보지질㈜진안</td>\n",
       "      <td>총무부</td>\n",
       "      <td>박**</td>\n",
       "      <td>617*****</td>\n",
       "      <td>NaN</td>\n",
       "      <td>63****8084</td>\n",
       "    </tr>\n",
       "    <tr>\n",
       "      <th>1</th>\n",
       "      <td>2006609</td>\n",
       "      <td>삼부토건㈜길천</td>\n",
       "      <td>영업부</td>\n",
       "      <td>김**</td>\n",
       "      <td>104*****</td>\n",
       "      <td>NaN</td>\n",
       "      <td>52****7200</td>\n",
       "    </tr>\n",
       "    <tr>\n",
       "      <th>2</th>\n",
       "      <td>2006612</td>\n",
       "      <td>엘티삼보㈜제물포</td>\n",
       "      <td>총무부</td>\n",
       "      <td>장**</td>\n",
       "      <td>617*****</td>\n",
       "      <td>NaN</td>\n",
       "      <td>NaN</td>\n",
       "    </tr>\n",
       "    <tr>\n",
       "      <th>3</th>\n",
       "      <td>2006700</td>\n",
       "      <td>삼삼건설㈜</td>\n",
       "      <td>총무부</td>\n",
       "      <td>박**</td>\n",
       "      <td>214*****</td>\n",
       "      <td>NaN</td>\n",
       "      <td>32****8400</td>\n",
       "    </tr>\n",
       "    <tr>\n",
       "      <th>4</th>\n",
       "      <td>2006800</td>\n",
       "      <td>삼성건설㈜</td>\n",
       "      <td>영업부</td>\n",
       "      <td>최**</td>\n",
       "      <td>213*****</td>\n",
       "      <td>NaN</td>\n",
       "      <td>NaN</td>\n",
       "    </tr>\n",
       "    <tr>\n",
       "      <th>5</th>\n",
       "      <td>2006900</td>\n",
       "      <td>삼성물산㈜신갈</td>\n",
       "      <td>총무부</td>\n",
       "      <td>정**</td>\n",
       "      <td>135*****</td>\n",
       "      <td>NaN</td>\n",
       "      <td>31****1683</td>\n",
       "    </tr>\n",
       "    <tr>\n",
       "      <th>6</th>\n",
       "      <td>2007000</td>\n",
       "      <td>삼익건설㈜</td>\n",
       "      <td>총무부</td>\n",
       "      <td>이**</td>\n",
       "      <td>120*****</td>\n",
       "      <td>NaN</td>\n",
       "      <td>NaN</td>\n",
       "    </tr>\n",
       "    <tr>\n",
       "      <th>7</th>\n",
       "      <td>2007100</td>\n",
       "      <td>삼일공영㈜</td>\n",
       "      <td>총무부</td>\n",
       "      <td>이**</td>\n",
       "      <td>110*****</td>\n",
       "      <td>NaN</td>\n",
       "      <td>31****1473115</td>\n",
       "    </tr>\n",
       "    <tr>\n",
       "      <th>8</th>\n",
       "      <td>2007200</td>\n",
       "      <td>삼중건설㈜고철</td>\n",
       "      <td>총무부</td>\n",
       "      <td>김**</td>\n",
       "      <td>609*****</td>\n",
       "      <td>NaN</td>\n",
       "      <td>055)363****</td>\n",
       "    </tr>\n",
       "    <tr>\n",
       "      <th>9</th>\n",
       "      <td>2007302</td>\n",
       "      <td>삼지건설㈜</td>\n",
       "      <td>총무부</td>\n",
       "      <td>이**</td>\n",
       "      <td>621*****</td>\n",
       "      <td>NaN</td>\n",
       "      <td>54****8191</td>\n",
       "    </tr>\n",
       "    <tr>\n",
       "      <th>10</th>\n",
       "      <td>2007400</td>\n",
       "      <td>삼진종합토건㈜</td>\n",
       "      <td>총무부</td>\n",
       "      <td>장**</td>\n",
       "      <td>114*****</td>\n",
       "      <td>NaN</td>\n",
       "      <td>NaN</td>\n",
       "    </tr>\n",
       "    <tr>\n",
       "      <th>11</th>\n",
       "      <td>2007500</td>\n",
       "      <td>삼호개발㈜청송</td>\n",
       "      <td>영업부</td>\n",
       "      <td>백**</td>\n",
       "      <td>220*****</td>\n",
       "      <td>NaN</td>\n",
       "      <td>54****8876</td>\n",
       "    </tr>\n",
       "    <tr>\n",
       "      <th>12</th>\n",
       "      <td>2007600</td>\n",
       "      <td>삼화종합중기양병원</td>\n",
       "      <td>총무부</td>\n",
       "      <td>양**</td>\n",
       "      <td>135*****</td>\n",
       "      <td>NaN</td>\n",
       "      <td>10****6856</td>\n",
       "    </tr>\n",
       "    <tr>\n",
       "      <th>13</th>\n",
       "      <td>2007700</td>\n",
       "      <td>삼환기업㈜</td>\n",
       "      <td>총무부</td>\n",
       "      <td>허**</td>\n",
       "      <td>101*****</td>\n",
       "      <td>NaN</td>\n",
       "      <td>61****6904</td>\n",
       "    </tr>\n",
       "    <tr>\n",
       "      <th>14</th>\n",
       "      <td>2007800</td>\n",
       "      <td>삼흥종합건설㈜</td>\n",
       "      <td>총무부</td>\n",
       "      <td>정**</td>\n",
       "      <td>402*****</td>\n",
       "      <td>NaN</td>\n",
       "      <td>NaN</td>\n",
       "    </tr>\n",
       "  </tbody>\n",
       "</table>\n",
       "</div>"
      ],
      "text/plain": [
       "      거래처코드       거래처명 거래처부서명 대표자명     사업자번호 법인번호           전화번호\n",
       "0   2006606    삼보지질㈜진안    총무부  박**  617*****  NaN     63****8084\n",
       "1   2006609    삼부토건㈜길천    영업부  김**  104*****  NaN     52****7200\n",
       "2   2006612   엘티삼보㈜제물포    총무부  장**  617*****  NaN            NaN\n",
       "3   2006700      삼삼건설㈜    총무부  박**  214*****  NaN     32****8400\n",
       "4   2006800      삼성건설㈜    영업부  최**  213*****  NaN            NaN\n",
       "5   2006900    삼성물산㈜신갈    총무부  정**  135*****  NaN     31****1683\n",
       "6   2007000      삼익건설㈜    총무부  이**  120*****  NaN            NaN\n",
       "7   2007100      삼일공영㈜    총무부  이**  110*****  NaN  31****1473115\n",
       "8   2007200    삼중건설㈜고철    총무부  김**  609*****  NaN    055)363****\n",
       "9   2007302      삼지건설㈜    총무부  이**  621*****  NaN     54****8191\n",
       "10  2007400    삼진종합토건㈜    총무부  장**  114*****  NaN            NaN\n",
       "11  2007500    삼호개발㈜청송    영업부  백**  220*****  NaN     54****8876\n",
       "12  2007600  삼화종합중기양병원    총무부  양**  135*****  NaN     10****6856\n",
       "13  2007700      삼환기업㈜    총무부  허**  101*****  NaN     61****6904\n",
       "14  2007800    삼흥종합건설㈜    총무부  정**  402*****  NaN            NaN"
      ]
     },
     "execution_count": 203,
     "metadata": {},
     "output_type": "execute_result"
    }
   ],
   "source": [
    "li2 = []\n",
    "mode_df = pd.DataFrame(columns=client.columns, index=range(len(li)))\n",
    "for i in range(len(li)):\n",
    "    k=client[client['거래처코드']==li[i]].values\n",
    "    mode_df.loc[i] = k\n",
    "    \n",
    "\n",
    "\n",
    "mode_df"
   ]
  },
  {
   "cell_type": "code",
   "execution_count": 59,
   "id": "76390599",
   "metadata": {},
   "outputs": [],
   "source": [
    "\n",
    "product_name=product['제품명'].str.extract(r'([^가-힣()\\s]+)')"
   ]
  },
  {
   "cell_type": "code",
   "execution_count": 60,
   "id": "0e80db39",
   "metadata": {},
   "outputs": [
    {
     "data": {
      "text/plain": [
       "array(['ARE-580FX', 'SRE-110', 'CSA5000', 'PEMA-HR1000', 'PEMA-HR1500',\n",
       "       'PEMA-PR1000', 'CSA4000', 'PEMA-SR2000', 'PEMA-SR3000F',\n",
       "       'PEMA-PR2000', 'PEMA-HR1000F/A', 'PEMA-PR10001.5%', 'PEMA-580FX',\n",
       "       'PEMA-SP1000', 'PEMA-PCR3000E', 'PEMA-PCR3000N', 'PEMA-SR5000F',\n",
       "       'PEMA-CSA5000', 'PEMA-HR1000OPC', 'PEMA-500FR', 'PEMA-PCM2000',\n",
       "       'PEMA-SR2000A', 'PEMA-CR1000', 'SRE-200', 'PEMA-HR1000F/A15%',\n",
       "       'PEMA-HR1000S', 'CSA5000F/A', 'PEMA-PCM2000B', 'PR1000',\n",
       "       'PEMA-SPR', 'PEMA-HR1500F/A', 'AE', 'PEMA-SN400'], dtype=object)"
      ]
     },
     "execution_count": 60,
     "metadata": {},
     "output_type": "execute_result"
    }
   ],
   "source": [
    "product_name[0].unique()"
   ]
  },
  {
   "cell_type": "code",
   "execution_count": 11,
   "id": "15561d24",
   "metadata": {
    "scrolled": true
   },
   "outputs": [],
   "source": [
    "productnm = pd.read_csv('./제품명(수정).csv')\n",
    "productnm=productnm[['제품코드','제품명']]"
   ]
  },
  {
   "cell_type": "code",
   "execution_count": 3,
   "id": "b15c10f2",
   "metadata": {},
   "outputs": [
    {
     "data": {
      "text/plain": [
       "Index(['수주번호', '거래처코드', '제품코드', '영업등록구분(계획, 추가)', '수주량', '수주단가', '수주금액',\n",
       "       '수주예정일자', '수주일자', '납기예정일자', '납기일자', '생산계획확정여부', '자재계획확정여부', '판매수량',\n",
       "       '진행현황', '적재창고위치', '적재창고위치명', '긴급여부', '비고'],\n",
       "      dtype='object')"
      ]
     },
     "execution_count": 3,
     "metadata": {},
     "output_type": "execute_result"
    }
   ],
   "source": [
    "sales.columns"
   ]
  },
  {
   "cell_type": "code",
   "execution_count": 4,
   "id": "190e39c3",
   "metadata": {},
   "outputs": [],
   "source": [
    "sales_semi = sales[['수주번호','거래처코드', '제품코드','수주량', '수주단가', '수주금액','수주일자','납기일자']]"
   ]
  },
  {
   "cell_type": "code",
   "execution_count": 5,
   "id": "a8452a48",
   "metadata": {},
   "outputs": [
    {
     "data": {
      "text/html": [
       "<div>\n",
       "<style scoped>\n",
       "    .dataframe tbody tr th:only-of-type {\n",
       "        vertical-align: middle;\n",
       "    }\n",
       "\n",
       "    .dataframe tbody tr th {\n",
       "        vertical-align: top;\n",
       "    }\n",
       "\n",
       "    .dataframe thead th {\n",
       "        text-align: right;\n",
       "    }\n",
       "</style>\n",
       "<table border=\"1\" class=\"dataframe\">\n",
       "  <thead>\n",
       "    <tr style=\"text-align: right;\">\n",
       "      <th></th>\n",
       "      <th>수주번호</th>\n",
       "      <th>거래처코드</th>\n",
       "      <th>제품코드</th>\n",
       "      <th>수주량</th>\n",
       "      <th>수주단가</th>\n",
       "      <th>수주금액</th>\n",
       "      <th>수주일자</th>\n",
       "      <th>납기일자</th>\n",
       "      <th>제품명</th>\n",
       "    </tr>\n",
       "  </thead>\n",
       "  <tbody>\n",
       "    <tr>\n",
       "      <th>0</th>\n",
       "      <td>580F21022209</td>\n",
       "      <td>2001102</td>\n",
       "      <td>PEMA033101400</td>\n",
       "      <td>15000</td>\n",
       "      <td>1000</td>\n",
       "      <td>15000000</td>\n",
       "      <td>2021-02-22</td>\n",
       "      <td>2021-02-25</td>\n",
       "      <td>PEMA-580FX</td>\n",
       "    </tr>\n",
       "    <tr>\n",
       "      <th>1</th>\n",
       "      <td>580F21030830</td>\n",
       "      <td>2007302</td>\n",
       "      <td>PEMA033101400</td>\n",
       "      <td>15000</td>\n",
       "      <td>1349</td>\n",
       "      <td>20235000</td>\n",
       "      <td>2021-03-08</td>\n",
       "      <td>2021-03-11</td>\n",
       "      <td>PEMA-580FX</td>\n",
       "    </tr>\n",
       "    <tr>\n",
       "      <th>2</th>\n",
       "      <td>580F21031431</td>\n",
       "      <td>2006600</td>\n",
       "      <td>PEMA033101400</td>\n",
       "      <td>15000</td>\n",
       "      <td>1552</td>\n",
       "      <td>23280000</td>\n",
       "      <td>2021-03-14</td>\n",
       "      <td>2021-03-17</td>\n",
       "      <td>PEMA-580FX</td>\n",
       "    </tr>\n",
       "    <tr>\n",
       "      <th>3</th>\n",
       "      <td>580F21032239</td>\n",
       "      <td>2002700</td>\n",
       "      <td>PEMA033101400</td>\n",
       "      <td>15000</td>\n",
       "      <td>1796</td>\n",
       "      <td>26940000</td>\n",
       "      <td>2021-03-22</td>\n",
       "      <td>2021-03-25</td>\n",
       "      <td>PEMA-580FX</td>\n",
       "    </tr>\n",
       "    <tr>\n",
       "      <th>4</th>\n",
       "      <td>580F21040709</td>\n",
       "      <td>2006900</td>\n",
       "      <td>PEMA033101400</td>\n",
       "      <td>20000</td>\n",
       "      <td>2268</td>\n",
       "      <td>45360000</td>\n",
       "      <td>2021-04-07</td>\n",
       "      <td>2021-04-10</td>\n",
       "      <td>PEMA-580FX</td>\n",
       "    </tr>\n",
       "    <tr>\n",
       "      <th>...</th>\n",
       "      <td>...</td>\n",
       "      <td>...</td>\n",
       "      <td>...</td>\n",
       "      <td>...</td>\n",
       "      <td>...</td>\n",
       "      <td>...</td>\n",
       "      <td>...</td>\n",
       "      <td>...</td>\n",
       "      <td>...</td>\n",
       "    </tr>\n",
       "    <tr>\n",
       "      <th>1714</th>\n",
       "      <td>CSA521042117</td>\n",
       "      <td>2006200</td>\n",
       "      <td>PEMA013122800</td>\n",
       "      <td>10000</td>\n",
       "      <td>2684</td>\n",
       "      <td>26840000</td>\n",
       "      <td>2021-04-21</td>\n",
       "      <td>2021-04-24</td>\n",
       "      <td>CSA5000</td>\n",
       "    </tr>\n",
       "    <tr>\n",
       "      <th>1715</th>\n",
       "      <td>SN4021042103</td>\n",
       "      <td>2007000</td>\n",
       "      <td>TSN4012011123</td>\n",
       "      <td>10000</td>\n",
       "      <td>2710</td>\n",
       "      <td>27100000</td>\n",
       "      <td>2021-04-21</td>\n",
       "      <td>2021-04-24</td>\n",
       "      <td>PEMA-SN400</td>\n",
       "    </tr>\n",
       "    <tr>\n",
       "      <th>1716</th>\n",
       "      <td>SR2021042139</td>\n",
       "      <td>2007400</td>\n",
       "      <td>PEMA043103800</td>\n",
       "      <td>10000</td>\n",
       "      <td>2714</td>\n",
       "      <td>27140000</td>\n",
       "      <td>2021-04-21</td>\n",
       "      <td>2021-04-24</td>\n",
       "      <td>PEMA-SR2000</td>\n",
       "    </tr>\n",
       "    <tr>\n",
       "      <th>1717</th>\n",
       "      <td>SR2021042143</td>\n",
       "      <td>2007500</td>\n",
       "      <td>PEMA023122400</td>\n",
       "      <td>8000</td>\n",
       "      <td>2715</td>\n",
       "      <td>21720000</td>\n",
       "      <td>2021-04-21</td>\n",
       "      <td>2021-04-24</td>\n",
       "      <td>PEMA-SR2000</td>\n",
       "    </tr>\n",
       "    <tr>\n",
       "      <th>1718</th>\n",
       "      <td>SN4021042142</td>\n",
       "      <td>2007700</td>\n",
       "      <td>TSN4012011125</td>\n",
       "      <td>10000</td>\n",
       "      <td>2717</td>\n",
       "      <td>27170000</td>\n",
       "      <td>2021-04-21</td>\n",
       "      <td>2021-04-24</td>\n",
       "      <td>PEMA-SN400</td>\n",
       "    </tr>\n",
       "  </tbody>\n",
       "</table>\n",
       "<p>1719 rows × 9 columns</p>\n",
       "</div>"
      ],
      "text/plain": [
       "              수주번호    거래처코드           제품코드    수주량  수주단가      수주금액       수주일자  \\\n",
       "0     580F21022209  2001102  PEMA033101400  15000  1000  15000000 2021-02-22   \n",
       "1     580F21030830  2007302  PEMA033101400  15000  1349  20235000 2021-03-08   \n",
       "2     580F21031431  2006600  PEMA033101400  15000  1552  23280000 2021-03-14   \n",
       "3     580F21032239  2002700  PEMA033101400  15000  1796  26940000 2021-03-22   \n",
       "4     580F21040709  2006900  PEMA033101400  20000  2268  45360000 2021-04-07   \n",
       "...            ...      ...            ...    ...   ...       ...        ...   \n",
       "1714  CSA521042117  2006200  PEMA013122800  10000  2684  26840000 2021-04-21   \n",
       "1715  SN4021042103  2007000  TSN4012011123  10000  2710  27100000 2021-04-21   \n",
       "1716  SR2021042139  2007400  PEMA043103800  10000  2714  27140000 2021-04-21   \n",
       "1717  SR2021042143  2007500  PEMA023122400   8000  2715  21720000 2021-04-21   \n",
       "1718  SN4021042142  2007700  TSN4012011125  10000  2717  27170000 2021-04-21   \n",
       "\n",
       "           납기일자          제품명  \n",
       "0    2021-02-25   PEMA-580FX  \n",
       "1    2021-03-11   PEMA-580FX  \n",
       "2    2021-03-17   PEMA-580FX  \n",
       "3    2021-03-25   PEMA-580FX  \n",
       "4    2021-04-10   PEMA-580FX  \n",
       "...         ...          ...  \n",
       "1714 2021-04-24      CSA5000  \n",
       "1715 2021-04-24   PEMA-SN400  \n",
       "1716 2021-04-24  PEMA-SR2000  \n",
       "1717 2021-04-24  PEMA-SR2000  \n",
       "1718 2021-04-24   PEMA-SN400  \n",
       "\n",
       "[1719 rows x 9 columns]"
      ]
     },
     "execution_count": 5,
     "metadata": {},
     "output_type": "execute_result"
    }
   ],
   "source": [
    "sales_nm = pd.merge(sales_semi,productnm, on='제품코드', how='outer')\n",
    "sales_nm"
   ]
  },
  {
   "cell_type": "code",
   "execution_count": 6,
   "id": "f21de651",
   "metadata": {},
   "outputs": [],
   "source": [
    "product_name= sales_nm['제품명'].unique()"
   ]
  },
  {
   "cell_type": "code",
   "execution_count": 19,
   "id": "0b95cabe",
   "metadata": {},
   "outputs": [],
   "source": [
    "li = []\n",
    "for i in product_name:\n",
    "    df=sales_nm[sales_nm['제품명']==i]\n",
    "    li.append(df)\n"
   ]
  },
  {
   "cell_type": "code",
   "execution_count": 20,
   "id": "22df69df",
   "metadata": {},
   "outputs": [
    {
     "name": "stdout",
     "output_type": "stream",
     "text": [
      "64 PEMA-580FX\n",
      "47 AE\n",
      "252 CSA5000\n",
      "625 PEMA-HR1000\n",
      "224 PEMA-HR1500\n",
      "1 ARE-580FX\n",
      "86 PEMA-PR1000\n",
      "119 PEMA-SR2000\n",
      "80 PEMA-SR3000F\n",
      "31 PEMA-500FR\n",
      "8 PEMA-CR1000\n",
      "22 CSA4000\n",
      "3 PEMA-CSA5000\n",
      "32 PEMA-SN400\n",
      "17 PEMA-SR2000A\n",
      "31 PEMA-PCM2000\n",
      "18 PEMA-PCM2000B\n",
      "2 SRE-110\n",
      "36 PEMA-PR2000\n",
      "6 PEMA-PCR3000E\n",
      "3 PR1000\n",
      "3 PEMA-SR5000F\n",
      "2 PEMA-PCR3000N\n",
      "4 PEMA-SP1000\n",
      "1 SRE-200\n",
      "1 PEMA-SPR\n",
      "1 PEMA-HR1000S\n"
     ]
    }
   ],
   "source": [
    "\n",
    "for i in li:\n",
    "    print(len(i), i['제품명'].iloc[0])"
   ]
  },
  {
   "cell_type": "code",
   "execution_count": 416,
   "id": "dfcd9096",
   "metadata": {},
   "outputs": [
    {
     "data": {
      "text/html": [
       "<div>\n",
       "<style scoped>\n",
       "    .dataframe tbody tr th:only-of-type {\n",
       "        vertical-align: middle;\n",
       "    }\n",
       "\n",
       "    .dataframe tbody tr th {\n",
       "        vertical-align: top;\n",
       "    }\n",
       "\n",
       "    .dataframe thead th {\n",
       "        text-align: right;\n",
       "    }\n",
       "</style>\n",
       "<table border=\"1\" class=\"dataframe\">\n",
       "  <thead>\n",
       "    <tr style=\"text-align: right;\">\n",
       "      <th></th>\n",
       "      <th>거래처코드</th>\n",
       "      <th>제품코드</th>\n",
       "      <th>수주량</th>\n",
       "      <th>수주단가</th>\n",
       "      <th>수주금액</th>\n",
       "      <th>수주일자</th>\n",
       "      <th>납기일자</th>\n",
       "    </tr>\n",
       "  </thead>\n",
       "  <tbody>\n",
       "    <tr>\n",
       "      <th>0</th>\n",
       "      <td>2001102</td>\n",
       "      <td>PEMA033101400</td>\n",
       "      <td>15000</td>\n",
       "      <td>1000</td>\n",
       "      <td>15000000</td>\n",
       "      <td>2021-01-01</td>\n",
       "      <td>2021-01-04</td>\n",
       "    </tr>\n",
       "    <tr>\n",
       "      <th>1</th>\n",
       "      <td>2001200</td>\n",
       "      <td>PEMA023098200</td>\n",
       "      <td>20000</td>\n",
       "      <td>1001</td>\n",
       "      <td>20020000</td>\n",
       "      <td>2021-01-01</td>\n",
       "      <td>2021-01-04</td>\n",
       "    </tr>\n",
       "    <tr>\n",
       "      <th>2</th>\n",
       "      <td>2001300</td>\n",
       "      <td>SSA073046500</td>\n",
       "      <td>2000</td>\n",
       "      <td>1002</td>\n",
       "      <td>2004000</td>\n",
       "      <td>2021-01-01</td>\n",
       "      <td>2021-01-04</td>\n",
       "    </tr>\n",
       "    <tr>\n",
       "      <th>3</th>\n",
       "      <td>2001400</td>\n",
       "      <td>PEMA043099800</td>\n",
       "      <td>10000</td>\n",
       "      <td>1003</td>\n",
       "      <td>10030000</td>\n",
       "      <td>2021-01-01</td>\n",
       "      <td>2021-01-04</td>\n",
       "    </tr>\n",
       "    <tr>\n",
       "      <th>4</th>\n",
       "      <td>2001500</td>\n",
       "      <td>PEMA013120000</td>\n",
       "      <td>10000</td>\n",
       "      <td>1004</td>\n",
       "      <td>10040000</td>\n",
       "      <td>2021-01-01</td>\n",
       "      <td>2021-01-04</td>\n",
       "    </tr>\n",
       "    <tr>\n",
       "      <th>...</th>\n",
       "      <td>...</td>\n",
       "      <td>...</td>\n",
       "      <td>...</td>\n",
       "      <td>...</td>\n",
       "      <td>...</td>\n",
       "      <td>...</td>\n",
       "      <td>...</td>\n",
       "    </tr>\n",
       "    <tr>\n",
       "      <th>1714</th>\n",
       "      <td>2007400</td>\n",
       "      <td>PEMA043103800</td>\n",
       "      <td>10000</td>\n",
       "      <td>2714</td>\n",
       "      <td>27140000</td>\n",
       "      <td>2021-12-31</td>\n",
       "      <td>2022-01-03</td>\n",
       "    </tr>\n",
       "    <tr>\n",
       "      <th>1715</th>\n",
       "      <td>2007500</td>\n",
       "      <td>PEMA023122400</td>\n",
       "      <td>8000</td>\n",
       "      <td>2715</td>\n",
       "      <td>21720000</td>\n",
       "      <td>2021-12-31</td>\n",
       "      <td>2022-01-03</td>\n",
       "    </tr>\n",
       "    <tr>\n",
       "      <th>1716</th>\n",
       "      <td>2007600</td>\n",
       "      <td>PEMA353048300</td>\n",
       "      <td>7000</td>\n",
       "      <td>2716</td>\n",
       "      <td>19012000</td>\n",
       "      <td>2021-12-31</td>\n",
       "      <td>2022-01-03</td>\n",
       "    </tr>\n",
       "    <tr>\n",
       "      <th>1717</th>\n",
       "      <td>2007700</td>\n",
       "      <td>TSN4012011125</td>\n",
       "      <td>10000</td>\n",
       "      <td>2717</td>\n",
       "      <td>27170000</td>\n",
       "      <td>2021-12-31</td>\n",
       "      <td>2022-01-03</td>\n",
       "    </tr>\n",
       "    <tr>\n",
       "      <th>1718</th>\n",
       "      <td>2007800</td>\n",
       "      <td>PEMA013123000</td>\n",
       "      <td>10000</td>\n",
       "      <td>2718</td>\n",
       "      <td>27180000</td>\n",
       "      <td>2021-12-31</td>\n",
       "      <td>2022-01-03</td>\n",
       "    </tr>\n",
       "  </tbody>\n",
       "</table>\n",
       "<p>10434 rows × 7 columns</p>\n",
       "</div>"
      ],
      "text/plain": [
       "        거래처코드           제품코드    수주량  수주단가      수주금액        수주일자        납기일자\n",
       "0     2001102  PEMA033101400  15000  1000  15000000  2021-01-01  2021-01-04\n",
       "1     2001200  PEMA023098200  20000  1001  20020000  2021-01-01  2021-01-04\n",
       "2     2001300   SSA073046500   2000  1002   2004000  2021-01-01  2021-01-04\n",
       "3     2001400  PEMA043099800  10000  1003  10030000  2021-01-01  2021-01-04\n",
       "4     2001500  PEMA013120000  10000  1004  10040000  2021-01-01  2021-01-04\n",
       "...       ...            ...    ...   ...       ...         ...         ...\n",
       "1714  2007400  PEMA043103800  10000  2714  27140000  2021-12-31  2022-01-03\n",
       "1715  2007500  PEMA023122400   8000  2715  21720000  2021-12-31  2022-01-03\n",
       "1716  2007600  PEMA353048300   7000  2716  19012000  2021-12-31  2022-01-03\n",
       "1717  2007700  TSN4012011125  10000  2717  27170000  2021-12-31  2022-01-03\n",
       "1718  2007800  PEMA013123000  10000  2718  27180000  2021-12-31  2022-01-03\n",
       "\n",
       "[10434 rows x 7 columns]"
      ]
     },
     "execution_count": 416,
     "metadata": {},
     "output_type": "execute_result"
    }
   ],
   "source": [
    "import pandas as pd\n",
    "\n",
    "sale_df21 = pd.read_csv('./영업수주_2021_1년.csv', index_col=0)\n",
    "sale_df20 = pd.read_csv('./영업수주_2020_1년.csv', index_col=0)\n",
    "add_mi = pd.read_csv('./시멘트2년 국내출하(월별증감율).csv')\n",
    "sale_df21"
   ]
  },
  {
   "cell_type": "code",
   "execution_count": 417,
   "id": "1c1e8aa2",
   "metadata": {},
   "outputs": [],
   "source": [
    "sale_1=sale_df21[(sale_df21['수주일자'] >= '2021-01-01')&(sale_df21['수주일자'] < '2021-02-01')]\n"
   ]
  },
  {
   "cell_type": "code",
   "execution_count": 430,
   "id": "f3e088b1",
   "metadata": {},
   "outputs": [],
   "source": [
    "add_20=add_mi.iloc[:12]\n",
    "add_21=add_mi.iloc[12:]"
   ]
  },
  {
   "cell_type": "code",
   "execution_count": 419,
   "id": "766a62a1",
   "metadata": {
    "scrolled": true
   },
   "outputs": [
    {
     "data": {
      "text/plain": [
       "0     0.000000\n",
       "1     0.156435\n",
       "2     0.413176\n",
       "3     0.046617\n",
       "4    -0.121081\n",
       "5     0.055105\n",
       "6    -0.174400\n",
       "7    -0.145439\n",
       "8     0.344679\n",
       "9     0.068321\n",
       "10    0.056821\n",
       "11   -0.051807\n",
       "Name: 월별증감율, dtype: float64"
      ]
     },
     "execution_count": 419,
     "metadata": {},
     "output_type": "execute_result"
    }
   ],
   "source": [
    "add_20['월별증감율']"
   ]
  },
  {
   "cell_type": "code",
   "execution_count": 420,
   "id": "ca61d471",
   "metadata": {},
   "outputs": [
    {
     "data": {
      "text/html": [
       "<div>\n",
       "<style scoped>\n",
       "    .dataframe tbody tr th:only-of-type {\n",
       "        vertical-align: middle;\n",
       "    }\n",
       "\n",
       "    .dataframe tbody tr th {\n",
       "        vertical-align: top;\n",
       "    }\n",
       "\n",
       "    .dataframe thead th {\n",
       "        text-align: right;\n",
       "    }\n",
       "</style>\n",
       "<table border=\"1\" class=\"dataframe\">\n",
       "  <thead>\n",
       "    <tr style=\"text-align: right;\">\n",
       "      <th></th>\n",
       "      <th>월</th>\n",
       "      <th>월별</th>\n",
       "      <th>내수계</th>\n",
       "      <th>월별증감율</th>\n",
       "      <th>portion</th>\n",
       "    </tr>\n",
       "  </thead>\n",
       "  <tbody>\n",
       "    <tr>\n",
       "      <th>12</th>\n",
       "      <td>13</td>\n",
       "      <td>1월</td>\n",
       "      <td>2746</td>\n",
       "      <td>-0.369605</td>\n",
       "      <td>0.055628</td>\n",
       "    </tr>\n",
       "    <tr>\n",
       "      <th>13</th>\n",
       "      <td>14</td>\n",
       "      <td>2월</td>\n",
       "      <td>3027</td>\n",
       "      <td>0.102331</td>\n",
       "      <td>0.061320</td>\n",
       "    </tr>\n",
       "    <tr>\n",
       "      <th>14</th>\n",
       "      <td>15</td>\n",
       "      <td>3월</td>\n",
       "      <td>4684</td>\n",
       "      <td>0.547407</td>\n",
       "      <td>0.094887</td>\n",
       "    </tr>\n",
       "    <tr>\n",
       "      <th>15</th>\n",
       "      <td>16</td>\n",
       "      <td>4월</td>\n",
       "      <td>4902</td>\n",
       "      <td>0.046541</td>\n",
       "      <td>0.099303</td>\n",
       "    </tr>\n",
       "    <tr>\n",
       "      <th>16</th>\n",
       "      <td>17</td>\n",
       "      <td>5월</td>\n",
       "      <td>4335</td>\n",
       "      <td>-0.115667</td>\n",
       "      <td>0.087817</td>\n",
       "    </tr>\n",
       "    <tr>\n",
       "      <th>17</th>\n",
       "      <td>18</td>\n",
       "      <td>6월</td>\n",
       "      <td>4388</td>\n",
       "      <td>0.012226</td>\n",
       "      <td>0.088891</td>\n",
       "    </tr>\n",
       "    <tr>\n",
       "      <th>18</th>\n",
       "      <td>19</td>\n",
       "      <td>7월</td>\n",
       "      <td>4223</td>\n",
       "      <td>-0.037603</td>\n",
       "      <td>0.085548</td>\n",
       "    </tr>\n",
       "    <tr>\n",
       "      <th>19</th>\n",
       "      <td>20</td>\n",
       "      <td>8월</td>\n",
       "      <td>3493</td>\n",
       "      <td>-0.172863</td>\n",
       "      <td>0.070760</td>\n",
       "    </tr>\n",
       "    <tr>\n",
       "      <th>20</th>\n",
       "      <td>21</td>\n",
       "      <td>9월</td>\n",
       "      <td>3601</td>\n",
       "      <td>0.030919</td>\n",
       "      <td>0.072948</td>\n",
       "    </tr>\n",
       "    <tr>\n",
       "      <th>21</th>\n",
       "      <td>22</td>\n",
       "      <td>10월</td>\n",
       "      <td>4461</td>\n",
       "      <td>0.238823</td>\n",
       "      <td>0.090370</td>\n",
       "    </tr>\n",
       "    <tr>\n",
       "      <th>22</th>\n",
       "      <td>23</td>\n",
       "      <td>11월</td>\n",
       "      <td>4794</td>\n",
       "      <td>0.074647</td>\n",
       "      <td>0.097115</td>\n",
       "    </tr>\n",
       "    <tr>\n",
       "      <th>23</th>\n",
       "      <td>24</td>\n",
       "      <td>12월</td>\n",
       "      <td>4710</td>\n",
       "      <td>-0.017522</td>\n",
       "      <td>0.095414</td>\n",
       "    </tr>\n",
       "  </tbody>\n",
       "</table>\n",
       "</div>"
      ],
      "text/plain": [
       "     월   월별   내수계     월별증감율   portion\n",
       "12  13   1월  2746 -0.369605  0.055628\n",
       "13  14   2월  3027  0.102331  0.061320\n",
       "14  15   3월  4684  0.547407  0.094887\n",
       "15  16   4월  4902  0.046541  0.099303\n",
       "16  17   5월  4335 -0.115667  0.087817\n",
       "17  18   6월  4388  0.012226  0.088891\n",
       "18  19   7월  4223 -0.037603  0.085548\n",
       "19  20   8월  3493 -0.172863  0.070760\n",
       "20  21   9월  3601  0.030919  0.072948\n",
       "21  22  10월  4461  0.238823  0.090370\n",
       "22  23  11월  4794  0.074647  0.097115\n",
       "23  24  12월  4710 -0.017522  0.095414"
      ]
     },
     "execution_count": 420,
     "metadata": {},
     "output_type": "execute_result"
    }
   ],
   "source": [
    "add_21['portion'] = add_21['내수계']/add_21['내수계'].sum()\n",
    "add_21"
   ]
  },
  {
   "cell_type": "code",
   "execution_count": 421,
   "id": "cc5cd303",
   "metadata": {},
   "outputs": [],
   "source": [
    "add_li=list(add_21['portion'])"
   ]
  },
  {
   "cell_type": "code",
   "execution_count": 431,
   "id": "e423bce9",
   "metadata": {},
   "outputs": [
    {
     "data": {
      "text/plain": [
       "[580.4181994976096,\n",
       " 639.8127785430678,\n",
       " 990.0505631634389,\n",
       " 1036.1289198606273,\n",
       " 916.2829187261972,\n",
       " 927.4854549874403,\n",
       " 892.6096345514951,\n",
       " 738.3105501985252,\n",
       " 761.1383599384166,\n",
       " 942.9153634227373,\n",
       " 1013.3011101207358,\n",
       " 995.5461469897092]"
      ]
     },
     "execution_count": 431,
     "metadata": {},
     "output_type": "execute_result"
    }
   ],
   "source": [
    "li = []\n",
    "for i in add_li:\n",
    "    li.append(len(sale_df21)*i)\n",
    "li"
   ]
  },
  {
   "cell_type": "code",
   "execution_count": 432,
   "id": "0d799802",
   "metadata": {},
   "outputs": [],
   "source": [
    "# df = pd.DataFrame(index=[i for i in range(0,12)], columns = ['년도별수주량'], data = li)\n",
    "# df['년도별수주량'] = df['년도별수주량'].round()"
   ]
  },
  {
   "cell_type": "code",
   "execution_count": 433,
   "id": "d5b7af76",
   "metadata": {},
   "outputs": [],
   "source": [
    "# df['년도별수주량'] = df['년도별수주량'] *  len(sale_3)/df['년도별수주량'][2]\n",
    "# df['년도별수주량'] = df['년도별수주량'].round()"
   ]
  },
  {
   "cell_type": "code",
   "execution_count": 434,
   "id": "831a0fc1",
   "metadata": {},
   "outputs": [],
   "source": [
    "# df.to_csv('2021년_적정수주량.csv')"
   ]
  },
  {
   "cell_type": "code",
   "execution_count": 593,
   "id": "fd86e8c9",
   "metadata": {
    "scrolled": true
   },
   "outputs": [
    {
     "data": {
      "text/html": [
       "<div>\n",
       "<style scoped>\n",
       "    .dataframe tbody tr th:only-of-type {\n",
       "        vertical-align: middle;\n",
       "    }\n",
       "\n",
       "    .dataframe tbody tr th {\n",
       "        vertical-align: top;\n",
       "    }\n",
       "\n",
       "    .dataframe thead th {\n",
       "        text-align: right;\n",
       "    }\n",
       "</style>\n",
       "<table border=\"1\" class=\"dataframe\">\n",
       "  <thead>\n",
       "    <tr style=\"text-align: right;\">\n",
       "      <th></th>\n",
       "      <th>Unnamed: 0</th>\n",
       "      <th>년도별수주량</th>\n",
       "    </tr>\n",
       "  </thead>\n",
       "  <tbody>\n",
       "    <tr>\n",
       "      <th>0</th>\n",
       "      <td>0</td>\n",
       "      <td>531.0</td>\n",
       "    </tr>\n",
       "    <tr>\n",
       "      <th>1</th>\n",
       "      <td>1</td>\n",
       "      <td>586.0</td>\n",
       "    </tr>\n",
       "    <tr>\n",
       "      <th>2</th>\n",
       "      <td>2</td>\n",
       "      <td>907.0</td>\n",
       "    </tr>\n",
       "    <tr>\n",
       "      <th>3</th>\n",
       "      <td>3</td>\n",
       "      <td>949.0</td>\n",
       "    </tr>\n",
       "    <tr>\n",
       "      <th>4</th>\n",
       "      <td>4</td>\n",
       "      <td>839.0</td>\n",
       "    </tr>\n",
       "    <tr>\n",
       "      <th>5</th>\n",
       "      <td>5</td>\n",
       "      <td>849.0</td>\n",
       "    </tr>\n",
       "    <tr>\n",
       "      <th>6</th>\n",
       "      <td>6</td>\n",
       "      <td>818.0</td>\n",
       "    </tr>\n",
       "    <tr>\n",
       "      <th>7</th>\n",
       "      <td>7</td>\n",
       "      <td>676.0</td>\n",
       "    </tr>\n",
       "    <tr>\n",
       "      <th>8</th>\n",
       "      <td>8</td>\n",
       "      <td>697.0</td>\n",
       "    </tr>\n",
       "    <tr>\n",
       "      <th>9</th>\n",
       "      <td>9</td>\n",
       "      <td>864.0</td>\n",
       "    </tr>\n",
       "    <tr>\n",
       "      <th>10</th>\n",
       "      <td>10</td>\n",
       "      <td>928.0</td>\n",
       "    </tr>\n",
       "    <tr>\n",
       "      <th>11</th>\n",
       "      <td>11</td>\n",
       "      <td>912.0</td>\n",
       "    </tr>\n",
       "  </tbody>\n",
       "</table>\n",
       "</div>"
      ],
      "text/plain": [
       "    Unnamed: 0  년도별수주량\n",
       "0            0   531.0\n",
       "1            1   586.0\n",
       "2            2   907.0\n",
       "3            3   949.0\n",
       "4            4   839.0\n",
       "5            5   849.0\n",
       "6            6   818.0\n",
       "7            7   676.0\n",
       "8            8   697.0\n",
       "9            9   864.0\n",
       "10          10   928.0\n",
       "11          11   912.0"
      ]
     },
     "execution_count": 593,
     "metadata": {},
     "output_type": "execute_result"
    }
   ],
   "source": [
    "d2 = pd.read_csv('2021년_적정수주량.csv')\n",
    "d2"
   ]
  },
  {
   "cell_type": "code",
   "execution_count": 436,
   "id": "41f37fb7",
   "metadata": {},
   "outputs": [],
   "source": [
    "d2.rename({'Unnamed: 0':'월'}, axis=1, inplace=True)\n",
    "d2['월']=d2['월']+1"
   ]
  },
  {
   "cell_type": "code",
   "execution_count": 437,
   "id": "ef645218",
   "metadata": {
    "scrolled": true
   },
   "outputs": [
    {
     "data": {
      "text/html": [
       "<div>\n",
       "<style scoped>\n",
       "    .dataframe tbody tr th:only-of-type {\n",
       "        vertical-align: middle;\n",
       "    }\n",
       "\n",
       "    .dataframe tbody tr th {\n",
       "        vertical-align: top;\n",
       "    }\n",
       "\n",
       "    .dataframe thead th {\n",
       "        text-align: right;\n",
       "    }\n",
       "</style>\n",
       "<table border=\"1\" class=\"dataframe\">\n",
       "  <thead>\n",
       "    <tr style=\"text-align: right;\">\n",
       "      <th></th>\n",
       "      <th>월</th>\n",
       "      <th>년도별수주량</th>\n",
       "    </tr>\n",
       "  </thead>\n",
       "  <tbody>\n",
       "    <tr>\n",
       "      <th>0</th>\n",
       "      <td>1</td>\n",
       "      <td>531.0</td>\n",
       "    </tr>\n",
       "    <tr>\n",
       "      <th>1</th>\n",
       "      <td>2</td>\n",
       "      <td>586.0</td>\n",
       "    </tr>\n",
       "    <tr>\n",
       "      <th>2</th>\n",
       "      <td>3</td>\n",
       "      <td>907.0</td>\n",
       "    </tr>\n",
       "    <tr>\n",
       "      <th>3</th>\n",
       "      <td>4</td>\n",
       "      <td>949.0</td>\n",
       "    </tr>\n",
       "    <tr>\n",
       "      <th>4</th>\n",
       "      <td>5</td>\n",
       "      <td>839.0</td>\n",
       "    </tr>\n",
       "    <tr>\n",
       "      <th>5</th>\n",
       "      <td>6</td>\n",
       "      <td>849.0</td>\n",
       "    </tr>\n",
       "    <tr>\n",
       "      <th>6</th>\n",
       "      <td>7</td>\n",
       "      <td>818.0</td>\n",
       "    </tr>\n",
       "    <tr>\n",
       "      <th>7</th>\n",
       "      <td>8</td>\n",
       "      <td>676.0</td>\n",
       "    </tr>\n",
       "    <tr>\n",
       "      <th>8</th>\n",
       "      <td>9</td>\n",
       "      <td>697.0</td>\n",
       "    </tr>\n",
       "    <tr>\n",
       "      <th>9</th>\n",
       "      <td>10</td>\n",
       "      <td>864.0</td>\n",
       "    </tr>\n",
       "    <tr>\n",
       "      <th>10</th>\n",
       "      <td>11</td>\n",
       "      <td>928.0</td>\n",
       "    </tr>\n",
       "    <tr>\n",
       "      <th>11</th>\n",
       "      <td>12</td>\n",
       "      <td>912.0</td>\n",
       "    </tr>\n",
       "  </tbody>\n",
       "</table>\n",
       "</div>"
      ],
      "text/plain": [
       "     월  년도별수주량\n",
       "0    1   531.0\n",
       "1    2   586.0\n",
       "2    3   907.0\n",
       "3    4   949.0\n",
       "4    5   839.0\n",
       "5    6   849.0\n",
       "6    7   818.0\n",
       "7    8   676.0\n",
       "8    9   697.0\n",
       "9   10   864.0\n",
       "10  11   928.0\n",
       "11  12   912.0"
      ]
     },
     "execution_count": 437,
     "metadata": {},
     "output_type": "execute_result"
    }
   ],
   "source": [
    "d2"
   ]
  },
  {
   "cell_type": "code",
   "execution_count": null,
   "id": "fdd6a6a2",
   "metadata": {},
   "outputs": [],
   "source": []
  },
  {
   "cell_type": "code",
   "execution_count": 438,
   "id": "f818e578",
   "metadata": {},
   "outputs": [],
   "source": [
    "winter=d2[(d2['월']== 1)|(d2['월']== 2)|(d2['월']== 12)]['년도별수주량'].sum()\n",
    "spring=d2[(d2['월']== 3)|(d2['월']== 4)|(d2['월']== 5)]['년도별수주량'].sum()\n",
    "summer=d2[(d2['월']== 6)|(d2['월']== 7)|(d2['월']== 8)]['년도별수주량'].sum()\n",
    "fall=d2[(d2['월']== 9)|(d2['월']== 10)|(d2['월']== 11)]['년도별수주량'].sum()"
   ]
  },
  {
   "cell_type": "code",
   "execution_count": 439,
   "id": "0a3d69e8",
   "metadata": {},
   "outputs": [
    {
     "name": "stdout",
     "output_type": "stream",
     "text": [
      "2695.0\n",
      "2343.0\n",
      "2489.0\n",
      "2029.0\n"
     ]
    }
   ],
   "source": [
    "print(spring)\n",
    "print(summer)\n",
    "print(fall)\n",
    "print(winter)"
   ]
  },
  {
   "cell_type": "code",
   "execution_count": 440,
   "id": "5cf16064",
   "metadata": {},
   "outputs": [],
   "source": [
    "# 계절 별 외부 데이터 다시 원본 데이터와 맞춤\n",
    "p=len(sale_spring)/spring"
   ]
  },
  {
   "cell_type": "code",
   "execution_count": 441,
   "id": "4ca4907a",
   "metadata": {},
   "outputs": [],
   "source": [
    "spring = round(spring*p)\n",
    "summer=round(summer*p)\n",
    "fall = round(fall*p)\n",
    "winter = round(winter*p)"
   ]
  },
  {
   "cell_type": "code",
   "execution_count": 442,
   "id": "3414b178",
   "metadata": {},
   "outputs": [
    {
     "name": "stdout",
     "output_type": "stream",
     "text": [
      "2626\n",
      "2283\n",
      "2425\n",
      "1977\n"
     ]
    }
   ],
   "source": [
    "print(spring)\n",
    "print(summer)\n",
    "print(fall)\n",
    "print(winter)"
   ]
  },
  {
   "cell_type": "code",
   "execution_count": 443,
   "id": "d54e6b37",
   "metadata": {},
   "outputs": [
    {
     "data": {
      "text/plain": [
       "9556.0"
      ]
     },
     "execution_count": 443,
     "metadata": {},
     "output_type": "execute_result"
    }
   ],
   "source": [
    "d2['년도별수주량'].sum()"
   ]
  },
  {
   "cell_type": "code",
   "execution_count": 444,
   "id": "31b09e16",
   "metadata": {
    "scrolled": true
   },
   "outputs": [
    {
     "data": {
      "text/plain": [
       "10434"
      ]
     },
     "execution_count": 444,
     "metadata": {},
     "output_type": "execute_result"
    }
   ],
   "source": [
    "len(sale_df21)"
   ]
  },
  {
   "cell_type": "markdown",
   "id": "36812bda",
   "metadata": {},
   "source": [
    "# 여기서부터 돌리시면 깔끔합니다."
   ]
  },
  {
   "cell_type": "code",
   "execution_count": 604,
   "id": "8bce01d7",
   "metadata": {
    "scrolled": true
   },
   "outputs": [
    {
     "data": {
      "text/html": [
       "<div>\n",
       "<style scoped>\n",
       "    .dataframe tbody tr th:only-of-type {\n",
       "        vertical-align: middle;\n",
       "    }\n",
       "\n",
       "    .dataframe tbody tr th {\n",
       "        vertical-align: top;\n",
       "    }\n",
       "\n",
       "    .dataframe thead th {\n",
       "        text-align: right;\n",
       "    }\n",
       "</style>\n",
       "<table border=\"1\" class=\"dataframe\">\n",
       "  <thead>\n",
       "    <tr style=\"text-align: right;\">\n",
       "      <th></th>\n",
       "      <th>거래처코드</th>\n",
       "      <th>제품코드</th>\n",
       "      <th>수주량</th>\n",
       "      <th>수주단가</th>\n",
       "      <th>수주금액</th>\n",
       "      <th>수주일자</th>\n",
       "      <th>납기일자</th>\n",
       "    </tr>\n",
       "  </thead>\n",
       "  <tbody>\n",
       "    <tr>\n",
       "      <th>0</th>\n",
       "      <td>2001102</td>\n",
       "      <td>PEMA033101400</td>\n",
       "      <td>15000</td>\n",
       "      <td>1000</td>\n",
       "      <td>15000000</td>\n",
       "      <td>2021-01-01</td>\n",
       "      <td>2021-01-04</td>\n",
       "    </tr>\n",
       "    <tr>\n",
       "      <th>1</th>\n",
       "      <td>2001200</td>\n",
       "      <td>PEMA023098200</td>\n",
       "      <td>20000</td>\n",
       "      <td>1001</td>\n",
       "      <td>20020000</td>\n",
       "      <td>2021-01-01</td>\n",
       "      <td>2021-01-04</td>\n",
       "    </tr>\n",
       "    <tr>\n",
       "      <th>2</th>\n",
       "      <td>2001300</td>\n",
       "      <td>SSA073046500</td>\n",
       "      <td>2000</td>\n",
       "      <td>1002</td>\n",
       "      <td>2004000</td>\n",
       "      <td>2021-01-01</td>\n",
       "      <td>2021-01-04</td>\n",
       "    </tr>\n",
       "    <tr>\n",
       "      <th>3</th>\n",
       "      <td>2001400</td>\n",
       "      <td>PEMA043099800</td>\n",
       "      <td>10000</td>\n",
       "      <td>1003</td>\n",
       "      <td>10030000</td>\n",
       "      <td>2021-01-01</td>\n",
       "      <td>2021-01-04</td>\n",
       "    </tr>\n",
       "    <tr>\n",
       "      <th>4</th>\n",
       "      <td>2001500</td>\n",
       "      <td>PEMA013120000</td>\n",
       "      <td>10000</td>\n",
       "      <td>1004</td>\n",
       "      <td>10040000</td>\n",
       "      <td>2021-01-01</td>\n",
       "      <td>2021-01-04</td>\n",
       "    </tr>\n",
       "    <tr>\n",
       "      <th>...</th>\n",
       "      <td>...</td>\n",
       "      <td>...</td>\n",
       "      <td>...</td>\n",
       "      <td>...</td>\n",
       "      <td>...</td>\n",
       "      <td>...</td>\n",
       "      <td>...</td>\n",
       "    </tr>\n",
       "    <tr>\n",
       "      <th>1714</th>\n",
       "      <td>2007400</td>\n",
       "      <td>PEMA043103800</td>\n",
       "      <td>10000</td>\n",
       "      <td>2714</td>\n",
       "      <td>27140000</td>\n",
       "      <td>2021-12-31</td>\n",
       "      <td>2022-01-03</td>\n",
       "    </tr>\n",
       "    <tr>\n",
       "      <th>1715</th>\n",
       "      <td>2007500</td>\n",
       "      <td>PEMA023122400</td>\n",
       "      <td>8000</td>\n",
       "      <td>2715</td>\n",
       "      <td>21720000</td>\n",
       "      <td>2021-12-31</td>\n",
       "      <td>2022-01-03</td>\n",
       "    </tr>\n",
       "    <tr>\n",
       "      <th>1716</th>\n",
       "      <td>2007600</td>\n",
       "      <td>PEMA353048300</td>\n",
       "      <td>7000</td>\n",
       "      <td>2716</td>\n",
       "      <td>19012000</td>\n",
       "      <td>2021-12-31</td>\n",
       "      <td>2022-01-03</td>\n",
       "    </tr>\n",
       "    <tr>\n",
       "      <th>1717</th>\n",
       "      <td>2007700</td>\n",
       "      <td>TSN4012011125</td>\n",
       "      <td>10000</td>\n",
       "      <td>2717</td>\n",
       "      <td>27170000</td>\n",
       "      <td>2021-12-31</td>\n",
       "      <td>2022-01-03</td>\n",
       "    </tr>\n",
       "    <tr>\n",
       "      <th>1718</th>\n",
       "      <td>2007800</td>\n",
       "      <td>PEMA013123000</td>\n",
       "      <td>10000</td>\n",
       "      <td>2718</td>\n",
       "      <td>27180000</td>\n",
       "      <td>2021-12-31</td>\n",
       "      <td>2022-01-03</td>\n",
       "    </tr>\n",
       "  </tbody>\n",
       "</table>\n",
       "<p>10434 rows × 7 columns</p>\n",
       "</div>"
      ],
      "text/plain": [
       "        거래처코드           제품코드    수주량  수주단가      수주금액        수주일자        납기일자\n",
       "0     2001102  PEMA033101400  15000  1000  15000000  2021-01-01  2021-01-04\n",
       "1     2001200  PEMA023098200  20000  1001  20020000  2021-01-01  2021-01-04\n",
       "2     2001300   SSA073046500   2000  1002   2004000  2021-01-01  2021-01-04\n",
       "3     2001400  PEMA043099800  10000  1003  10030000  2021-01-01  2021-01-04\n",
       "4     2001500  PEMA013120000  10000  1004  10040000  2021-01-01  2021-01-04\n",
       "...       ...            ...    ...   ...       ...         ...         ...\n",
       "1714  2007400  PEMA043103800  10000  2714  27140000  2021-12-31  2022-01-03\n",
       "1715  2007500  PEMA023122400   8000  2715  21720000  2021-12-31  2022-01-03\n",
       "1716  2007600  PEMA353048300   7000  2716  19012000  2021-12-31  2022-01-03\n",
       "1717  2007700  TSN4012011125  10000  2717  27170000  2021-12-31  2022-01-03\n",
       "1718  2007800  PEMA013123000  10000  2718  27180000  2021-12-31  2022-01-03\n",
       "\n",
       "[10434 rows x 7 columns]"
      ]
     },
     "execution_count": 604,
     "metadata": {},
     "output_type": "execute_result"
    }
   ],
   "source": [
    "import pandas as pd\n",
    "\n",
    "sale_df21 = pd.read_csv('./영업수주_2021_1년.csv', index_col=0)\n",
    "sale_df20 = pd.read_csv('./영업수주_2020_1년.csv', index_col=0)\n",
    "add_mi = pd.read_csv('./시멘트2년 국내출하(월별증감율).csv')\n",
    "sale_df21"
   ]
  },
  {
   "cell_type": "code",
   "execution_count": 605,
   "id": "892f0bac",
   "metadata": {},
   "outputs": [],
   "source": [
    "productnm = pd.read_csv('./제품명(수정).csv')\n",
    "productnm=productnm[['제품코드','제품명']]"
   ]
  },
  {
   "cell_type": "code",
   "execution_count": 606,
   "id": "7ead992c",
   "metadata": {},
   "outputs": [],
   "source": [
    "sale_df21 = pd.merge(sale_df21,productnm, on='제품코드', how='outer')"
   ]
  },
  {
   "cell_type": "code",
   "execution_count": 607,
   "id": "3cdb6bc5",
   "metadata": {},
   "outputs": [],
   "source": [
    "sale_winter=sale_df21[(sale_df21['수주일자'] >= '2021-01-01')&(sale_df21['수주일자'] < '2021-03-01')|(sale_df21['수주일자'] >= '2021-12-01')&(sale_df21['수주일자'] < '2022-01-01')]\n",
    "sale_spring=sale_df21[(sale_df21['수주일자'] >= '2021-03-01')&(sale_df21['수주일자'] < '2021-06-01')]\n",
    "sale_summer=sale_df21[(sale_df21['수주일자'] >= '2021-06-01')&(sale_df21['수주일자'] < '2021-09-01')]\n",
    "sale_fall=sale_df21[(sale_df21['수주일자'] >= '2021-09-01')&(sale_df21['수주일자'] < '2021-12-01')]"
   ]
  },
  {
   "cell_type": "markdown",
   "id": "e2937982",
   "metadata": {},
   "source": [
    "#### 2021 외부데이터 편집"
   ]
  },
  {
   "cell_type": "code",
   "execution_count": 608,
   "id": "09eadf34",
   "metadata": {},
   "outputs": [],
   "source": [
    "add_21=add_mi.iloc[12:]\n",
    "add_21['월'] = add_21['월']-12"
   ]
  },
  {
   "cell_type": "code",
   "execution_count": 609,
   "id": "4d4f2fe6",
   "metadata": {},
   "outputs": [
    {
     "data": {
      "text/html": [
       "<div>\n",
       "<style scoped>\n",
       "    .dataframe tbody tr th:only-of-type {\n",
       "        vertical-align: middle;\n",
       "    }\n",
       "\n",
       "    .dataframe tbody tr th {\n",
       "        vertical-align: top;\n",
       "    }\n",
       "\n",
       "    .dataframe thead th {\n",
       "        text-align: right;\n",
       "    }\n",
       "</style>\n",
       "<table border=\"1\" class=\"dataframe\">\n",
       "  <thead>\n",
       "    <tr style=\"text-align: right;\">\n",
       "      <th></th>\n",
       "      <th>월</th>\n",
       "      <th>월별</th>\n",
       "      <th>내수계</th>\n",
       "      <th>월별증감율</th>\n",
       "    </tr>\n",
       "  </thead>\n",
       "  <tbody>\n",
       "    <tr>\n",
       "      <th>12</th>\n",
       "      <td>1</td>\n",
       "      <td>1월</td>\n",
       "      <td>2746</td>\n",
       "      <td>-0.369605</td>\n",
       "    </tr>\n",
       "    <tr>\n",
       "      <th>13</th>\n",
       "      <td>2</td>\n",
       "      <td>2월</td>\n",
       "      <td>3027</td>\n",
       "      <td>0.102331</td>\n",
       "    </tr>\n",
       "    <tr>\n",
       "      <th>14</th>\n",
       "      <td>3</td>\n",
       "      <td>3월</td>\n",
       "      <td>4684</td>\n",
       "      <td>0.547407</td>\n",
       "    </tr>\n",
       "    <tr>\n",
       "      <th>15</th>\n",
       "      <td>4</td>\n",
       "      <td>4월</td>\n",
       "      <td>4902</td>\n",
       "      <td>0.046541</td>\n",
       "    </tr>\n",
       "    <tr>\n",
       "      <th>16</th>\n",
       "      <td>5</td>\n",
       "      <td>5월</td>\n",
       "      <td>4335</td>\n",
       "      <td>-0.115667</td>\n",
       "    </tr>\n",
       "    <tr>\n",
       "      <th>17</th>\n",
       "      <td>6</td>\n",
       "      <td>6월</td>\n",
       "      <td>4388</td>\n",
       "      <td>0.012226</td>\n",
       "    </tr>\n",
       "    <tr>\n",
       "      <th>18</th>\n",
       "      <td>7</td>\n",
       "      <td>7월</td>\n",
       "      <td>4223</td>\n",
       "      <td>-0.037603</td>\n",
       "    </tr>\n",
       "    <tr>\n",
       "      <th>19</th>\n",
       "      <td>8</td>\n",
       "      <td>8월</td>\n",
       "      <td>3493</td>\n",
       "      <td>-0.172863</td>\n",
       "    </tr>\n",
       "    <tr>\n",
       "      <th>20</th>\n",
       "      <td>9</td>\n",
       "      <td>9월</td>\n",
       "      <td>3601</td>\n",
       "      <td>0.030919</td>\n",
       "    </tr>\n",
       "    <tr>\n",
       "      <th>21</th>\n",
       "      <td>10</td>\n",
       "      <td>10월</td>\n",
       "      <td>4461</td>\n",
       "      <td>0.238823</td>\n",
       "    </tr>\n",
       "    <tr>\n",
       "      <th>22</th>\n",
       "      <td>11</td>\n",
       "      <td>11월</td>\n",
       "      <td>4794</td>\n",
       "      <td>0.074647</td>\n",
       "    </tr>\n",
       "    <tr>\n",
       "      <th>23</th>\n",
       "      <td>12</td>\n",
       "      <td>12월</td>\n",
       "      <td>4710</td>\n",
       "      <td>-0.017522</td>\n",
       "    </tr>\n",
       "  </tbody>\n",
       "</table>\n",
       "</div>"
      ],
      "text/plain": [
       "     월   월별   내수계     월별증감율\n",
       "12   1   1월  2746 -0.369605\n",
       "13   2   2월  3027  0.102331\n",
       "14   3   3월  4684  0.547407\n",
       "15   4   4월  4902  0.046541\n",
       "16   5   5월  4335 -0.115667\n",
       "17   6   6월  4388  0.012226\n",
       "18   7   7월  4223 -0.037603\n",
       "19   8   8월  3493 -0.172863\n",
       "20   9   9월  3601  0.030919\n",
       "21  10  10월  4461  0.238823\n",
       "22  11  11월  4794  0.074647\n",
       "23  12  12월  4710 -0.017522"
      ]
     },
     "execution_count": 609,
     "metadata": {},
     "output_type": "execute_result"
    }
   ],
   "source": [
    "add_21"
   ]
  },
  {
   "cell_type": "code",
   "execution_count": 610,
   "id": "0b580c90",
   "metadata": {},
   "outputs": [],
   "source": [
    "winter=add_21[(add_21['월']== 1)|(add_21['월']== 2)|(add_21['월']== 12)]['내수계'].sum()\n",
    "spring=add_21[(add_21['월']== 3)|(add_21['월']== 4)|(add_21['월']== 5)]['내수계'].sum()\n",
    "summer=add_21[(add_21['월']== 6)|(add_21['월']== 7)|(add_21['월']== 8)]['내수계'].sum()\n",
    "fall=add_21[(add_21['월']== 9)|(add_21['월']== 10)|(add_21['월']== 11)]['내수계'].sum()"
   ]
  },
  {
   "cell_type": "code",
   "execution_count": 611,
   "id": "1f231060",
   "metadata": {},
   "outputs": [],
   "source": [
    "# 계절 별 외부 데이터 다시 원본 데이터와 맞춤\n",
    "p=len(sale_spring)/spring"
   ]
  },
  {
   "cell_type": "code",
   "execution_count": 612,
   "id": "b41fb62e",
   "metadata": {},
   "outputs": [],
   "source": [
    "spring = round(spring*p)\n",
    "summer=round(summer*p)\n",
    "fall = round(fall*p)\n",
    "winter = round(winter*p)"
   ]
  },
  {
   "cell_type": "code",
   "execution_count": 616,
   "id": "52276f96",
   "metadata": {},
   "outputs": [
    {
     "data": {
      "text/plain": [
       "1977"
      ]
     },
     "execution_count": 616,
     "metadata": {},
     "output_type": "execute_result"
    }
   ],
   "source": [
    "winter"
   ]
  },
  {
   "cell_type": "code",
   "execution_count": 447,
   "id": "415eb222",
   "metadata": {},
   "outputs": [],
   "source": [
    "# sale_original=sale_df21[(sale_df21['수주일자'] > '2021-02-21')&(sale_df21['수주일자'] < '2021-04-22')]"
   ]
  },
  {
   "cell_type": "code",
   "execution_count": 428,
   "id": "bb2a019e",
   "metadata": {},
   "outputs": [],
   "source": [
    "# all_p_dic = {}\n",
    "# for i in list(sale_original['제품명'].unique()):\n",
    "#     name_cnt =  len(sale_original[sale_original['제품명']==i])\n",
    "#     all_p_dic[i] = round(name_cnt/len(sale_original),4)\n"
   ]
  },
  {
   "cell_type": "code",
   "execution_count": 448,
   "id": "fa820aac",
   "metadata": {},
   "outputs": [],
   "source": [
    "# sale_1=sale_df21[(sale_df21['수주일자'] >= '2021-01-01')&(sale_df21['수주일자'] < '2021-02-01')]\n",
    "# sale_2=sale_df21[(sale_df21['수주일자'] >= '2021-02-01')&(sale_df21['수주일자'] < '2021-03-01')]\n",
    "# sale_3=sale_df21[(sale_df21['수주일자'] >= '2021-03-01')&(sale_df21['수주일자'] < '2021-04-01')]\n",
    "# sale_4=sale_df21[(sale_df21['수주일자'] >= '2021-04-01')&(sale_df21['수주일자'] < '2021-05-01')]\n",
    "# sale_5=sale_df21[(sale_df21['수주일자'] >= '2021-05-01')&(sale_df21['수주일자'] < '2021-06-01')]\n",
    "# sale_6=sale_df21[(sale_df21['수주일자'] >= '2021-06-01')&(sale_df21['수주일자'] < '2021-07-01')]\n",
    "# sale_7=sale_df21[(sale_df21['수주일자'] >= '2021-07-01')&(sale_df21['수주일자'] < '2021-08-01')]\n",
    "# sale_8=sale_df21[(sale_df21['수주일자'] >= '2021-08-01')&(sale_df21['수주일자'] < '2021-09-01')]\n",
    "# sale_9=sale_df21[(sale_df21['수주일자'] >= '2021-09-01')&(sale_df21['수주일자'] < '2021-10-01')]\n",
    "# sale_10=sale_df21[(sale_df21['수주일자'] >= '2021-10-01')&(sale_df21['수주일자'] < '2021-11-01')]\n",
    "# sale_11=sale_df21[(sale_df21['수주일자'] >= '2021-11-01')&(sale_df21['수주일자'] < '2021-12-01')]\n",
    "# sale_12=sale_df21[(sale_df21['수주일자'] >= '2021-12-01')&(sale_df21['수주일자'] < '2022-01-01')]\n",
    "\n"
   ]
  },
  {
   "cell_type": "code",
   "execution_count": 451,
   "id": "4f425527",
   "metadata": {},
   "outputs": [
    {
     "data": {
      "text/plain": [
       "2626"
      ]
     },
     "execution_count": 451,
     "metadata": {},
     "output_type": "execute_result"
    }
   ],
   "source": [
    "len(sale_fall)"
   ]
  },
  {
   "cell_type": "code",
   "execution_count": 452,
   "id": "da7e41af",
   "metadata": {
    "scrolled": true
   },
   "outputs": [
    {
     "data": {
      "text/plain": [
       "1977"
      ]
     },
     "execution_count": 452,
     "metadata": {},
     "output_type": "execute_result"
    }
   ],
   "source": [
    "winter"
   ]
  },
  {
   "cell_type": "code",
   "execution_count": 617,
   "id": "d86c9bd2",
   "metadata": {},
   "outputs": [
    {
     "data": {
      "text/plain": [
       "673"
      ]
     },
     "execution_count": 617,
     "metadata": {},
     "output_type": "execute_result"
    }
   ],
   "source": [
    "len(sale_winter) -winter"
   ]
  },
  {
   "cell_type": "code",
   "execution_count": 618,
   "id": "05c1c43e",
   "metadata": {},
   "outputs": [
    {
     "data": {
      "text/plain": [
       "248"
      ]
     },
     "execution_count": 618,
     "metadata": {},
     "output_type": "execute_result"
    }
   ],
   "source": [
    "len(sale_summer) -summer"
   ]
  },
  {
   "cell_type": "code",
   "execution_count": 619,
   "id": "2e453383",
   "metadata": {},
   "outputs": [
    {
     "data": {
      "text/plain": [
       "201"
      ]
     },
     "execution_count": 619,
     "metadata": {},
     "output_type": "execute_result"
    }
   ],
   "source": [
    "len(sale_fall) -fall"
   ]
  },
  {
   "cell_type": "markdown",
   "id": "2376449b",
   "metadata": {},
   "source": [
    "#### Sale_winter 증식 데이터 없애기"
   ]
  },
  {
   "cell_type": "code",
   "execution_count": 457,
   "id": "2df94686",
   "metadata": {
    "scrolled": true
   },
   "outputs": [
    {
     "data": {
      "text/plain": [
       "662"
      ]
     },
     "execution_count": 457,
     "metadata": {},
     "output_type": "execute_result"
    }
   ],
   "source": [
    "# 증식된 데이터 날짜 별 하나 씩 없애기\n",
    "# 제품 건수는 2개 이상 살리기\n",
    "# 원본이 포함된 sale_spring은 건들지 않음\n",
    "\n",
    "# 겨울 차이 673\n",
    "import warnings\n",
    "warnings.filterwarnings('ignore')\n",
    "\n",
    "li=[]         \n",
    "for i,p in zip(list(sale_winter['수주일자'].unique()), list(sale_winter['제품명'].unique())):\n",
    "    k = sale_winter[sale_winter['수주일자'] == i].index\n",
    "    pro = sale_winter[sale_winter['제품명'] == p]\n",
    "    if len(pro) > 2:\n",
    "        j=list(k[0:30])\n",
    "        li.append(j)\n",
    "            \n",
    "            \n",
    "li2=[]\n",
    "for i in li:\n",
    "    for j in i:\n",
    "        li2.append(j)\n",
    "len(li2)"
   ]
  },
  {
   "cell_type": "code",
   "execution_count": 458,
   "id": "9b03b8b3",
   "metadata": {},
   "outputs": [],
   "source": [
    "sale_winter.drop(li2, inplace=True)"
   ]
  },
  {
   "cell_type": "code",
   "execution_count": 459,
   "id": "1f54c1f2",
   "metadata": {
    "scrolled": true
   },
   "outputs": [
    {
     "data": {
      "text/html": [
       "<div>\n",
       "<style scoped>\n",
       "    .dataframe tbody tr th:only-of-type {\n",
       "        vertical-align: middle;\n",
       "    }\n",
       "\n",
       "    .dataframe tbody tr th {\n",
       "        vertical-align: top;\n",
       "    }\n",
       "\n",
       "    .dataframe thead th {\n",
       "        text-align: right;\n",
       "    }\n",
       "</style>\n",
       "<table border=\"1\" class=\"dataframe\">\n",
       "  <thead>\n",
       "    <tr style=\"text-align: right;\">\n",
       "      <th></th>\n",
       "      <th>거래처코드</th>\n",
       "      <th>제품코드</th>\n",
       "      <th>수주량</th>\n",
       "      <th>수주단가</th>\n",
       "      <th>수주금액</th>\n",
       "      <th>수주일자</th>\n",
       "      <th>납기일자</th>\n",
       "      <th>제품명</th>\n",
       "    </tr>\n",
       "  </thead>\n",
       "  <tbody>\n",
       "    <tr>\n",
       "      <th>5</th>\n",
       "      <td>2001300</td>\n",
       "      <td>PEMA033101400</td>\n",
       "      <td>20000</td>\n",
       "      <td>2493</td>\n",
       "      <td>49860000</td>\n",
       "      <td>2021-02-21</td>\n",
       "      <td>2021-02-24</td>\n",
       "      <td>PEMA-580FX</td>\n",
       "    </tr>\n",
       "    <tr>\n",
       "      <th>45</th>\n",
       "      <td>2003300</td>\n",
       "      <td>PEMA023098200</td>\n",
       "      <td>20000</td>\n",
       "      <td>2441</td>\n",
       "      <td>48820000</td>\n",
       "      <td>2021-02-21</td>\n",
       "      <td>2021-02-24</td>\n",
       "      <td>PEMA-580FX</td>\n",
       "    </tr>\n",
       "    <tr>\n",
       "      <th>104</th>\n",
       "      <td>2005300</td>\n",
       "      <td>PEMA023098200</td>\n",
       "      <td>20000</td>\n",
       "      <td>2675</td>\n",
       "      <td>53500000</td>\n",
       "      <td>2021-12-31</td>\n",
       "      <td>2022-01-03</td>\n",
       "      <td>PEMA-580FX</td>\n",
       "    </tr>\n",
       "    <tr>\n",
       "      <th>107</th>\n",
       "      <td>2005700</td>\n",
       "      <td>SSA073046500</td>\n",
       "      <td>1000</td>\n",
       "      <td>1188</td>\n",
       "      <td>1188000</td>\n",
       "      <td>2021-01-11</td>\n",
       "      <td>2021-01-14</td>\n",
       "      <td>AE</td>\n",
       "    </tr>\n",
       "    <tr>\n",
       "      <th>109</th>\n",
       "      <td>2005600</td>\n",
       "      <td>SSA073046500</td>\n",
       "      <td>2000</td>\n",
       "      <td>1471</td>\n",
       "      <td>2942000</td>\n",
       "      <td>2021-01-21</td>\n",
       "      <td>2021-01-24</td>\n",
       "      <td>AE</td>\n",
       "    </tr>\n",
       "    <tr>\n",
       "      <th>...</th>\n",
       "      <td>...</td>\n",
       "      <td>...</td>\n",
       "      <td>...</td>\n",
       "      <td>...</td>\n",
       "      <td>...</td>\n",
       "      <td>...</td>\n",
       "      <td>...</td>\n",
       "      <td>...</td>\n",
       "    </tr>\n",
       "    <tr>\n",
       "      <th>10421</th>\n",
       "      <td>2007400</td>\n",
       "      <td>PEMA043103800</td>\n",
       "      <td>10000</td>\n",
       "      <td>2714</td>\n",
       "      <td>27140000</td>\n",
       "      <td>2021-12-31</td>\n",
       "      <td>2022-01-03</td>\n",
       "      <td>PEMA-SR2000</td>\n",
       "    </tr>\n",
       "    <tr>\n",
       "      <th>10426</th>\n",
       "      <td>2007500</td>\n",
       "      <td>PEMA023122400</td>\n",
       "      <td>8000</td>\n",
       "      <td>2715</td>\n",
       "      <td>21720000</td>\n",
       "      <td>2021-12-21</td>\n",
       "      <td>2021-12-24</td>\n",
       "      <td>PEMA-SR2000</td>\n",
       "    </tr>\n",
       "    <tr>\n",
       "      <th>10427</th>\n",
       "      <td>2007500</td>\n",
       "      <td>PEMA023122400</td>\n",
       "      <td>8000</td>\n",
       "      <td>2715</td>\n",
       "      <td>21720000</td>\n",
       "      <td>2021-12-31</td>\n",
       "      <td>2022-01-03</td>\n",
       "      <td>PEMA-SR2000</td>\n",
       "    </tr>\n",
       "    <tr>\n",
       "      <th>10432</th>\n",
       "      <td>2007700</td>\n",
       "      <td>TSN4012011125</td>\n",
       "      <td>10000</td>\n",
       "      <td>2717</td>\n",
       "      <td>27170000</td>\n",
       "      <td>2021-12-21</td>\n",
       "      <td>2021-12-24</td>\n",
       "      <td>PEMA-SN400</td>\n",
       "    </tr>\n",
       "    <tr>\n",
       "      <th>10433</th>\n",
       "      <td>2007700</td>\n",
       "      <td>TSN4012011125</td>\n",
       "      <td>10000</td>\n",
       "      <td>2717</td>\n",
       "      <td>27170000</td>\n",
       "      <td>2021-12-31</td>\n",
       "      <td>2022-01-03</td>\n",
       "      <td>PEMA-SN400</td>\n",
       "    </tr>\n",
       "  </tbody>\n",
       "</table>\n",
       "<p>1988 rows × 8 columns</p>\n",
       "</div>"
      ],
      "text/plain": [
       "         거래처코드           제품코드    수주량  수주단가      수주금액        수주일자        납기일자  \\\n",
       "5      2001300  PEMA033101400  20000  2493  49860000  2021-02-21  2021-02-24   \n",
       "45     2003300  PEMA023098200  20000  2441  48820000  2021-02-21  2021-02-24   \n",
       "104    2005300  PEMA023098200  20000  2675  53500000  2021-12-31  2022-01-03   \n",
       "107    2005700   SSA073046500   1000  1188   1188000  2021-01-11  2021-01-14   \n",
       "109    2005600   SSA073046500   2000  1471   2942000  2021-01-21  2021-01-24   \n",
       "...        ...            ...    ...   ...       ...         ...         ...   \n",
       "10421  2007400  PEMA043103800  10000  2714  27140000  2021-12-31  2022-01-03   \n",
       "10426  2007500  PEMA023122400   8000  2715  21720000  2021-12-21  2021-12-24   \n",
       "10427  2007500  PEMA023122400   8000  2715  21720000  2021-12-31  2022-01-03   \n",
       "10432  2007700  TSN4012011125  10000  2717  27170000  2021-12-21  2021-12-24   \n",
       "10433  2007700  TSN4012011125  10000  2717  27170000  2021-12-31  2022-01-03   \n",
       "\n",
       "               제품명  \n",
       "5       PEMA-580FX  \n",
       "45      PEMA-580FX  \n",
       "104     PEMA-580FX  \n",
       "107             AE  \n",
       "109             AE  \n",
       "...            ...  \n",
       "10421  PEMA-SR2000  \n",
       "10426  PEMA-SR2000  \n",
       "10427  PEMA-SR2000  \n",
       "10432   PEMA-SN400  \n",
       "10433   PEMA-SN400  \n",
       "\n",
       "[1988 rows x 8 columns]"
      ]
     },
     "execution_count": 459,
     "metadata": {},
     "output_type": "execute_result"
    }
   ],
   "source": [
    "sale_winter"
   ]
  },
  {
   "cell_type": "code",
   "execution_count": 460,
   "id": "227289b1",
   "metadata": {},
   "outputs": [
    {
     "data": {
      "text/plain": [
       "27"
      ]
     },
     "execution_count": 460,
     "metadata": {},
     "output_type": "execute_result"
    }
   ],
   "source": [
    "len(sale_winter['제품명'].unique())"
   ]
  },
  {
   "cell_type": "code",
   "execution_count": 461,
   "id": "76b38ce9",
   "metadata": {},
   "outputs": [
    {
     "data": {
      "text/plain": [
       "234"
      ]
     },
     "execution_count": 461,
     "metadata": {},
     "output_type": "execute_result"
    }
   ],
   "source": [
    "# 여름 차이 248\n",
    "li=[]         \n",
    "for i,p in zip(list(sale_summer['수주일자'].unique()), list(sale_summer['제품명'].unique())):\n",
    "    k = sale_summer[sale_summer['수주일자'] == i].index\n",
    "    pro = sale_summer[sale_summer['제품명'] == p]\n",
    "    if len(pro) > 4:\n",
    "        j=list(k[0:13])\n",
    "        li.append(j)\n",
    "            \n",
    "            \n",
    "li2=[]\n",
    "for i in li:\n",
    "    for j in i:\n",
    "        li2.append(j)\n",
    "len(li2)"
   ]
  },
  {
   "cell_type": "code",
   "execution_count": 462,
   "id": "8e826f10",
   "metadata": {
    "scrolled": true
   },
   "outputs": [],
   "source": [
    "sale_summer.drop(li2, inplace=True)"
   ]
  },
  {
   "cell_type": "code",
   "execution_count": 463,
   "id": "307ef5e2",
   "metadata": {},
   "outputs": [
    {
     "data": {
      "text/plain": [
       "2297"
      ]
     },
     "execution_count": 463,
     "metadata": {},
     "output_type": "execute_result"
    }
   ],
   "source": [
    "len(sale_summer)"
   ]
  },
  {
   "cell_type": "code",
   "execution_count": 464,
   "id": "5ff4d023",
   "metadata": {},
   "outputs": [
    {
     "data": {
      "text/plain": [
       "27"
      ]
     },
     "execution_count": 464,
     "metadata": {},
     "output_type": "execute_result"
    }
   ],
   "source": [
    "len(sale_summer['제품명'].unique())"
   ]
  },
  {
   "cell_type": "code",
   "execution_count": 465,
   "id": "ebd3211d",
   "metadata": {},
   "outputs": [
    {
     "data": {
      "text/plain": [
       "200"
      ]
     },
     "execution_count": 465,
     "metadata": {},
     "output_type": "execute_result"
    }
   ],
   "source": [
    "# 가을 차이 201\n",
    "li=[]         \n",
    "for i,p in zip(list(sale_fall['수주일자'].unique()), list(sale_fall['제품명'].unique())):\n",
    "    k = sale_fall[sale_fall['수주일자'] == i].index\n",
    "    pro = sale_fall[sale_fall['제품명'] == p]\n",
    "    if len(pro) > 4:\n",
    "        j=list(k[0:10])\n",
    "        li.append(j)\n",
    "            \n",
    "            \n",
    "li2=[]\n",
    "for i in li:\n",
    "    for j in i:\n",
    "        li2.append(j)\n",
    "len(li2)"
   ]
  },
  {
   "cell_type": "code",
   "execution_count": 466,
   "id": "601e8bba",
   "metadata": {},
   "outputs": [],
   "source": [
    "sale_fall.drop(li2, inplace=True)"
   ]
  },
  {
   "cell_type": "code",
   "execution_count": 467,
   "id": "9e5395ca",
   "metadata": {},
   "outputs": [
    {
     "data": {
      "text/plain": [
       "2426"
      ]
     },
     "execution_count": 467,
     "metadata": {},
     "output_type": "execute_result"
    }
   ],
   "source": [
    "len(sale_fall)"
   ]
  },
  {
   "cell_type": "code",
   "execution_count": 468,
   "id": "5908e62e",
   "metadata": {},
   "outputs": [
    {
     "data": {
      "text/plain": [
       "27"
      ]
     },
     "execution_count": 468,
     "metadata": {},
     "output_type": "execute_result"
    }
   ],
   "source": [
    "len(sale_fall['제품명'].unique())"
   ]
  },
  {
   "cell_type": "code",
   "execution_count": 469,
   "id": "6daba69b",
   "metadata": {},
   "outputs": [],
   "source": [
    "# 데이터 다시 합치기\n",
    "\n",
    "from functools import reduce\n",
    "\n",
    "df_list = [sale_winter,sale_spring,sale_summer,sale_fall]\n",
    "\n",
    "df_2021=reduce(lambda x,y : pd.concat([x,y]),df_list)"
   ]
  },
  {
   "cell_type": "code",
   "execution_count": 471,
   "id": "87038ea9",
   "metadata": {},
   "outputs": [
    {
     "data": {
      "text/html": [
       "<div>\n",
       "<style scoped>\n",
       "    .dataframe tbody tr th:only-of-type {\n",
       "        vertical-align: middle;\n",
       "    }\n",
       "\n",
       "    .dataframe tbody tr th {\n",
       "        vertical-align: top;\n",
       "    }\n",
       "\n",
       "    .dataframe thead th {\n",
       "        text-align: right;\n",
       "    }\n",
       "</style>\n",
       "<table border=\"1\" class=\"dataframe\">\n",
       "  <thead>\n",
       "    <tr style=\"text-align: right;\">\n",
       "      <th></th>\n",
       "      <th>거래처코드</th>\n",
       "      <th>제품코드</th>\n",
       "      <th>수주량</th>\n",
       "      <th>수주단가</th>\n",
       "      <th>수주금액</th>\n",
       "      <th>수주일자</th>\n",
       "      <th>납기일자</th>\n",
       "      <th>제품명</th>\n",
       "    </tr>\n",
       "  </thead>\n",
       "  <tbody>\n",
       "    <tr>\n",
       "      <th>1064</th>\n",
       "      <td>2004200</td>\n",
       "      <td>PEMA043080500</td>\n",
       "      <td>2000</td>\n",
       "      <td>1031</td>\n",
       "      <td>2062000</td>\n",
       "      <td>2021-01-01</td>\n",
       "      <td>2021-01-04</td>\n",
       "      <td>PEMA-SR2000</td>\n",
       "    </tr>\n",
       "    <tr>\n",
       "      <th>1130</th>\n",
       "      <td>2004400</td>\n",
       "      <td>PEMA063030500</td>\n",
       "      <td>3000</td>\n",
       "      <td>1033</td>\n",
       "      <td>3099000</td>\n",
       "      <td>2021-01-01</td>\n",
       "      <td>2021-01-04</td>\n",
       "      <td>PEMA-SR3000F</td>\n",
       "    </tr>\n",
       "    <tr>\n",
       "      <th>1161</th>\n",
       "      <td>2004500</td>\n",
       "      <td>PEMA023030801</td>\n",
       "      <td>6000</td>\n",
       "      <td>1034</td>\n",
       "      <td>6204000</td>\n",
       "      <td>2021-01-01</td>\n",
       "      <td>2021-01-04</td>\n",
       "      <td>PEMA-SR3000F</td>\n",
       "    </tr>\n",
       "    <tr>\n",
       "      <th>1081</th>\n",
       "      <td>2004300</td>\n",
       "      <td>PEMA043062000</td>\n",
       "      <td>6000</td>\n",
       "      <td>1032</td>\n",
       "      <td>6192000</td>\n",
       "      <td>2021-01-01</td>\n",
       "      <td>2021-01-04</td>\n",
       "      <td>PEMA-SR2000</td>\n",
       "    </tr>\n",
       "    <tr>\n",
       "      <th>1851</th>\n",
       "      <td>2006300</td>\n",
       "      <td>PEMA033088300</td>\n",
       "      <td>10000</td>\n",
       "      <td>1052</td>\n",
       "      <td>10520000</td>\n",
       "      <td>2021-01-01</td>\n",
       "      <td>2021-01-04</td>\n",
       "      <td>PEMA-HR1000</td>\n",
       "    </tr>\n",
       "    <tr>\n",
       "      <th>...</th>\n",
       "      <td>...</td>\n",
       "      <td>...</td>\n",
       "      <td>...</td>\n",
       "      <td>...</td>\n",
       "      <td>...</td>\n",
       "      <td>...</td>\n",
       "      <td>...</td>\n",
       "      <td>...</td>\n",
       "    </tr>\n",
       "    <tr>\n",
       "      <th>8595</th>\n",
       "      <td>2007302</td>\n",
       "      <td>PEMA053041502</td>\n",
       "      <td>6000</td>\n",
       "      <td>2713</td>\n",
       "      <td>16278000</td>\n",
       "      <td>2021-12-31</td>\n",
       "      <td>2022-01-03</td>\n",
       "      <td>PEMA-SR2000</td>\n",
       "    </tr>\n",
       "    <tr>\n",
       "      <th>880</th>\n",
       "      <td>2007600</td>\n",
       "      <td>PEMA053046500</td>\n",
       "      <td>4000</td>\n",
       "      <td>2701</td>\n",
       "      <td>10804000</td>\n",
       "      <td>2021-12-31</td>\n",
       "      <td>2022-01-03</td>\n",
       "      <td>PEMA-HR1500</td>\n",
       "    </tr>\n",
       "    <tr>\n",
       "      <th>1007</th>\n",
       "      <td>2006609</td>\n",
       "      <td>PEMA023129801</td>\n",
       "      <td>3000</td>\n",
       "      <td>2705</td>\n",
       "      <td>8115000</td>\n",
       "      <td>2021-12-31</td>\n",
       "      <td>2022-01-03</td>\n",
       "      <td>PEMA-PR1000</td>\n",
       "    </tr>\n",
       "    <tr>\n",
       "      <th>104</th>\n",
       "      <td>2005300</td>\n",
       "      <td>PEMA023098200</td>\n",
       "      <td>20000</td>\n",
       "      <td>2675</td>\n",
       "      <td>53500000</td>\n",
       "      <td>2021-12-31</td>\n",
       "      <td>2022-01-03</td>\n",
       "      <td>PEMA-580FX</td>\n",
       "    </tr>\n",
       "    <tr>\n",
       "      <th>1826</th>\n",
       "      <td>2006900</td>\n",
       "      <td>PEMA013041507</td>\n",
       "      <td>7000</td>\n",
       "      <td>2694</td>\n",
       "      <td>18858000</td>\n",
       "      <td>2021-12-31</td>\n",
       "      <td>2022-01-03</td>\n",
       "      <td>PEMA-HR1000</td>\n",
       "    </tr>\n",
       "  </tbody>\n",
       "</table>\n",
       "<p>9337 rows × 8 columns</p>\n",
       "</div>"
      ],
      "text/plain": [
       "        거래처코드           제품코드    수주량  수주단가      수주금액        수주일자        납기일자  \\\n",
       "1064  2004200  PEMA043080500   2000  1031   2062000  2021-01-01  2021-01-04   \n",
       "1130  2004400  PEMA063030500   3000  1033   3099000  2021-01-01  2021-01-04   \n",
       "1161  2004500  PEMA023030801   6000  1034   6204000  2021-01-01  2021-01-04   \n",
       "1081  2004300  PEMA043062000   6000  1032   6192000  2021-01-01  2021-01-04   \n",
       "1851  2006300  PEMA033088300  10000  1052  10520000  2021-01-01  2021-01-04   \n",
       "...       ...            ...    ...   ...       ...         ...         ...   \n",
       "8595  2007302  PEMA053041502   6000  2713  16278000  2021-12-31  2022-01-03   \n",
       "880   2007600  PEMA053046500   4000  2701  10804000  2021-12-31  2022-01-03   \n",
       "1007  2006609  PEMA023129801   3000  2705   8115000  2021-12-31  2022-01-03   \n",
       "104   2005300  PEMA023098200  20000  2675  53500000  2021-12-31  2022-01-03   \n",
       "1826  2006900  PEMA013041507   7000  2694  18858000  2021-12-31  2022-01-03   \n",
       "\n",
       "               제품명  \n",
       "1064   PEMA-SR2000  \n",
       "1130  PEMA-SR3000F  \n",
       "1161  PEMA-SR3000F  \n",
       "1081   PEMA-SR2000  \n",
       "1851   PEMA-HR1000  \n",
       "...            ...  \n",
       "8595   PEMA-SR2000  \n",
       "880    PEMA-HR1500  \n",
       "1007   PEMA-PR1000  \n",
       "104     PEMA-580FX  \n",
       "1826   PEMA-HR1000  \n",
       "\n",
       "[9337 rows x 8 columns]"
      ]
     },
     "execution_count": 471,
     "metadata": {},
     "output_type": "execute_result"
    }
   ],
   "source": [
    "df_2021.sort_values('수주일자')"
   ]
  },
  {
   "cell_type": "code",
   "execution_count": 472,
   "id": "9c3719fc",
   "metadata": {},
   "outputs": [],
   "source": [
    "df_2021.to_csv('2021년_증식데이터_편집.csv')"
   ]
  },
  {
   "cell_type": "markdown",
   "id": "011c428d",
   "metadata": {},
   "source": [
    "## 20년도 데이터 증식 편집"
   ]
  },
  {
   "cell_type": "code",
   "execution_count": 517,
   "id": "20df3dd7",
   "metadata": {},
   "outputs": [
    {
     "data": {
      "text/html": [
       "<div>\n",
       "<style scoped>\n",
       "    .dataframe tbody tr th:only-of-type {\n",
       "        vertical-align: middle;\n",
       "    }\n",
       "\n",
       "    .dataframe tbody tr th {\n",
       "        vertical-align: top;\n",
       "    }\n",
       "\n",
       "    .dataframe thead th {\n",
       "        text-align: right;\n",
       "    }\n",
       "</style>\n",
       "<table border=\"1\" class=\"dataframe\">\n",
       "  <thead>\n",
       "    <tr style=\"text-align: right;\">\n",
       "      <th></th>\n",
       "      <th>거래처코드</th>\n",
       "      <th>제품코드</th>\n",
       "      <th>수주량</th>\n",
       "      <th>수주단가</th>\n",
       "      <th>수주금액</th>\n",
       "      <th>수주일자</th>\n",
       "      <th>납기일자</th>\n",
       "    </tr>\n",
       "  </thead>\n",
       "  <tbody>\n",
       "    <tr>\n",
       "      <th>0</th>\n",
       "      <td>2001102</td>\n",
       "      <td>PEMA033101400</td>\n",
       "      <td>15000</td>\n",
       "      <td>1000</td>\n",
       "      <td>15000000</td>\n",
       "      <td>2020-01-01</td>\n",
       "      <td>2020-01-04</td>\n",
       "    </tr>\n",
       "    <tr>\n",
       "      <th>1</th>\n",
       "      <td>2001200</td>\n",
       "      <td>PEMA023098200</td>\n",
       "      <td>20000</td>\n",
       "      <td>1001</td>\n",
       "      <td>20020000</td>\n",
       "      <td>2020-01-01</td>\n",
       "      <td>2020-01-04</td>\n",
       "    </tr>\n",
       "    <tr>\n",
       "      <th>2</th>\n",
       "      <td>2001300</td>\n",
       "      <td>SSA073046500</td>\n",
       "      <td>2000</td>\n",
       "      <td>1002</td>\n",
       "      <td>2004000</td>\n",
       "      <td>2020-01-01</td>\n",
       "      <td>2020-01-04</td>\n",
       "    </tr>\n",
       "    <tr>\n",
       "      <th>3</th>\n",
       "      <td>2001400</td>\n",
       "      <td>PEMA043099800</td>\n",
       "      <td>10000</td>\n",
       "      <td>1003</td>\n",
       "      <td>10030000</td>\n",
       "      <td>2020-01-01</td>\n",
       "      <td>2020-01-04</td>\n",
       "    </tr>\n",
       "    <tr>\n",
       "      <th>4</th>\n",
       "      <td>2001500</td>\n",
       "      <td>PEMA013120000</td>\n",
       "      <td>10000</td>\n",
       "      <td>1004</td>\n",
       "      <td>10040000</td>\n",
       "      <td>2020-01-01</td>\n",
       "      <td>2020-01-04</td>\n",
       "    </tr>\n",
       "    <tr>\n",
       "      <th>...</th>\n",
       "      <td>...</td>\n",
       "      <td>...</td>\n",
       "      <td>...</td>\n",
       "      <td>...</td>\n",
       "      <td>...</td>\n",
       "      <td>...</td>\n",
       "      <td>...</td>\n",
       "    </tr>\n",
       "    <tr>\n",
       "      <th>1714</th>\n",
       "      <td>2007400</td>\n",
       "      <td>PEMA043103800</td>\n",
       "      <td>10000</td>\n",
       "      <td>2714</td>\n",
       "      <td>27140000</td>\n",
       "      <td>2020-12-31</td>\n",
       "      <td>2021-01-03</td>\n",
       "    </tr>\n",
       "    <tr>\n",
       "      <th>1715</th>\n",
       "      <td>2007500</td>\n",
       "      <td>PEMA023122400</td>\n",
       "      <td>8000</td>\n",
       "      <td>2715</td>\n",
       "      <td>21720000</td>\n",
       "      <td>2020-12-31</td>\n",
       "      <td>2021-01-03</td>\n",
       "    </tr>\n",
       "    <tr>\n",
       "      <th>1716</th>\n",
       "      <td>2007600</td>\n",
       "      <td>PEMA353048300</td>\n",
       "      <td>7000</td>\n",
       "      <td>2716</td>\n",
       "      <td>19012000</td>\n",
       "      <td>2020-12-31</td>\n",
       "      <td>2021-01-03</td>\n",
       "    </tr>\n",
       "    <tr>\n",
       "      <th>1717</th>\n",
       "      <td>2007700</td>\n",
       "      <td>TSN4012011125</td>\n",
       "      <td>10000</td>\n",
       "      <td>2717</td>\n",
       "      <td>27170000</td>\n",
       "      <td>2020-12-31</td>\n",
       "      <td>2021-01-03</td>\n",
       "    </tr>\n",
       "    <tr>\n",
       "      <th>1718</th>\n",
       "      <td>2007800</td>\n",
       "      <td>PEMA013123000</td>\n",
       "      <td>10000</td>\n",
       "      <td>2718</td>\n",
       "      <td>27180000</td>\n",
       "      <td>2020-12-31</td>\n",
       "      <td>2021-01-03</td>\n",
       "    </tr>\n",
       "  </tbody>\n",
       "</table>\n",
       "<p>10434 rows × 7 columns</p>\n",
       "</div>"
      ],
      "text/plain": [
       "        거래처코드           제품코드    수주량  수주단가      수주금액        수주일자        납기일자\n",
       "0     2001102  PEMA033101400  15000  1000  15000000  2020-01-01  2020-01-04\n",
       "1     2001200  PEMA023098200  20000  1001  20020000  2020-01-01  2020-01-04\n",
       "2     2001300   SSA073046500   2000  1002   2004000  2020-01-01  2020-01-04\n",
       "3     2001400  PEMA043099800  10000  1003  10030000  2020-01-01  2020-01-04\n",
       "4     2001500  PEMA013120000  10000  1004  10040000  2020-01-01  2020-01-04\n",
       "...       ...            ...    ...   ...       ...         ...         ...\n",
       "1714  2007400  PEMA043103800  10000  2714  27140000  2020-12-31  2021-01-03\n",
       "1715  2007500  PEMA023122400   8000  2715  21720000  2020-12-31  2021-01-03\n",
       "1716  2007600  PEMA353048300   7000  2716  19012000  2020-12-31  2021-01-03\n",
       "1717  2007700  TSN4012011125  10000  2717  27170000  2020-12-31  2021-01-03\n",
       "1718  2007800  PEMA013123000  10000  2718  27180000  2020-12-31  2021-01-03\n",
       "\n",
       "[10434 rows x 7 columns]"
      ]
     },
     "execution_count": 517,
     "metadata": {},
     "output_type": "execute_result"
    }
   ],
   "source": [
    "sale_df20"
   ]
  },
  {
   "cell_type": "code",
   "execution_count": 518,
   "id": "5bac6ece",
   "metadata": {},
   "outputs": [],
   "source": [
    "sale_df20 = pd.merge(sale_df20,productnm, on='제품코드', how='outer')"
   ]
  },
  {
   "cell_type": "code",
   "execution_count": 519,
   "id": "31011a48",
   "metadata": {
    "scrolled": true
   },
   "outputs": [
    {
     "data": {
      "text/html": [
       "<div>\n",
       "<style scoped>\n",
       "    .dataframe tbody tr th:only-of-type {\n",
       "        vertical-align: middle;\n",
       "    }\n",
       "\n",
       "    .dataframe tbody tr th {\n",
       "        vertical-align: top;\n",
       "    }\n",
       "\n",
       "    .dataframe thead th {\n",
       "        text-align: right;\n",
       "    }\n",
       "</style>\n",
       "<table border=\"1\" class=\"dataframe\">\n",
       "  <thead>\n",
       "    <tr style=\"text-align: right;\">\n",
       "      <th></th>\n",
       "      <th>거래처코드</th>\n",
       "      <th>제품코드</th>\n",
       "      <th>수주량</th>\n",
       "      <th>수주단가</th>\n",
       "      <th>수주금액</th>\n",
       "      <th>수주일자</th>\n",
       "      <th>납기일자</th>\n",
       "      <th>제품명</th>\n",
       "    </tr>\n",
       "  </thead>\n",
       "  <tbody>\n",
       "    <tr>\n",
       "      <th>0</th>\n",
       "      <td>2001102</td>\n",
       "      <td>PEMA033101400</td>\n",
       "      <td>15000</td>\n",
       "      <td>1000</td>\n",
       "      <td>15000000</td>\n",
       "      <td>2020-01-01</td>\n",
       "      <td>2020-01-04</td>\n",
       "      <td>PEMA-580FX</td>\n",
       "    </tr>\n",
       "    <tr>\n",
       "      <th>1</th>\n",
       "      <td>2007302</td>\n",
       "      <td>PEMA033101400</td>\n",
       "      <td>15000</td>\n",
       "      <td>1349</td>\n",
       "      <td>20235000</td>\n",
       "      <td>2020-01-18</td>\n",
       "      <td>2020-01-21</td>\n",
       "      <td>PEMA-580FX</td>\n",
       "    </tr>\n",
       "    <tr>\n",
       "      <th>2</th>\n",
       "      <td>2006600</td>\n",
       "      <td>PEMA033101400</td>\n",
       "      <td>15000</td>\n",
       "      <td>1552</td>\n",
       "      <td>23280000</td>\n",
       "      <td>2020-01-24</td>\n",
       "      <td>2020-01-27</td>\n",
       "      <td>PEMA-580FX</td>\n",
       "    </tr>\n",
       "    <tr>\n",
       "      <th>3</th>\n",
       "      <td>2002700</td>\n",
       "      <td>PEMA033101400</td>\n",
       "      <td>15000</td>\n",
       "      <td>1796</td>\n",
       "      <td>26940000</td>\n",
       "      <td>2020-02-01</td>\n",
       "      <td>2020-02-04</td>\n",
       "      <td>PEMA-580FX</td>\n",
       "    </tr>\n",
       "    <tr>\n",
       "      <th>4</th>\n",
       "      <td>2006900</td>\n",
       "      <td>PEMA033101400</td>\n",
       "      <td>20000</td>\n",
       "      <td>2268</td>\n",
       "      <td>45360000</td>\n",
       "      <td>2020-02-14</td>\n",
       "      <td>2020-02-17</td>\n",
       "      <td>PEMA-580FX</td>\n",
       "    </tr>\n",
       "    <tr>\n",
       "      <th>...</th>\n",
       "      <td>...</td>\n",
       "      <td>...</td>\n",
       "      <td>...</td>\n",
       "      <td>...</td>\n",
       "      <td>...</td>\n",
       "      <td>...</td>\n",
       "      <td>...</td>\n",
       "      <td>...</td>\n",
       "    </tr>\n",
       "    <tr>\n",
       "      <th>10429</th>\n",
       "      <td>2007700</td>\n",
       "      <td>TSN4012011125</td>\n",
       "      <td>10000</td>\n",
       "      <td>2717</td>\n",
       "      <td>27170000</td>\n",
       "      <td>2020-06-21</td>\n",
       "      <td>2020-06-24</td>\n",
       "      <td>PEMA-SN400</td>\n",
       "    </tr>\n",
       "    <tr>\n",
       "      <th>10430</th>\n",
       "      <td>2007700</td>\n",
       "      <td>TSN4012011125</td>\n",
       "      <td>10000</td>\n",
       "      <td>2717</td>\n",
       "      <td>27170000</td>\n",
       "      <td>2020-08-21</td>\n",
       "      <td>2020-08-24</td>\n",
       "      <td>PEMA-SN400</td>\n",
       "    </tr>\n",
       "    <tr>\n",
       "      <th>10431</th>\n",
       "      <td>2007700</td>\n",
       "      <td>TSN4012011125</td>\n",
       "      <td>10000</td>\n",
       "      <td>2717</td>\n",
       "      <td>27170000</td>\n",
       "      <td>2020-10-21</td>\n",
       "      <td>2020-10-24</td>\n",
       "      <td>PEMA-SN400</td>\n",
       "    </tr>\n",
       "    <tr>\n",
       "      <th>10432</th>\n",
       "      <td>2007700</td>\n",
       "      <td>TSN4012011125</td>\n",
       "      <td>10000</td>\n",
       "      <td>2717</td>\n",
       "      <td>27170000</td>\n",
       "      <td>2020-12-21</td>\n",
       "      <td>2020-12-24</td>\n",
       "      <td>PEMA-SN400</td>\n",
       "    </tr>\n",
       "    <tr>\n",
       "      <th>10433</th>\n",
       "      <td>2007700</td>\n",
       "      <td>TSN4012011125</td>\n",
       "      <td>10000</td>\n",
       "      <td>2717</td>\n",
       "      <td>27170000</td>\n",
       "      <td>2020-12-31</td>\n",
       "      <td>2021-01-03</td>\n",
       "      <td>PEMA-SN400</td>\n",
       "    </tr>\n",
       "  </tbody>\n",
       "</table>\n",
       "<p>10434 rows × 8 columns</p>\n",
       "</div>"
      ],
      "text/plain": [
       "         거래처코드           제품코드    수주량  수주단가      수주금액        수주일자        납기일자  \\\n",
       "0      2001102  PEMA033101400  15000  1000  15000000  2020-01-01  2020-01-04   \n",
       "1      2007302  PEMA033101400  15000  1349  20235000  2020-01-18  2020-01-21   \n",
       "2      2006600  PEMA033101400  15000  1552  23280000  2020-01-24  2020-01-27   \n",
       "3      2002700  PEMA033101400  15000  1796  26940000  2020-02-01  2020-02-04   \n",
       "4      2006900  PEMA033101400  20000  2268  45360000  2020-02-14  2020-02-17   \n",
       "...        ...            ...    ...   ...       ...         ...         ...   \n",
       "10429  2007700  TSN4012011125  10000  2717  27170000  2020-06-21  2020-06-24   \n",
       "10430  2007700  TSN4012011125  10000  2717  27170000  2020-08-21  2020-08-24   \n",
       "10431  2007700  TSN4012011125  10000  2717  27170000  2020-10-21  2020-10-24   \n",
       "10432  2007700  TSN4012011125  10000  2717  27170000  2020-12-21  2020-12-24   \n",
       "10433  2007700  TSN4012011125  10000  2717  27170000  2020-12-31  2021-01-03   \n",
       "\n",
       "              제품명  \n",
       "0      PEMA-580FX  \n",
       "1      PEMA-580FX  \n",
       "2      PEMA-580FX  \n",
       "3      PEMA-580FX  \n",
       "4      PEMA-580FX  \n",
       "...           ...  \n",
       "10429  PEMA-SN400  \n",
       "10430  PEMA-SN400  \n",
       "10431  PEMA-SN400  \n",
       "10432  PEMA-SN400  \n",
       "10433  PEMA-SN400  \n",
       "\n",
       "[10434 rows x 8 columns]"
      ]
     },
     "execution_count": 519,
     "metadata": {},
     "output_type": "execute_result"
    }
   ],
   "source": [
    "sale_df20"
   ]
  },
  {
   "cell_type": "code",
   "execution_count": 574,
   "id": "90c66c0d",
   "metadata": {},
   "outputs": [],
   "source": [
    "sale_winter_20=sale_df20[(sale_df20['수주일자'] >= '2020-01-01')&(sale_df20['수주일자'] < '2020-03-01')|(sale_df20['수주일자'] >= '2020-12-01')&(sale_df20['수주일자'] < '2021-01-01')]\n",
    "sale_spring_20=sale_df20[(sale_df20['수주일자'] >= '2020-03-01')&(sale_df20['수주일자'] < '2020-06-01')]\n",
    "sale_summer_20=sale_df20[(sale_df20['수주일자'] >= '2020-06-01')&(sale_df20['수주일자'] < '2020-09-01')]\n",
    "sale_fall_20=sale_df20[(sale_df20['수주일자'] >= '2020-09-01')&(sale_df20['수주일자'] < '2020-12-01')]"
   ]
  },
  {
   "cell_type": "code",
   "execution_count": 541,
   "id": "92a16507",
   "metadata": {},
   "outputs": [
    {
     "data": {
      "text/html": [
       "<div>\n",
       "<style scoped>\n",
       "    .dataframe tbody tr th:only-of-type {\n",
       "        vertical-align: middle;\n",
       "    }\n",
       "\n",
       "    .dataframe tbody tr th {\n",
       "        vertical-align: top;\n",
       "    }\n",
       "\n",
       "    .dataframe thead th {\n",
       "        text-align: right;\n",
       "    }\n",
       "</style>\n",
       "<table border=\"1\" class=\"dataframe\">\n",
       "  <thead>\n",
       "    <tr style=\"text-align: right;\">\n",
       "      <th></th>\n",
       "      <th>거래처코드</th>\n",
       "      <th>제품코드</th>\n",
       "      <th>수주량</th>\n",
       "      <th>수주단가</th>\n",
       "      <th>수주금액</th>\n",
       "      <th>수주일자</th>\n",
       "      <th>납기일자</th>\n",
       "      <th>제품명</th>\n",
       "    </tr>\n",
       "  </thead>\n",
       "  <tbody>\n",
       "    <tr>\n",
       "      <th>0</th>\n",
       "      <td>2001102</td>\n",
       "      <td>PEMA033101400</td>\n",
       "      <td>15000</td>\n",
       "      <td>1000</td>\n",
       "      <td>15000000</td>\n",
       "      <td>2020-01-01</td>\n",
       "      <td>2020-01-04</td>\n",
       "      <td>PEMA-580FX</td>\n",
       "    </tr>\n",
       "    <tr>\n",
       "      <th>1</th>\n",
       "      <td>2007302</td>\n",
       "      <td>PEMA033101400</td>\n",
       "      <td>15000</td>\n",
       "      <td>1349</td>\n",
       "      <td>20235000</td>\n",
       "      <td>2020-01-18</td>\n",
       "      <td>2020-01-21</td>\n",
       "      <td>PEMA-580FX</td>\n",
       "    </tr>\n",
       "    <tr>\n",
       "      <th>2</th>\n",
       "      <td>2006600</td>\n",
       "      <td>PEMA033101400</td>\n",
       "      <td>15000</td>\n",
       "      <td>1552</td>\n",
       "      <td>23280000</td>\n",
       "      <td>2020-01-24</td>\n",
       "      <td>2020-01-27</td>\n",
       "      <td>PEMA-580FX</td>\n",
       "    </tr>\n",
       "    <tr>\n",
       "      <th>3</th>\n",
       "      <td>2002700</td>\n",
       "      <td>PEMA033101400</td>\n",
       "      <td>15000</td>\n",
       "      <td>1796</td>\n",
       "      <td>26940000</td>\n",
       "      <td>2020-02-01</td>\n",
       "      <td>2020-02-04</td>\n",
       "      <td>PEMA-580FX</td>\n",
       "    </tr>\n",
       "    <tr>\n",
       "      <th>4</th>\n",
       "      <td>2006900</td>\n",
       "      <td>PEMA033101400</td>\n",
       "      <td>20000</td>\n",
       "      <td>2268</td>\n",
       "      <td>45360000</td>\n",
       "      <td>2020-02-14</td>\n",
       "      <td>2020-02-17</td>\n",
       "      <td>PEMA-580FX</td>\n",
       "    </tr>\n",
       "    <tr>\n",
       "      <th>...</th>\n",
       "      <td>...</td>\n",
       "      <td>...</td>\n",
       "      <td>...</td>\n",
       "      <td>...</td>\n",
       "      <td>...</td>\n",
       "      <td>...</td>\n",
       "      <td>...</td>\n",
       "      <td>...</td>\n",
       "    </tr>\n",
       "    <tr>\n",
       "      <th>10421</th>\n",
       "      <td>2007400</td>\n",
       "      <td>PEMA043103800</td>\n",
       "      <td>10000</td>\n",
       "      <td>2714</td>\n",
       "      <td>27140000</td>\n",
       "      <td>2020-12-31</td>\n",
       "      <td>2021-01-03</td>\n",
       "      <td>PEMA-SR2000</td>\n",
       "    </tr>\n",
       "    <tr>\n",
       "      <th>10426</th>\n",
       "      <td>2007500</td>\n",
       "      <td>PEMA023122400</td>\n",
       "      <td>8000</td>\n",
       "      <td>2715</td>\n",
       "      <td>21720000</td>\n",
       "      <td>2020-12-21</td>\n",
       "      <td>2020-12-24</td>\n",
       "      <td>PEMA-SR2000</td>\n",
       "    </tr>\n",
       "    <tr>\n",
       "      <th>10427</th>\n",
       "      <td>2007500</td>\n",
       "      <td>PEMA023122400</td>\n",
       "      <td>8000</td>\n",
       "      <td>2715</td>\n",
       "      <td>21720000</td>\n",
       "      <td>2020-12-31</td>\n",
       "      <td>2021-01-03</td>\n",
       "      <td>PEMA-SR2000</td>\n",
       "    </tr>\n",
       "    <tr>\n",
       "      <th>10432</th>\n",
       "      <td>2007700</td>\n",
       "      <td>TSN4012011125</td>\n",
       "      <td>10000</td>\n",
       "      <td>2717</td>\n",
       "      <td>27170000</td>\n",
       "      <td>2020-12-21</td>\n",
       "      <td>2020-12-24</td>\n",
       "      <td>PEMA-SN400</td>\n",
       "    </tr>\n",
       "    <tr>\n",
       "      <th>10433</th>\n",
       "      <td>2007700</td>\n",
       "      <td>TSN4012011125</td>\n",
       "      <td>10000</td>\n",
       "      <td>2717</td>\n",
       "      <td>27170000</td>\n",
       "      <td>2020-12-31</td>\n",
       "      <td>2021-01-03</td>\n",
       "      <td>PEMA-SN400</td>\n",
       "    </tr>\n",
       "  </tbody>\n",
       "</table>\n",
       "<p>2650 rows × 8 columns</p>\n",
       "</div>"
      ],
      "text/plain": [
       "         거래처코드           제품코드    수주량  수주단가      수주금액        수주일자        납기일자  \\\n",
       "0      2001102  PEMA033101400  15000  1000  15000000  2020-01-01  2020-01-04   \n",
       "1      2007302  PEMA033101400  15000  1349  20235000  2020-01-18  2020-01-21   \n",
       "2      2006600  PEMA033101400  15000  1552  23280000  2020-01-24  2020-01-27   \n",
       "3      2002700  PEMA033101400  15000  1796  26940000  2020-02-01  2020-02-04   \n",
       "4      2006900  PEMA033101400  20000  2268  45360000  2020-02-14  2020-02-17   \n",
       "...        ...            ...    ...   ...       ...         ...         ...   \n",
       "10421  2007400  PEMA043103800  10000  2714  27140000  2020-12-31  2021-01-03   \n",
       "10426  2007500  PEMA023122400   8000  2715  21720000  2020-12-21  2020-12-24   \n",
       "10427  2007500  PEMA023122400   8000  2715  21720000  2020-12-31  2021-01-03   \n",
       "10432  2007700  TSN4012011125  10000  2717  27170000  2020-12-21  2020-12-24   \n",
       "10433  2007700  TSN4012011125  10000  2717  27170000  2020-12-31  2021-01-03   \n",
       "\n",
       "               제품명  \n",
       "0       PEMA-580FX  \n",
       "1       PEMA-580FX  \n",
       "2       PEMA-580FX  \n",
       "3       PEMA-580FX  \n",
       "4       PEMA-580FX  \n",
       "...            ...  \n",
       "10421  PEMA-SR2000  \n",
       "10426  PEMA-SR2000  \n",
       "10427  PEMA-SR2000  \n",
       "10432   PEMA-SN400  \n",
       "10433   PEMA-SN400  \n",
       "\n",
       "[2650 rows x 8 columns]"
      ]
     },
     "execution_count": 541,
     "metadata": {},
     "output_type": "execute_result"
    }
   ],
   "source": [
    "sale_winter_20"
   ]
  },
  {
   "cell_type": "markdown",
   "id": "0127bbb7",
   "metadata": {},
   "source": [
    "### 외부데이터 2020년도 편집"
   ]
  },
  {
   "cell_type": "code",
   "execution_count": 503,
   "id": "2489acba",
   "metadata": {},
   "outputs": [],
   "source": [
    "add_20=add_mi.iloc[:12]"
   ]
  },
  {
   "cell_type": "code",
   "execution_count": 504,
   "id": "000f4f66",
   "metadata": {},
   "outputs": [],
   "source": [
    "add_20=add_20[['월','내수계']]"
   ]
  },
  {
   "cell_type": "code",
   "execution_count": 505,
   "id": "1494e022",
   "metadata": {},
   "outputs": [
    {
     "data": {
      "text/html": [
       "<div>\n",
       "<style scoped>\n",
       "    .dataframe tbody tr th:only-of-type {\n",
       "        vertical-align: middle;\n",
       "    }\n",
       "\n",
       "    .dataframe tbody tr th {\n",
       "        vertical-align: top;\n",
       "    }\n",
       "\n",
       "    .dataframe thead th {\n",
       "        text-align: right;\n",
       "    }\n",
       "</style>\n",
       "<table border=\"1\" class=\"dataframe\">\n",
       "  <thead>\n",
       "    <tr style=\"text-align: right;\">\n",
       "      <th></th>\n",
       "      <th>월</th>\n",
       "      <th>내수계</th>\n",
       "    </tr>\n",
       "  </thead>\n",
       "  <tbody>\n",
       "    <tr>\n",
       "      <th>0</th>\n",
       "      <td>1</td>\n",
       "      <td>2704</td>\n",
       "    </tr>\n",
       "    <tr>\n",
       "      <th>1</th>\n",
       "      <td>2</td>\n",
       "      <td>3127</td>\n",
       "    </tr>\n",
       "    <tr>\n",
       "      <th>2</th>\n",
       "      <td>3</td>\n",
       "      <td>4419</td>\n",
       "    </tr>\n",
       "    <tr>\n",
       "      <th>3</th>\n",
       "      <td>4</td>\n",
       "      <td>4625</td>\n",
       "    </tr>\n",
       "    <tr>\n",
       "      <th>4</th>\n",
       "      <td>5</td>\n",
       "      <td>4065</td>\n",
       "    </tr>\n",
       "    <tr>\n",
       "      <th>5</th>\n",
       "      <td>6</td>\n",
       "      <td>4289</td>\n",
       "    </tr>\n",
       "    <tr>\n",
       "      <th>6</th>\n",
       "      <td>7</td>\n",
       "      <td>3541</td>\n",
       "    </tr>\n",
       "    <tr>\n",
       "      <th>7</th>\n",
       "      <td>8</td>\n",
       "      <td>3026</td>\n",
       "    </tr>\n",
       "    <tr>\n",
       "      <th>8</th>\n",
       "      <td>9</td>\n",
       "      <td>4069</td>\n",
       "    </tr>\n",
       "    <tr>\n",
       "      <th>9</th>\n",
       "      <td>10</td>\n",
       "      <td>4347</td>\n",
       "    </tr>\n",
       "    <tr>\n",
       "      <th>10</th>\n",
       "      <td>11</td>\n",
       "      <td>4594</td>\n",
       "    </tr>\n",
       "    <tr>\n",
       "      <th>11</th>\n",
       "      <td>12</td>\n",
       "      <td>4356</td>\n",
       "    </tr>\n",
       "  </tbody>\n",
       "</table>\n",
       "</div>"
      ],
      "text/plain": [
       "     월   내수계\n",
       "0    1  2704\n",
       "1    2  3127\n",
       "2    3  4419\n",
       "3    4  4625\n",
       "4    5  4065\n",
       "5    6  4289\n",
       "6    7  3541\n",
       "7    8  3026\n",
       "8    9  4069\n",
       "9   10  4347\n",
       "10  11  4594\n",
       "11  12  4356"
      ]
     },
     "execution_count": 505,
     "metadata": {},
     "output_type": "execute_result"
    }
   ],
   "source": [
    "add_20"
   ]
  },
  {
   "cell_type": "code",
   "execution_count": 506,
   "id": "e6819110",
   "metadata": {},
   "outputs": [],
   "source": [
    "winter=add_20[(add_20['월']== 1)|(add_20['월']== 2)|(add_20['월']== 12)]['내수계'].sum()\n",
    "spring=add_20[(add_20['월']== 3)|(add_20['월']== 4)|(add_20['월']== 5)]['내수계'].sum()\n",
    "summer=add_20[(add_20['월']== 6)|(add_20['월']== 7)|(add_20['월']== 8)]['내수계'].sum()\n",
    "fall=add_20[(add_20['월']== 9)|(add_20['월']== 10)|(add_20['월']== 11)]['내수계'].sum()"
   ]
  },
  {
   "cell_type": "code",
   "execution_count": 507,
   "id": "0cde07fe",
   "metadata": {},
   "outputs": [],
   "source": [
    "# 계절 별 외부 데이터 다시 원본 데이터와 맞춤\n",
    "p=len(sale_spring_20)/spring"
   ]
  },
  {
   "cell_type": "code",
   "execution_count": 508,
   "id": "0f369913",
   "metadata": {},
   "outputs": [
    {
     "data": {
      "text/plain": [
       "0.2003203905713632"
      ]
     },
     "execution_count": 508,
     "metadata": {},
     "output_type": "execute_result"
    }
   ],
   "source": [
    "p"
   ]
  },
  {
   "cell_type": "code",
   "execution_count": 509,
   "id": "8f2d8944",
   "metadata": {},
   "outputs": [],
   "source": [
    "spring = round(spring*p)\n",
    "summer=round(summer*p)\n",
    "fall = round(fall*p)\n",
    "winter = round(winter*p)"
   ]
  },
  {
   "cell_type": "code",
   "execution_count": 510,
   "id": "92efeaa1",
   "metadata": {},
   "outputs": [
    {
     "name": "stdout",
     "output_type": "stream",
     "text": [
      "2626\n",
      "2175\n",
      "2606\n",
      "2041\n"
     ]
    }
   ],
   "source": [
    "print(spring)\n",
    "print(summer)\n",
    "print(fall)\n",
    "print(winter)"
   ]
  },
  {
   "cell_type": "code",
   "execution_count": 575,
   "id": "8cb59ae8",
   "metadata": {},
   "outputs": [
    {
     "name": "stdout",
     "output_type": "stream",
     "text": [
      "2020 겨울 외부 원본 차이 :  609\n"
     ]
    }
   ],
   "source": [
    "print('2020 겨울 외부 원본 차이 : ', len(sale_winter_20) - winter)"
   ]
  },
  {
   "cell_type": "code",
   "execution_count": 576,
   "id": "489a2b45",
   "metadata": {},
   "outputs": [
    {
     "data": {
      "text/plain": [
       "599"
      ]
     },
     "execution_count": 576,
     "metadata": {},
     "output_type": "execute_result"
    }
   ],
   "source": [
    "# 증식된 데이터 날짜 별 하나 씩 없애기\n",
    "# 제품 건수는 2개 이상 살리기\n",
    "# 원본이 포함된 sale_spring은 건들지 않음\n",
    "\n",
    "import warnings\n",
    "warnings.filterwarnings('ignore')\n",
    "\n",
    "li=[]         \n",
    "for i,p in zip(list(sale_winter_20['수주일자'].unique()), list(sale_winter_20['제품명'].unique())):\n",
    "    k = sale_winter_20[sale_winter_20['수주일자'] == i].index\n",
    "    pro = sale_winter_20[sale_winter_20['제품명'] == p]\n",
    "    if len(pro) > 2:\n",
    "        j=list(k[0:27])\n",
    "        li.append(j)\n",
    "            \n",
    "            \n",
    "li2=[]\n",
    "for i in li:\n",
    "    for j in i:\n",
    "        li2.append(j)\n",
    "len(li2)"
   ]
  },
  {
   "cell_type": "code",
   "execution_count": 577,
   "id": "66dab94a",
   "metadata": {},
   "outputs": [],
   "source": [
    "sale_winter_20.drop(li2, inplace=True)"
   ]
  },
  {
   "cell_type": "code",
   "execution_count": 578,
   "id": "24aed099",
   "metadata": {},
   "outputs": [
    {
     "data": {
      "text/plain": [
       "2051"
      ]
     },
     "execution_count": 578,
     "metadata": {},
     "output_type": "execute_result"
    }
   ],
   "source": [
    "len(sale_winter_20)"
   ]
  },
  {
   "cell_type": "code",
   "execution_count": 579,
   "id": "351f9300",
   "metadata": {},
   "outputs": [
    {
     "data": {
      "text/plain": [
       "27"
      ]
     },
     "execution_count": 579,
     "metadata": {},
     "output_type": "execute_result"
    }
   ],
   "source": [
    "len(sale_winter_20['제품명'].unique())"
   ]
  },
  {
   "cell_type": "code",
   "execution_count": 580,
   "id": "c86b3fe6",
   "metadata": {},
   "outputs": [
    {
     "name": "stdout",
     "output_type": "stream",
     "text": [
      "2020 여름 외부 원본 차이 :  356\n"
     ]
    }
   ],
   "source": [
    "print('2020 여름 외부 원본 차이 : ', len(sale_summer_20) - summer)"
   ]
  },
  {
   "cell_type": "code",
   "execution_count": 581,
   "id": "d36635d8",
   "metadata": {},
   "outputs": [
    {
     "data": {
      "text/plain": [
       "352"
      ]
     },
     "execution_count": 581,
     "metadata": {},
     "output_type": "execute_result"
    }
   ],
   "source": [
    "# 증식된 데이터 날짜 별 하나 씩 없애기\n",
    "# 제품 건수는 2개 이상 살리기\n",
    "# 원본이 포함된 sale_spring은 건들지 않음\n",
    "\n",
    "import warnings\n",
    "warnings.filterwarnings('ignore')\n",
    "\n",
    "li=[]         \n",
    "for i,p in zip(list(sale_summer_20['수주일자'].unique()), list(sale_summer_20['제품명'].unique())):\n",
    "    k = sale_summer_20[sale_summer_20['수주일자'] == i].index\n",
    "    pro = sale_summer_20[sale_summer_20['제품명'] == p]\n",
    "    if len(pro) > 4:\n",
    "        j=list(k[0:20])\n",
    "        li.append(j)\n",
    "            \n",
    "            \n",
    "li2=[]\n",
    "for i in li:\n",
    "    for j in i:\n",
    "        li2.append(j)\n",
    "len(li2)"
   ]
  },
  {
   "cell_type": "code",
   "execution_count": 582,
   "id": "252326a5",
   "metadata": {},
   "outputs": [],
   "source": [
    "# sale_summer_20.drop(li2)\n",
    "sale_summer_20.drop(li2, inplace=True)"
   ]
  },
  {
   "cell_type": "code",
   "execution_count": 583,
   "id": "1031e2e8",
   "metadata": {},
   "outputs": [
    {
     "data": {
      "text/plain": [
       "2179"
      ]
     },
     "execution_count": 583,
     "metadata": {},
     "output_type": "execute_result"
    }
   ],
   "source": [
    "len(sale_summer_20)"
   ]
  },
  {
   "cell_type": "code",
   "execution_count": 584,
   "id": "61bd4f2e",
   "metadata": {
    "scrolled": true
   },
   "outputs": [
    {
     "data": {
      "text/plain": [
       "27"
      ]
     },
     "execution_count": 584,
     "metadata": {},
     "output_type": "execute_result"
    }
   ],
   "source": [
    "len(sale_summer_20['제품명'].unique())"
   ]
  },
  {
   "cell_type": "code",
   "execution_count": 585,
   "id": "e682630b",
   "metadata": {},
   "outputs": [
    {
     "name": "stdout",
     "output_type": "stream",
     "text": [
      "2020 가을 외부 원본 차이 :  20\n"
     ]
    }
   ],
   "source": [
    "print('2020 가을 외부 원본 차이 : ', len(sale_fall_20) - fall)"
   ]
  },
  {
   "cell_type": "code",
   "execution_count": 586,
   "id": "bc9e856d",
   "metadata": {},
   "outputs": [
    {
     "data": {
      "text/plain": [
       "22"
      ]
     },
     "execution_count": 586,
     "metadata": {},
     "output_type": "execute_result"
    }
   ],
   "source": [
    "# 증식된 데이터 날짜 별 하나 씩 없애기\n",
    "# 제품 건수는 2개 이상 살리기\n",
    "# 원본이 포함된 sale_spring은 건들지 않음\n",
    "# k(날짜 별 데이터프레임)\n",
    "# pro(제품별 데이터 프레임)\n",
    "# 두 개의 갯수를 조정해서 리스트를 만듦\n",
    "# k의 경우 인덱스를 가져와서 임의로 인덱싱함\n",
    "# pro의 경우 각 제품별 데이터 프레임의 최소 갯수를 임의로 정해줌\n",
    "\n",
    "\n",
    "import warnings\n",
    "warnings.filterwarnings('ignore')\n",
    "\n",
    "li=[]         \n",
    "for i,p in zip(list(sale_fall_20['수주일자'].unique()), list(sale_fall_20['제품명'].unique())):\n",
    "    k = sale_fall_20[sale_fall_20['수주일자'] == i].index\n",
    "    pro = sale_fall_20[sale_fall_20['제품명'] == p]\n",
    "    if len(pro) > 2:\n",
    "        j=list(k[0:1])\n",
    "        li.append(j)\n",
    "            \n",
    "            \n",
    "li2=[]\n",
    "for i in li:\n",
    "    for j in i:\n",
    "        li2.append(j)\n",
    "len(li2)"
   ]
  },
  {
   "cell_type": "code",
   "execution_count": 587,
   "id": "c5d86bc4",
   "metadata": {},
   "outputs": [],
   "source": [
    "# sale_fall_20.drop(li2)\n",
    "sale_fall_20.drop(li2, inplace=True)"
   ]
  },
  {
   "cell_type": "code",
   "execution_count": 588,
   "id": "144aa24f",
   "metadata": {},
   "outputs": [
    {
     "data": {
      "text/plain": [
       "2604"
      ]
     },
     "execution_count": 588,
     "metadata": {},
     "output_type": "execute_result"
    }
   ],
   "source": [
    "len(sale_fall_20)"
   ]
  },
  {
   "cell_type": "code",
   "execution_count": 589,
   "id": "9ca06279",
   "metadata": {},
   "outputs": [
    {
     "data": {
      "text/plain": [
       "27"
      ]
     },
     "execution_count": 589,
     "metadata": {},
     "output_type": "execute_result"
    }
   ],
   "source": [
    "len(sale_fall_20['제품명'].unique())"
   ]
  },
  {
   "cell_type": "code",
   "execution_count": 590,
   "id": "8a6b6da4",
   "metadata": {},
   "outputs": [],
   "source": [
    "# 데이터 다시 합치기\n",
    "\n",
    "from functools import reduce\n",
    "\n",
    "df_list = [sale_winter_20,sale_spring_20,sale_summer_20,sale_fall_20]\n",
    "\n",
    "df_2020=reduce(lambda x,y : pd.concat([x,y]),df_list)"
   ]
  },
  {
   "cell_type": "code",
   "execution_count": 591,
   "id": "853aa003",
   "metadata": {},
   "outputs": [
    {
     "data": {
      "text/html": [
       "<div>\n",
       "<style scoped>\n",
       "    .dataframe tbody tr th:only-of-type {\n",
       "        vertical-align: middle;\n",
       "    }\n",
       "\n",
       "    .dataframe tbody tr th {\n",
       "        vertical-align: top;\n",
       "    }\n",
       "\n",
       "    .dataframe thead th {\n",
       "        text-align: right;\n",
       "    }\n",
       "</style>\n",
       "<table border=\"1\" class=\"dataframe\">\n",
       "  <thead>\n",
       "    <tr style=\"text-align: right;\">\n",
       "      <th></th>\n",
       "      <th>거래처코드</th>\n",
       "      <th>제품코드</th>\n",
       "      <th>수주량</th>\n",
       "      <th>수주단가</th>\n",
       "      <th>수주금액</th>\n",
       "      <th>수주일자</th>\n",
       "      <th>납기일자</th>\n",
       "      <th>제품명</th>\n",
       "    </tr>\n",
       "  </thead>\n",
       "  <tbody>\n",
       "    <tr>\n",
       "      <th>5</th>\n",
       "      <td>2001300</td>\n",
       "      <td>PEMA033101400</td>\n",
       "      <td>20000</td>\n",
       "      <td>2493</td>\n",
       "      <td>49860000</td>\n",
       "      <td>2020-02-21</td>\n",
       "      <td>2020-02-24</td>\n",
       "      <td>PEMA-580FX</td>\n",
       "    </tr>\n",
       "    <tr>\n",
       "      <th>45</th>\n",
       "      <td>2003300</td>\n",
       "      <td>PEMA023098200</td>\n",
       "      <td>20000</td>\n",
       "      <td>2441</td>\n",
       "      <td>48820000</td>\n",
       "      <td>2020-02-21</td>\n",
       "      <td>2020-02-24</td>\n",
       "      <td>PEMA-580FX</td>\n",
       "    </tr>\n",
       "    <tr>\n",
       "      <th>104</th>\n",
       "      <td>2005300</td>\n",
       "      <td>PEMA023098200</td>\n",
       "      <td>20000</td>\n",
       "      <td>2675</td>\n",
       "      <td>53500000</td>\n",
       "      <td>2020-12-31</td>\n",
       "      <td>2021-01-03</td>\n",
       "      <td>PEMA-580FX</td>\n",
       "    </tr>\n",
       "    <tr>\n",
       "      <th>107</th>\n",
       "      <td>2005700</td>\n",
       "      <td>SSA073046500</td>\n",
       "      <td>1000</td>\n",
       "      <td>1188</td>\n",
       "      <td>1188000</td>\n",
       "      <td>2020-01-11</td>\n",
       "      <td>2020-01-14</td>\n",
       "      <td>AE</td>\n",
       "    </tr>\n",
       "    <tr>\n",
       "      <th>109</th>\n",
       "      <td>2005600</td>\n",
       "      <td>SSA073046500</td>\n",
       "      <td>2000</td>\n",
       "      <td>1471</td>\n",
       "      <td>2942000</td>\n",
       "      <td>2020-01-21</td>\n",
       "      <td>2020-01-24</td>\n",
       "      <td>AE</td>\n",
       "    </tr>\n",
       "    <tr>\n",
       "      <th>...</th>\n",
       "      <td>...</td>\n",
       "      <td>...</td>\n",
       "      <td>...</td>\n",
       "      <td>...</td>\n",
       "      <td>...</td>\n",
       "      <td>...</td>\n",
       "      <td>...</td>\n",
       "      <td>...</td>\n",
       "    </tr>\n",
       "    <tr>\n",
       "      <th>10407</th>\n",
       "      <td>2006200</td>\n",
       "      <td>PEMA013122800</td>\n",
       "      <td>10000</td>\n",
       "      <td>2684</td>\n",
       "      <td>26840000</td>\n",
       "      <td>2020-10-21</td>\n",
       "      <td>2020-10-24</td>\n",
       "      <td>CSA5000</td>\n",
       "    </tr>\n",
       "    <tr>\n",
       "      <th>10413</th>\n",
       "      <td>2007000</td>\n",
       "      <td>TSN4012011123</td>\n",
       "      <td>10000</td>\n",
       "      <td>2710</td>\n",
       "      <td>27100000</td>\n",
       "      <td>2020-10-21</td>\n",
       "      <td>2020-10-24</td>\n",
       "      <td>PEMA-SN400</td>\n",
       "    </tr>\n",
       "    <tr>\n",
       "      <th>10419</th>\n",
       "      <td>2007400</td>\n",
       "      <td>PEMA043103800</td>\n",
       "      <td>10000</td>\n",
       "      <td>2714</td>\n",
       "      <td>27140000</td>\n",
       "      <td>2020-10-21</td>\n",
       "      <td>2020-10-24</td>\n",
       "      <td>PEMA-SR2000</td>\n",
       "    </tr>\n",
       "    <tr>\n",
       "      <th>10425</th>\n",
       "      <td>2007500</td>\n",
       "      <td>PEMA023122400</td>\n",
       "      <td>8000</td>\n",
       "      <td>2715</td>\n",
       "      <td>21720000</td>\n",
       "      <td>2020-10-21</td>\n",
       "      <td>2020-10-24</td>\n",
       "      <td>PEMA-SR2000</td>\n",
       "    </tr>\n",
       "    <tr>\n",
       "      <th>10431</th>\n",
       "      <td>2007700</td>\n",
       "      <td>TSN4012011125</td>\n",
       "      <td>10000</td>\n",
       "      <td>2717</td>\n",
       "      <td>27170000</td>\n",
       "      <td>2020-10-21</td>\n",
       "      <td>2020-10-24</td>\n",
       "      <td>PEMA-SN400</td>\n",
       "    </tr>\n",
       "  </tbody>\n",
       "</table>\n",
       "<p>9460 rows × 8 columns</p>\n",
       "</div>"
      ],
      "text/plain": [
       "         거래처코드           제품코드    수주량  수주단가      수주금액        수주일자        납기일자  \\\n",
       "5      2001300  PEMA033101400  20000  2493  49860000  2020-02-21  2020-02-24   \n",
       "45     2003300  PEMA023098200  20000  2441  48820000  2020-02-21  2020-02-24   \n",
       "104    2005300  PEMA023098200  20000  2675  53500000  2020-12-31  2021-01-03   \n",
       "107    2005700   SSA073046500   1000  1188   1188000  2020-01-11  2020-01-14   \n",
       "109    2005600   SSA073046500   2000  1471   2942000  2020-01-21  2020-01-24   \n",
       "...        ...            ...    ...   ...       ...         ...         ...   \n",
       "10407  2006200  PEMA013122800  10000  2684  26840000  2020-10-21  2020-10-24   \n",
       "10413  2007000  TSN4012011123  10000  2710  27100000  2020-10-21  2020-10-24   \n",
       "10419  2007400  PEMA043103800  10000  2714  27140000  2020-10-21  2020-10-24   \n",
       "10425  2007500  PEMA023122400   8000  2715  21720000  2020-10-21  2020-10-24   \n",
       "10431  2007700  TSN4012011125  10000  2717  27170000  2020-10-21  2020-10-24   \n",
       "\n",
       "               제품명  \n",
       "5       PEMA-580FX  \n",
       "45      PEMA-580FX  \n",
       "104     PEMA-580FX  \n",
       "107             AE  \n",
       "109             AE  \n",
       "...            ...  \n",
       "10407      CSA5000  \n",
       "10413   PEMA-SN400  \n",
       "10419  PEMA-SR2000  \n",
       "10425  PEMA-SR2000  \n",
       "10431   PEMA-SN400  \n",
       "\n",
       "[9460 rows x 8 columns]"
      ]
     },
     "execution_count": 591,
     "metadata": {},
     "output_type": "execute_result"
    }
   ],
   "source": [
    "df_2020"
   ]
  },
  {
   "cell_type": "code",
   "execution_count": 592,
   "id": "2c7864e6",
   "metadata": {},
   "outputs": [],
   "source": [
    "df_2020.to_csv('2020년_증식데이터_편집.csv')"
   ]
  },
  {
   "cell_type": "markdown",
   "id": "63ed68df",
   "metadata": {},
   "source": [
    "- 증식된 데이터 날짜 별 하나 씩 없애기\n",
    "- 제품 건수 살리기\n",
    "- 원본이 포함된 sale_spring은 건들지 않음\n",
    "- k(날짜 별 데이터프레임)\n",
    "- pro(제품별 데이터 프레임)\n",
    "- 두 개의 갯수를 조정해서 리스트를 만듦\n",
    "- k의 경우 인덱스를 가져와서 임의로 인덱싱함\n",
    "- pro의 경우 각 제품별 데이터 프레임의 최소 갯수를 임의로 정해줌"
   ]
  },
  {
   "cell_type": "code",
   "execution_count": null,
   "id": "3fa0b6ca",
   "metadata": {},
   "outputs": [],
   "source": []
  }
 ],
 "metadata": {
  "kernelspec": {
   "display_name": "Python 3 (ipykernel)",
   "language": "python",
   "name": "python3"
  },
  "language_info": {
   "codemirror_mode": {
    "name": "ipython",
    "version": 3
   },
   "file_extension": ".py",
   "mimetype": "text/x-python",
   "name": "python",
   "nbconvert_exporter": "python",
   "pygments_lexer": "ipython3",
   "version": "3.8.13"
  },
  "toc": {
   "base_numbering": 1,
   "nav_menu": {},
   "number_sections": true,
   "sideBar": true,
   "skip_h1_title": false,
   "title_cell": "Table of Contents",
   "title_sidebar": "Contents",
   "toc_cell": false,
   "toc_position": {
    "height": "calc(100% - 180px)",
    "left": "10px",
    "top": "150px",
    "width": "201.825px"
   },
   "toc_section_display": true,
   "toc_window_display": true
  }
 },
 "nbformat": 4,
 "nbformat_minor": 5
}
