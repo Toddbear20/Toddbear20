{
 "cells": [
  {
   "cell_type": "code",
   "execution_count": 1,
   "id": "1c98d916",
   "metadata": {},
   "outputs": [],
   "source": [
    "import pandas as pd\n",
    "\n",
    "siment=pd.read_excel('./수요,발주예측관리_rawdata_봄소프트.xlsx')"
   ]
  },
  {
   "cell_type": "code",
   "execution_count": 16,
   "id": "c35c83be",
   "metadata": {},
   "outputs": [],
   "source": [
    "pd.options.display.max_rows = None\n",
    "pd.options.display.max_columns = None\n"
   ]
  },
  {
   "cell_type": "code",
   "execution_count": 13,
   "id": "55732374",
   "metadata": {},
   "outputs": [],
   "source": [
    "import pandas as pd\n",
    "\n",
    "receipe = pd.read_excel('./엑셀분리기본파일/생산레시피기본.xlsx', header=1)\n",
    "receipe.drop('Unnamed: 0',axis=1, inplace =True)\n",
    "\n",
    "client = pd.read_excel('./엑셀분리기본파일/거래처기본.xlsx', header=1)\n",
    "client.drop('Unnamed: 0',axis=1, inplace =True)\n",
    "\n",
    "LOT = pd.read_excel('./엑셀분리기본파일/생산LOT기본.xlsx', header=1)\n",
    "LOT.drop('Unnamed: 0',axis=1, inplace =True)\n",
    "\n",
    "sales = pd.read_excel('./엑셀분리기본파일/영업수주기본.xlsx', header=1)\n",
    "sales.drop('Unnamed: 0',axis=1, inplace =True)\n",
    "\n",
    "material = pd.read_excel('./엑셀분리기본파일/원자재기본.xlsx', header=1)\n",
    "material.drop('Unnamed: 0',axis=1, inplace =True)\n",
    "\n",
    "delivery = pd.read_excel('./엑셀분리기본파일/자재납품기본.xlsx', header=1)\n",
    "delivery.drop('Unnamed: 0',axis=1, inplace =True)\n",
    "\n",
    "order = pd.read_excel('./엑셀분리기본파일/자재발주기본.xlsx', header=1)\n",
    "order.drop('Unnamed: 0',axis=1, inplace =True)\n",
    "\n",
    "product = pd.read_excel('./엑셀분리기본파일/제품기본.xlsx', header=1)\n",
    "product.drop('Unnamed: 0',axis=1, inplace =True)"
   ]
  },
  {
   "cell_type": "code",
   "execution_count": 24,
   "id": "4fe744f0",
   "metadata": {},
   "outputs": [
    {
     "name": "stdout",
     "output_type": "stream",
     "text": [
      "<class 'pandas.core.frame.DataFrame'>\n",
      "RangeIndex: 1719 entries, 0 to 1718\n",
      "Data columns (total 22 columns):\n",
      " #   Column                    Non-Null Count  Dtype         \n",
      "---  ------                    --------------  -----         \n",
      " 0   생산작업지시구분(생산:A,생산제외:D)     1719 non-null   object        \n",
      " 1   사업단위(평택:20000,태안:60000등)  1719 non-null   int64         \n",
      " 2   작업지시타입(일반:WO/재투입:WR)      1719 non-null   object        \n",
      " 3   작업공정정보(PCW11/PCW12)       1719 non-null   object        \n",
      " 4   생산작업요청일자                  1719 non-null   datetime64[ns]\n",
      " 5   장소정보                      1719 non-null   int64         \n",
      " 6   LOT번호                     1719 non-null   object        \n",
      " 7   분할순번                      1719 non-null   int64         \n",
      " 8   제품코드                      1719 non-null   object        \n",
      " 9   제품BOM차수                   1719 non-null   int64         \n",
      " 10  제품명                       1719 non-null   object        \n",
      " 11  생산작업지시순번(일련번호(1,2,3,4…))  1719 non-null   int64         \n",
      " 12  LOT생산요청총중량ⓐ               1719 non-null   int64         \n",
      " 13  LOT실수량ⓑ                   1719 non-null   int64         \n",
      " 14  LOT실중량ⓒ                   1719 non-null   int64         \n",
      " 15  작업지시및주문비고사항1              1668 non-null   object        \n",
      " 16  작업지시및주문비고사항2              0 non-null      float64       \n",
      " 17  시방적요                      518 non-null    object        \n",
      " 18  생산단위                      1719 non-null   object        \n",
      " 19  작업지시구분(D:내수/E:수출)         1719 non-null   object        \n",
      " 20  생산제조일자                    1716 non-null   object        \n",
      " 21  비고                        0 non-null      float64       \n",
      "dtypes: datetime64[ns](1), float64(2), int64(8), object(11)\n",
      "memory usage: 295.6+ KB\n"
     ]
    }
   ],
   "source": [
    "LOT.info()"
   ]
  },
  {
   "cell_type": "code",
   "execution_count": 22,
   "id": "5f9e6a2e",
   "metadata": {},
   "outputs": [
    {
     "data": {
      "text/plain": [
       "1677"
      ]
     },
     "execution_count": 22,
     "metadata": {},
     "output_type": "execute_result"
    }
   ],
   "source": [
    "len(LOT['LOT번호'].unique())"
   ]
  },
  {
   "cell_type": "code",
   "execution_count": 26,
   "id": "50ce11ee",
   "metadata": {},
   "outputs": [
    {
     "name": "stdout",
     "output_type": "stream",
     "text": [
      "<class 'pandas.core.frame.DataFrame'>\n",
      "RangeIndex: 12304 entries, 0 to 12303\n",
      "Data columns (total 21 columns):\n",
      " #   Column                    Non-Null Count  Dtype         \n",
      "---  ------                    --------------  -----         \n",
      " 0   원자재코드                     12304 non-null  object        \n",
      " 1   생산작업지시구분(생산:A,생산제외:D)     12304 non-null  object        \n",
      " 2   작업지시타입(일반:WO/재투입:WR)      12304 non-null  object        \n",
      " 3   사업단위(평택:20000,태안:60000등)  12304 non-null  int64         \n",
      " 4   생산작업요청일자                  12304 non-null  datetime64[ns]\n",
      " 5   LOT번호                     12304 non-null  object        \n",
      " 6   분할순번                      12304 non-null  int64         \n",
      " 7   제품코드                      12304 non-null  object        \n",
      " 8   제품BOM차수                   12304 non-null  int64         \n",
      " 9   원자재투입순번                   12304 non-null  int64         \n",
      " 10  원자재명                      12304 non-null  object        \n",
      " 11  원자재탱크번호                   12304 non-null  int64         \n",
      " 12  투입지시중량                    12304 non-null  float64       \n",
      " 13  투입지시비율                    12304 non-null  float64       \n",
      " 14  투입지시오차비율                  12304 non-null  int64         \n",
      " 15  투입지시단위                    12304 non-null  object        \n",
      " 16  시방원재료적요                   2249 non-null   object        \n",
      " 17  추가투입량(생산자판단)              12304 non-null  float64       \n",
      " 18  정지중량(유속흐름제어)              12304 non-null  float64       \n",
      " 19  스텝그룹넘버                    12304 non-null  int64         \n",
      " 20  비고                        0 non-null      float64       \n",
      "dtypes: datetime64[ns](1), float64(5), int64(7), object(8)\n",
      "memory usage: 2.0+ MB\n"
     ]
    }
   ],
   "source": [
    "receipe.info()"
   ]
  },
  {
   "cell_type": "code",
   "execution_count": 27,
   "id": "e5806a90",
   "metadata": {},
   "outputs": [
    {
     "name": "stdout",
     "output_type": "stream",
     "text": [
      "<class 'pandas.core.frame.DataFrame'>\n",
      "RangeIndex: 71 entries, 0 to 70\n",
      "Data columns (total 7 columns):\n",
      " #   Column  Non-Null Count  Dtype  \n",
      "---  ------  --------------  -----  \n",
      " 0   거래처코드   71 non-null     int64  \n",
      " 1   거래처명    71 non-null     object \n",
      " 2   거래처부서명  71 non-null     object \n",
      " 3   대표자명    71 non-null     object \n",
      " 4   사업자번호   71 non-null     object \n",
      " 5   법인번호    0 non-null      float64\n",
      " 6   전화번호    61 non-null     object \n",
      "dtypes: float64(1), int64(1), object(5)\n",
      "memory usage: 4.0+ KB\n"
     ]
    }
   ],
   "source": [
    "client.info()"
   ]
  },
  {
   "cell_type": "code",
   "execution_count": null,
   "id": "19d7c81f",
   "metadata": {},
   "outputs": [],
   "source": []
  }
 ],
 "metadata": {
  "kernelspec": {
   "display_name": "Python 3 (ipykernel)",
   "language": "python",
   "name": "python3"
  },
  "language_info": {
   "codemirror_mode": {
    "name": "ipython",
    "version": 3
   },
   "file_extension": ".py",
   "mimetype": "text/x-python",
   "name": "python",
   "nbconvert_exporter": "python",
   "pygments_lexer": "ipython3",
   "version": "3.8.13"
  }
 },
 "nbformat": 4,
 "nbformat_minor": 5
}
